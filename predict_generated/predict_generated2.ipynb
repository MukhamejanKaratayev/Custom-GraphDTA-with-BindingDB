{
 "cells": [
  {
   "cell_type": "code",
   "execution_count": 1,
   "metadata": {},
   "outputs": [],
   "source": [
    "import numpy as np\n",
    "import pandas as pd\n",
    "import sys, os\n",
    "from random import shuffle\n",
    "from tqdm import tqdm\n",
    "import json,pickle\n",
    "from collections import OrderedDict\n",
    "from rdkit import Chem\n",
    "from rdkit.Chem import MolFromSmiles\n",
    "import networkx as nx\n",
    "import torch\n",
    "import torch.nn as nn\n",
    "from models.gat import GATNet\n",
    "from models.gat_gcn import GAT_GCN\n",
    "from models.gcn import GCNNet\n",
    "from models.ginconv import GINConvNet\n",
    "from utils import *\n",
    "from os import walk\n"
   ]
  },
  {
   "cell_type": "code",
   "execution_count": 2,
   "metadata": {},
   "outputs": [],
   "source": [
    "def predicting(model, device, loader):\n",
    "    model.eval()\n",
    "    total_preds = torch.Tensor()\n",
    "    print('Make prediction for {} samples...'.format(len(loader.dataset)))\n",
    "    with torch.no_grad():\n",
    "        for data in tqdm(loader):\n",
    "            data = data.to(device)\n",
    "            output = model(data)\n",
    "            total_preds = torch.cat((total_preds.to(device), output), 0)\n",
    "    return total_preds.cpu().numpy().flatten()"
   ]
  },
  {
   "cell_type": "code",
   "execution_count": 3,
   "metadata": {},
   "outputs": [],
   "source": [
    "benzos_path = 'prediction_for_generated_benzos_all/'\n",
    "vdr_path = 'prediction_for_generated_vitamind/'"
   ]
  },
  {
   "cell_type": "code",
   "execution_count": 4,
   "metadata": {},
   "outputs": [],
   "source": [
    "D_benzos = {}\n",
    "D_vitamind = {}\n",
    "\n",
    "benzos_path = \"Benzos-structures-filteres-by-similarity-to-diazepam-20211216T105015Z-001/csv_format/\"\n",
    "for file in os.listdir(benzos_path):\n",
    "    if '.csv' in file:\n",
    "        df = pd.read_csv(benzos_path+file)\n",
    "        name = file.replace('.csv','')\n",
    "        D_benzos[name] = df\n",
    "        \n",
    "        \n",
    "        \n",
    "vdr_path = \"VitaminDZinc-structures-filteres-by-similarity-to-calcitriol/csv_format/\"\n",
    "for file in os.listdir(vdr_path):\n",
    "    if '.csv' in file:\n",
    "        df = pd.read_csv(vdr_path+file)\n",
    "        name = file.replace('.csv','')\n",
    "        D_vitamind[name] = df"
   ]
  },
  {
   "cell_type": "code",
   "execution_count": 5,
   "metadata": {},
   "outputs": [],
   "source": [
    "md1 = '../GraphDTA_Results/Davis/GAT_GCN_Davis/model_GAT_GCN_davis.model'\n",
    "md2 = '../GraphDTA_Results/Davis/GATNet_Davis/model_GATNet_davis.model'\n",
    "md3 = '../GraphDTA_Results/Davis/GATNet_Davis/model_GATNet_davis2.model'\n",
    "md4 = '../GraphDTA_Results/Davis/GCNNet_Davis/model_GCNNet_davis.model'\n",
    "md5 = '../GraphDTA_Results/Davis/GINConvNet_Davis/model_GINConvNet_davis.model'\n",
    "\n",
    "\n",
    "md6 = '../GraphDTA_Results/KIBA/GAT_GCN_KIBA/model_GAT_GCN_kiba.model'\n",
    "md7 = '../GraphDTA_Results/KIBA/GATNet_KIBA/model_GATNet_kiba.model'\n",
    "md8 = '../GraphDTA_Results/KIBA/GCNNet_KIBA/model_GCNNet_kiba.model'\n",
    "md9 = '../GraphDTA_Results/KIBA/GINConvNet_KIBA/model_GINConvNet_kiba.model'\n",
    "\n",
    "md10 = '../GraphDTA_Results/BindingDB/GAT_GCN/model_GAT_GCN_Kd.model'\n",
    "md11 = '../GraphDTA_Results/BindingDB/GATNet/model_GATNet_bdtdc_ic50.model'\n",
    "md12 = '../GraphDTA_Results/BindingDB/GATNet/model_GATNet_IC50.model'\n",
    "md13 = '../GraphDTA_Results/BindingDB/GATNet/model_GATNet_Kd.model'\n",
    "\n",
    "md14 = '../GraphDTA_Results/BindingDB/GCNNet/bdtdc_ic50_dec20/model_GCNNet_bdtdc_ic50.model'\n",
    "md15 = '../GraphDTA_Results/BindingDB/GCNNet/strange_model_try_to_test/model_GCNNet_Kd.model'\n",
    "md16 = '../GraphDTA_Results/BindingDB/GCNNet/model_GCNNet_bdtdc_ic50.model'\n",
    "md17 = '../GraphDTA_Results/BindingDB/GCNNet/model_GCNNet_bdtdc_kd.model'\n",
    "\n",
    "md18 = '../GraphDTA_Results/BindingDB/GCNNet/model_GCNNet_bdtdc_ki.model'\n",
    "md19 = '../GraphDTA_Results/BindingDB/GINConvNet/model_GINConvNet_bindingdb_Kd.model'\n",
    "md20 = '../GraphDTA_Results/BindingDB/GINConvNet/model_GINConvNet_IC50.model'\n",
    "md21 = '../GraphDTA_Results/BindingDB/GINConvNet/model_GINConvNet_Ki.model'\n",
    "\n",
    "md22 = '../GraphDTA_Results/BindingDB/GAT_GCN/model_GAT_GCN_bdtdc_ki.model'\n",
    "md23 = '../GraphDTA_Results/BindingDB/GAT_GCN/model_GAT_GCN_bdtdc_ic50.model'\n",
    "\n",
    "md24 = '../GraphDTA_Results/BindingDB/GCNNet/model_GCNNet_bindingdb_kd.model'\n",
    "md25 = '../GraphDTA_Results/BindingDB/GAT_GCN/model_GAT_GCN_bindingdb_kd.model'\n",
    "\n",
    "md26 = '../GraphDTA_Results/BindingDB/GCNNet/model_GCNNet_bindingdb_ki.model'\n",
    "md27 = '../GraphDTA_Results/BindingDB/GAT_GCN/model_GAT_GCN_bindingdb_ki.model'\n",
    "\n",
    "md28 = '../GraphDTA_Results/BindingDB/GAT_GCN/model_GAT_GCN_bindingdb_ic50.model'\n",
    "md29 = '../GraphDTA_Results/BindingDB/GCNNet/model_GCNNet_bindingdb_ic50.model'\n",
    "\n",
    "md30 = '../GraphDTA_Results/BindingDB/bd_tdc_latest_models/model_GCNNet_bdtdc_ic50.model'\n",
    "md31 = '../GraphDTA_Results/BindingDB/bd_tdc_latest_models/model_GCNNet_bdtdc_ki.model'"
   ]
  },
  {
   "cell_type": "code",
   "execution_count": 6,
   "metadata": {},
   "outputs": [],
   "source": [
    "models_list = [md1, md2, md3, md4,md5, md6, md7, md8,md9, md10, md11, md12,md13, md14, md15, md16, md17, md18, md19, md20,md21, md22,md23, md24,md25,md26,md27,md28,md29,md30,md31 ]\n",
    "model_names = [md1[46:-6], md2[45:-6],'GATNet_davis2', 'GCNNet_davis', 'GINConvNet_davis', 'GAT_GCN_kiba', 'GATNet_kiba', 'GCNNet_kiba', 'GINConvNet_kiba', 'GAT_GCN_Kd', 'GATNet_bdtdc_ic50', 'GATNet_IC50', 'GATNet_Kd', 'bdtdc_ic50_dec20/model_GCNNet_bdtdc_ic50','strange_model_try_to_test/model_GCNNet_Kd', 'GCNNet_bdtdc_ic50', 'GCNNet_bdtdc_kd', 'GCNNet_bdtdc_ki', 'GINConvNet_bindingdb_Kd', 'GINConvNet_IC50', 'GINConvNet_Ki', 'GAT_GCN_bdtdc_ki_latest', 'GAT_GCN_bdtdc_ic50_latest', 'GCNNet_bindingdb_kd_latest', 'GAT_GCN_bindingdb_kd_latest', 'GCNNet_bindingdb_ki_latest', 'GAT_GCN_bindingdb_ki_latest', 'GAT_GCN_bindingdb_ic50_latest', 'GCNNet_bindingdb_ic50_latest','GCNNet_bdtdc_ic50_latest_v2', 'GCNNet_bdtdc_ki_latest_v2']\n",
    "model_arch = [GAT_GCN, GATNet,GATNet, GCNNet, GINConvNet, GAT_GCN, GATNet, GCNNet, GINConvNet, GAT_GCN, GATNet, GATNet, GATNet, GCNNet,GCNNet, GCNNet, GCNNet, GCNNet, GINConvNet, GINConvNet, GINConvNet,GAT_GCN,GAT_GCN, GCNNet,GAT_GCN,GCNNet,GAT_GCN,GAT_GCN, GCNNet,GCNNet,GCNNet]"
   ]
  },
  {
   "cell_type": "code",
   "execution_count": 7,
   "metadata": {},
   "outputs": [
    {
     "data": {
      "text/plain": [
       "['../GraphDTA_Results/Davis/GAT_GCN_Davis/model_GAT_GCN_davis.model',\n",
       " '../GraphDTA_Results/Davis/GATNet_Davis/model_GATNet_davis.model',\n",
       " '../GraphDTA_Results/Davis/GATNet_Davis/model_GATNet_davis2.model',\n",
       " '../GraphDTA_Results/Davis/GCNNet_Davis/model_GCNNet_davis.model',\n",
       " '../GraphDTA_Results/Davis/GINConvNet_Davis/model_GINConvNet_davis.model',\n",
       " '../GraphDTA_Results/KIBA/GAT_GCN_KIBA/model_GAT_GCN_kiba.model',\n",
       " '../GraphDTA_Results/KIBA/GATNet_KIBA/model_GATNet_kiba.model',\n",
       " '../GraphDTA_Results/KIBA/GCNNet_KIBA/model_GCNNet_kiba.model',\n",
       " '../GraphDTA_Results/KIBA/GINConvNet_KIBA/model_GINConvNet_kiba.model',\n",
       " '../GraphDTA_Results/BindingDB/GAT_GCN/model_GAT_GCN_Kd.model',\n",
       " '../GraphDTA_Results/BindingDB/GATNet/model_GATNet_bdtdc_ic50.model',\n",
       " '../GraphDTA_Results/BindingDB/GATNet/model_GATNet_IC50.model',\n",
       " '../GraphDTA_Results/BindingDB/GATNet/model_GATNet_Kd.model',\n",
       " '../GraphDTA_Results/BindingDB/GCNNet/bdtdc_ic50_dec20/model_GCNNet_bdtdc_ic50.model',\n",
       " '../GraphDTA_Results/BindingDB/GCNNet/strange_model_try_to_test/model_GCNNet_Kd.model',\n",
       " '../GraphDTA_Results/BindingDB/GCNNet/model_GCNNet_bdtdc_ic50.model',\n",
       " '../GraphDTA_Results/BindingDB/GCNNet/model_GCNNet_bdtdc_kd.model',\n",
       " '../GraphDTA_Results/BindingDB/GCNNet/model_GCNNet_bdtdc_ki.model',\n",
       " '../GraphDTA_Results/BindingDB/GINConvNet/model_GINConvNet_bindingdb_Kd.model',\n",
       " '../GraphDTA_Results/BindingDB/GINConvNet/model_GINConvNet_IC50.model',\n",
       " '../GraphDTA_Results/BindingDB/GINConvNet/model_GINConvNet_Ki.model',\n",
       " '../GraphDTA_Results/BindingDB/GAT_GCN/model_GAT_GCN_bdtdc_ki.model',\n",
       " '../GraphDTA_Results/BindingDB/GAT_GCN/model_GAT_GCN_bdtdc_ic50.model',\n",
       " '../GraphDTA_Results/BindingDB/GCNNet/model_GCNNet_bindingdb_kd.model',\n",
       " '../GraphDTA_Results/BindingDB/GAT_GCN/model_GAT_GCN_bindingdb_kd.model',\n",
       " '../GraphDTA_Results/BindingDB/GCNNet/model_GCNNet_bindingdb_ki.model',\n",
       " '../GraphDTA_Results/BindingDB/GAT_GCN/model_GAT_GCN_bindingdb_ki.model',\n",
       " '../GraphDTA_Results/BindingDB/GAT_GCN/model_GAT_GCN_bindingdb_ic50.model',\n",
       " '../GraphDTA_Results/BindingDB/GCNNet/model_GCNNet_bindingdb_ic50.model',\n",
       " '../GraphDTA_Results/BindingDB/bd_tdc_latest_models/model_GCNNet_bdtdc_ic50.model',\n",
       " '../GraphDTA_Results/BindingDB/bd_tdc_latest_models/model_GCNNet_bdtdc_ki.model']"
      ]
     },
     "execution_count": 7,
     "metadata": {},
     "output_type": "execute_result"
    }
   ],
   "source": [
    "models_list"
   ]
  },
  {
   "cell_type": "code",
   "execution_count": 8,
   "metadata": {},
   "outputs": [
    {
     "name": "stdout",
     "output_type": "stream",
     "text": [
      "Pre-processed data found: Benzos-structures-filteres-by-similarity-to-diazepam-20211216T105015Z-001/csv_format/processed/LOWDATAREGIME_molecules_30_0.7_BENZOS_TOP_SIMILAR.pt, loading ...\n",
      "Make prediction for 395 samples...\n"
     ]
    },
    {
     "name": "stderr",
     "output_type": "stream",
     "text": [
      "100%|██████████| 1/1 [00:01<00:00,  1.31s/it]\n"
     ]
    },
    {
     "name": "stdout",
     "output_type": "stream",
     "text": [
      "Pre-processed data found: Benzos-structures-filteres-by-similarity-to-diazepam-20211216T105015Z-001/csv_format/processed/TRANSVAE_benzos_pubchem_top_dims_BENZOS_TOP_SIMILAR.pt, loading ...\n",
      "Make prediction for 1001 samples...\n"
     ]
    },
    {
     "name": "stderr",
     "output_type": "stream",
     "text": [
      "100%|██████████| 2/2 [00:00<00:00,  2.29it/s]\n"
     ]
    },
    {
     "name": "stdout",
     "output_type": "stream",
     "text": [
      "Pre-processed data found: Benzos-structures-filteres-by-similarity-to-diazepam-20211216T105015Z-001/csv_format/processed/LOWDATAREGIME_molecules_20_0.7_BENZOS_TOP_SIMILAR.pt, loading ...\n",
      "Make prediction for 475 samples...\n"
     ]
    },
    {
     "name": "stderr",
     "output_type": "stream",
     "text": [
      "100%|██████████| 1/1 [00:00<00:00,  2.38it/s]\n"
     ]
    },
    {
     "name": "stdout",
     "output_type": "stream",
     "text": [
      "Pre-processed data found: Benzos-structures-filteres-by-similarity-to-diazepam-20211216T105015Z-001/csv_format/processed/REINVENT_BENZOS_TOP_SIMILAR.pt, loading ...\n",
      "Make prediction for 1001 samples...\n"
     ]
    },
    {
     "name": "stderr",
     "output_type": "stream",
     "text": [
      "100%|██████████| 2/2 [00:00<00:00,  2.38it/s]\n"
     ]
    },
    {
     "name": "stdout",
     "output_type": "stream",
     "text": [
      "Pre-processed data found: Benzos-structures-filteres-by-similarity-to-diazepam-20211216T105015Z-001/csv_format/processed/TRANSVAE_benzos_zinc_top_dims_BENZOS_TOP_SIMILAR.pt, loading ...\n",
      "Make prediction for 1001 samples...\n"
     ]
    },
    {
     "name": "stderr",
     "output_type": "stream",
     "text": [
      "100%|██████████| 2/2 [00:00<00:00,  2.46it/s]\n"
     ]
    },
    {
     "name": "stdout",
     "output_type": "stream",
     "text": [
      "Pre-processed data found: Benzos-structures-filteres-by-similarity-to-diazepam-20211216T105015Z-001/csv_format/processed/LOWDATAREGIME_molecules_10_0.7_BENZOS_TOP_SIMILAR.pt, loading ...\n",
      "Make prediction for 489 samples...\n"
     ]
    },
    {
     "name": "stderr",
     "output_type": "stream",
     "text": [
      "100%|██████████| 1/1 [00:00<00:00,  2.49it/s]\n"
     ]
    },
    {
     "name": "stdout",
     "output_type": "stream",
     "text": [
      "Pre-processed data found: Benzos-structures-filteres-by-similarity-to-diazepam-20211216T105015Z-001/csv_format/processed/TRANSVAE_benzos_pubchem_k_dims_BENZOS_TOP_SIMILAR.pt, loading ...\n",
      "Make prediction for 1001 samples...\n"
     ]
    },
    {
     "name": "stderr",
     "output_type": "stream",
     "text": [
      "100%|██████████| 2/2 [00:00<00:00,  2.26it/s]\n"
     ]
    },
    {
     "name": "stdout",
     "output_type": "stream",
     "text": [
      "Pre-processed data found: Benzos-structures-filteres-by-similarity-to-diazepam-20211216T105015Z-001/csv_format/processed/TRANSMOL_BENZOS_TOP_SIMILAR.pt, loading ...\n",
      "Make prediction for 1001 samples...\n"
     ]
    },
    {
     "name": "stderr",
     "output_type": "stream",
     "text": [
      "100%|██████████| 2/2 [00:00<00:00,  2.45it/s]\n"
     ]
    },
    {
     "name": "stdout",
     "output_type": "stream",
     "text": [
      "Pre-processed data found: Benzos-structures-filteres-by-similarity-to-diazepam-20211216T105015Z-001/csv_format/processed/TRANSVAE_benzos_zinc_k_dims_BENZOS_TOP_SIMILAR.pt, loading ...\n",
      "Make prediction for 1001 samples...\n"
     ]
    },
    {
     "name": "stderr",
     "output_type": "stream",
     "text": [
      "100%|██████████| 2/2 [00:00<00:00,  2.46it/s]\n"
     ]
    },
    {
     "name": "stdout",
     "output_type": "stream",
     "text": [
      "Pre-processed data found: Benzos-structures-filteres-by-similarity-to-diazepam-20211216T105015Z-001/csv_format/processed/LOWDATAREGIME_molecules_40_0.7_BENZOS_TOP_SIMILAR.pt, loading ...\n",
      "Make prediction for 352 samples...\n"
     ]
    },
    {
     "name": "stderr",
     "output_type": "stream",
     "text": [
      "100%|██████████| 1/1 [00:00<00:00,  2.57it/s]\n"
     ]
    },
    {
     "name": "stdout",
     "output_type": "stream",
     "text": [
      "Pre-processed data found: VitaminDZinc-structures-filteres-by-similarity-to-calcitriol/csv_format/processed/TRANSVAE_vdr_zinc_top_dims_VDR_TOP_SIMILAR.pt, loading ...\n",
      "Make prediction for 1001 samples...\n"
     ]
    },
    {
     "name": "stderr",
     "output_type": "stream",
     "text": [
      "100%|██████████| 2/2 [00:00<00:00,  2.45it/s]\n"
     ]
    },
    {
     "name": "stdout",
     "output_type": "stream",
     "text": [
      "Pre-processed data found: VitaminDZinc-structures-filteres-by-similarity-to-calcitriol/csv_format/processed/REINVENT_VDR_TOP_SIMILAR.pt, loading ...\n",
      "Make prediction for 1001 samples...\n"
     ]
    },
    {
     "name": "stderr",
     "output_type": "stream",
     "text": [
      "100%|██████████| 2/2 [00:00<00:00,  2.45it/s]\n"
     ]
    },
    {
     "name": "stdout",
     "output_type": "stream",
     "text": [
      "Pre-processed data found: VitaminDZinc-structures-filteres-by-similarity-to-calcitriol/csv_format/processed/LOWDATAREGIME_molecules_20_0.7_VDR_TOP_SIMILAR.pt, loading ...\n",
      "Make prediction for 745 samples...\n"
     ]
    },
    {
     "name": "stderr",
     "output_type": "stream",
     "text": [
      "100%|██████████| 2/2 [00:00<00:00,  2.35it/s]\n"
     ]
    },
    {
     "name": "stdout",
     "output_type": "stream",
     "text": [
      "Pre-processed data found: VitaminDZinc-structures-filteres-by-similarity-to-calcitriol/csv_format/processed/TRANSVAE_vdr_pubchem_top_dims_VDR_TOP_SIMILAR.pt, loading ...\n",
      "Make prediction for 1001 samples...\n"
     ]
    },
    {
     "name": "stderr",
     "output_type": "stream",
     "text": [
      "100%|██████████| 2/2 [00:00<00:00, 10.49it/s]\n"
     ]
    },
    {
     "name": "stdout",
     "output_type": "stream",
     "text": [
      "Pre-processed data found: VitaminDZinc-structures-filteres-by-similarity-to-calcitriol/csv_format/processed/LOWDATAREGIME_molecules_40_0.7_VDR_TOP_SIMILAR.pt, loading ...\n",
      "Make prediction for 611 samples...\n"
     ]
    },
    {
     "name": "stderr",
     "output_type": "stream",
     "text": [
      "100%|██████████| 2/2 [00:00<00:00, 15.33it/s]\n"
     ]
    },
    {
     "name": "stdout",
     "output_type": "stream",
     "text": [
      "Pre-processed data found: VitaminDZinc-structures-filteres-by-similarity-to-calcitriol/csv_format/processed/LOWDATAREGIME_molecules_30_0.7_VDR_TOP_SIMILAR.pt, loading ...\n",
      "Make prediction for 666 samples...\n"
     ]
    },
    {
     "name": "stderr",
     "output_type": "stream",
     "text": [
      "100%|██████████| 2/2 [00:00<00:00, 12.26it/s]\n"
     ]
    },
    {
     "name": "stdout",
     "output_type": "stream",
     "text": [
      "Pre-processed data found: VitaminDZinc-structures-filteres-by-similarity-to-calcitriol/csv_format/processed/TRANSVAE_vdr_pubchem_k_dims_VDR_TOP_SIMILAR.pt, loading ...\n",
      "Make prediction for 1001 samples...\n"
     ]
    },
    {
     "name": "stderr",
     "output_type": "stream",
     "text": [
      "100%|██████████| 2/2 [00:00<00:00,  9.16it/s]\n"
     ]
    },
    {
     "name": "stdout",
     "output_type": "stream",
     "text": [
      "Pre-processed data found: VitaminDZinc-structures-filteres-by-similarity-to-calcitriol/csv_format/processed/TRANSVAE_vdr_zinc_k_dims_VDR_TOP_SIMILAR.pt, loading ...\n",
      "Make prediction for 1001 samples...\n"
     ]
    },
    {
     "name": "stderr",
     "output_type": "stream",
     "text": [
      "100%|██████████| 2/2 [00:00<00:00, 10.10it/s]\n"
     ]
    },
    {
     "name": "stdout",
     "output_type": "stream",
     "text": [
      "Pre-processed data found: VitaminDZinc-structures-filteres-by-similarity-to-calcitriol/csv_format/processed/TRANSMOL_VDR_TOP_SIMILAR.pt, loading ...\n",
      "Make prediction for 1001 samples...\n"
     ]
    },
    {
     "name": "stderr",
     "output_type": "stream",
     "text": [
      "100%|██████████| 2/2 [00:00<00:00,  6.39it/s]\n"
     ]
    },
    {
     "name": "stdout",
     "output_type": "stream",
     "text": [
      "Pre-processed data found: VitaminDZinc-structures-filteres-by-similarity-to-calcitriol/csv_format/processed/LOWDATAREGIME_molecules_10_0.7_VDR_TOP_SIMILAR.pt, loading ...\n",
      "Make prediction for 793 samples...\n"
     ]
    },
    {
     "name": "stderr",
     "output_type": "stream",
     "text": [
      "100%|██████████| 2/2 [00:01<00:00,  1.67it/s]\n"
     ]
    },
    {
     "name": "stdout",
     "output_type": "stream",
     "text": [
      "Pre-processed data found: Benzos-structures-filteres-by-similarity-to-diazepam-20211216T105015Z-001/csv_format/processed/LOWDATAREGIME_molecules_30_0.7_BENZOS_TOP_SIMILAR.pt, loading ...\n",
      "Make prediction for 395 samples...\n"
     ]
    },
    {
     "name": "stderr",
     "output_type": "stream",
     "text": [
      "100%|██████████| 1/1 [00:00<00:00, 15.87it/s]\n"
     ]
    },
    {
     "name": "stdout",
     "output_type": "stream",
     "text": [
      "Pre-processed data found: Benzos-structures-filteres-by-similarity-to-diazepam-20211216T105015Z-001/csv_format/processed/TRANSVAE_benzos_pubchem_top_dims_BENZOS_TOP_SIMILAR.pt, loading ...\n",
      "Make prediction for 1001 samples...\n"
     ]
    },
    {
     "name": "stderr",
     "output_type": "stream",
     "text": [
      "100%|██████████| 2/2 [00:00<00:00, 10.58it/s]\n"
     ]
    },
    {
     "name": "stdout",
     "output_type": "stream",
     "text": [
      "Pre-processed data found: Benzos-structures-filteres-by-similarity-to-diazepam-20211216T105015Z-001/csv_format/processed/LOWDATAREGIME_molecules_20_0.7_BENZOS_TOP_SIMILAR.pt, loading ...\n",
      "Make prediction for 475 samples...\n"
     ]
    },
    {
     "name": "stderr",
     "output_type": "stream",
     "text": [
      "100%|██████████| 1/1 [00:00<00:00, 11.48it/s]\n"
     ]
    },
    {
     "name": "stdout",
     "output_type": "stream",
     "text": [
      "Pre-processed data found: Benzos-structures-filteres-by-similarity-to-diazepam-20211216T105015Z-001/csv_format/processed/REINVENT_BENZOS_TOP_SIMILAR.pt, loading ...\n",
      "Make prediction for 1001 samples...\n"
     ]
    },
    {
     "name": "stderr",
     "output_type": "stream",
     "text": [
      "100%|██████████| 2/2 [00:00<00:00, 10.76it/s]"
     ]
    },
    {
     "name": "stdout",
     "output_type": "stream",
     "text": [
      "Pre-processed data found: Benzos-structures-filteres-by-similarity-to-diazepam-20211216T105015Z-001/csv_format/processed/TRANSVAE_benzos_zinc_top_dims_BENZOS_TOP_SIMILAR.pt, loading ...\n"
     ]
    },
    {
     "name": "stderr",
     "output_type": "stream",
     "text": [
      "\n"
     ]
    },
    {
     "name": "stdout",
     "output_type": "stream",
     "text": [
      "Make prediction for 1001 samples...\n"
     ]
    },
    {
     "name": "stderr",
     "output_type": "stream",
     "text": [
      "100%|██████████| 2/2 [00:00<00:00,  6.70it/s]\n"
     ]
    },
    {
     "name": "stdout",
     "output_type": "stream",
     "text": [
      "Pre-processed data found: Benzos-structures-filteres-by-similarity-to-diazepam-20211216T105015Z-001/csv_format/processed/LOWDATAREGIME_molecules_10_0.7_BENZOS_TOP_SIMILAR.pt, loading ...\n",
      "Make prediction for 489 samples...\n"
     ]
    },
    {
     "name": "stderr",
     "output_type": "stream",
     "text": [
      "100%|██████████| 1/1 [00:00<00:00, 10.28it/s]\n"
     ]
    },
    {
     "name": "stdout",
     "output_type": "stream",
     "text": [
      "Pre-processed data found: Benzos-structures-filteres-by-similarity-to-diazepam-20211216T105015Z-001/csv_format/processed/TRANSVAE_benzos_pubchem_k_dims_BENZOS_TOP_SIMILAR.pt, loading ...\n",
      "Make prediction for 1001 samples...\n"
     ]
    },
    {
     "name": "stderr",
     "output_type": "stream",
     "text": [
      "100%|██████████| 2/2 [00:00<00:00, 10.44it/s]\n"
     ]
    },
    {
     "name": "stdout",
     "output_type": "stream",
     "text": [
      "Pre-processed data found: Benzos-structures-filteres-by-similarity-to-diazepam-20211216T105015Z-001/csv_format/processed/TRANSMOL_BENZOS_TOP_SIMILAR.pt, loading ...\n",
      "Make prediction for 1001 samples...\n"
     ]
    },
    {
     "name": "stderr",
     "output_type": "stream",
     "text": [
      "100%|██████████| 2/2 [00:00<00:00, 10.67it/s]\n"
     ]
    },
    {
     "name": "stdout",
     "output_type": "stream",
     "text": [
      "Pre-processed data found: Benzos-structures-filteres-by-similarity-to-diazepam-20211216T105015Z-001/csv_format/processed/TRANSVAE_benzos_zinc_k_dims_BENZOS_TOP_SIMILAR.pt, loading ...\n",
      "Make prediction for 1001 samples...\n"
     ]
    },
    {
     "name": "stderr",
     "output_type": "stream",
     "text": [
      "100%|██████████| 2/2 [00:00<00:00,  9.46it/s]\n"
     ]
    },
    {
     "name": "stdout",
     "output_type": "stream",
     "text": [
      "Pre-processed data found: Benzos-structures-filteres-by-similarity-to-diazepam-20211216T105015Z-001/csv_format/processed/LOWDATAREGIME_molecules_40_0.7_BENZOS_TOP_SIMILAR.pt, loading ...\n",
      "Make prediction for 352 samples...\n"
     ]
    },
    {
     "name": "stderr",
     "output_type": "stream",
     "text": [
      "100%|██████████| 1/1 [00:00<00:00, 14.53it/s]\n"
     ]
    },
    {
     "name": "stdout",
     "output_type": "stream",
     "text": [
      "Pre-processed data found: VitaminDZinc-structures-filteres-by-similarity-to-calcitriol/csv_format/processed/TRANSVAE_vdr_zinc_top_dims_VDR_TOP_SIMILAR.pt, loading ...\n",
      "Make prediction for 1001 samples...\n"
     ]
    },
    {
     "name": "stderr",
     "output_type": "stream",
     "text": [
      "100%|██████████| 2/2 [00:00<00:00, 11.04it/s]\n"
     ]
    },
    {
     "name": "stdout",
     "output_type": "stream",
     "text": [
      "Pre-processed data found: VitaminDZinc-structures-filteres-by-similarity-to-calcitriol/csv_format/processed/REINVENT_VDR_TOP_SIMILAR.pt, loading ...\n",
      "Make prediction for 1001 samples...\n"
     ]
    },
    {
     "name": "stderr",
     "output_type": "stream",
     "text": [
      "100%|██████████| 2/2 [00:00<00:00,  7.05it/s]\n"
     ]
    },
    {
     "name": "stdout",
     "output_type": "stream",
     "text": [
      "Pre-processed data found: VitaminDZinc-structures-filteres-by-similarity-to-calcitriol/csv_format/processed/LOWDATAREGIME_molecules_20_0.7_VDR_TOP_SIMILAR.pt, loading ...\n",
      "Make prediction for 745 samples...\n"
     ]
    },
    {
     "name": "stderr",
     "output_type": "stream",
     "text": [
      "100%|██████████| 2/2 [00:00<00:00,  3.97it/s]\n"
     ]
    },
    {
     "name": "stdout",
     "output_type": "stream",
     "text": [
      "Pre-processed data found: VitaminDZinc-structures-filteres-by-similarity-to-calcitriol/csv_format/processed/TRANSVAE_vdr_pubchem_top_dims_VDR_TOP_SIMILAR.pt, loading ...\n",
      "Make prediction for 1001 samples...\n"
     ]
    },
    {
     "name": "stderr",
     "output_type": "stream",
     "text": [
      "100%|██████████| 2/2 [00:00<00:00, 10.74it/s]\n"
     ]
    },
    {
     "name": "stdout",
     "output_type": "stream",
     "text": [
      "Pre-processed data found: VitaminDZinc-structures-filteres-by-similarity-to-calcitriol/csv_format/processed/LOWDATAREGIME_molecules_40_0.7_VDR_TOP_SIMILAR.pt, loading ...\n",
      "Make prediction for 611 samples...\n"
     ]
    },
    {
     "name": "stderr",
     "output_type": "stream",
     "text": [
      "100%|██████████| 2/2 [00:00<00:00, 13.81it/s]\n"
     ]
    },
    {
     "name": "stdout",
     "output_type": "stream",
     "text": [
      "Pre-processed data found: VitaminDZinc-structures-filteres-by-similarity-to-calcitriol/csv_format/processed/LOWDATAREGIME_molecules_30_0.7_VDR_TOP_SIMILAR.pt, loading ...\n",
      "Make prediction for 666 samples...\n"
     ]
    },
    {
     "name": "stderr",
     "output_type": "stream",
     "text": [
      "100%|██████████| 2/2 [00:00<00:00, 14.34it/s]\n"
     ]
    },
    {
     "name": "stdout",
     "output_type": "stream",
     "text": [
      "Pre-processed data found: VitaminDZinc-structures-filteres-by-similarity-to-calcitriol/csv_format/processed/TRANSVAE_vdr_pubchem_k_dims_VDR_TOP_SIMILAR.pt, loading ...\n",
      "Make prediction for 1001 samples...\n"
     ]
    },
    {
     "name": "stderr",
     "output_type": "stream",
     "text": [
      "100%|██████████| 2/2 [00:00<00:00, 10.55it/s]\n"
     ]
    },
    {
     "name": "stdout",
     "output_type": "stream",
     "text": [
      "Pre-processed data found: VitaminDZinc-structures-filteres-by-similarity-to-calcitriol/csv_format/processed/TRANSVAE_vdr_zinc_k_dims_VDR_TOP_SIMILAR.pt, loading ...\n",
      "Make prediction for 1001 samples...\n"
     ]
    },
    {
     "name": "stderr",
     "output_type": "stream",
     "text": [
      "100%|██████████| 2/2 [00:00<00:00,  6.70it/s]\n"
     ]
    },
    {
     "name": "stdout",
     "output_type": "stream",
     "text": [
      "Pre-processed data found: VitaminDZinc-structures-filteres-by-similarity-to-calcitriol/csv_format/processed/TRANSMOL_VDR_TOP_SIMILAR.pt, loading ...\n",
      "Make prediction for 1001 samples...\n"
     ]
    },
    {
     "name": "stderr",
     "output_type": "stream",
     "text": [
      "100%|██████████| 2/2 [00:00<00:00, 10.77it/s]\n"
     ]
    },
    {
     "name": "stdout",
     "output_type": "stream",
     "text": [
      "Pre-processed data found: VitaminDZinc-structures-filteres-by-similarity-to-calcitriol/csv_format/processed/LOWDATAREGIME_molecules_10_0.7_VDR_TOP_SIMILAR.pt, loading ...\n",
      "Make prediction for 793 samples...\n"
     ]
    },
    {
     "name": "stderr",
     "output_type": "stream",
     "text": [
      "100%|██████████| 2/2 [00:00<00:00, 12.07it/s]\n"
     ]
    },
    {
     "name": "stdout",
     "output_type": "stream",
     "text": [
      "Pre-processed data found: Benzos-structures-filteres-by-similarity-to-diazepam-20211216T105015Z-001/csv_format/processed/LOWDATAREGIME_molecules_30_0.7_BENZOS_TOP_SIMILAR.pt, loading ...\n",
      "Make prediction for 395 samples...\n"
     ]
    },
    {
     "name": "stderr",
     "output_type": "stream",
     "text": [
      "100%|██████████| 1/1 [00:00<00:00, 12.05it/s]\n"
     ]
    },
    {
     "name": "stdout",
     "output_type": "stream",
     "text": [
      "Pre-processed data found: Benzos-structures-filteres-by-similarity-to-diazepam-20211216T105015Z-001/csv_format/processed/TRANSVAE_benzos_pubchem_top_dims_BENZOS_TOP_SIMILAR.pt, loading ...\n",
      "Make prediction for 1001 samples...\n"
     ]
    },
    {
     "name": "stderr",
     "output_type": "stream",
     "text": [
      "100%|██████████| 2/2 [00:00<00:00,  9.67it/s]\n"
     ]
    },
    {
     "name": "stdout",
     "output_type": "stream",
     "text": [
      "Pre-processed data found: Benzos-structures-filteres-by-similarity-to-diazepam-20211216T105015Z-001/csv_format/processed/LOWDATAREGIME_molecules_20_0.7_BENZOS_TOP_SIMILAR.pt, loading ...\n",
      "Make prediction for 475 samples...\n"
     ]
    },
    {
     "name": "stderr",
     "output_type": "stream",
     "text": [
      "100%|██████████| 1/1 [00:00<00:00, 11.74it/s]\n"
     ]
    },
    {
     "name": "stdout",
     "output_type": "stream",
     "text": [
      "Pre-processed data found: Benzos-structures-filteres-by-similarity-to-diazepam-20211216T105015Z-001/csv_format/processed/REINVENT_BENZOS_TOP_SIMILAR.pt, loading ...\n",
      "Make prediction for 1001 samples...\n"
     ]
    },
    {
     "name": "stderr",
     "output_type": "stream",
     "text": [
      "100%|██████████| 2/2 [00:00<00:00,  6.55it/s]\n"
     ]
    },
    {
     "name": "stdout",
     "output_type": "stream",
     "text": [
      "Pre-processed data found: Benzos-structures-filteres-by-similarity-to-diazepam-20211216T105015Z-001/csv_format/processed/TRANSVAE_benzos_zinc_top_dims_BENZOS_TOP_SIMILAR.pt, loading ...\n",
      "Make prediction for 1001 samples...\n"
     ]
    },
    {
     "name": "stderr",
     "output_type": "stream",
     "text": [
      "100%|██████████| 2/2 [00:00<00:00, 10.40it/s]\n"
     ]
    },
    {
     "name": "stdout",
     "output_type": "stream",
     "text": [
      "Pre-processed data found: Benzos-structures-filteres-by-similarity-to-diazepam-20211216T105015Z-001/csv_format/processed/LOWDATAREGIME_molecules_10_0.7_BENZOS_TOP_SIMILAR.pt, loading ...\n",
      "Make prediction for 489 samples...\n"
     ]
    },
    {
     "name": "stderr",
     "output_type": "stream",
     "text": [
      "100%|██████████| 1/1 [00:00<00:00, 10.78it/s]\n"
     ]
    },
    {
     "name": "stdout",
     "output_type": "stream",
     "text": [
      "Pre-processed data found: Benzos-structures-filteres-by-similarity-to-diazepam-20211216T105015Z-001/csv_format/processed/TRANSVAE_benzos_pubchem_k_dims_BENZOS_TOP_SIMILAR.pt, loading ...\n",
      "Make prediction for 1001 samples...\n"
     ]
    },
    {
     "name": "stderr",
     "output_type": "stream",
     "text": [
      "100%|██████████| 2/2 [00:00<00:00, 10.97it/s]\n"
     ]
    },
    {
     "name": "stdout",
     "output_type": "stream",
     "text": [
      "Pre-processed data found: Benzos-structures-filteres-by-similarity-to-diazepam-20211216T105015Z-001/csv_format/processed/TRANSMOL_BENZOS_TOP_SIMILAR.pt, loading ...\n",
      "Make prediction for 1001 samples...\n"
     ]
    },
    {
     "name": "stderr",
     "output_type": "stream",
     "text": [
      "100%|██████████| 2/2 [00:00<00:00, 10.65it/s]"
     ]
    },
    {
     "name": "stdout",
     "output_type": "stream",
     "text": [
      "Pre-processed data found: Benzos-structures-filteres-by-similarity-to-diazepam-20211216T105015Z-001/csv_format/processed/TRANSVAE_benzos_zinc_k_dims_BENZOS_TOP_SIMILAR.pt, loading ...\n"
     ]
    },
    {
     "name": "stderr",
     "output_type": "stream",
     "text": [
      "\n"
     ]
    },
    {
     "name": "stdout",
     "output_type": "stream",
     "text": [
      "Make prediction for 1001 samples...\n"
     ]
    },
    {
     "name": "stderr",
     "output_type": "stream",
     "text": [
      "100%|██████████| 2/2 [00:00<00:00, 10.85it/s]\n"
     ]
    },
    {
     "name": "stdout",
     "output_type": "stream",
     "text": [
      "Pre-processed data found: Benzos-structures-filteres-by-similarity-to-diazepam-20211216T105015Z-001/csv_format/processed/LOWDATAREGIME_molecules_40_0.7_BENZOS_TOP_SIMILAR.pt, loading ...\n",
      "Make prediction for 352 samples...\n"
     ]
    },
    {
     "name": "stderr",
     "output_type": "stream",
     "text": [
      "100%|██████████| 1/1 [00:00<00:00,  5.78it/s]\n"
     ]
    },
    {
     "name": "stdout",
     "output_type": "stream",
     "text": [
      "Pre-processed data found: VitaminDZinc-structures-filteres-by-similarity-to-calcitriol/csv_format/processed/TRANSVAE_vdr_zinc_top_dims_VDR_TOP_SIMILAR.pt, loading ...\n",
      "Make prediction for 1001 samples...\n"
     ]
    },
    {
     "name": "stderr",
     "output_type": "stream",
     "text": [
      "100%|██████████| 2/2 [00:00<00:00, 11.11it/s]\n"
     ]
    },
    {
     "name": "stdout",
     "output_type": "stream",
     "text": [
      "Pre-processed data found: VitaminDZinc-structures-filteres-by-similarity-to-calcitriol/csv_format/processed/REINVENT_VDR_TOP_SIMILAR.pt, loading ...\n",
      "Make prediction for 1001 samples...\n"
     ]
    },
    {
     "name": "stderr",
     "output_type": "stream",
     "text": [
      "100%|██████████| 2/2 [00:00<00:00,  9.99it/s]\n"
     ]
    },
    {
     "name": "stdout",
     "output_type": "stream",
     "text": [
      "Pre-processed data found: VitaminDZinc-structures-filteres-by-similarity-to-calcitriol/csv_format/processed/LOWDATAREGIME_molecules_20_0.7_VDR_TOP_SIMILAR.pt, loading ...\n",
      "Make prediction for 745 samples...\n"
     ]
    },
    {
     "name": "stderr",
     "output_type": "stream",
     "text": [
      "100%|██████████| 2/2 [00:00<00:00,  3.57it/s]\n"
     ]
    },
    {
     "name": "stdout",
     "output_type": "stream",
     "text": [
      "Pre-processed data found: VitaminDZinc-structures-filteres-by-similarity-to-calcitriol/csv_format/processed/TRANSVAE_vdr_pubchem_top_dims_VDR_TOP_SIMILAR.pt, loading ...\n",
      "Make prediction for 1001 samples...\n"
     ]
    },
    {
     "name": "stderr",
     "output_type": "stream",
     "text": [
      "100%|██████████| 2/2 [00:00<00:00, 12.61it/s]\n"
     ]
    },
    {
     "name": "stdout",
     "output_type": "stream",
     "text": [
      "Pre-processed data found: VitaminDZinc-structures-filteres-by-similarity-to-calcitriol/csv_format/processed/LOWDATAREGIME_molecules_40_0.7_VDR_TOP_SIMILAR.pt, loading ...\n",
      "Make prediction for 611 samples...\n"
     ]
    },
    {
     "name": "stderr",
     "output_type": "stream",
     "text": [
      "100%|██████████| 2/2 [00:00<00:00, 15.49it/s]\n"
     ]
    },
    {
     "name": "stdout",
     "output_type": "stream",
     "text": [
      "Pre-processed data found: VitaminDZinc-structures-filteres-by-similarity-to-calcitriol/csv_format/processed/LOWDATAREGIME_molecules_30_0.7_VDR_TOP_SIMILAR.pt, loading ...\n",
      "Make prediction for 666 samples...\n"
     ]
    },
    {
     "name": "stderr",
     "output_type": "stream",
     "text": [
      "100%|██████████| 2/2 [00:00<00:00, 15.14it/s]\n"
     ]
    },
    {
     "name": "stdout",
     "output_type": "stream",
     "text": [
      "Pre-processed data found: VitaminDZinc-structures-filteres-by-similarity-to-calcitriol/csv_format/processed/TRANSVAE_vdr_pubchem_k_dims_VDR_TOP_SIMILAR.pt, loading ...\n",
      "Make prediction for 1001 samples...\n"
     ]
    },
    {
     "name": "stderr",
     "output_type": "stream",
     "text": [
      "100%|██████████| 2/2 [00:00<00:00,  6.35it/s]\n"
     ]
    },
    {
     "name": "stdout",
     "output_type": "stream",
     "text": [
      "Pre-processed data found: VitaminDZinc-structures-filteres-by-similarity-to-calcitriol/csv_format/processed/TRANSVAE_vdr_zinc_k_dims_VDR_TOP_SIMILAR.pt, loading ...\n",
      "Make prediction for 1001 samples...\n"
     ]
    },
    {
     "name": "stderr",
     "output_type": "stream",
     "text": [
      "100%|██████████| 2/2 [00:00<00:00, 10.24it/s]\n"
     ]
    },
    {
     "name": "stdout",
     "output_type": "stream",
     "text": [
      "Pre-processed data found: VitaminDZinc-structures-filteres-by-similarity-to-calcitriol/csv_format/processed/TRANSMOL_VDR_TOP_SIMILAR.pt, loading ...\n",
      "Make prediction for 1001 samples...\n"
     ]
    },
    {
     "name": "stderr",
     "output_type": "stream",
     "text": [
      "100%|██████████| 2/2 [00:00<00:00,  9.58it/s]\n"
     ]
    },
    {
     "name": "stdout",
     "output_type": "stream",
     "text": [
      "Pre-processed data found: VitaminDZinc-structures-filteres-by-similarity-to-calcitriol/csv_format/processed/LOWDATAREGIME_molecules_10_0.7_VDR_TOP_SIMILAR.pt, loading ...\n",
      "Make prediction for 793 samples...\n"
     ]
    },
    {
     "name": "stderr",
     "output_type": "stream",
     "text": [
      "100%|██████████| 2/2 [00:00<00:00, 13.07it/s]\n"
     ]
    },
    {
     "name": "stdout",
     "output_type": "stream",
     "text": [
      "Pre-processed data found: Benzos-structures-filteres-by-similarity-to-diazepam-20211216T105015Z-001/csv_format/processed/LOWDATAREGIME_molecules_30_0.7_BENZOS_TOP_SIMILAR.pt, loading ...\n",
      "Make prediction for 395 samples...\n"
     ]
    },
    {
     "name": "stderr",
     "output_type": "stream",
     "text": [
      "100%|██████████| 1/1 [00:00<00:00, 11.23it/s]\n"
     ]
    },
    {
     "name": "stdout",
     "output_type": "stream",
     "text": [
      "Pre-processed data found: Benzos-structures-filteres-by-similarity-to-diazepam-20211216T105015Z-001/csv_format/processed/TRANSVAE_benzos_pubchem_top_dims_BENZOS_TOP_SIMILAR.pt, loading ...\n",
      "Make prediction for 1001 samples...\n"
     ]
    },
    {
     "name": "stderr",
     "output_type": "stream",
     "text": [
      "100%|██████████| 2/2 [00:00<00:00,  8.93it/s]\n"
     ]
    },
    {
     "name": "stdout",
     "output_type": "stream",
     "text": [
      "Pre-processed data found: Benzos-structures-filteres-by-similarity-to-diazepam-20211216T105015Z-001/csv_format/processed/LOWDATAREGIME_molecules_20_0.7_BENZOS_TOP_SIMILAR.pt, loading ...\n",
      "Make prediction for 475 samples...\n"
     ]
    },
    {
     "name": "stderr",
     "output_type": "stream",
     "text": [
      "100%|██████████| 1/1 [00:00<00:00,  4.01it/s]\n"
     ]
    },
    {
     "name": "stdout",
     "output_type": "stream",
     "text": [
      "Pre-processed data found: Benzos-structures-filteres-by-similarity-to-diazepam-20211216T105015Z-001/csv_format/processed/REINVENT_BENZOS_TOP_SIMILAR.pt, loading ...\n",
      "Make prediction for 1001 samples...\n"
     ]
    },
    {
     "name": "stderr",
     "output_type": "stream",
     "text": [
      "100%|██████████| 2/2 [00:00<00:00,  8.88it/s]\n"
     ]
    },
    {
     "name": "stdout",
     "output_type": "stream",
     "text": [
      "Pre-processed data found: Benzos-structures-filteres-by-similarity-to-diazepam-20211216T105015Z-001/csv_format/processed/TRANSVAE_benzos_zinc_top_dims_BENZOS_TOP_SIMILAR.pt, loading ...\n",
      "Make prediction for 1001 samples...\n"
     ]
    },
    {
     "name": "stderr",
     "output_type": "stream",
     "text": [
      "100%|██████████| 2/2 [00:00<00:00,  8.92it/s]\n"
     ]
    },
    {
     "name": "stdout",
     "output_type": "stream",
     "text": [
      "Pre-processed data found: Benzos-structures-filteres-by-similarity-to-diazepam-20211216T105015Z-001/csv_format/processed/LOWDATAREGIME_molecules_10_0.7_BENZOS_TOP_SIMILAR.pt, loading ...\n",
      "Make prediction for 489 samples...\n"
     ]
    },
    {
     "name": "stderr",
     "output_type": "stream",
     "text": [
      "100%|██████████| 1/1 [00:00<00:00,  9.20it/s]\n"
     ]
    },
    {
     "name": "stdout",
     "output_type": "stream",
     "text": [
      "Pre-processed data found: Benzos-structures-filteres-by-similarity-to-diazepam-20211216T105015Z-001/csv_format/processed/TRANSVAE_benzos_pubchem_k_dims_BENZOS_TOP_SIMILAR.pt, loading ...\n",
      "Make prediction for 1001 samples...\n"
     ]
    },
    {
     "name": "stderr",
     "output_type": "stream",
     "text": [
      "100%|██████████| 2/2 [00:00<00:00,  8.95it/s]\n"
     ]
    },
    {
     "name": "stdout",
     "output_type": "stream",
     "text": [
      "Pre-processed data found: Benzos-structures-filteres-by-similarity-to-diazepam-20211216T105015Z-001/csv_format/processed/TRANSMOL_BENZOS_TOP_SIMILAR.pt, loading ...\n",
      "Make prediction for 1001 samples...\n"
     ]
    },
    {
     "name": "stderr",
     "output_type": "stream",
     "text": [
      "100%|██████████| 2/2 [00:00<00:00,  9.38it/s]\n"
     ]
    },
    {
     "name": "stdout",
     "output_type": "stream",
     "text": [
      "Pre-processed data found: Benzos-structures-filteres-by-similarity-to-diazepam-20211216T105015Z-001/csv_format/processed/TRANSVAE_benzos_zinc_k_dims_BENZOS_TOP_SIMILAR.pt, loading ...\n",
      "Make prediction for 1001 samples...\n"
     ]
    },
    {
     "name": "stderr",
     "output_type": "stream",
     "text": [
      "100%|██████████| 2/2 [00:00<00:00,  5.53it/s]\n"
     ]
    },
    {
     "name": "stdout",
     "output_type": "stream",
     "text": [
      "Pre-processed data found: Benzos-structures-filteres-by-similarity-to-diazepam-20211216T105015Z-001/csv_format/processed/LOWDATAREGIME_molecules_40_0.7_BENZOS_TOP_SIMILAR.pt, loading ...\n",
      "Make prediction for 352 samples...\n"
     ]
    },
    {
     "name": "stderr",
     "output_type": "stream",
     "text": [
      "100%|██████████| 1/1 [00:00<00:00, 11.65it/s]\n"
     ]
    },
    {
     "name": "stdout",
     "output_type": "stream",
     "text": [
      "Pre-processed data found: VitaminDZinc-structures-filteres-by-similarity-to-calcitriol/csv_format/processed/TRANSVAE_vdr_zinc_top_dims_VDR_TOP_SIMILAR.pt, loading ...\n",
      "Make prediction for 1001 samples...\n"
     ]
    },
    {
     "name": "stderr",
     "output_type": "stream",
     "text": [
      "100%|██████████| 2/2 [00:00<00:00,  9.20it/s]\n"
     ]
    },
    {
     "name": "stdout",
     "output_type": "stream",
     "text": [
      "Pre-processed data found: VitaminDZinc-structures-filteres-by-similarity-to-calcitriol/csv_format/processed/REINVENT_VDR_TOP_SIMILAR.pt, loading ...\n",
      "Make prediction for 1001 samples...\n"
     ]
    },
    {
     "name": "stderr",
     "output_type": "stream",
     "text": [
      "100%|██████████| 2/2 [00:00<00:00,  9.07it/s]\n"
     ]
    },
    {
     "name": "stdout",
     "output_type": "stream",
     "text": [
      "Pre-processed data found: VitaminDZinc-structures-filteres-by-similarity-to-calcitriol/csv_format/processed/LOWDATAREGIME_molecules_20_0.7_VDR_TOP_SIMILAR.pt, loading ...\n",
      "Make prediction for 745 samples...\n"
     ]
    },
    {
     "name": "stderr",
     "output_type": "stream",
     "text": [
      "100%|██████████| 2/2 [00:00<00:00,  4.10it/s]\n"
     ]
    },
    {
     "name": "stdout",
     "output_type": "stream",
     "text": [
      "Pre-processed data found: VitaminDZinc-structures-filteres-by-similarity-to-calcitriol/csv_format/processed/TRANSVAE_vdr_pubchem_top_dims_VDR_TOP_SIMILAR.pt, loading ...\n",
      "Make prediction for 1001 samples...\n"
     ]
    },
    {
     "name": "stderr",
     "output_type": "stream",
     "text": [
      "100%|██████████| 2/2 [00:00<00:00,  9.98it/s]\n"
     ]
    },
    {
     "name": "stdout",
     "output_type": "stream",
     "text": [
      "Pre-processed data found: VitaminDZinc-structures-filteres-by-similarity-to-calcitriol/csv_format/processed/LOWDATAREGIME_molecules_40_0.7_VDR_TOP_SIMILAR.pt, loading ...\n",
      "Make prediction for 611 samples...\n"
     ]
    },
    {
     "name": "stderr",
     "output_type": "stream",
     "text": [
      "100%|██████████| 2/2 [00:00<00:00,  7.19it/s]\n"
     ]
    },
    {
     "name": "stdout",
     "output_type": "stream",
     "text": [
      "Pre-processed data found: VitaminDZinc-structures-filteres-by-similarity-to-calcitriol/csv_format/processed/LOWDATAREGIME_molecules_30_0.7_VDR_TOP_SIMILAR.pt, loading ...\n",
      "Make prediction for 666 samples...\n"
     ]
    },
    {
     "name": "stderr",
     "output_type": "stream",
     "text": [
      "100%|██████████| 2/2 [00:00<00:00, 11.76it/s]\n"
     ]
    },
    {
     "name": "stdout",
     "output_type": "stream",
     "text": [
      "Pre-processed data found: VitaminDZinc-structures-filteres-by-similarity-to-calcitriol/csv_format/processed/TRANSVAE_vdr_pubchem_k_dims_VDR_TOP_SIMILAR.pt, loading ...\n",
      "Make prediction for 1001 samples...\n"
     ]
    },
    {
     "name": "stderr",
     "output_type": "stream",
     "text": [
      "100%|██████████| 2/2 [00:00<00:00,  8.95it/s]\n"
     ]
    },
    {
     "name": "stdout",
     "output_type": "stream",
     "text": [
      "Pre-processed data found: VitaminDZinc-structures-filteres-by-similarity-to-calcitriol/csv_format/processed/TRANSVAE_vdr_zinc_k_dims_VDR_TOP_SIMILAR.pt, loading ...\n",
      "Make prediction for 1001 samples...\n"
     ]
    },
    {
     "name": "stderr",
     "output_type": "stream",
     "text": [
      "100%|██████████| 2/2 [00:00<00:00,  8.94it/s]\n"
     ]
    },
    {
     "name": "stdout",
     "output_type": "stream",
     "text": [
      "Pre-processed data found: VitaminDZinc-structures-filteres-by-similarity-to-calcitriol/csv_format/processed/TRANSMOL_VDR_TOP_SIMILAR.pt, loading ...\n",
      "Make prediction for 1001 samples...\n"
     ]
    },
    {
     "name": "stderr",
     "output_type": "stream",
     "text": [
      "100%|██████████| 2/2 [00:00<00:00,  8.94it/s]\n"
     ]
    },
    {
     "name": "stdout",
     "output_type": "stream",
     "text": [
      "Pre-processed data found: VitaminDZinc-structures-filteres-by-similarity-to-calcitriol/csv_format/processed/LOWDATAREGIME_molecules_10_0.7_VDR_TOP_SIMILAR.pt, loading ...\n",
      "Make prediction for 793 samples...\n"
     ]
    },
    {
     "name": "stderr",
     "output_type": "stream",
     "text": [
      "100%|██████████| 2/2 [00:00<00:00, 10.49it/s]\n"
     ]
    },
    {
     "name": "stdout",
     "output_type": "stream",
     "text": [
      "Pre-processed data found: Benzos-structures-filteres-by-similarity-to-diazepam-20211216T105015Z-001/csv_format/processed/LOWDATAREGIME_molecules_30_0.7_BENZOS_TOP_SIMILAR.pt, loading ...\n",
      "Make prediction for 395 samples...\n"
     ]
    },
    {
     "name": "stderr",
     "output_type": "stream",
     "text": [
      "100%|██████████| 1/1 [00:00<00:00,  6.54it/s]\n"
     ]
    },
    {
     "name": "stdout",
     "output_type": "stream",
     "text": [
      "Pre-processed data found: Benzos-structures-filteres-by-similarity-to-diazepam-20211216T105015Z-001/csv_format/processed/TRANSVAE_benzos_pubchem_top_dims_BENZOS_TOP_SIMILAR.pt, loading ...\n",
      "Make prediction for 1001 samples...\n"
     ]
    },
    {
     "name": "stderr",
     "output_type": "stream",
     "text": [
      "100%|██████████| 2/2 [00:00<00:00, 11.36it/s]\n"
     ]
    },
    {
     "name": "stdout",
     "output_type": "stream",
     "text": [
      "Pre-processed data found: Benzos-structures-filteres-by-similarity-to-diazepam-20211216T105015Z-001/csv_format/processed/LOWDATAREGIME_molecules_20_0.7_BENZOS_TOP_SIMILAR.pt, loading ...\n",
      "Make prediction for 475 samples...\n"
     ]
    },
    {
     "name": "stderr",
     "output_type": "stream",
     "text": [
      "100%|██████████| 1/1 [00:00<00:00, 12.23it/s]\n"
     ]
    },
    {
     "name": "stdout",
     "output_type": "stream",
     "text": [
      "Pre-processed data found: Benzos-structures-filteres-by-similarity-to-diazepam-20211216T105015Z-001/csv_format/processed/REINVENT_BENZOS_TOP_SIMILAR.pt, loading ...\n",
      "Make prediction for 1001 samples...\n"
     ]
    },
    {
     "name": "stderr",
     "output_type": "stream",
     "text": [
      "100%|██████████| 2/2 [00:00<00:00, 11.36it/s]\n"
     ]
    },
    {
     "name": "stdout",
     "output_type": "stream",
     "text": [
      "Pre-processed data found: Benzos-structures-filteres-by-similarity-to-diazepam-20211216T105015Z-001/csv_format/processed/TRANSVAE_benzos_zinc_top_dims_BENZOS_TOP_SIMILAR.pt, loading ...\n",
      "Make prediction for 1001 samples...\n"
     ]
    },
    {
     "name": "stderr",
     "output_type": "stream",
     "text": [
      "100%|██████████| 2/2 [00:00<00:00, 11.55it/s]\n"
     ]
    },
    {
     "name": "stdout",
     "output_type": "stream",
     "text": [
      "Pre-processed data found: Benzos-structures-filteres-by-similarity-to-diazepam-20211216T105015Z-001/csv_format/processed/LOWDATAREGIME_molecules_10_0.7_BENZOS_TOP_SIMILAR.pt, loading ...\n",
      "Make prediction for 489 samples...\n"
     ]
    },
    {
     "name": "stderr",
     "output_type": "stream",
     "text": [
      "100%|██████████| 1/1 [00:00<00:00, 11.63it/s]\n"
     ]
    },
    {
     "name": "stdout",
     "output_type": "stream",
     "text": [
      "Pre-processed data found: Benzos-structures-filteres-by-similarity-to-diazepam-20211216T105015Z-001/csv_format/processed/TRANSVAE_benzos_pubchem_k_dims_BENZOS_TOP_SIMILAR.pt, loading ...\n",
      "Make prediction for 1001 samples...\n"
     ]
    },
    {
     "name": "stderr",
     "output_type": "stream",
     "text": [
      "100%|██████████| 2/2 [00:00<00:00, 11.47it/s]\n"
     ]
    },
    {
     "name": "stdout",
     "output_type": "stream",
     "text": [
      "Pre-processed data found: Benzos-structures-filteres-by-similarity-to-diazepam-20211216T105015Z-001/csv_format/processed/TRANSMOL_BENZOS_TOP_SIMILAR.pt, loading ...\n",
      "Make prediction for 1001 samples...\n"
     ]
    },
    {
     "name": "stderr",
     "output_type": "stream",
     "text": [
      "100%|██████████| 2/2 [00:00<00:00,  8.25it/s]\n"
     ]
    },
    {
     "name": "stdout",
     "output_type": "stream",
     "text": [
      "Pre-processed data found: Benzos-structures-filteres-by-similarity-to-diazepam-20211216T105015Z-001/csv_format/processed/TRANSVAE_benzos_zinc_k_dims_BENZOS_TOP_SIMILAR.pt, loading ...\n",
      "Make prediction for 1001 samples...\n"
     ]
    },
    {
     "name": "stderr",
     "output_type": "stream",
     "text": [
      "100%|██████████| 2/2 [00:00<00:00, 11.44it/s]\n"
     ]
    },
    {
     "name": "stdout",
     "output_type": "stream",
     "text": [
      "Pre-processed data found: Benzos-structures-filteres-by-similarity-to-diazepam-20211216T105015Z-001/csv_format/processed/LOWDATAREGIME_molecules_40_0.7_BENZOS_TOP_SIMILAR.pt, loading ...\n",
      "Make prediction for 352 samples...\n"
     ]
    },
    {
     "name": "stderr",
     "output_type": "stream",
     "text": [
      "100%|██████████| 1/1 [00:00<00:00, 15.34it/s]\n"
     ]
    },
    {
     "name": "stdout",
     "output_type": "stream",
     "text": [
      "Pre-processed data found: VitaminDZinc-structures-filteres-by-similarity-to-calcitriol/csv_format/processed/TRANSVAE_vdr_zinc_top_dims_VDR_TOP_SIMILAR.pt, loading ...\n",
      "Make prediction for 1001 samples...\n"
     ]
    },
    {
     "name": "stderr",
     "output_type": "stream",
     "text": [
      "100%|██████████| 2/2 [00:00<00:00, 11.48it/s]\n"
     ]
    },
    {
     "name": "stdout",
     "output_type": "stream",
     "text": [
      "Pre-processed data found: VitaminDZinc-structures-filteres-by-similarity-to-calcitriol/csv_format/processed/REINVENT_VDR_TOP_SIMILAR.pt, loading ...\n",
      "Make prediction for 1001 samples...\n"
     ]
    },
    {
     "name": "stderr",
     "output_type": "stream",
     "text": [
      "100%|██████████| 2/2 [00:00<00:00, 11.47it/s]\n"
     ]
    },
    {
     "name": "stdout",
     "output_type": "stream",
     "text": [
      "Pre-processed data found: VitaminDZinc-structures-filteres-by-similarity-to-calcitriol/csv_format/processed/LOWDATAREGIME_molecules_20_0.7_VDR_TOP_SIMILAR.pt, loading ...\n",
      "Make prediction for 745 samples...\n"
     ]
    },
    {
     "name": "stderr",
     "output_type": "stream",
     "text": [
      "100%|██████████| 2/2 [00:00<00:00,  4.55it/s]\n"
     ]
    },
    {
     "name": "stdout",
     "output_type": "stream",
     "text": [
      "Pre-processed data found: VitaminDZinc-structures-filteres-by-similarity-to-calcitriol/csv_format/processed/TRANSVAE_vdr_pubchem_top_dims_VDR_TOP_SIMILAR.pt, loading ...\n",
      "Make prediction for 1001 samples...\n"
     ]
    },
    {
     "name": "stderr",
     "output_type": "stream",
     "text": [
      "100%|██████████| 2/2 [00:00<00:00,  8.74it/s]\n"
     ]
    },
    {
     "name": "stdout",
     "output_type": "stream",
     "text": [
      "Pre-processed data found: VitaminDZinc-structures-filteres-by-similarity-to-calcitriol/csv_format/processed/LOWDATAREGIME_molecules_40_0.7_VDR_TOP_SIMILAR.pt, loading ...\n",
      "Make prediction for 611 samples...\n"
     ]
    },
    {
     "name": "stderr",
     "output_type": "stream",
     "text": [
      "100%|██████████| 2/2 [00:00<00:00, 20.22it/s]\n"
     ]
    },
    {
     "name": "stdout",
     "output_type": "stream",
     "text": [
      "Pre-processed data found: VitaminDZinc-structures-filteres-by-similarity-to-calcitriol/csv_format/processed/LOWDATAREGIME_molecules_30_0.7_VDR_TOP_SIMILAR.pt, loading ...\n",
      "Make prediction for 666 samples...\n"
     ]
    },
    {
     "name": "stderr",
     "output_type": "stream",
     "text": [
      "100%|██████████| 2/2 [00:00<00:00, 18.32it/s]\n"
     ]
    },
    {
     "name": "stdout",
     "output_type": "stream",
     "text": [
      "Pre-processed data found: VitaminDZinc-structures-filteres-by-similarity-to-calcitriol/csv_format/processed/TRANSVAE_vdr_pubchem_k_dims_VDR_TOP_SIMILAR.pt, loading ...\n",
      "Make prediction for 1001 samples...\n"
     ]
    },
    {
     "name": "stderr",
     "output_type": "stream",
     "text": [
      "100%|██████████| 2/2 [00:00<00:00, 12.68it/s]\n"
     ]
    },
    {
     "name": "stdout",
     "output_type": "stream",
     "text": [
      "Pre-processed data found: VitaminDZinc-structures-filteres-by-similarity-to-calcitriol/csv_format/processed/TRANSVAE_vdr_zinc_k_dims_VDR_TOP_SIMILAR.pt, loading ...\n",
      "Make prediction for 1001 samples...\n"
     ]
    },
    {
     "name": "stderr",
     "output_type": "stream",
     "text": [
      "100%|██████████| 2/2 [00:00<00:00, 11.50it/s]\n"
     ]
    },
    {
     "name": "stdout",
     "output_type": "stream",
     "text": [
      "Pre-processed data found: VitaminDZinc-structures-filteres-by-similarity-to-calcitriol/csv_format/processed/TRANSMOL_VDR_TOP_SIMILAR.pt, loading ...\n",
      "Make prediction for 1001 samples...\n"
     ]
    },
    {
     "name": "stderr",
     "output_type": "stream",
     "text": [
      "100%|██████████| 2/2 [00:00<00:00,  7.43it/s]\n"
     ]
    },
    {
     "name": "stdout",
     "output_type": "stream",
     "text": [
      "Pre-processed data found: VitaminDZinc-structures-filteres-by-similarity-to-calcitriol/csv_format/processed/LOWDATAREGIME_molecules_10_0.7_VDR_TOP_SIMILAR.pt, loading ...\n",
      "Make prediction for 793 samples...\n"
     ]
    },
    {
     "name": "stderr",
     "output_type": "stream",
     "text": [
      "100%|██████████| 2/2 [00:00<00:00, 14.03it/s]\n"
     ]
    },
    {
     "name": "stdout",
     "output_type": "stream",
     "text": [
      "Pre-processed data found: Benzos-structures-filteres-by-similarity-to-diazepam-20211216T105015Z-001/csv_format/processed/LOWDATAREGIME_molecules_30_0.7_BENZOS_TOP_SIMILAR.pt, loading ...\n",
      "Make prediction for 395 samples...\n"
     ]
    },
    {
     "name": "stderr",
     "output_type": "stream",
     "text": [
      "100%|██████████| 1/1 [00:00<00:00, 11.32it/s]\n"
     ]
    },
    {
     "name": "stdout",
     "output_type": "stream",
     "text": [
      "Pre-processed data found: Benzos-structures-filteres-by-similarity-to-diazepam-20211216T105015Z-001/csv_format/processed/TRANSVAE_benzos_pubchem_top_dims_BENZOS_TOP_SIMILAR.pt, loading ...\n",
      "Make prediction for 1001 samples...\n"
     ]
    },
    {
     "name": "stderr",
     "output_type": "stream",
     "text": [
      "100%|██████████| 2/2 [00:00<00:00,  9.25it/s]\n"
     ]
    },
    {
     "name": "stdout",
     "output_type": "stream",
     "text": [
      "Pre-processed data found: Benzos-structures-filteres-by-similarity-to-diazepam-20211216T105015Z-001/csv_format/processed/LOWDATAREGIME_molecules_20_0.7_BENZOS_TOP_SIMILAR.pt, loading ...\n",
      "Make prediction for 475 samples...\n"
     ]
    },
    {
     "name": "stderr",
     "output_type": "stream",
     "text": [
      "100%|██████████| 1/1 [00:00<00:00, 10.10it/s]\n"
     ]
    },
    {
     "name": "stdout",
     "output_type": "stream",
     "text": [
      "Pre-processed data found: Benzos-structures-filteres-by-similarity-to-diazepam-20211216T105015Z-001/csv_format/processed/REINVENT_BENZOS_TOP_SIMILAR.pt, loading ...\n",
      "Make prediction for 1001 samples...\n"
     ]
    },
    {
     "name": "stderr",
     "output_type": "stream",
     "text": [
      "100%|██████████| 2/2 [00:00<00:00,  9.37it/s]\n"
     ]
    },
    {
     "name": "stdout",
     "output_type": "stream",
     "text": [
      "Pre-processed data found: Benzos-structures-filteres-by-similarity-to-diazepam-20211216T105015Z-001/csv_format/processed/TRANSVAE_benzos_zinc_top_dims_BENZOS_TOP_SIMILAR.pt, loading ...\n",
      "Make prediction for 1001 samples...\n"
     ]
    },
    {
     "name": "stderr",
     "output_type": "stream",
     "text": [
      "100%|██████████| 2/2 [00:00<00:00,  9.44it/s]\n"
     ]
    },
    {
     "name": "stdout",
     "output_type": "stream",
     "text": [
      "Pre-processed data found: Benzos-structures-filteres-by-similarity-to-diazepam-20211216T105015Z-001/csv_format/processed/LOWDATAREGIME_molecules_10_0.7_BENZOS_TOP_SIMILAR.pt, loading ...\n",
      "Make prediction for 489 samples...\n"
     ]
    },
    {
     "name": "stderr",
     "output_type": "stream",
     "text": [
      "100%|██████████| 1/1 [00:00<00:00,  5.88it/s]\n"
     ]
    },
    {
     "name": "stdout",
     "output_type": "stream",
     "text": [
      "Pre-processed data found: Benzos-structures-filteres-by-similarity-to-diazepam-20211216T105015Z-001/csv_format/processed/TRANSVAE_benzos_pubchem_k_dims_BENZOS_TOP_SIMILAR.pt, loading ...\n",
      "Make prediction for 1001 samples...\n"
     ]
    },
    {
     "name": "stderr",
     "output_type": "stream",
     "text": [
      "100%|██████████| 2/2 [00:00<00:00,  9.27it/s]\n"
     ]
    },
    {
     "name": "stdout",
     "output_type": "stream",
     "text": [
      "Pre-processed data found: Benzos-structures-filteres-by-similarity-to-diazepam-20211216T105015Z-001/csv_format/processed/TRANSMOL_BENZOS_TOP_SIMILAR.pt, loading ...\n",
      "Make prediction for 1001 samples...\n"
     ]
    },
    {
     "name": "stderr",
     "output_type": "stream",
     "text": [
      "100%|██████████| 2/2 [00:00<00:00,  9.39it/s]\n"
     ]
    },
    {
     "name": "stdout",
     "output_type": "stream",
     "text": [
      "Pre-processed data found: Benzos-structures-filteres-by-similarity-to-diazepam-20211216T105015Z-001/csv_format/processed/TRANSVAE_benzos_zinc_k_dims_BENZOS_TOP_SIMILAR.pt, loading ...\n",
      "Make prediction for 1001 samples...\n"
     ]
    },
    {
     "name": "stderr",
     "output_type": "stream",
     "text": [
      "100%|██████████| 2/2 [00:00<00:00,  9.42it/s]\n"
     ]
    },
    {
     "name": "stdout",
     "output_type": "stream",
     "text": [
      "Pre-processed data found: Benzos-structures-filteres-by-similarity-to-diazepam-20211216T105015Z-001/csv_format/processed/LOWDATAREGIME_molecules_40_0.7_BENZOS_TOP_SIMILAR.pt, loading ...\n",
      "Make prediction for 352 samples...\n"
     ]
    },
    {
     "name": "stderr",
     "output_type": "stream",
     "text": [
      "100%|██████████| 1/1 [00:00<00:00, 12.47it/s]\n"
     ]
    },
    {
     "name": "stdout",
     "output_type": "stream",
     "text": [
      "Pre-processed data found: VitaminDZinc-structures-filteres-by-similarity-to-calcitriol/csv_format/processed/TRANSVAE_vdr_zinc_top_dims_VDR_TOP_SIMILAR.pt, loading ...\n",
      "Make prediction for 1001 samples...\n"
     ]
    },
    {
     "name": "stderr",
     "output_type": "stream",
     "text": [
      "100%|██████████| 2/2 [00:00<00:00,  9.35it/s]\n"
     ]
    },
    {
     "name": "stdout",
     "output_type": "stream",
     "text": [
      "Pre-processed data found: VitaminDZinc-structures-filteres-by-similarity-to-calcitriol/csv_format/processed/REINVENT_VDR_TOP_SIMILAR.pt, loading ...\n",
      "Make prediction for 1001 samples...\n"
     ]
    },
    {
     "name": "stderr",
     "output_type": "stream",
     "text": [
      "100%|██████████| 2/2 [00:00<00:00,  7.12it/s]\n"
     ]
    },
    {
     "name": "stdout",
     "output_type": "stream",
     "text": [
      "Pre-processed data found: VitaminDZinc-structures-filteres-by-similarity-to-calcitriol/csv_format/processed/LOWDATAREGIME_molecules_20_0.7_VDR_TOP_SIMILAR.pt, loading ...\n",
      "Make prediction for 745 samples...\n"
     ]
    },
    {
     "name": "stderr",
     "output_type": "stream",
     "text": [
      "100%|██████████| 2/2 [00:00<00:00,  4.13it/s]\n"
     ]
    },
    {
     "name": "stdout",
     "output_type": "stream",
     "text": [
      "Pre-processed data found: VitaminDZinc-structures-filteres-by-similarity-to-calcitriol/csv_format/processed/TRANSVAE_vdr_pubchem_top_dims_VDR_TOP_SIMILAR.pt, loading ...\n",
      "Make prediction for 1001 samples...\n"
     ]
    },
    {
     "name": "stderr",
     "output_type": "stream",
     "text": [
      "100%|██████████| 2/2 [00:00<00:00, 10.39it/s]\n"
     ]
    },
    {
     "name": "stdout",
     "output_type": "stream",
     "text": [
      "Pre-processed data found: VitaminDZinc-structures-filteres-by-similarity-to-calcitriol/csv_format/processed/LOWDATAREGIME_molecules_40_0.7_VDR_TOP_SIMILAR.pt, loading ...\n",
      "Make prediction for 611 samples...\n"
     ]
    },
    {
     "name": "stderr",
     "output_type": "stream",
     "text": [
      "100%|██████████| 2/2 [00:00<00:00, 12.71it/s]\n"
     ]
    },
    {
     "name": "stdout",
     "output_type": "stream",
     "text": [
      "Pre-processed data found: VitaminDZinc-structures-filteres-by-similarity-to-calcitriol/csv_format/processed/LOWDATAREGIME_molecules_30_0.7_VDR_TOP_SIMILAR.pt, loading ...\n",
      "Make prediction for 666 samples...\n"
     ]
    },
    {
     "name": "stderr",
     "output_type": "stream",
     "text": [
      "100%|██████████| 2/2 [00:00<00:00, 12.40it/s]\n"
     ]
    },
    {
     "name": "stdout",
     "output_type": "stream",
     "text": [
      "Pre-processed data found: VitaminDZinc-structures-filteres-by-similarity-to-calcitriol/csv_format/processed/TRANSVAE_vdr_pubchem_k_dims_VDR_TOP_SIMILAR.pt, loading ...\n",
      "Make prediction for 1001 samples...\n"
     ]
    },
    {
     "name": "stderr",
     "output_type": "stream",
     "text": [
      "100%|██████████| 2/2 [00:00<00:00,  9.31it/s]\n"
     ]
    },
    {
     "name": "stdout",
     "output_type": "stream",
     "text": [
      "Pre-processed data found: VitaminDZinc-structures-filteres-by-similarity-to-calcitriol/csv_format/processed/TRANSVAE_vdr_zinc_k_dims_VDR_TOP_SIMILAR.pt, loading ...\n",
      "Make prediction for 1001 samples...\n"
     ]
    },
    {
     "name": "stderr",
     "output_type": "stream",
     "text": [
      "100%|██████████| 2/2 [00:00<00:00,  7.11it/s]\n"
     ]
    },
    {
     "name": "stdout",
     "output_type": "stream",
     "text": [
      "Pre-processed data found: VitaminDZinc-structures-filteres-by-similarity-to-calcitriol/csv_format/processed/TRANSMOL_VDR_TOP_SIMILAR.pt, loading ...\n",
      "Make prediction for 1001 samples...\n"
     ]
    },
    {
     "name": "stderr",
     "output_type": "stream",
     "text": [
      "100%|██████████| 2/2 [00:00<00:00,  9.32it/s]\n"
     ]
    },
    {
     "name": "stdout",
     "output_type": "stream",
     "text": [
      "Pre-processed data found: VitaminDZinc-structures-filteres-by-similarity-to-calcitriol/csv_format/processed/LOWDATAREGIME_molecules_10_0.7_VDR_TOP_SIMILAR.pt, loading ...\n",
      "Make prediction for 793 samples...\n"
     ]
    },
    {
     "name": "stderr",
     "output_type": "stream",
     "text": [
      "100%|██████████| 2/2 [00:00<00:00, 11.26it/s]\n"
     ]
    },
    {
     "name": "stdout",
     "output_type": "stream",
     "text": [
      "Pre-processed data found: Benzos-structures-filteres-by-similarity-to-diazepam-20211216T105015Z-001/csv_format/processed/LOWDATAREGIME_molecules_30_0.7_BENZOS_TOP_SIMILAR.pt, loading ...\n",
      "Make prediction for 395 samples...\n"
     ]
    },
    {
     "name": "stderr",
     "output_type": "stream",
     "text": [
      "100%|██████████| 1/1 [00:00<00:00, 12.06it/s]\n"
     ]
    },
    {
     "name": "stdout",
     "output_type": "stream",
     "text": [
      "Pre-processed data found: Benzos-structures-filteres-by-similarity-to-diazepam-20211216T105015Z-001/csv_format/processed/TRANSVAE_benzos_pubchem_top_dims_BENZOS_TOP_SIMILAR.pt, loading ...\n",
      "Make prediction for 1001 samples...\n"
     ]
    },
    {
     "name": "stderr",
     "output_type": "stream",
     "text": [
      "100%|██████████| 2/2 [00:00<00:00, 10.06it/s]\n"
     ]
    },
    {
     "name": "stdout",
     "output_type": "stream",
     "text": [
      "Pre-processed data found: Benzos-structures-filteres-by-similarity-to-diazepam-20211216T105015Z-001/csv_format/processed/LOWDATAREGIME_molecules_20_0.7_BENZOS_TOP_SIMILAR.pt, loading ...\n",
      "Make prediction for 475 samples...\n"
     ]
    },
    {
     "name": "stderr",
     "output_type": "stream",
     "text": [
      "100%|██████████| 1/1 [00:00<00:00, 11.31it/s]\n"
     ]
    },
    {
     "name": "stdout",
     "output_type": "stream",
     "text": [
      "Pre-processed data found: Benzos-structures-filteres-by-similarity-to-diazepam-20211216T105015Z-001/csv_format/processed/REINVENT_BENZOS_TOP_SIMILAR.pt, loading ...\n",
      "Make prediction for 1001 samples...\n"
     ]
    },
    {
     "name": "stderr",
     "output_type": "stream",
     "text": [
      "100%|██████████| 2/2 [00:00<00:00, 10.60it/s]\n"
     ]
    },
    {
     "name": "stdout",
     "output_type": "stream",
     "text": [
      "Pre-processed data found: Benzos-structures-filteres-by-similarity-to-diazepam-20211216T105015Z-001/csv_format/processed/TRANSVAE_benzos_zinc_top_dims_BENZOS_TOP_SIMILAR.pt, loading ...\n",
      "Make prediction for 1001 samples...\n"
     ]
    },
    {
     "name": "stderr",
     "output_type": "stream",
     "text": [
      "100%|██████████| 2/2 [00:00<00:00,  7.86it/s]\n"
     ]
    },
    {
     "name": "stdout",
     "output_type": "stream",
     "text": [
      "Pre-processed data found: Benzos-structures-filteres-by-similarity-to-diazepam-20211216T105015Z-001/csv_format/processed/LOWDATAREGIME_molecules_10_0.7_BENZOS_TOP_SIMILAR.pt, loading ...\n",
      "Make prediction for 489 samples...\n"
     ]
    },
    {
     "name": "stderr",
     "output_type": "stream",
     "text": [
      "100%|██████████| 1/1 [00:00<00:00, 10.93it/s]\n"
     ]
    },
    {
     "name": "stdout",
     "output_type": "stream",
     "text": [
      "Pre-processed data found: Benzos-structures-filteres-by-similarity-to-diazepam-20211216T105015Z-001/csv_format/processed/TRANSVAE_benzos_pubchem_k_dims_BENZOS_TOP_SIMILAR.pt, loading ...\n",
      "Make prediction for 1001 samples...\n"
     ]
    },
    {
     "name": "stderr",
     "output_type": "stream",
     "text": [
      "100%|██████████| 2/2 [00:00<00:00, 10.51it/s]\n"
     ]
    },
    {
     "name": "stdout",
     "output_type": "stream",
     "text": [
      "Pre-processed data found: Benzos-structures-filteres-by-similarity-to-diazepam-20211216T105015Z-001/csv_format/processed/TRANSMOL_BENZOS_TOP_SIMILAR.pt, loading ...\n",
      "Make prediction for 1001 samples...\n"
     ]
    },
    {
     "name": "stderr",
     "output_type": "stream",
     "text": [
      "100%|██████████| 2/2 [00:00<00:00, 10.58it/s]\n"
     ]
    },
    {
     "name": "stdout",
     "output_type": "stream",
     "text": [
      "Pre-processed data found: Benzos-structures-filteres-by-similarity-to-diazepam-20211216T105015Z-001/csv_format/processed/TRANSVAE_benzos_zinc_k_dims_BENZOS_TOP_SIMILAR.pt, loading ...\n",
      "Make prediction for 1001 samples...\n"
     ]
    },
    {
     "name": "stderr",
     "output_type": "stream",
     "text": [
      "100%|██████████| 2/2 [00:00<00:00, 10.64it/s]\n"
     ]
    },
    {
     "name": "stdout",
     "output_type": "stream",
     "text": [
      "Pre-processed data found: Benzos-structures-filteres-by-similarity-to-diazepam-20211216T105015Z-001/csv_format/processed/LOWDATAREGIME_molecules_40_0.7_BENZOS_TOP_SIMILAR.pt, loading ...\n",
      "Make prediction for 352 samples...\n"
     ]
    },
    {
     "name": "stderr",
     "output_type": "stream",
     "text": [
      "100%|██████████| 1/1 [00:00<00:00, 14.33it/s]\n"
     ]
    },
    {
     "name": "stdout",
     "output_type": "stream",
     "text": [
      "Pre-processed data found: VitaminDZinc-structures-filteres-by-similarity-to-calcitriol/csv_format/processed/TRANSVAE_vdr_zinc_top_dims_VDR_TOP_SIMILAR.pt, loading ...\n",
      "Make prediction for 1001 samples...\n"
     ]
    },
    {
     "name": "stderr",
     "output_type": "stream",
     "text": [
      "100%|██████████| 2/2 [00:00<00:00,  7.80it/s]\n"
     ]
    },
    {
     "name": "stdout",
     "output_type": "stream",
     "text": [
      "Pre-processed data found: VitaminDZinc-structures-filteres-by-similarity-to-calcitriol/csv_format/processed/REINVENT_VDR_TOP_SIMILAR.pt, loading ...\n",
      "Make prediction for 1001 samples...\n"
     ]
    },
    {
     "name": "stderr",
     "output_type": "stream",
     "text": [
      "100%|██████████| 2/2 [00:00<00:00, 10.44it/s]\n"
     ]
    },
    {
     "name": "stdout",
     "output_type": "stream",
     "text": [
      "Pre-processed data found: VitaminDZinc-structures-filteres-by-similarity-to-calcitriol/csv_format/processed/LOWDATAREGIME_molecules_20_0.7_VDR_TOP_SIMILAR.pt, loading ...\n",
      "Make prediction for 745 samples...\n"
     ]
    },
    {
     "name": "stderr",
     "output_type": "stream",
     "text": [
      "100%|██████████| 2/2 [00:00<00:00,  4.39it/s]\n"
     ]
    },
    {
     "name": "stdout",
     "output_type": "stream",
     "text": [
      "Pre-processed data found: VitaminDZinc-structures-filteres-by-similarity-to-calcitriol/csv_format/processed/TRANSVAE_vdr_pubchem_top_dims_VDR_TOP_SIMILAR.pt, loading ...\n",
      "Make prediction for 1001 samples...\n"
     ]
    },
    {
     "name": "stderr",
     "output_type": "stream",
     "text": [
      "100%|██████████| 2/2 [00:00<00:00, 11.75it/s]\n"
     ]
    },
    {
     "name": "stdout",
     "output_type": "stream",
     "text": [
      "Pre-processed data found: VitaminDZinc-structures-filteres-by-similarity-to-calcitriol/csv_format/processed/LOWDATAREGIME_molecules_40_0.7_VDR_TOP_SIMILAR.pt, loading ...\n",
      "Make prediction for 611 samples...\n"
     ]
    },
    {
     "name": "stderr",
     "output_type": "stream",
     "text": [
      "100%|██████████| 2/2 [00:00<00:00, 16.05it/s]\n"
     ]
    },
    {
     "name": "stdout",
     "output_type": "stream",
     "text": [
      "Pre-processed data found: VitaminDZinc-structures-filteres-by-similarity-to-calcitriol/csv_format/processed/LOWDATAREGIME_molecules_30_0.7_VDR_TOP_SIMILAR.pt, loading ...\n",
      "Make prediction for 666 samples...\n"
     ]
    },
    {
     "name": "stderr",
     "output_type": "stream",
     "text": [
      "100%|██████████| 2/2 [00:00<00:00, 14.23it/s]\n"
     ]
    },
    {
     "name": "stdout",
     "output_type": "stream",
     "text": [
      "Pre-processed data found: VitaminDZinc-structures-filteres-by-similarity-to-calcitriol/csv_format/processed/TRANSVAE_vdr_pubchem_k_dims_VDR_TOP_SIMILAR.pt, loading ...\n",
      "Make prediction for 1001 samples...\n"
     ]
    },
    {
     "name": "stderr",
     "output_type": "stream",
     "text": [
      "100%|██████████| 2/2 [00:00<00:00,  7.82it/s]\n"
     ]
    },
    {
     "name": "stdout",
     "output_type": "stream",
     "text": [
      "Pre-processed data found: VitaminDZinc-structures-filteres-by-similarity-to-calcitriol/csv_format/processed/TRANSVAE_vdr_zinc_k_dims_VDR_TOP_SIMILAR.pt, loading ...\n",
      "Make prediction for 1001 samples...\n"
     ]
    },
    {
     "name": "stderr",
     "output_type": "stream",
     "text": [
      "100%|██████████| 2/2 [00:00<00:00, 10.63it/s]\n"
     ]
    },
    {
     "name": "stdout",
     "output_type": "stream",
     "text": [
      "Pre-processed data found: VitaminDZinc-structures-filteres-by-similarity-to-calcitriol/csv_format/processed/TRANSMOL_VDR_TOP_SIMILAR.pt, loading ...\n",
      "Make prediction for 1001 samples...\n"
     ]
    },
    {
     "name": "stderr",
     "output_type": "stream",
     "text": [
      "100%|██████████| 2/2 [00:00<00:00, 10.48it/s]\n"
     ]
    },
    {
     "name": "stdout",
     "output_type": "stream",
     "text": [
      "Pre-processed data found: VitaminDZinc-structures-filteres-by-similarity-to-calcitriol/csv_format/processed/LOWDATAREGIME_molecules_10_0.7_VDR_TOP_SIMILAR.pt, loading ...\n",
      "Make prediction for 793 samples...\n"
     ]
    },
    {
     "name": "stderr",
     "output_type": "stream",
     "text": [
      "100%|██████████| 2/2 [00:00<00:00, 12.62it/s]\n"
     ]
    },
    {
     "name": "stdout",
     "output_type": "stream",
     "text": [
      "Pre-processed data found: Benzos-structures-filteres-by-similarity-to-diazepam-20211216T105015Z-001/csv_format/processed/LOWDATAREGIME_molecules_30_0.7_BENZOS_TOP_SIMILAR.pt, loading ...\n",
      "Make prediction for 395 samples...\n"
     ]
    },
    {
     "name": "stderr",
     "output_type": "stream",
     "text": [
      "100%|██████████| 1/1 [00:00<00:00, 10.81it/s]\n"
     ]
    },
    {
     "name": "stdout",
     "output_type": "stream",
     "text": [
      "Pre-processed data found: Benzos-structures-filteres-by-similarity-to-diazepam-20211216T105015Z-001/csv_format/processed/TRANSVAE_benzos_pubchem_top_dims_BENZOS_TOP_SIMILAR.pt, loading ...\n",
      "Make prediction for 1001 samples...\n"
     ]
    },
    {
     "name": "stderr",
     "output_type": "stream",
     "text": [
      "100%|██████████| 2/2 [00:00<00:00,  8.96it/s]\n"
     ]
    },
    {
     "name": "stdout",
     "output_type": "stream",
     "text": [
      "Pre-processed data found: Benzos-structures-filteres-by-similarity-to-diazepam-20211216T105015Z-001/csv_format/processed/LOWDATAREGIME_molecules_20_0.7_BENZOS_TOP_SIMILAR.pt, loading ...\n",
      "Make prediction for 475 samples...\n"
     ]
    },
    {
     "name": "stderr",
     "output_type": "stream",
     "text": [
      "100%|██████████| 1/1 [00:00<00:00,  9.43it/s]\n"
     ]
    },
    {
     "name": "stdout",
     "output_type": "stream",
     "text": [
      "Pre-processed data found: Benzos-structures-filteres-by-similarity-to-diazepam-20211216T105015Z-001/csv_format/processed/REINVENT_BENZOS_TOP_SIMILAR.pt, loading ...\n",
      "Make prediction for 1001 samples...\n"
     ]
    },
    {
     "name": "stderr",
     "output_type": "stream",
     "text": [
      "100%|██████████| 2/2 [00:00<00:00,  6.96it/s]\n"
     ]
    },
    {
     "name": "stdout",
     "output_type": "stream",
     "text": [
      "Pre-processed data found: Benzos-structures-filteres-by-similarity-to-diazepam-20211216T105015Z-001/csv_format/processed/TRANSVAE_benzos_zinc_top_dims_BENZOS_TOP_SIMILAR.pt, loading ...\n",
      "Make prediction for 1001 samples...\n"
     ]
    },
    {
     "name": "stderr",
     "output_type": "stream",
     "text": [
      "100%|██████████| 2/2 [00:00<00:00,  9.02it/s]\n"
     ]
    },
    {
     "name": "stdout",
     "output_type": "stream",
     "text": [
      "Pre-processed data found: Benzos-structures-filteres-by-similarity-to-diazepam-20211216T105015Z-001/csv_format/processed/LOWDATAREGIME_molecules_10_0.7_BENZOS_TOP_SIMILAR.pt, loading ...\n",
      "Make prediction for 489 samples...\n"
     ]
    },
    {
     "name": "stderr",
     "output_type": "stream",
     "text": [
      "100%|██████████| 1/1 [00:00<00:00,  9.13it/s]\n"
     ]
    },
    {
     "name": "stdout",
     "output_type": "stream",
     "text": [
      "Pre-processed data found: Benzos-structures-filteres-by-similarity-to-diazepam-20211216T105015Z-001/csv_format/processed/TRANSVAE_benzos_pubchem_k_dims_BENZOS_TOP_SIMILAR.pt, loading ...\n",
      "Make prediction for 1001 samples...\n"
     ]
    },
    {
     "name": "stderr",
     "output_type": "stream",
     "text": [
      "100%|██████████| 2/2 [00:00<00:00,  8.97it/s]\n"
     ]
    },
    {
     "name": "stdout",
     "output_type": "stream",
     "text": [
      "Pre-processed data found: Benzos-structures-filteres-by-similarity-to-diazepam-20211216T105015Z-001/csv_format/processed/TRANSMOL_BENZOS_TOP_SIMILAR.pt, loading ...\n",
      "Make prediction for 1001 samples...\n"
     ]
    },
    {
     "name": "stderr",
     "output_type": "stream",
     "text": [
      "100%|██████████| 2/2 [00:00<00:00,  9.05it/s]\n"
     ]
    },
    {
     "name": "stdout",
     "output_type": "stream",
     "text": [
      "Pre-processed data found: Benzos-structures-filteres-by-similarity-to-diazepam-20211216T105015Z-001/csv_format/processed/TRANSVAE_benzos_zinc_k_dims_BENZOS_TOP_SIMILAR.pt, loading ...\n",
      "Make prediction for 1001 samples...\n"
     ]
    },
    {
     "name": "stderr",
     "output_type": "stream",
     "text": [
      "100%|██████████| 2/2 [00:00<00:00,  6.60it/s]\n"
     ]
    },
    {
     "name": "stdout",
     "output_type": "stream",
     "text": [
      "Pre-processed data found: Benzos-structures-filteres-by-similarity-to-diazepam-20211216T105015Z-001/csv_format/processed/LOWDATAREGIME_molecules_40_0.7_BENZOS_TOP_SIMILAR.pt, loading ...\n",
      "Make prediction for 352 samples...\n"
     ]
    },
    {
     "name": "stderr",
     "output_type": "stream",
     "text": [
      "100%|██████████| 1/1 [00:00<00:00, 11.72it/s]\n"
     ]
    },
    {
     "name": "stdout",
     "output_type": "stream",
     "text": [
      "Pre-processed data found: VitaminDZinc-structures-filteres-by-similarity-to-calcitriol/csv_format/processed/TRANSVAE_vdr_zinc_top_dims_VDR_TOP_SIMILAR.pt, loading ...\n",
      "Make prediction for 1001 samples...\n"
     ]
    },
    {
     "name": "stderr",
     "output_type": "stream",
     "text": [
      "100%|██████████| 2/2 [00:00<00:00,  9.00it/s]\n"
     ]
    },
    {
     "name": "stdout",
     "output_type": "stream",
     "text": [
      "Pre-processed data found: VitaminDZinc-structures-filteres-by-similarity-to-calcitriol/csv_format/processed/REINVENT_VDR_TOP_SIMILAR.pt, loading ...\n",
      "Make prediction for 1001 samples...\n"
     ]
    },
    {
     "name": "stderr",
     "output_type": "stream",
     "text": [
      "100%|██████████| 2/2 [00:00<00:00,  9.09it/s]\n"
     ]
    },
    {
     "name": "stdout",
     "output_type": "stream",
     "text": [
      "Pre-processed data found: VitaminDZinc-structures-filteres-by-similarity-to-calcitriol/csv_format/processed/LOWDATAREGIME_molecules_20_0.7_VDR_TOP_SIMILAR.pt, loading ...\n",
      "Make prediction for 745 samples...\n"
     ]
    },
    {
     "name": "stderr",
     "output_type": "stream",
     "text": [
      "100%|██████████| 2/2 [00:00<00:00,  4.13it/s]\n"
     ]
    },
    {
     "name": "stdout",
     "output_type": "stream",
     "text": [
      "Pre-processed data found: VitaminDZinc-structures-filteres-by-similarity-to-calcitriol/csv_format/processed/TRANSVAE_vdr_pubchem_top_dims_VDR_TOP_SIMILAR.pt, loading ...\n",
      "Make prediction for 1001 samples...\n"
     ]
    },
    {
     "name": "stderr",
     "output_type": "stream",
     "text": [
      "100%|██████████| 2/2 [00:00<00:00,  9.89it/s]\n"
     ]
    },
    {
     "name": "stdout",
     "output_type": "stream",
     "text": [
      "Pre-processed data found: VitaminDZinc-structures-filteres-by-similarity-to-calcitriol/csv_format/processed/LOWDATAREGIME_molecules_40_0.7_VDR_TOP_SIMILAR.pt, loading ...\n",
      "Make prediction for 611 samples...\n"
     ]
    },
    {
     "name": "stderr",
     "output_type": "stream",
     "text": [
      "100%|██████████| 2/2 [00:00<00:00, 13.33it/s]\n"
     ]
    },
    {
     "name": "stdout",
     "output_type": "stream",
     "text": [
      "Pre-processed data found: VitaminDZinc-structures-filteres-by-similarity-to-calcitriol/csv_format/processed/LOWDATAREGIME_molecules_30_0.7_VDR_TOP_SIMILAR.pt, loading ...\n",
      "Make prediction for 666 samples...\n"
     ]
    },
    {
     "name": "stderr",
     "output_type": "stream",
     "text": [
      "100%|██████████| 2/2 [00:00<00:00,  8.72it/s]\n"
     ]
    },
    {
     "name": "stdout",
     "output_type": "stream",
     "text": [
      "Pre-processed data found: VitaminDZinc-structures-filteres-by-similarity-to-calcitriol/csv_format/processed/TRANSVAE_vdr_pubchem_k_dims_VDR_TOP_SIMILAR.pt, loading ...\n",
      "Make prediction for 1001 samples...\n"
     ]
    },
    {
     "name": "stderr",
     "output_type": "stream",
     "text": [
      "100%|██████████| 2/2 [00:00<00:00,  8.98it/s]\n"
     ]
    },
    {
     "name": "stdout",
     "output_type": "stream",
     "text": [
      "Pre-processed data found: VitaminDZinc-structures-filteres-by-similarity-to-calcitriol/csv_format/processed/TRANSVAE_vdr_zinc_k_dims_VDR_TOP_SIMILAR.pt, loading ...\n",
      "Make prediction for 1001 samples...\n"
     ]
    },
    {
     "name": "stderr",
     "output_type": "stream",
     "text": [
      "100%|██████████| 2/2 [00:00<00:00,  9.06it/s]\n"
     ]
    },
    {
     "name": "stdout",
     "output_type": "stream",
     "text": [
      "Pre-processed data found: VitaminDZinc-structures-filteres-by-similarity-to-calcitriol/csv_format/processed/TRANSMOL_VDR_TOP_SIMILAR.pt, loading ...\n",
      "Make prediction for 1001 samples...\n"
     ]
    },
    {
     "name": "stderr",
     "output_type": "stream",
     "text": [
      "100%|██████████| 2/2 [00:00<00:00, 10.27it/s]\n"
     ]
    },
    {
     "name": "stdout",
     "output_type": "stream",
     "text": [
      "Pre-processed data found: VitaminDZinc-structures-filteres-by-similarity-to-calcitriol/csv_format/processed/LOWDATAREGIME_molecules_10_0.7_VDR_TOP_SIMILAR.pt, loading ...\n",
      "Make prediction for 793 samples...\n"
     ]
    },
    {
     "name": "stderr",
     "output_type": "stream",
     "text": [
      "100%|██████████| 2/2 [00:00<00:00, 10.52it/s]\n"
     ]
    },
    {
     "name": "stdout",
     "output_type": "stream",
     "text": [
      "Pre-processed data found: Benzos-structures-filteres-by-similarity-to-diazepam-20211216T105015Z-001/csv_format/processed/LOWDATAREGIME_molecules_30_0.7_BENZOS_TOP_SIMILAR.pt, loading ...\n",
      "Make prediction for 395 samples...\n"
     ]
    },
    {
     "name": "stderr",
     "output_type": "stream",
     "text": [
      "100%|██████████| 1/1 [00:00<00:00, 17.01it/s]\n"
     ]
    },
    {
     "name": "stdout",
     "output_type": "stream",
     "text": [
      "Pre-processed data found: Benzos-structures-filteres-by-similarity-to-diazepam-20211216T105015Z-001/csv_format/processed/TRANSVAE_benzos_pubchem_top_dims_BENZOS_TOP_SIMILAR.pt, loading ...\n",
      "Make prediction for 1001 samples...\n"
     ]
    },
    {
     "name": "stderr",
     "output_type": "stream",
     "text": [
      "100%|██████████| 2/2 [00:00<00:00,  8.34it/s]\n"
     ]
    },
    {
     "name": "stdout",
     "output_type": "stream",
     "text": [
      "Pre-processed data found: Benzos-structures-filteres-by-similarity-to-diazepam-20211216T105015Z-001/csv_format/processed/LOWDATAREGIME_molecules_20_0.7_BENZOS_TOP_SIMILAR.pt, loading ...\n",
      "Make prediction for 475 samples...\n"
     ]
    },
    {
     "name": "stderr",
     "output_type": "stream",
     "text": [
      "100%|██████████| 1/1 [00:00<00:00, 12.02it/s]\n"
     ]
    },
    {
     "name": "stdout",
     "output_type": "stream",
     "text": [
      "Pre-processed data found: Benzos-structures-filteres-by-similarity-to-diazepam-20211216T105015Z-001/csv_format/processed/REINVENT_BENZOS_TOP_SIMILAR.pt, loading ...\n",
      "Make prediction for 1001 samples...\n"
     ]
    },
    {
     "name": "stderr",
     "output_type": "stream",
     "text": [
      "100%|██████████| 2/2 [00:00<00:00, 11.41it/s]\n"
     ]
    },
    {
     "name": "stdout",
     "output_type": "stream",
     "text": [
      "Pre-processed data found: Benzos-structures-filteres-by-similarity-to-diazepam-20211216T105015Z-001/csv_format/processed/TRANSVAE_benzos_zinc_top_dims_BENZOS_TOP_SIMILAR.pt, loading ...\n",
      "Make prediction for 1001 samples...\n"
     ]
    },
    {
     "name": "stderr",
     "output_type": "stream",
     "text": [
      "100%|██████████| 2/2 [00:00<00:00, 11.39it/s]\n"
     ]
    },
    {
     "name": "stdout",
     "output_type": "stream",
     "text": [
      "Pre-processed data found: Benzos-structures-filteres-by-similarity-to-diazepam-20211216T105015Z-001/csv_format/processed/LOWDATAREGIME_molecules_10_0.7_BENZOS_TOP_SIMILAR.pt, loading ...\n",
      "Make prediction for 489 samples...\n"
     ]
    },
    {
     "name": "stderr",
     "output_type": "stream",
     "text": [
      "100%|██████████| 1/1 [00:00<00:00, 11.78it/s]\n"
     ]
    },
    {
     "name": "stdout",
     "output_type": "stream",
     "text": [
      "Pre-processed data found: Benzos-structures-filteres-by-similarity-to-diazepam-20211216T105015Z-001/csv_format/processed/TRANSVAE_benzos_pubchem_k_dims_BENZOS_TOP_SIMILAR.pt, loading ...\n",
      "Make prediction for 1001 samples...\n"
     ]
    },
    {
     "name": "stderr",
     "output_type": "stream",
     "text": [
      "100%|██████████| 2/2 [00:00<00:00, 11.46it/s]\n"
     ]
    },
    {
     "name": "stdout",
     "output_type": "stream",
     "text": [
      "Pre-processed data found: Benzos-structures-filteres-by-similarity-to-diazepam-20211216T105015Z-001/csv_format/processed/TRANSMOL_BENZOS_TOP_SIMILAR.pt, loading ...\n",
      "Make prediction for 1001 samples...\n"
     ]
    },
    {
     "name": "stderr",
     "output_type": "stream",
     "text": [
      "100%|██████████| 2/2 [00:00<00:00,  8.32it/s]\n"
     ]
    },
    {
     "name": "stdout",
     "output_type": "stream",
     "text": [
      "Pre-processed data found: Benzos-structures-filteres-by-similarity-to-diazepam-20211216T105015Z-001/csv_format/processed/TRANSVAE_benzos_zinc_k_dims_BENZOS_TOP_SIMILAR.pt, loading ...\n",
      "Make prediction for 1001 samples...\n"
     ]
    },
    {
     "name": "stderr",
     "output_type": "stream",
     "text": [
      "100%|██████████| 2/2 [00:00<00:00, 11.14it/s]\n"
     ]
    },
    {
     "name": "stdout",
     "output_type": "stream",
     "text": [
      "Pre-processed data found: Benzos-structures-filteres-by-similarity-to-diazepam-20211216T105015Z-001/csv_format/processed/LOWDATAREGIME_molecules_40_0.7_BENZOS_TOP_SIMILAR.pt, loading ...\n",
      "Make prediction for 352 samples...\n"
     ]
    },
    {
     "name": "stderr",
     "output_type": "stream",
     "text": [
      "100%|██████████| 1/1 [00:00<00:00, 15.78it/s]\n"
     ]
    },
    {
     "name": "stdout",
     "output_type": "stream",
     "text": [
      "Pre-processed data found: VitaminDZinc-structures-filteres-by-similarity-to-calcitriol/csv_format/processed/TRANSVAE_vdr_zinc_top_dims_VDR_TOP_SIMILAR.pt, loading ...\n",
      "Make prediction for 1001 samples...\n"
     ]
    },
    {
     "name": "stderr",
     "output_type": "stream",
     "text": [
      "100%|██████████| 2/2 [00:00<00:00, 11.39it/s]\n"
     ]
    },
    {
     "name": "stdout",
     "output_type": "stream",
     "text": [
      "Pre-processed data found: VitaminDZinc-structures-filteres-by-similarity-to-calcitriol/csv_format/processed/REINVENT_VDR_TOP_SIMILAR.pt, loading ...\n",
      "Make prediction for 1001 samples...\n"
     ]
    },
    {
     "name": "stderr",
     "output_type": "stream",
     "text": [
      "100%|██████████| 2/2 [00:00<00:00, 11.33it/s]\n"
     ]
    },
    {
     "name": "stdout",
     "output_type": "stream",
     "text": [
      "Pre-processed data found: VitaminDZinc-structures-filteres-by-similarity-to-calcitriol/csv_format/processed/LOWDATAREGIME_molecules_20_0.7_VDR_TOP_SIMILAR.pt, loading ...\n",
      "Make prediction for 745 samples...\n"
     ]
    },
    {
     "name": "stderr",
     "output_type": "stream",
     "text": [
      "100%|██████████| 2/2 [00:00<00:00,  4.54it/s]\n"
     ]
    },
    {
     "name": "stdout",
     "output_type": "stream",
     "text": [
      "Pre-processed data found: VitaminDZinc-structures-filteres-by-similarity-to-calcitriol/csv_format/processed/TRANSVAE_vdr_pubchem_top_dims_VDR_TOP_SIMILAR.pt, loading ...\n",
      "Make prediction for 1001 samples...\n"
     ]
    },
    {
     "name": "stderr",
     "output_type": "stream",
     "text": [
      "100%|██████████| 2/2 [00:00<00:00,  8.95it/s]\n"
     ]
    },
    {
     "name": "stdout",
     "output_type": "stream",
     "text": [
      "Pre-processed data found: VitaminDZinc-structures-filteres-by-similarity-to-calcitriol/csv_format/processed/LOWDATAREGIME_molecules_40_0.7_VDR_TOP_SIMILAR.pt, loading ...\n",
      "Make prediction for 611 samples...\n"
     ]
    },
    {
     "name": "stderr",
     "output_type": "stream",
     "text": [
      "100%|██████████| 2/2 [00:00<00:00, 16.98it/s]\n"
     ]
    },
    {
     "name": "stdout",
     "output_type": "stream",
     "text": [
      "Pre-processed data found: VitaminDZinc-structures-filteres-by-similarity-to-calcitriol/csv_format/processed/LOWDATAREGIME_molecules_30_0.7_VDR_TOP_SIMILAR.pt, loading ...\n",
      "Make prediction for 666 samples...\n"
     ]
    },
    {
     "name": "stderr",
     "output_type": "stream",
     "text": [
      "100%|██████████| 2/2 [00:00<00:00, 15.57it/s]\n"
     ]
    },
    {
     "name": "stdout",
     "output_type": "stream",
     "text": [
      "Pre-processed data found: VitaminDZinc-structures-filteres-by-similarity-to-calcitriol/csv_format/processed/TRANSVAE_vdr_pubchem_k_dims_VDR_TOP_SIMILAR.pt, loading ...\n",
      "Make prediction for 1001 samples...\n"
     ]
    },
    {
     "name": "stderr",
     "output_type": "stream",
     "text": [
      "100%|██████████| 2/2 [00:00<00:00, 11.33it/s]\n"
     ]
    },
    {
     "name": "stdout",
     "output_type": "stream",
     "text": [
      "Pre-processed data found: VitaminDZinc-structures-filteres-by-similarity-to-calcitriol/csv_format/processed/TRANSVAE_vdr_zinc_k_dims_VDR_TOP_SIMILAR.pt, loading ...\n",
      "Make prediction for 1001 samples...\n"
     ]
    },
    {
     "name": "stderr",
     "output_type": "stream",
     "text": [
      "100%|██████████| 2/2 [00:00<00:00, 11.55it/s]\n"
     ]
    },
    {
     "name": "stdout",
     "output_type": "stream",
     "text": [
      "Pre-processed data found: VitaminDZinc-structures-filteres-by-similarity-to-calcitriol/csv_format/processed/TRANSMOL_VDR_TOP_SIMILAR.pt, loading ...\n",
      "Make prediction for 1001 samples...\n"
     ]
    },
    {
     "name": "stderr",
     "output_type": "stream",
     "text": [
      "100%|██████████| 2/2 [00:00<00:00, 11.35it/s]\n"
     ]
    },
    {
     "name": "stdout",
     "output_type": "stream",
     "text": [
      "Pre-processed data found: VitaminDZinc-structures-filteres-by-similarity-to-calcitriol/csv_format/processed/LOWDATAREGIME_molecules_10_0.7_VDR_TOP_SIMILAR.pt, loading ...\n",
      "Make prediction for 793 samples...\n"
     ]
    },
    {
     "name": "stderr",
     "output_type": "stream",
     "text": [
      "100%|██████████| 2/2 [00:00<00:00,  9.49it/s]\n"
     ]
    },
    {
     "name": "stdout",
     "output_type": "stream",
     "text": [
      "Pre-processed data found: Benzos-structures-filteres-by-similarity-to-diazepam-20211216T105015Z-001/csv_format/processed/LOWDATAREGIME_molecules_30_0.7_BENZOS_TOP_SIMILAR.pt, loading ...\n",
      "Make prediction for 395 samples...\n"
     ]
    },
    {
     "name": "stderr",
     "output_type": "stream",
     "text": [
      "100%|██████████| 1/1 [00:00<00:00, 11.15it/s]\n"
     ]
    },
    {
     "name": "stdout",
     "output_type": "stream",
     "text": [
      "Pre-processed data found: Benzos-structures-filteres-by-similarity-to-diazepam-20211216T105015Z-001/csv_format/processed/TRANSVAE_benzos_pubchem_top_dims_BENZOS_TOP_SIMILAR.pt, loading ...\n",
      "Make prediction for 1001 samples...\n"
     ]
    },
    {
     "name": "stderr",
     "output_type": "stream",
     "text": [
      "100%|██████████| 2/2 [00:00<00:00,  9.19it/s]\n"
     ]
    },
    {
     "name": "stdout",
     "output_type": "stream",
     "text": [
      "Pre-processed data found: Benzos-structures-filteres-by-similarity-to-diazepam-20211216T105015Z-001/csv_format/processed/LOWDATAREGIME_molecules_20_0.7_BENZOS_TOP_SIMILAR.pt, loading ...\n",
      "Make prediction for 475 samples...\n"
     ]
    },
    {
     "name": "stderr",
     "output_type": "stream",
     "text": [
      "100%|██████████| 1/1 [00:00<00:00, 10.06it/s]\n"
     ]
    },
    {
     "name": "stdout",
     "output_type": "stream",
     "text": [
      "Pre-processed data found: Benzos-structures-filteres-by-similarity-to-diazepam-20211216T105015Z-001/csv_format/processed/REINVENT_BENZOS_TOP_SIMILAR.pt, loading ...\n",
      "Make prediction for 1001 samples...\n"
     ]
    },
    {
     "name": "stderr",
     "output_type": "stream",
     "text": [
      "100%|██████████| 2/2 [00:00<00:00,  9.43it/s]\n"
     ]
    },
    {
     "name": "stdout",
     "output_type": "stream",
     "text": [
      "Pre-processed data found: Benzos-structures-filteres-by-similarity-to-diazepam-20211216T105015Z-001/csv_format/processed/TRANSVAE_benzos_zinc_top_dims_BENZOS_TOP_SIMILAR.pt, loading ...\n",
      "Make prediction for 1001 samples...\n"
     ]
    },
    {
     "name": "stderr",
     "output_type": "stream",
     "text": [
      "100%|██████████| 2/2 [00:00<00:00,  9.49it/s]\n"
     ]
    },
    {
     "name": "stdout",
     "output_type": "stream",
     "text": [
      "Pre-processed data found: Benzos-structures-filteres-by-similarity-to-diazepam-20211216T105015Z-001/csv_format/processed/LOWDATAREGIME_molecules_10_0.7_BENZOS_TOP_SIMILAR.pt, loading ...\n",
      "Make prediction for 489 samples...\n"
     ]
    },
    {
     "name": "stderr",
     "output_type": "stream",
     "text": [
      "100%|██████████| 1/1 [00:00<00:00,  9.58it/s]\n"
     ]
    },
    {
     "name": "stdout",
     "output_type": "stream",
     "text": [
      "Pre-processed data found: Benzos-structures-filteres-by-similarity-to-diazepam-20211216T105015Z-001/csv_format/processed/TRANSVAE_benzos_pubchem_k_dims_BENZOS_TOP_SIMILAR.pt, loading ...\n",
      "Make prediction for 1001 samples...\n"
     ]
    },
    {
     "name": "stderr",
     "output_type": "stream",
     "text": [
      "100%|██████████| 2/2 [00:00<00:00,  7.25it/s]\n"
     ]
    },
    {
     "name": "stdout",
     "output_type": "stream",
     "text": [
      "Pre-processed data found: Benzos-structures-filteres-by-similarity-to-diazepam-20211216T105015Z-001/csv_format/processed/TRANSMOL_BENZOS_TOP_SIMILAR.pt, loading ...\n",
      "Make prediction for 1001 samples...\n"
     ]
    },
    {
     "name": "stderr",
     "output_type": "stream",
     "text": [
      "100%|██████████| 2/2 [00:00<00:00,  9.51it/s]\n"
     ]
    },
    {
     "name": "stdout",
     "output_type": "stream",
     "text": [
      "Pre-processed data found: Benzos-structures-filteres-by-similarity-to-diazepam-20211216T105015Z-001/csv_format/processed/TRANSVAE_benzos_zinc_k_dims_BENZOS_TOP_SIMILAR.pt, loading ...\n",
      "Make prediction for 1001 samples...\n"
     ]
    },
    {
     "name": "stderr",
     "output_type": "stream",
     "text": [
      "100%|██████████| 2/2 [00:00<00:00,  9.44it/s]\n"
     ]
    },
    {
     "name": "stdout",
     "output_type": "stream",
     "text": [
      "Pre-processed data found: Benzos-structures-filteres-by-similarity-to-diazepam-20211216T105015Z-001/csv_format/processed/LOWDATAREGIME_molecules_40_0.7_BENZOS_TOP_SIMILAR.pt, loading ...\n",
      "Make prediction for 352 samples...\n"
     ]
    },
    {
     "name": "stderr",
     "output_type": "stream",
     "text": [
      "100%|██████████| 1/1 [00:00<00:00, 12.22it/s]\n"
     ]
    },
    {
     "name": "stdout",
     "output_type": "stream",
     "text": [
      "Pre-processed data found: VitaminDZinc-structures-filteres-by-similarity-to-calcitriol/csv_format/processed/TRANSVAE_vdr_zinc_top_dims_VDR_TOP_SIMILAR.pt, loading ...\n",
      "Make prediction for 1001 samples...\n"
     ]
    },
    {
     "name": "stderr",
     "output_type": "stream",
     "text": [
      "100%|██████████| 2/2 [00:00<00:00,  9.45it/s]\n"
     ]
    },
    {
     "name": "stdout",
     "output_type": "stream",
     "text": [
      "Pre-processed data found: VitaminDZinc-structures-filteres-by-similarity-to-calcitriol/csv_format/processed/REINVENT_VDR_TOP_SIMILAR.pt, loading ...\n",
      "Make prediction for 1001 samples...\n"
     ]
    },
    {
     "name": "stderr",
     "output_type": "stream",
     "text": [
      "100%|██████████| 2/2 [00:00<00:00,  9.28it/s]\n"
     ]
    },
    {
     "name": "stdout",
     "output_type": "stream",
     "text": [
      "Pre-processed data found: VitaminDZinc-structures-filteres-by-similarity-to-calcitriol/csv_format/processed/LOWDATAREGIME_molecules_20_0.7_VDR_TOP_SIMILAR.pt, loading ...\n",
      "Make prediction for 745 samples...\n"
     ]
    },
    {
     "name": "stderr",
     "output_type": "stream",
     "text": [
      "100%|██████████| 2/2 [00:00<00:00,  3.72it/s]\n"
     ]
    },
    {
     "name": "stdout",
     "output_type": "stream",
     "text": [
      "Pre-processed data found: VitaminDZinc-structures-filteres-by-similarity-to-calcitriol/csv_format/processed/TRANSVAE_vdr_pubchem_top_dims_VDR_TOP_SIMILAR.pt, loading ...\n",
      "Make prediction for 1001 samples...\n"
     ]
    },
    {
     "name": "stderr",
     "output_type": "stream",
     "text": [
      "100%|██████████| 2/2 [00:00<00:00, 10.52it/s]\n"
     ]
    },
    {
     "name": "stdout",
     "output_type": "stream",
     "text": [
      "Pre-processed data found: VitaminDZinc-structures-filteres-by-similarity-to-calcitriol/csv_format/processed/LOWDATAREGIME_molecules_40_0.7_VDR_TOP_SIMILAR.pt, loading ...\n",
      "Make prediction for 611 samples...\n"
     ]
    },
    {
     "name": "stderr",
     "output_type": "stream",
     "text": [
      "100%|██████████| 2/2 [00:00<00:00, 13.51it/s]\n"
     ]
    },
    {
     "name": "stdout",
     "output_type": "stream",
     "text": [
      "Pre-processed data found: VitaminDZinc-structures-filteres-by-similarity-to-calcitriol/csv_format/processed/LOWDATAREGIME_molecules_30_0.7_VDR_TOP_SIMILAR.pt, loading ...\n",
      "Make prediction for 666 samples...\n"
     ]
    },
    {
     "name": "stderr",
     "output_type": "stream",
     "text": [
      "100%|██████████| 2/2 [00:00<00:00, 12.46it/s]\n"
     ]
    },
    {
     "name": "stdout",
     "output_type": "stream",
     "text": [
      "Pre-processed data found: VitaminDZinc-structures-filteres-by-similarity-to-calcitriol/csv_format/processed/TRANSVAE_vdr_pubchem_k_dims_VDR_TOP_SIMILAR.pt, loading ...\n",
      "Make prediction for 1001 samples...\n"
     ]
    },
    {
     "name": "stderr",
     "output_type": "stream",
     "text": [
      "100%|██████████| 2/2 [00:00<00:00,  9.34it/s]\n"
     ]
    },
    {
     "name": "stdout",
     "output_type": "stream",
     "text": [
      "Pre-processed data found: VitaminDZinc-structures-filteres-by-similarity-to-calcitriol/csv_format/processed/TRANSVAE_vdr_zinc_k_dims_VDR_TOP_SIMILAR.pt, loading ...\n",
      "Make prediction for 1001 samples...\n"
     ]
    },
    {
     "name": "stderr",
     "output_type": "stream",
     "text": [
      "100%|██████████| 2/2 [00:00<00:00,  9.56it/s]\n"
     ]
    },
    {
     "name": "stdout",
     "output_type": "stream",
     "text": [
      "Pre-processed data found: VitaminDZinc-structures-filteres-by-similarity-to-calcitriol/csv_format/processed/TRANSMOL_VDR_TOP_SIMILAR.pt, loading ...\n",
      "Make prediction for 1001 samples...\n"
     ]
    },
    {
     "name": "stderr",
     "output_type": "stream",
     "text": [
      "100%|██████████| 2/2 [00:00<00:00,  7.17it/s]\n"
     ]
    },
    {
     "name": "stdout",
     "output_type": "stream",
     "text": [
      "Pre-processed data found: VitaminDZinc-structures-filteres-by-similarity-to-calcitriol/csv_format/processed/LOWDATAREGIME_molecules_10_0.7_VDR_TOP_SIMILAR.pt, loading ...\n",
      "Make prediction for 793 samples...\n"
     ]
    },
    {
     "name": "stderr",
     "output_type": "stream",
     "text": [
      "100%|██████████| 2/2 [00:00<00:00, 11.03it/s]\n"
     ]
    },
    {
     "name": "stdout",
     "output_type": "stream",
     "text": [
      "Pre-processed data found: Benzos-structures-filteres-by-similarity-to-diazepam-20211216T105015Z-001/csv_format/processed/LOWDATAREGIME_molecules_30_0.7_BENZOS_TOP_SIMILAR.pt, loading ...\n",
      "Make prediction for 395 samples...\n"
     ]
    },
    {
     "name": "stderr",
     "output_type": "stream",
     "text": [
      "100%|██████████| 1/1 [00:00<00:00, 12.95it/s]\n"
     ]
    },
    {
     "name": "stdout",
     "output_type": "stream",
     "text": [
      "Pre-processed data found: Benzos-structures-filteres-by-similarity-to-diazepam-20211216T105015Z-001/csv_format/processed/TRANSVAE_benzos_pubchem_top_dims_BENZOS_TOP_SIMILAR.pt, loading ...\n",
      "Make prediction for 1001 samples...\n"
     ]
    },
    {
     "name": "stderr",
     "output_type": "stream",
     "text": [
      "100%|██████████| 2/2 [00:00<00:00, 10.45it/s]\n"
     ]
    },
    {
     "name": "stdout",
     "output_type": "stream",
     "text": [
      "Pre-processed data found: Benzos-structures-filteres-by-similarity-to-diazepam-20211216T105015Z-001/csv_format/processed/LOWDATAREGIME_molecules_20_0.7_BENZOS_TOP_SIMILAR.pt, loading ...\n",
      "Make prediction for 475 samples...\n"
     ]
    },
    {
     "name": "stderr",
     "output_type": "stream",
     "text": [
      "100%|██████████| 1/1 [00:00<00:00, 11.15it/s]\n"
     ]
    },
    {
     "name": "stdout",
     "output_type": "stream",
     "text": [
      "Pre-processed data found: Benzos-structures-filteres-by-similarity-to-diazepam-20211216T105015Z-001/csv_format/processed/REINVENT_BENZOS_TOP_SIMILAR.pt, loading ...\n",
      "Make prediction for 1001 samples...\n"
     ]
    },
    {
     "name": "stderr",
     "output_type": "stream",
     "text": [
      "100%|██████████| 2/2 [00:00<00:00, 10.52it/s]\n"
     ]
    },
    {
     "name": "stdout",
     "output_type": "stream",
     "text": [
      "Pre-processed data found: Benzos-structures-filteres-by-similarity-to-diazepam-20211216T105015Z-001/csv_format/processed/TRANSVAE_benzos_zinc_top_dims_BENZOS_TOP_SIMILAR.pt, loading ...\n",
      "Make prediction for 1001 samples...\n"
     ]
    },
    {
     "name": "stderr",
     "output_type": "stream",
     "text": [
      "100%|██████████| 2/2 [00:00<00:00, 10.66it/s]\n"
     ]
    },
    {
     "name": "stdout",
     "output_type": "stream",
     "text": [
      "Pre-processed data found: Benzos-structures-filteres-by-similarity-to-diazepam-20211216T105015Z-001/csv_format/processed/LOWDATAREGIME_molecules_10_0.7_BENZOS_TOP_SIMILAR.pt, loading ...\n",
      "Make prediction for 489 samples...\n"
     ]
    },
    {
     "name": "stderr",
     "output_type": "stream",
     "text": [
      "100%|██████████| 1/1 [00:00<00:00,  6.29it/s]\n"
     ]
    },
    {
     "name": "stdout",
     "output_type": "stream",
     "text": [
      "Pre-processed data found: Benzos-structures-filteres-by-similarity-to-diazepam-20211216T105015Z-001/csv_format/processed/TRANSVAE_benzos_pubchem_k_dims_BENZOS_TOP_SIMILAR.pt, loading ...\n",
      "Make prediction for 1001 samples...\n"
     ]
    },
    {
     "name": "stderr",
     "output_type": "stream",
     "text": [
      "100%|██████████| 2/2 [00:00<00:00, 10.53it/s]\n"
     ]
    },
    {
     "name": "stdout",
     "output_type": "stream",
     "text": [
      "Pre-processed data found: Benzos-structures-filteres-by-similarity-to-diazepam-20211216T105015Z-001/csv_format/processed/TRANSMOL_BENZOS_TOP_SIMILAR.pt, loading ...\n",
      "Make prediction for 1001 samples...\n"
     ]
    },
    {
     "name": "stderr",
     "output_type": "stream",
     "text": [
      "100%|██████████| 2/2 [00:00<00:00, 10.66it/s]\n"
     ]
    },
    {
     "name": "stdout",
     "output_type": "stream",
     "text": [
      "Pre-processed data found: Benzos-structures-filteres-by-similarity-to-diazepam-20211216T105015Z-001/csv_format/processed/TRANSVAE_benzos_zinc_k_dims_BENZOS_TOP_SIMILAR.pt, loading ...\n",
      "Make prediction for 1001 samples...\n"
     ]
    },
    {
     "name": "stderr",
     "output_type": "stream",
     "text": [
      "100%|██████████| 2/2 [00:00<00:00, 10.80it/s]\n"
     ]
    },
    {
     "name": "stdout",
     "output_type": "stream",
     "text": [
      "Pre-processed data found: Benzos-structures-filteres-by-similarity-to-diazepam-20211216T105015Z-001/csv_format/processed/LOWDATAREGIME_molecules_40_0.7_BENZOS_TOP_SIMILAR.pt, loading ...\n",
      "Make prediction for 352 samples...\n"
     ]
    },
    {
     "name": "stderr",
     "output_type": "stream",
     "text": [
      "100%|██████████| 1/1 [00:00<00:00, 14.39it/s]\n"
     ]
    },
    {
     "name": "stdout",
     "output_type": "stream",
     "text": [
      "Pre-processed data found: VitaminDZinc-structures-filteres-by-similarity-to-calcitriol/csv_format/processed/TRANSVAE_vdr_zinc_top_dims_VDR_TOP_SIMILAR.pt, loading ...\n",
      "Make prediction for 1001 samples...\n"
     ]
    },
    {
     "name": "stderr",
     "output_type": "stream",
     "text": [
      "100%|██████████| 2/2 [00:00<00:00, 10.67it/s]\n"
     ]
    },
    {
     "name": "stdout",
     "output_type": "stream",
     "text": [
      "Pre-processed data found: VitaminDZinc-structures-filteres-by-similarity-to-calcitriol/csv_format/processed/REINVENT_VDR_TOP_SIMILAR.pt, loading ...\n",
      "Make prediction for 1001 samples...\n"
     ]
    },
    {
     "name": "stderr",
     "output_type": "stream",
     "text": [
      "100%|██████████| 2/2 [00:00<00:00,  7.63it/s]\n"
     ]
    },
    {
     "name": "stdout",
     "output_type": "stream",
     "text": [
      "Pre-processed data found: VitaminDZinc-structures-filteres-by-similarity-to-calcitriol/csv_format/processed/LOWDATAREGIME_molecules_20_0.7_VDR_TOP_SIMILAR.pt, loading ...\n",
      "Make prediction for 745 samples...\n"
     ]
    },
    {
     "name": "stderr",
     "output_type": "stream",
     "text": [
      "100%|██████████| 2/2 [00:00<00:00,  4.69it/s]\n"
     ]
    },
    {
     "name": "stdout",
     "output_type": "stream",
     "text": [
      "Pre-processed data found: VitaminDZinc-structures-filteres-by-similarity-to-calcitriol/csv_format/processed/TRANSVAE_vdr_pubchem_top_dims_VDR_TOP_SIMILAR.pt, loading ...\n",
      "Make prediction for 1001 samples...\n"
     ]
    },
    {
     "name": "stderr",
     "output_type": "stream",
     "text": [
      "100%|██████████| 2/2 [00:00<00:00, 10.91it/s]"
     ]
    },
    {
     "name": "stdout",
     "output_type": "stream",
     "text": [
      "Pre-processed data found: VitaminDZinc-structures-filteres-by-similarity-to-calcitriol/csv_format/processed/LOWDATAREGIME_molecules_40_0.7_VDR_TOP_SIMILAR.pt, loading ...\n"
     ]
    },
    {
     "name": "stderr",
     "output_type": "stream",
     "text": [
      "\n"
     ]
    },
    {
     "name": "stdout",
     "output_type": "stream",
     "text": [
      "Make prediction for 611 samples...\n"
     ]
    },
    {
     "name": "stderr",
     "output_type": "stream",
     "text": [
      "100%|██████████| 2/2 [00:00<00:00, 15.21it/s]\n"
     ]
    },
    {
     "name": "stdout",
     "output_type": "stream",
     "text": [
      "Pre-processed data found: VitaminDZinc-structures-filteres-by-similarity-to-calcitriol/csv_format/processed/LOWDATAREGIME_molecules_30_0.7_VDR_TOP_SIMILAR.pt, loading ...\n",
      "Make prediction for 666 samples...\n"
     ]
    },
    {
     "name": "stderr",
     "output_type": "stream",
     "text": [
      "100%|██████████| 2/2 [00:00<00:00, 15.57it/s]\n"
     ]
    },
    {
     "name": "stdout",
     "output_type": "stream",
     "text": [
      "Pre-processed data found: VitaminDZinc-structures-filteres-by-similarity-to-calcitriol/csv_format/processed/TRANSVAE_vdr_pubchem_k_dims_VDR_TOP_SIMILAR.pt, loading ...\n",
      "Make prediction for 1001 samples...\n"
     ]
    },
    {
     "name": "stderr",
     "output_type": "stream",
     "text": [
      "100%|██████████| 2/2 [00:00<00:00, 10.48it/s]\n"
     ]
    },
    {
     "name": "stdout",
     "output_type": "stream",
     "text": [
      "Pre-processed data found: VitaminDZinc-structures-filteres-by-similarity-to-calcitriol/csv_format/processed/TRANSVAE_vdr_zinc_k_dims_VDR_TOP_SIMILAR.pt, loading ...\n",
      "Make prediction for 1001 samples...\n"
     ]
    },
    {
     "name": "stderr",
     "output_type": "stream",
     "text": [
      "100%|██████████| 2/2 [00:00<00:00,  7.43it/s]\n"
     ]
    },
    {
     "name": "stdout",
     "output_type": "stream",
     "text": [
      "Pre-processed data found: VitaminDZinc-structures-filteres-by-similarity-to-calcitriol/csv_format/processed/TRANSMOL_VDR_TOP_SIMILAR.pt, loading ...\n",
      "Make prediction for 1001 samples...\n"
     ]
    },
    {
     "name": "stderr",
     "output_type": "stream",
     "text": [
      "100%|██████████| 2/2 [00:00<00:00, 10.43it/s]\n"
     ]
    },
    {
     "name": "stdout",
     "output_type": "stream",
     "text": [
      "Pre-processed data found: VitaminDZinc-structures-filteres-by-similarity-to-calcitriol/csv_format/processed/LOWDATAREGIME_molecules_10_0.7_VDR_TOP_SIMILAR.pt, loading ...\n",
      "Make prediction for 793 samples...\n"
     ]
    },
    {
     "name": "stderr",
     "output_type": "stream",
     "text": [
      "100%|██████████| 2/2 [00:00<00:00, 12.58it/s]\n"
     ]
    },
    {
     "name": "stdout",
     "output_type": "stream",
     "text": [
      "Pre-processed data found: Benzos-structures-filteres-by-similarity-to-diazepam-20211216T105015Z-001/csv_format/processed/LOWDATAREGIME_molecules_30_0.7_BENZOS_TOP_SIMILAR.pt, loading ...\n",
      "Make prediction for 395 samples...\n"
     ]
    },
    {
     "name": "stderr",
     "output_type": "stream",
     "text": [
      "100%|██████████| 1/1 [00:00<00:00, 12.89it/s]\n"
     ]
    },
    {
     "name": "stdout",
     "output_type": "stream",
     "text": [
      "Pre-processed data found: Benzos-structures-filteres-by-similarity-to-diazepam-20211216T105015Z-001/csv_format/processed/TRANSVAE_benzos_pubchem_top_dims_BENZOS_TOP_SIMILAR.pt, loading ...\n",
      "Make prediction for 1001 samples...\n"
     ]
    },
    {
     "name": "stderr",
     "output_type": "stream",
     "text": [
      "100%|██████████| 2/2 [00:00<00:00, 10.50it/s]\n"
     ]
    },
    {
     "name": "stdout",
     "output_type": "stream",
     "text": [
      "Pre-processed data found: Benzos-structures-filteres-by-similarity-to-diazepam-20211216T105015Z-001/csv_format/processed/LOWDATAREGIME_molecules_20_0.7_BENZOS_TOP_SIMILAR.pt, loading ...\n",
      "Make prediction for 475 samples...\n"
     ]
    },
    {
     "name": "stderr",
     "output_type": "stream",
     "text": [
      "100%|██████████| 1/1 [00:00<00:00, 11.21it/s]\n"
     ]
    },
    {
     "name": "stdout",
     "output_type": "stream",
     "text": [
      "Pre-processed data found: Benzos-structures-filteres-by-similarity-to-diazepam-20211216T105015Z-001/csv_format/processed/REINVENT_BENZOS_TOP_SIMILAR.pt, loading ...\n",
      "Make prediction for 1001 samples...\n"
     ]
    },
    {
     "name": "stderr",
     "output_type": "stream",
     "text": [
      "100%|██████████| 2/2 [00:00<00:00,  7.92it/s]\n"
     ]
    },
    {
     "name": "stdout",
     "output_type": "stream",
     "text": [
      "Pre-processed data found: Benzos-structures-filteres-by-similarity-to-diazepam-20211216T105015Z-001/csv_format/processed/TRANSVAE_benzos_zinc_top_dims_BENZOS_TOP_SIMILAR.pt, loading ...\n",
      "Make prediction for 1001 samples...\n"
     ]
    },
    {
     "name": "stderr",
     "output_type": "stream",
     "text": [
      "100%|██████████| 2/2 [00:00<00:00, 10.54it/s]\n"
     ]
    },
    {
     "name": "stdout",
     "output_type": "stream",
     "text": [
      "Pre-processed data found: Benzos-structures-filteres-by-similarity-to-diazepam-20211216T105015Z-001/csv_format/processed/LOWDATAREGIME_molecules_10_0.7_BENZOS_TOP_SIMILAR.pt, loading ...\n",
      "Make prediction for 489 samples...\n"
     ]
    },
    {
     "name": "stderr",
     "output_type": "stream",
     "text": [
      "100%|██████████| 1/1 [00:00<00:00, 10.93it/s]\n"
     ]
    },
    {
     "name": "stdout",
     "output_type": "stream",
     "text": [
      "Pre-processed data found: Benzos-structures-filteres-by-similarity-to-diazepam-20211216T105015Z-001/csv_format/processed/TRANSVAE_benzos_pubchem_k_dims_BENZOS_TOP_SIMILAR.pt, loading ...\n",
      "Make prediction for 1001 samples...\n"
     ]
    },
    {
     "name": "stderr",
     "output_type": "stream",
     "text": [
      "100%|██████████| 2/2 [00:00<00:00, 10.25it/s]\n"
     ]
    },
    {
     "name": "stdout",
     "output_type": "stream",
     "text": [
      "Pre-processed data found: Benzos-structures-filteres-by-similarity-to-diazepam-20211216T105015Z-001/csv_format/processed/TRANSMOL_BENZOS_TOP_SIMILAR.pt, loading ...\n",
      "Make prediction for 1001 samples...\n"
     ]
    },
    {
     "name": "stderr",
     "output_type": "stream",
     "text": [
      "100%|██████████| 2/2 [00:00<00:00, 10.59it/s]\n"
     ]
    },
    {
     "name": "stdout",
     "output_type": "stream",
     "text": [
      "Pre-processed data found: Benzos-structures-filteres-by-similarity-to-diazepam-20211216T105015Z-001/csv_format/processed/TRANSVAE_benzos_zinc_k_dims_BENZOS_TOP_SIMILAR.pt, loading ...\n",
      "Make prediction for 1001 samples...\n"
     ]
    },
    {
     "name": "stderr",
     "output_type": "stream",
     "text": [
      "100%|██████████| 2/2 [00:00<00:00, 10.68it/s]\n"
     ]
    },
    {
     "name": "stdout",
     "output_type": "stream",
     "text": [
      "Pre-processed data found: Benzos-structures-filteres-by-similarity-to-diazepam-20211216T105015Z-001/csv_format/processed/LOWDATAREGIME_molecules_40_0.7_BENZOS_TOP_SIMILAR.pt, loading ...\n",
      "Make prediction for 352 samples...\n"
     ]
    },
    {
     "name": "stderr",
     "output_type": "stream",
     "text": [
      "100%|██████████| 1/1 [00:00<00:00, 14.22it/s]\n"
     ]
    },
    {
     "name": "stdout",
     "output_type": "stream",
     "text": [
      "Pre-processed data found: VitaminDZinc-structures-filteres-by-similarity-to-calcitriol/csv_format/processed/TRANSVAE_vdr_zinc_top_dims_VDR_TOP_SIMILAR.pt, loading ...\n",
      "Make prediction for 1001 samples...\n"
     ]
    },
    {
     "name": "stderr",
     "output_type": "stream",
     "text": [
      "100%|██████████| 2/2 [00:00<00:00,  7.99it/s]\n"
     ]
    },
    {
     "name": "stdout",
     "output_type": "stream",
     "text": [
      "Pre-processed data found: VitaminDZinc-structures-filteres-by-similarity-to-calcitriol/csv_format/processed/REINVENT_VDR_TOP_SIMILAR.pt, loading ...\n",
      "Make prediction for 1001 samples...\n"
     ]
    },
    {
     "name": "stderr",
     "output_type": "stream",
     "text": [
      "100%|██████████| 2/2 [00:00<00:00, 10.47it/s]\n"
     ]
    },
    {
     "name": "stdout",
     "output_type": "stream",
     "text": [
      "Pre-processed data found: VitaminDZinc-structures-filteres-by-similarity-to-calcitriol/csv_format/processed/LOWDATAREGIME_molecules_20_0.7_VDR_TOP_SIMILAR.pt, loading ...\n",
      "Make prediction for 745 samples...\n"
     ]
    },
    {
     "name": "stderr",
     "output_type": "stream",
     "text": [
      "100%|██████████| 2/2 [00:00<00:00,  4.42it/s]\n"
     ]
    },
    {
     "name": "stdout",
     "output_type": "stream",
     "text": [
      "Pre-processed data found: VitaminDZinc-structures-filteres-by-similarity-to-calcitriol/csv_format/processed/TRANSVAE_vdr_pubchem_top_dims_VDR_TOP_SIMILAR.pt, loading ...\n",
      "Make prediction for 1001 samples...\n"
     ]
    },
    {
     "name": "stderr",
     "output_type": "stream",
     "text": [
      "100%|██████████| 2/2 [00:00<00:00, 11.37it/s]\n"
     ]
    },
    {
     "name": "stdout",
     "output_type": "stream",
     "text": [
      "Pre-processed data found: VitaminDZinc-structures-filteres-by-similarity-to-calcitriol/csv_format/processed/LOWDATAREGIME_molecules_40_0.7_VDR_TOP_SIMILAR.pt, loading ...\n",
      "Make prediction for 611 samples...\n"
     ]
    },
    {
     "name": "stderr",
     "output_type": "stream",
     "text": [
      "100%|██████████| 2/2 [00:00<00:00, 15.38it/s]\n"
     ]
    },
    {
     "name": "stdout",
     "output_type": "stream",
     "text": [
      "Pre-processed data found: VitaminDZinc-structures-filteres-by-similarity-to-calcitriol/csv_format/processed/LOWDATAREGIME_molecules_30_0.7_VDR_TOP_SIMILAR.pt, loading ...\n",
      "Make prediction for 666 samples...\n"
     ]
    },
    {
     "name": "stderr",
     "output_type": "stream",
     "text": [
      "100%|██████████| 2/2 [00:00<00:00, 14.28it/s]\n"
     ]
    },
    {
     "name": "stdout",
     "output_type": "stream",
     "text": [
      "Pre-processed data found: VitaminDZinc-structures-filteres-by-similarity-to-calcitriol/csv_format/processed/TRANSVAE_vdr_pubchem_k_dims_VDR_TOP_SIMILAR.pt, loading ...\n",
      "Make prediction for 1001 samples...\n"
     ]
    },
    {
     "name": "stderr",
     "output_type": "stream",
     "text": [
      "100%|██████████| 2/2 [00:00<00:00,  7.61it/s]\n"
     ]
    },
    {
     "name": "stdout",
     "output_type": "stream",
     "text": [
      "Pre-processed data found: VitaminDZinc-structures-filteres-by-similarity-to-calcitriol/csv_format/processed/TRANSVAE_vdr_zinc_k_dims_VDR_TOP_SIMILAR.pt, loading ...\n",
      "Make prediction for 1001 samples...\n"
     ]
    },
    {
     "name": "stderr",
     "output_type": "stream",
     "text": [
      "100%|██████████| 2/2 [00:00<00:00, 10.64it/s]\n"
     ]
    },
    {
     "name": "stdout",
     "output_type": "stream",
     "text": [
      "Pre-processed data found: VitaminDZinc-structures-filteres-by-similarity-to-calcitriol/csv_format/processed/TRANSMOL_VDR_TOP_SIMILAR.pt, loading ...\n",
      "Make prediction for 1001 samples...\n"
     ]
    },
    {
     "name": "stderr",
     "output_type": "stream",
     "text": [
      "100%|██████████| 2/2 [00:00<00:00, 10.54it/s]\n"
     ]
    },
    {
     "name": "stdout",
     "output_type": "stream",
     "text": [
      "Pre-processed data found: VitaminDZinc-structures-filteres-by-similarity-to-calcitriol/csv_format/processed/LOWDATAREGIME_molecules_10_0.7_VDR_TOP_SIMILAR.pt, loading ...\n",
      "Make prediction for 793 samples...\n"
     ]
    },
    {
     "name": "stderr",
     "output_type": "stream",
     "text": [
      "100%|██████████| 2/2 [00:00<00:00, 12.68it/s]\n"
     ]
    },
    {
     "name": "stdout",
     "output_type": "stream",
     "text": [
      "Pre-processed data found: Benzos-structures-filteres-by-similarity-to-diazepam-20211216T105015Z-001/csv_format/processed/LOWDATAREGIME_molecules_30_0.7_BENZOS_TOP_SIMILAR.pt, loading ...\n",
      "Make prediction for 395 samples...\n"
     ]
    },
    {
     "name": "stderr",
     "output_type": "stream",
     "text": [
      "100%|██████████| 1/1 [00:00<00:00, 12.68it/s]\n"
     ]
    },
    {
     "name": "stdout",
     "output_type": "stream",
     "text": [
      "Pre-processed data found: Benzos-structures-filteres-by-similarity-to-diazepam-20211216T105015Z-001/csv_format/processed/TRANSVAE_benzos_pubchem_top_dims_BENZOS_TOP_SIMILAR.pt, loading ...\n",
      "Make prediction for 1001 samples...\n"
     ]
    },
    {
     "name": "stderr",
     "output_type": "stream",
     "text": [
      "100%|██████████| 2/2 [00:00<00:00, 10.49it/s]\n"
     ]
    },
    {
     "name": "stdout",
     "output_type": "stream",
     "text": [
      "Pre-processed data found: Benzos-structures-filteres-by-similarity-to-diazepam-20211216T105015Z-001/csv_format/processed/LOWDATAREGIME_molecules_20_0.7_BENZOS_TOP_SIMILAR.pt, loading ...\n",
      "Make prediction for 475 samples...\n"
     ]
    },
    {
     "name": "stderr",
     "output_type": "stream",
     "text": [
      "100%|██████████| 1/1 [00:00<00:00,  6.54it/s]\n"
     ]
    },
    {
     "name": "stdout",
     "output_type": "stream",
     "text": [
      "Pre-processed data found: Benzos-structures-filteres-by-similarity-to-diazepam-20211216T105015Z-001/csv_format/processed/REINVENT_BENZOS_TOP_SIMILAR.pt, loading ...\n",
      "Make prediction for 1001 samples...\n"
     ]
    },
    {
     "name": "stderr",
     "output_type": "stream",
     "text": [
      "100%|██████████| 2/2 [00:00<00:00, 10.56it/s]\n"
     ]
    },
    {
     "name": "stdout",
     "output_type": "stream",
     "text": [
      "Pre-processed data found: Benzos-structures-filteres-by-similarity-to-diazepam-20211216T105015Z-001/csv_format/processed/TRANSVAE_benzos_zinc_top_dims_BENZOS_TOP_SIMILAR.pt, loading ...\n",
      "Make prediction for 1001 samples...\n"
     ]
    },
    {
     "name": "stderr",
     "output_type": "stream",
     "text": [
      "100%|██████████| 2/2 [00:00<00:00, 10.59it/s]\n"
     ]
    },
    {
     "name": "stdout",
     "output_type": "stream",
     "text": [
      "Pre-processed data found: Benzos-structures-filteres-by-similarity-to-diazepam-20211216T105015Z-001/csv_format/processed/LOWDATAREGIME_molecules_10_0.7_BENZOS_TOP_SIMILAR.pt, loading ...\n",
      "Make prediction for 489 samples...\n"
     ]
    },
    {
     "name": "stderr",
     "output_type": "stream",
     "text": [
      "100%|██████████| 1/1 [00:00<00:00, 10.73it/s]\n"
     ]
    },
    {
     "name": "stdout",
     "output_type": "stream",
     "text": [
      "Pre-processed data found: Benzos-structures-filteres-by-similarity-to-diazepam-20211216T105015Z-001/csv_format/processed/TRANSVAE_benzos_pubchem_k_dims_BENZOS_TOP_SIMILAR.pt, loading ...\n",
      "Make prediction for 1001 samples...\n"
     ]
    },
    {
     "name": "stderr",
     "output_type": "stream",
     "text": [
      "100%|██████████| 2/2 [00:00<00:00, 10.40it/s]\n"
     ]
    },
    {
     "name": "stdout",
     "output_type": "stream",
     "text": [
      "Pre-processed data found: Benzos-structures-filteres-by-similarity-to-diazepam-20211216T105015Z-001/csv_format/processed/TRANSMOL_BENZOS_TOP_SIMILAR.pt, loading ...\n",
      "Make prediction for 1001 samples...\n"
     ]
    },
    {
     "name": "stderr",
     "output_type": "stream",
     "text": [
      "100%|██████████| 2/2 [00:00<00:00, 10.48it/s]\n"
     ]
    },
    {
     "name": "stdout",
     "output_type": "stream",
     "text": [
      "Pre-processed data found: Benzos-structures-filteres-by-similarity-to-diazepam-20211216T105015Z-001/csv_format/processed/TRANSVAE_benzos_zinc_k_dims_BENZOS_TOP_SIMILAR.pt, loading ...\n",
      "Make prediction for 1001 samples...\n"
     ]
    },
    {
     "name": "stderr",
     "output_type": "stream",
     "text": [
      "100%|██████████| 2/2 [00:00<00:00,  7.87it/s]\n"
     ]
    },
    {
     "name": "stdout",
     "output_type": "stream",
     "text": [
      "Pre-processed data found: Benzos-structures-filteres-by-similarity-to-diazepam-20211216T105015Z-001/csv_format/processed/LOWDATAREGIME_molecules_40_0.7_BENZOS_TOP_SIMILAR.pt, loading ...\n",
      "Make prediction for 352 samples...\n"
     ]
    },
    {
     "name": "stderr",
     "output_type": "stream",
     "text": [
      "100%|██████████| 1/1 [00:00<00:00, 13.82it/s]\n"
     ]
    },
    {
     "name": "stdout",
     "output_type": "stream",
     "text": [
      "Pre-processed data found: VitaminDZinc-structures-filteres-by-similarity-to-calcitriol/csv_format/processed/TRANSVAE_vdr_zinc_top_dims_VDR_TOP_SIMILAR.pt, loading ...\n",
      "Make prediction for 1001 samples...\n"
     ]
    },
    {
     "name": "stderr",
     "output_type": "stream",
     "text": [
      "100%|██████████| 2/2 [00:00<00:00, 10.39it/s]\n"
     ]
    },
    {
     "name": "stdout",
     "output_type": "stream",
     "text": [
      "Pre-processed data found: VitaminDZinc-structures-filteres-by-similarity-to-calcitriol/csv_format/processed/REINVENT_VDR_TOP_SIMILAR.pt, loading ...\n",
      "Make prediction for 1001 samples...\n"
     ]
    },
    {
     "name": "stderr",
     "output_type": "stream",
     "text": [
      "100%|██████████| 2/2 [00:00<00:00, 10.19it/s]\n"
     ]
    },
    {
     "name": "stdout",
     "output_type": "stream",
     "text": [
      "Pre-processed data found: VitaminDZinc-structures-filteres-by-similarity-to-calcitriol/csv_format/processed/LOWDATAREGIME_molecules_20_0.7_VDR_TOP_SIMILAR.pt, loading ...\n",
      "Make prediction for 745 samples...\n"
     ]
    },
    {
     "name": "stderr",
     "output_type": "stream",
     "text": [
      "100%|██████████| 2/2 [00:00<00:00,  4.41it/s]\n"
     ]
    },
    {
     "name": "stdout",
     "output_type": "stream",
     "text": [
      "Pre-processed data found: VitaminDZinc-structures-filteres-by-similarity-to-calcitriol/csv_format/processed/TRANSVAE_vdr_pubchem_top_dims_VDR_TOP_SIMILAR.pt, loading ...\n",
      "Make prediction for 1001 samples...\n"
     ]
    },
    {
     "name": "stderr",
     "output_type": "stream",
     "text": [
      "100%|██████████| 2/2 [00:00<00:00, 11.69it/s]\n"
     ]
    },
    {
     "name": "stdout",
     "output_type": "stream",
     "text": [
      "Pre-processed data found: VitaminDZinc-structures-filteres-by-similarity-to-calcitriol/csv_format/processed/LOWDATAREGIME_molecules_40_0.7_VDR_TOP_SIMILAR.pt, loading ...\n",
      "Make prediction for 611 samples...\n"
     ]
    },
    {
     "name": "stderr",
     "output_type": "stream",
     "text": [
      "100%|██████████| 2/2 [00:00<00:00, 10.23it/s]\n"
     ]
    },
    {
     "name": "stdout",
     "output_type": "stream",
     "text": [
      "Pre-processed data found: VitaminDZinc-structures-filteres-by-similarity-to-calcitriol/csv_format/processed/LOWDATAREGIME_molecules_30_0.7_VDR_TOP_SIMILAR.pt, loading ...\n",
      "Make prediction for 666 samples...\n"
     ]
    },
    {
     "name": "stderr",
     "output_type": "stream",
     "text": [
      "100%|██████████| 2/2 [00:00<00:00, 14.14it/s]\n"
     ]
    },
    {
     "name": "stdout",
     "output_type": "stream",
     "text": [
      "Pre-processed data found: VitaminDZinc-structures-filteres-by-similarity-to-calcitriol/csv_format/processed/TRANSVAE_vdr_pubchem_k_dims_VDR_TOP_SIMILAR.pt, loading ...\n",
      "Make prediction for 1001 samples...\n"
     ]
    },
    {
     "name": "stderr",
     "output_type": "stream",
     "text": [
      "100%|██████████| 2/2 [00:00<00:00, 10.36it/s]\n"
     ]
    },
    {
     "name": "stdout",
     "output_type": "stream",
     "text": [
      "Pre-processed data found: VitaminDZinc-structures-filteres-by-similarity-to-calcitriol/csv_format/processed/TRANSVAE_vdr_zinc_k_dims_VDR_TOP_SIMILAR.pt, loading ...\n",
      "Make prediction for 1001 samples...\n"
     ]
    },
    {
     "name": "stderr",
     "output_type": "stream",
     "text": [
      "100%|██████████| 2/2 [00:00<00:00, 10.55it/s]\n"
     ]
    },
    {
     "name": "stdout",
     "output_type": "stream",
     "text": [
      "Pre-processed data found: VitaminDZinc-structures-filteres-by-similarity-to-calcitriol/csv_format/processed/TRANSMOL_VDR_TOP_SIMILAR.pt, loading ...\n",
      "Make prediction for 1001 samples...\n"
     ]
    },
    {
     "name": "stderr",
     "output_type": "stream",
     "text": [
      "100%|██████████| 2/2 [00:00<00:00, 10.39it/s]\n"
     ]
    },
    {
     "name": "stdout",
     "output_type": "stream",
     "text": [
      "Pre-processed data found: VitaminDZinc-structures-filteres-by-similarity-to-calcitriol/csv_format/processed/LOWDATAREGIME_molecules_10_0.7_VDR_TOP_SIMILAR.pt, loading ...\n",
      "Make prediction for 793 samples...\n"
     ]
    },
    {
     "name": "stderr",
     "output_type": "stream",
     "text": [
      "100%|██████████| 2/2 [00:00<00:00, 12.54it/s]\n"
     ]
    },
    {
     "name": "stdout",
     "output_type": "stream",
     "text": [
      "Pre-processed data found: Benzos-structures-filteres-by-similarity-to-diazepam-20211216T105015Z-001/csv_format/processed/LOWDATAREGIME_molecules_30_0.7_BENZOS_TOP_SIMILAR.pt, loading ...\n",
      "Make prediction for 395 samples...\n"
     ]
    },
    {
     "name": "stderr",
     "output_type": "stream",
     "text": [
      "100%|██████████| 1/1 [00:00<00:00, 10.60it/s]\n"
     ]
    },
    {
     "name": "stdout",
     "output_type": "stream",
     "text": [
      "Pre-processed data found: Benzos-structures-filteres-by-similarity-to-diazepam-20211216T105015Z-001/csv_format/processed/TRANSVAE_benzos_pubchem_top_dims_BENZOS_TOP_SIMILAR.pt, loading ...\n",
      "Make prediction for 1001 samples...\n"
     ]
    },
    {
     "name": "stderr",
     "output_type": "stream",
     "text": [
      "100%|██████████| 2/2 [00:00<00:00,  7.01it/s]\n"
     ]
    },
    {
     "name": "stdout",
     "output_type": "stream",
     "text": [
      "Pre-processed data found: Benzos-structures-filteres-by-similarity-to-diazepam-20211216T105015Z-001/csv_format/processed/LOWDATAREGIME_molecules_20_0.7_BENZOS_TOP_SIMILAR.pt, loading ...\n",
      "Make prediction for 475 samples...\n"
     ]
    },
    {
     "name": "stderr",
     "output_type": "stream",
     "text": [
      "100%|██████████| 1/1 [00:00<00:00,  9.42it/s]\n"
     ]
    },
    {
     "name": "stdout",
     "output_type": "stream",
     "text": [
      "Pre-processed data found: Benzos-structures-filteres-by-similarity-to-diazepam-20211216T105015Z-001/csv_format/processed/REINVENT_BENZOS_TOP_SIMILAR.pt, loading ...\n",
      "Make prediction for 1001 samples...\n"
     ]
    },
    {
     "name": "stderr",
     "output_type": "stream",
     "text": [
      "100%|██████████| 2/2 [00:00<00:00,  8.63it/s]\n"
     ]
    },
    {
     "name": "stdout",
     "output_type": "stream",
     "text": [
      "Pre-processed data found: Benzos-structures-filteres-by-similarity-to-diazepam-20211216T105015Z-001/csv_format/processed/TRANSVAE_benzos_zinc_top_dims_BENZOS_TOP_SIMILAR.pt, loading ...\n",
      "Make prediction for 1001 samples...\n"
     ]
    },
    {
     "name": "stderr",
     "output_type": "stream",
     "text": [
      "100%|██████████| 2/2 [00:00<00:00,  8.73it/s]\n"
     ]
    },
    {
     "name": "stdout",
     "output_type": "stream",
     "text": [
      "Pre-processed data found: Benzos-structures-filteres-by-similarity-to-diazepam-20211216T105015Z-001/csv_format/processed/LOWDATAREGIME_molecules_10_0.7_BENZOS_TOP_SIMILAR.pt, loading ...\n",
      "Make prediction for 489 samples...\n"
     ]
    },
    {
     "name": "stderr",
     "output_type": "stream",
     "text": [
      "100%|██████████| 1/1 [00:00<00:00,  9.26it/s]\n"
     ]
    },
    {
     "name": "stdout",
     "output_type": "stream",
     "text": [
      "Pre-processed data found: Benzos-structures-filteres-by-similarity-to-diazepam-20211216T105015Z-001/csv_format/processed/TRANSVAE_benzos_pubchem_k_dims_BENZOS_TOP_SIMILAR.pt, loading ...\n",
      "Make prediction for 1001 samples...\n"
     ]
    },
    {
     "name": "stderr",
     "output_type": "stream",
     "text": [
      "100%|██████████| 2/2 [00:00<00:00,  9.08it/s]\n"
     ]
    },
    {
     "name": "stdout",
     "output_type": "stream",
     "text": [
      "Pre-processed data found: Benzos-structures-filteres-by-similarity-to-diazepam-20211216T105015Z-001/csv_format/processed/TRANSMOL_BENZOS_TOP_SIMILAR.pt, loading ...\n",
      "Make prediction for 1001 samples...\n"
     ]
    },
    {
     "name": "stderr",
     "output_type": "stream",
     "text": [
      "100%|██████████| 2/2 [00:00<00:00,  6.70it/s]\n"
     ]
    },
    {
     "name": "stdout",
     "output_type": "stream",
     "text": [
      "Pre-processed data found: Benzos-structures-filteres-by-similarity-to-diazepam-20211216T105015Z-001/csv_format/processed/TRANSVAE_benzos_zinc_k_dims_BENZOS_TOP_SIMILAR.pt, loading ...\n",
      "Make prediction for 1001 samples...\n"
     ]
    },
    {
     "name": "stderr",
     "output_type": "stream",
     "text": [
      "100%|██████████| 2/2 [00:00<00:00,  9.19it/s]\n"
     ]
    },
    {
     "name": "stdout",
     "output_type": "stream",
     "text": [
      "Pre-processed data found: Benzos-structures-filteres-by-similarity-to-diazepam-20211216T105015Z-001/csv_format/processed/LOWDATAREGIME_molecules_40_0.7_BENZOS_TOP_SIMILAR.pt, loading ...\n",
      "Make prediction for 352 samples...\n"
     ]
    },
    {
     "name": "stderr",
     "output_type": "stream",
     "text": [
      "100%|██████████| 1/1 [00:00<00:00, 11.75it/s]\n"
     ]
    },
    {
     "name": "stdout",
     "output_type": "stream",
     "text": [
      "Pre-processed data found: VitaminDZinc-structures-filteres-by-similarity-to-calcitriol/csv_format/processed/TRANSVAE_vdr_zinc_top_dims_VDR_TOP_SIMILAR.pt, loading ...\n",
      "Make prediction for 1001 samples...\n"
     ]
    },
    {
     "name": "stderr",
     "output_type": "stream",
     "text": [
      "100%|██████████| 2/2 [00:00<00:00,  8.54it/s]\n"
     ]
    },
    {
     "name": "stdout",
     "output_type": "stream",
     "text": [
      "Pre-processed data found: VitaminDZinc-structures-filteres-by-similarity-to-calcitriol/csv_format/processed/REINVENT_VDR_TOP_SIMILAR.pt, loading ...\n",
      "Make prediction for 1001 samples...\n"
     ]
    },
    {
     "name": "stderr",
     "output_type": "stream",
     "text": [
      "100%|██████████| 2/2 [00:00<00:00,  8.61it/s]\n"
     ]
    },
    {
     "name": "stdout",
     "output_type": "stream",
     "text": [
      "Pre-processed data found: VitaminDZinc-structures-filteres-by-similarity-to-calcitriol/csv_format/processed/LOWDATAREGIME_molecules_20_0.7_VDR_TOP_SIMILAR.pt, loading ...\n",
      "Make prediction for 745 samples...\n"
     ]
    },
    {
     "name": "stderr",
     "output_type": "stream",
     "text": [
      "100%|██████████| 2/2 [00:00<00:00,  4.12it/s]\n"
     ]
    },
    {
     "name": "stdout",
     "output_type": "stream",
     "text": [
      "Pre-processed data found: VitaminDZinc-structures-filteres-by-similarity-to-calcitriol/csv_format/processed/TRANSVAE_vdr_pubchem_top_dims_VDR_TOP_SIMILAR.pt, loading ...\n",
      "Make prediction for 1001 samples...\n"
     ]
    },
    {
     "name": "stderr",
     "output_type": "stream",
     "text": [
      "100%|██████████| 2/2 [00:00<00:00,  8.05it/s]\n"
     ]
    },
    {
     "name": "stdout",
     "output_type": "stream",
     "text": [
      "Pre-processed data found: VitaminDZinc-structures-filteres-by-similarity-to-calcitriol/csv_format/processed/LOWDATAREGIME_molecules_40_0.7_VDR_TOP_SIMILAR.pt, loading ...\n",
      "Make prediction for 611 samples...\n"
     ]
    },
    {
     "name": "stderr",
     "output_type": "stream",
     "text": [
      "100%|██████████| 2/2 [00:00<00:00, 12.22it/s]\n"
     ]
    },
    {
     "name": "stdout",
     "output_type": "stream",
     "text": [
      "Pre-processed data found: VitaminDZinc-structures-filteres-by-similarity-to-calcitriol/csv_format/processed/LOWDATAREGIME_molecules_30_0.7_VDR_TOP_SIMILAR.pt, loading ...\n",
      "Make prediction for 666 samples...\n"
     ]
    },
    {
     "name": "stderr",
     "output_type": "stream",
     "text": [
      "100%|██████████| 2/2 [00:00<00:00, 11.61it/s]\n"
     ]
    },
    {
     "name": "stdout",
     "output_type": "stream",
     "text": [
      "Pre-processed data found: VitaminDZinc-structures-filteres-by-similarity-to-calcitriol/csv_format/processed/TRANSVAE_vdr_pubchem_k_dims_VDR_TOP_SIMILAR.pt, loading ...\n",
      "Make prediction for 1001 samples...\n"
     ]
    },
    {
     "name": "stderr",
     "output_type": "stream",
     "text": [
      "100%|██████████| 2/2 [00:00<00:00,  8.29it/s]\n"
     ]
    },
    {
     "name": "stdout",
     "output_type": "stream",
     "text": [
      "Pre-processed data found: VitaminDZinc-structures-filteres-by-similarity-to-calcitriol/csv_format/processed/TRANSVAE_vdr_zinc_k_dims_VDR_TOP_SIMILAR.pt, loading ...\n",
      "Make prediction for 1001 samples...\n"
     ]
    },
    {
     "name": "stderr",
     "output_type": "stream",
     "text": [
      "100%|██████████| 2/2 [00:00<00:00,  9.27it/s]\n"
     ]
    },
    {
     "name": "stdout",
     "output_type": "stream",
     "text": [
      "Pre-processed data found: VitaminDZinc-structures-filteres-by-similarity-to-calcitriol/csv_format/processed/TRANSMOL_VDR_TOP_SIMILAR.pt, loading ...\n",
      "Make prediction for 1001 samples...\n"
     ]
    },
    {
     "name": "stderr",
     "output_type": "stream",
     "text": [
      "100%|██████████| 2/2 [00:00<00:00,  6.72it/s]\n"
     ]
    },
    {
     "name": "stdout",
     "output_type": "stream",
     "text": [
      "Pre-processed data found: VitaminDZinc-structures-filteres-by-similarity-to-calcitriol/csv_format/processed/LOWDATAREGIME_molecules_10_0.7_VDR_TOP_SIMILAR.pt, loading ...\n",
      "Make prediction for 793 samples...\n"
     ]
    },
    {
     "name": "stderr",
     "output_type": "stream",
     "text": [
      "100%|██████████| 2/2 [00:00<00:00, 10.64it/s]\n"
     ]
    },
    {
     "name": "stdout",
     "output_type": "stream",
     "text": [
      "Pre-processed data found: Benzos-structures-filteres-by-similarity-to-diazepam-20211216T105015Z-001/csv_format/processed/LOWDATAREGIME_molecules_30_0.7_BENZOS_TOP_SIMILAR.pt, loading ...\n",
      "Make prediction for 395 samples...\n"
     ]
    },
    {
     "name": "stderr",
     "output_type": "stream",
     "text": [
      "100%|██████████| 1/1 [00:00<00:00,  9.97it/s]\n"
     ]
    },
    {
     "name": "stdout",
     "output_type": "stream",
     "text": [
      "Pre-processed data found: Benzos-structures-filteres-by-similarity-to-diazepam-20211216T105015Z-001/csv_format/processed/TRANSVAE_benzos_pubchem_top_dims_BENZOS_TOP_SIMILAR.pt, loading ...\n",
      "Make prediction for 1001 samples...\n"
     ]
    },
    {
     "name": "stderr",
     "output_type": "stream",
     "text": [
      "100%|██████████| 2/2 [00:00<00:00,  9.04it/s]\n"
     ]
    },
    {
     "name": "stdout",
     "output_type": "stream",
     "text": [
      "Pre-processed data found: Benzos-structures-filteres-by-similarity-to-diazepam-20211216T105015Z-001/csv_format/processed/LOWDATAREGIME_molecules_20_0.7_BENZOS_TOP_SIMILAR.pt, loading ...\n",
      "Make prediction for 475 samples...\n"
     ]
    },
    {
     "name": "stderr",
     "output_type": "stream",
     "text": [
      "100%|██████████| 1/1 [00:00<00:00,  9.42it/s]\n"
     ]
    },
    {
     "name": "stdout",
     "output_type": "stream",
     "text": [
      "Pre-processed data found: Benzos-structures-filteres-by-similarity-to-diazepam-20211216T105015Z-001/csv_format/processed/REINVENT_BENZOS_TOP_SIMILAR.pt, loading ...\n",
      "Make prediction for 1001 samples...\n"
     ]
    },
    {
     "name": "stderr",
     "output_type": "stream",
     "text": [
      "100%|██████████| 2/2 [00:00<00:00,  8.72it/s]\n"
     ]
    },
    {
     "name": "stdout",
     "output_type": "stream",
     "text": [
      "Pre-processed data found: Benzos-structures-filteres-by-similarity-to-diazepam-20211216T105015Z-001/csv_format/processed/TRANSVAE_benzos_zinc_top_dims_BENZOS_TOP_SIMILAR.pt, loading ...\n",
      "Make prediction for 1001 samples...\n"
     ]
    },
    {
     "name": "stderr",
     "output_type": "stream",
     "text": [
      "100%|██████████| 2/2 [00:00<00:00,  8.87it/s]\n"
     ]
    },
    {
     "name": "stdout",
     "output_type": "stream",
     "text": [
      "Pre-processed data found: Benzos-structures-filteres-by-similarity-to-diazepam-20211216T105015Z-001/csv_format/processed/LOWDATAREGIME_molecules_10_0.7_BENZOS_TOP_SIMILAR.pt, loading ...\n",
      "Make prediction for 489 samples...\n"
     ]
    },
    {
     "name": "stderr",
     "output_type": "stream",
     "text": [
      "100%|██████████| 1/1 [00:00<00:00,  5.57it/s]\n"
     ]
    },
    {
     "name": "stdout",
     "output_type": "stream",
     "text": [
      "Pre-processed data found: Benzos-structures-filteres-by-similarity-to-diazepam-20211216T105015Z-001/csv_format/processed/TRANSVAE_benzos_pubchem_k_dims_BENZOS_TOP_SIMILAR.pt, loading ...\n",
      "Make prediction for 1001 samples...\n"
     ]
    },
    {
     "name": "stderr",
     "output_type": "stream",
     "text": [
      "100%|██████████| 2/2 [00:00<00:00,  9.06it/s]\n"
     ]
    },
    {
     "name": "stdout",
     "output_type": "stream",
     "text": [
      "Pre-processed data found: Benzos-structures-filteres-by-similarity-to-diazepam-20211216T105015Z-001/csv_format/processed/TRANSMOL_BENZOS_TOP_SIMILAR.pt, loading ...\n",
      "Make prediction for 1001 samples...\n"
     ]
    },
    {
     "name": "stderr",
     "output_type": "stream",
     "text": [
      "100%|██████████| 2/2 [00:00<00:00,  9.13it/s]\n"
     ]
    },
    {
     "name": "stdout",
     "output_type": "stream",
     "text": [
      "Pre-processed data found: Benzos-structures-filteres-by-similarity-to-diazepam-20211216T105015Z-001/csv_format/processed/TRANSVAE_benzos_zinc_k_dims_BENZOS_TOP_SIMILAR.pt, loading ...\n",
      "Make prediction for 1001 samples...\n"
     ]
    },
    {
     "name": "stderr",
     "output_type": "stream",
     "text": [
      "100%|██████████| 2/2 [00:00<00:00,  9.06it/s]\n"
     ]
    },
    {
     "name": "stdout",
     "output_type": "stream",
     "text": [
      "Pre-processed data found: Benzos-structures-filteres-by-similarity-to-diazepam-20211216T105015Z-001/csv_format/processed/LOWDATAREGIME_molecules_40_0.7_BENZOS_TOP_SIMILAR.pt, loading ...\n",
      "Make prediction for 352 samples...\n"
     ]
    },
    {
     "name": "stderr",
     "output_type": "stream",
     "text": [
      "100%|██████████| 1/1 [00:00<00:00, 11.66it/s]\n"
     ]
    },
    {
     "name": "stdout",
     "output_type": "stream",
     "text": [
      "Pre-processed data found: VitaminDZinc-structures-filteres-by-similarity-to-calcitriol/csv_format/processed/TRANSVAE_vdr_zinc_top_dims_VDR_TOP_SIMILAR.pt, loading ...\n",
      "Make prediction for 1001 samples...\n"
     ]
    },
    {
     "name": "stderr",
     "output_type": "stream",
     "text": [
      "100%|██████████| 2/2 [00:00<00:00, 10.29it/s]\n"
     ]
    },
    {
     "name": "stdout",
     "output_type": "stream",
     "text": [
      "Pre-processed data found: VitaminDZinc-structures-filteres-by-similarity-to-calcitriol/csv_format/processed/REINVENT_VDR_TOP_SIMILAR.pt, loading ...\n",
      "Make prediction for 1001 samples...\n"
     ]
    },
    {
     "name": "stderr",
     "output_type": "stream",
     "text": [
      "100%|██████████| 2/2 [00:00<00:00,  7.02it/s]\n"
     ]
    },
    {
     "name": "stdout",
     "output_type": "stream",
     "text": [
      "Pre-processed data found: VitaminDZinc-structures-filteres-by-similarity-to-calcitriol/csv_format/processed/LOWDATAREGIME_molecules_20_0.7_VDR_TOP_SIMILAR.pt, loading ...\n",
      "Make prediction for 745 samples...\n"
     ]
    },
    {
     "name": "stderr",
     "output_type": "stream",
     "text": [
      "100%|██████████| 2/2 [00:00<00:00,  4.15it/s]\n"
     ]
    },
    {
     "name": "stdout",
     "output_type": "stream",
     "text": [
      "Pre-processed data found: VitaminDZinc-structures-filteres-by-similarity-to-calcitriol/csv_format/processed/TRANSVAE_vdr_pubchem_top_dims_VDR_TOP_SIMILAR.pt, loading ...\n",
      "Make prediction for 1001 samples...\n"
     ]
    },
    {
     "name": "stderr",
     "output_type": "stream",
     "text": [
      "100%|██████████| 2/2 [00:00<00:00,  9.88it/s]\n"
     ]
    },
    {
     "name": "stdout",
     "output_type": "stream",
     "text": [
      "Pre-processed data found: VitaminDZinc-structures-filteres-by-similarity-to-calcitriol/csv_format/processed/LOWDATAREGIME_molecules_40_0.7_VDR_TOP_SIMILAR.pt, loading ...\n",
      "Make prediction for 611 samples...\n"
     ]
    },
    {
     "name": "stderr",
     "output_type": "stream",
     "text": [
      "100%|██████████| 2/2 [00:00<00:00, 15.50it/s]\n"
     ]
    },
    {
     "name": "stdout",
     "output_type": "stream",
     "text": [
      "Pre-processed data found: VitaminDZinc-structures-filteres-by-similarity-to-calcitriol/csv_format/processed/LOWDATAREGIME_molecules_30_0.7_VDR_TOP_SIMILAR.pt, loading ...\n",
      "Make prediction for 666 samples...\n"
     ]
    },
    {
     "name": "stderr",
     "output_type": "stream",
     "text": [
      "100%|██████████| 2/2 [00:00<00:00, 11.62it/s]\n"
     ]
    },
    {
     "name": "stdout",
     "output_type": "stream",
     "text": [
      "Pre-processed data found: VitaminDZinc-structures-filteres-by-similarity-to-calcitriol/csv_format/processed/TRANSVAE_vdr_pubchem_k_dims_VDR_TOP_SIMILAR.pt, loading ...\n",
      "Make prediction for 1001 samples...\n"
     ]
    },
    {
     "name": "stderr",
     "output_type": "stream",
     "text": [
      "100%|██████████| 2/2 [00:00<00:00,  9.01it/s]\n"
     ]
    },
    {
     "name": "stdout",
     "output_type": "stream",
     "text": [
      "Pre-processed data found: VitaminDZinc-structures-filteres-by-similarity-to-calcitriol/csv_format/processed/TRANSVAE_vdr_zinc_k_dims_VDR_TOP_SIMILAR.pt, loading ...\n",
      "Make prediction for 1001 samples...\n"
     ]
    },
    {
     "name": "stderr",
     "output_type": "stream",
     "text": [
      "100%|██████████| 2/2 [00:00<00:00,  7.03it/s]\n"
     ]
    },
    {
     "name": "stdout",
     "output_type": "stream",
     "text": [
      "Pre-processed data found: VitaminDZinc-structures-filteres-by-similarity-to-calcitriol/csv_format/processed/TRANSMOL_VDR_TOP_SIMILAR.pt, loading ...\n",
      "Make prediction for 1001 samples...\n"
     ]
    },
    {
     "name": "stderr",
     "output_type": "stream",
     "text": [
      "100%|██████████| 2/2 [00:00<00:00,  9.13it/s]\n"
     ]
    },
    {
     "name": "stdout",
     "output_type": "stream",
     "text": [
      "Pre-processed data found: VitaminDZinc-structures-filteres-by-similarity-to-calcitriol/csv_format/processed/LOWDATAREGIME_molecules_10_0.7_VDR_TOP_SIMILAR.pt, loading ...\n",
      "Make prediction for 793 samples...\n"
     ]
    },
    {
     "name": "stderr",
     "output_type": "stream",
     "text": [
      "100%|██████████| 2/2 [00:00<00:00, 10.78it/s]\n"
     ]
    },
    {
     "name": "stdout",
     "output_type": "stream",
     "text": [
      "Pre-processed data found: Benzos-structures-filteres-by-similarity-to-diazepam-20211216T105015Z-001/csv_format/processed/LOWDATAREGIME_molecules_30_0.7_BENZOS_TOP_SIMILAR.pt, loading ...\n",
      "Make prediction for 395 samples...\n"
     ]
    },
    {
     "name": "stderr",
     "output_type": "stream",
     "text": [
      "100%|██████████| 1/1 [00:00<00:00, 10.75it/s]\n"
     ]
    },
    {
     "name": "stdout",
     "output_type": "stream",
     "text": [
      "Pre-processed data found: Benzos-structures-filteres-by-similarity-to-diazepam-20211216T105015Z-001/csv_format/processed/TRANSVAE_benzos_pubchem_top_dims_BENZOS_TOP_SIMILAR.pt, loading ...\n",
      "Make prediction for 1001 samples...\n"
     ]
    },
    {
     "name": "stderr",
     "output_type": "stream",
     "text": [
      "100%|██████████| 2/2 [00:00<00:00,  8.82it/s]\n"
     ]
    },
    {
     "name": "stdout",
     "output_type": "stream",
     "text": [
      "Pre-processed data found: Benzos-structures-filteres-by-similarity-to-diazepam-20211216T105015Z-001/csv_format/processed/LOWDATAREGIME_molecules_20_0.7_BENZOS_TOP_SIMILAR.pt, loading ...\n",
      "Make prediction for 475 samples...\n"
     ]
    },
    {
     "name": "stderr",
     "output_type": "stream",
     "text": [
      "100%|██████████| 1/1 [00:00<00:00,  9.32it/s]\n"
     ]
    },
    {
     "name": "stdout",
     "output_type": "stream",
     "text": [
      "Pre-processed data found: Benzos-structures-filteres-by-similarity-to-diazepam-20211216T105015Z-001/csv_format/processed/REINVENT_BENZOS_TOP_SIMILAR.pt, loading ...\n",
      "Make prediction for 1001 samples...\n"
     ]
    },
    {
     "name": "stderr",
     "output_type": "stream",
     "text": [
      "100%|██████████| 2/2 [00:00<00:00,  9.05it/s]\n"
     ]
    },
    {
     "name": "stdout",
     "output_type": "stream",
     "text": [
      "Pre-processed data found: Benzos-structures-filteres-by-similarity-to-diazepam-20211216T105015Z-001/csv_format/processed/TRANSVAE_benzos_zinc_top_dims_BENZOS_TOP_SIMILAR.pt, loading ...\n",
      "Make prediction for 1001 samples...\n"
     ]
    },
    {
     "name": "stderr",
     "output_type": "stream",
     "text": [
      "100%|██████████| 2/2 [00:00<00:00,  7.11it/s]\n"
     ]
    },
    {
     "name": "stdout",
     "output_type": "stream",
     "text": [
      "Pre-processed data found: Benzos-structures-filteres-by-similarity-to-diazepam-20211216T105015Z-001/csv_format/processed/LOWDATAREGIME_molecules_10_0.7_BENZOS_TOP_SIMILAR.pt, loading ...\n",
      "Make prediction for 489 samples...\n"
     ]
    },
    {
     "name": "stderr",
     "output_type": "stream",
     "text": [
      "100%|██████████| 1/1 [00:00<00:00,  9.29it/s]\n"
     ]
    },
    {
     "name": "stdout",
     "output_type": "stream",
     "text": [
      "Pre-processed data found: Benzos-structures-filteres-by-similarity-to-diazepam-20211216T105015Z-001/csv_format/processed/TRANSVAE_benzos_pubchem_k_dims_BENZOS_TOP_SIMILAR.pt, loading ...\n",
      "Make prediction for 1001 samples...\n"
     ]
    },
    {
     "name": "stderr",
     "output_type": "stream",
     "text": [
      "100%|██████████| 2/2 [00:00<00:00,  9.04it/s]\n"
     ]
    },
    {
     "name": "stdout",
     "output_type": "stream",
     "text": [
      "Pre-processed data found: Benzos-structures-filteres-by-similarity-to-diazepam-20211216T105015Z-001/csv_format/processed/TRANSMOL_BENZOS_TOP_SIMILAR.pt, loading ...\n",
      "Make prediction for 1001 samples...\n"
     ]
    },
    {
     "name": "stderr",
     "output_type": "stream",
     "text": [
      "100%|██████████| 2/2 [00:00<00:00,  9.11it/s]\n"
     ]
    },
    {
     "name": "stdout",
     "output_type": "stream",
     "text": [
      "Pre-processed data found: Benzos-structures-filteres-by-similarity-to-diazepam-20211216T105015Z-001/csv_format/processed/TRANSVAE_benzos_zinc_k_dims_BENZOS_TOP_SIMILAR.pt, loading ...\n",
      "Make prediction for 1001 samples...\n"
     ]
    },
    {
     "name": "stderr",
     "output_type": "stream",
     "text": [
      "100%|██████████| 2/2 [00:00<00:00,  9.26it/s]\n"
     ]
    },
    {
     "name": "stdout",
     "output_type": "stream",
     "text": [
      "Pre-processed data found: Benzos-structures-filteres-by-similarity-to-diazepam-20211216T105015Z-001/csv_format/processed/LOWDATAREGIME_molecules_40_0.7_BENZOS_TOP_SIMILAR.pt, loading ...\n",
      "Make prediction for 352 samples...\n"
     ]
    },
    {
     "name": "stderr",
     "output_type": "stream",
     "text": [
      "100%|██████████| 1/1 [00:00<00:00, 10.10it/s]\n"
     ]
    },
    {
     "name": "stdout",
     "output_type": "stream",
     "text": [
      "Pre-processed data found: VitaminDZinc-structures-filteres-by-similarity-to-calcitriol/csv_format/processed/TRANSVAE_vdr_zinc_top_dims_VDR_TOP_SIMILAR.pt, loading ...\n",
      "Make prediction for 1001 samples...\n"
     ]
    },
    {
     "name": "stderr",
     "output_type": "stream",
     "text": [
      "100%|██████████| 2/2 [00:00<00:00,  6.86it/s]\n"
     ]
    },
    {
     "name": "stdout",
     "output_type": "stream",
     "text": [
      "Pre-processed data found: VitaminDZinc-structures-filteres-by-similarity-to-calcitriol/csv_format/processed/REINVENT_VDR_TOP_SIMILAR.pt, loading ...\n",
      "Make prediction for 1001 samples...\n"
     ]
    },
    {
     "name": "stderr",
     "output_type": "stream",
     "text": [
      "100%|██████████| 2/2 [00:00<00:00,  9.02it/s]\n"
     ]
    },
    {
     "name": "stdout",
     "output_type": "stream",
     "text": [
      "Pre-processed data found: VitaminDZinc-structures-filteres-by-similarity-to-calcitriol/csv_format/processed/LOWDATAREGIME_molecules_20_0.7_VDR_TOP_SIMILAR.pt, loading ...\n",
      "Make prediction for 745 samples...\n"
     ]
    },
    {
     "name": "stderr",
     "output_type": "stream",
     "text": [
      "100%|██████████| 2/2 [00:00<00:00,  4.05it/s]\n"
     ]
    },
    {
     "name": "stdout",
     "output_type": "stream",
     "text": [
      "Pre-processed data found: VitaminDZinc-structures-filteres-by-similarity-to-calcitriol/csv_format/processed/TRANSVAE_vdr_pubchem_top_dims_VDR_TOP_SIMILAR.pt, loading ...\n",
      "Make prediction for 1001 samples...\n"
     ]
    },
    {
     "name": "stderr",
     "output_type": "stream",
     "text": [
      "100%|██████████| 2/2 [00:00<00:00,  9.98it/s]\n"
     ]
    },
    {
     "name": "stdout",
     "output_type": "stream",
     "text": [
      "Pre-processed data found: VitaminDZinc-structures-filteres-by-similarity-to-calcitriol/csv_format/processed/LOWDATAREGIME_molecules_40_0.7_VDR_TOP_SIMILAR.pt, loading ...\n",
      "Make prediction for 611 samples...\n"
     ]
    },
    {
     "name": "stderr",
     "output_type": "stream",
     "text": [
      "100%|██████████| 2/2 [00:00<00:00, 12.17it/s]\n"
     ]
    },
    {
     "name": "stdout",
     "output_type": "stream",
     "text": [
      "Pre-processed data found: VitaminDZinc-structures-filteres-by-similarity-to-calcitriol/csv_format/processed/LOWDATAREGIME_molecules_30_0.7_VDR_TOP_SIMILAR.pt, loading ...\n",
      "Make prediction for 666 samples...\n"
     ]
    },
    {
     "name": "stderr",
     "output_type": "stream",
     "text": [
      "100%|██████████| 2/2 [00:00<00:00, 11.46it/s]\n"
     ]
    },
    {
     "name": "stdout",
     "output_type": "stream",
     "text": [
      "Pre-processed data found: VitaminDZinc-structures-filteres-by-similarity-to-calcitriol/csv_format/processed/TRANSVAE_vdr_pubchem_k_dims_VDR_TOP_SIMILAR.pt, loading ...\n",
      "Make prediction for 1001 samples...\n"
     ]
    },
    {
     "name": "stderr",
     "output_type": "stream",
     "text": [
      "100%|██████████| 2/2 [00:00<00:00,  6.84it/s]\n"
     ]
    },
    {
     "name": "stdout",
     "output_type": "stream",
     "text": [
      "Pre-processed data found: VitaminDZinc-structures-filteres-by-similarity-to-calcitriol/csv_format/processed/TRANSVAE_vdr_zinc_k_dims_VDR_TOP_SIMILAR.pt, loading ...\n",
      "Make prediction for 1001 samples...\n"
     ]
    },
    {
     "name": "stderr",
     "output_type": "stream",
     "text": [
      "100%|██████████| 2/2 [00:00<00:00,  9.06it/s]\n"
     ]
    },
    {
     "name": "stdout",
     "output_type": "stream",
     "text": [
      "Pre-processed data found: VitaminDZinc-structures-filteres-by-similarity-to-calcitriol/csv_format/processed/TRANSMOL_VDR_TOP_SIMILAR.pt, loading ...\n",
      "Make prediction for 1001 samples...\n"
     ]
    },
    {
     "name": "stderr",
     "output_type": "stream",
     "text": [
      "100%|██████████| 2/2 [00:00<00:00,  8.92it/s]\n"
     ]
    },
    {
     "name": "stdout",
     "output_type": "stream",
     "text": [
      "Pre-processed data found: VitaminDZinc-structures-filteres-by-similarity-to-calcitriol/csv_format/processed/LOWDATAREGIME_molecules_10_0.7_VDR_TOP_SIMILAR.pt, loading ...\n",
      "Make prediction for 793 samples...\n"
     ]
    },
    {
     "name": "stderr",
     "output_type": "stream",
     "text": [
      "100%|██████████| 2/2 [00:00<00:00, 10.69it/s]\n"
     ]
    },
    {
     "name": "stdout",
     "output_type": "stream",
     "text": [
      "Pre-processed data found: Benzos-structures-filteres-by-similarity-to-diazepam-20211216T105015Z-001/csv_format/processed/LOWDATAREGIME_molecules_30_0.7_BENZOS_TOP_SIMILAR.pt, loading ...\n",
      "Make prediction for 395 samples...\n"
     ]
    },
    {
     "name": "stderr",
     "output_type": "stream",
     "text": [
      "100%|██████████| 1/1 [00:00<00:00, 10.92it/s]\n"
     ]
    },
    {
     "name": "stdout",
     "output_type": "stream",
     "text": [
      "Pre-processed data found: Benzos-structures-filteres-by-similarity-to-diazepam-20211216T105015Z-001/csv_format/processed/TRANSVAE_benzos_pubchem_top_dims_BENZOS_TOP_SIMILAR.pt, loading ...\n",
      "Make prediction for 1001 samples...\n"
     ]
    },
    {
     "name": "stderr",
     "output_type": "stream",
     "text": [
      "100%|██████████| 2/2 [00:00<00:00,  8.98it/s]\n"
     ]
    },
    {
     "name": "stdout",
     "output_type": "stream",
     "text": [
      "Pre-processed data found: Benzos-structures-filteres-by-similarity-to-diazepam-20211216T105015Z-001/csv_format/processed/LOWDATAREGIME_molecules_20_0.7_BENZOS_TOP_SIMILAR.pt, loading ...\n",
      "Make prediction for 475 samples...\n"
     ]
    },
    {
     "name": "stderr",
     "output_type": "stream",
     "text": [
      "100%|██████████| 1/1 [00:00<00:00,  9.34it/s]\n"
     ]
    },
    {
     "name": "stdout",
     "output_type": "stream",
     "text": [
      "Pre-processed data found: Benzos-structures-filteres-by-similarity-to-diazepam-20211216T105015Z-001/csv_format/processed/REINVENT_BENZOS_TOP_SIMILAR.pt, loading ...\n",
      "Make prediction for 1001 samples...\n"
     ]
    },
    {
     "name": "stderr",
     "output_type": "stream",
     "text": [
      "100%|██████████| 2/2 [00:00<00:00,  6.76it/s]\n"
     ]
    },
    {
     "name": "stdout",
     "output_type": "stream",
     "text": [
      "Pre-processed data found: Benzos-structures-filteres-by-similarity-to-diazepam-20211216T105015Z-001/csv_format/processed/TRANSVAE_benzos_zinc_top_dims_BENZOS_TOP_SIMILAR.pt, loading ...\n",
      "Make prediction for 1001 samples...\n"
     ]
    },
    {
     "name": "stderr",
     "output_type": "stream",
     "text": [
      "100%|██████████| 2/2 [00:00<00:00,  9.11it/s]\n"
     ]
    },
    {
     "name": "stdout",
     "output_type": "stream",
     "text": [
      "Pre-processed data found: Benzos-structures-filteres-by-similarity-to-diazepam-20211216T105015Z-001/csv_format/processed/LOWDATAREGIME_molecules_10_0.7_BENZOS_TOP_SIMILAR.pt, loading ...\n",
      "Make prediction for 489 samples...\n"
     ]
    },
    {
     "name": "stderr",
     "output_type": "stream",
     "text": [
      "100%|██████████| 1/1 [00:00<00:00,  9.46it/s]\n"
     ]
    },
    {
     "name": "stdout",
     "output_type": "stream",
     "text": [
      "Pre-processed data found: Benzos-structures-filteres-by-similarity-to-diazepam-20211216T105015Z-001/csv_format/processed/TRANSVAE_benzos_pubchem_k_dims_BENZOS_TOP_SIMILAR.pt, loading ...\n",
      "Make prediction for 1001 samples...\n"
     ]
    },
    {
     "name": "stderr",
     "output_type": "stream",
     "text": [
      "100%|██████████| 2/2 [00:00<00:00,  9.08it/s]\n"
     ]
    },
    {
     "name": "stdout",
     "output_type": "stream",
     "text": [
      "Pre-processed data found: Benzos-structures-filteres-by-similarity-to-diazepam-20211216T105015Z-001/csv_format/processed/TRANSMOL_BENZOS_TOP_SIMILAR.pt, loading ...\n",
      "Make prediction for 1001 samples...\n"
     ]
    },
    {
     "name": "stderr",
     "output_type": "stream",
     "text": [
      "100%|██████████| 2/2 [00:00<00:00,  9.16it/s]\n"
     ]
    },
    {
     "name": "stdout",
     "output_type": "stream",
     "text": [
      "Pre-processed data found: Benzos-structures-filteres-by-similarity-to-diazepam-20211216T105015Z-001/csv_format/processed/TRANSVAE_benzos_zinc_k_dims_BENZOS_TOP_SIMILAR.pt, loading ...\n",
      "Make prediction for 1001 samples...\n"
     ]
    },
    {
     "name": "stderr",
     "output_type": "stream",
     "text": [
      "100%|██████████| 2/2 [00:00<00:00,  7.04it/s]\n"
     ]
    },
    {
     "name": "stdout",
     "output_type": "stream",
     "text": [
      "Pre-processed data found: Benzos-structures-filteres-by-similarity-to-diazepam-20211216T105015Z-001/csv_format/processed/LOWDATAREGIME_molecules_40_0.7_BENZOS_TOP_SIMILAR.pt, loading ...\n",
      "Make prediction for 352 samples...\n"
     ]
    },
    {
     "name": "stderr",
     "output_type": "stream",
     "text": [
      "100%|██████████| 1/1 [00:00<00:00, 11.67it/s]\n"
     ]
    },
    {
     "name": "stdout",
     "output_type": "stream",
     "text": [
      "Pre-processed data found: VitaminDZinc-structures-filteres-by-similarity-to-calcitriol/csv_format/processed/TRANSVAE_vdr_zinc_top_dims_VDR_TOP_SIMILAR.pt, loading ...\n",
      "Make prediction for 1001 samples...\n"
     ]
    },
    {
     "name": "stderr",
     "output_type": "stream",
     "text": [
      "100%|██████████| 2/2 [00:00<00:00,  8.67it/s]\n"
     ]
    },
    {
     "name": "stdout",
     "output_type": "stream",
     "text": [
      "Pre-processed data found: VitaminDZinc-structures-filteres-by-similarity-to-calcitriol/csv_format/processed/REINVENT_VDR_TOP_SIMILAR.pt, loading ...\n",
      "Make prediction for 1001 samples...\n"
     ]
    },
    {
     "name": "stderr",
     "output_type": "stream",
     "text": [
      "100%|██████████| 2/2 [00:00<00:00,  8.97it/s]\n"
     ]
    },
    {
     "name": "stdout",
     "output_type": "stream",
     "text": [
      "Pre-processed data found: VitaminDZinc-structures-filteres-by-similarity-to-calcitriol/csv_format/processed/LOWDATAREGIME_molecules_20_0.7_VDR_TOP_SIMILAR.pt, loading ...\n",
      "Make prediction for 745 samples...\n"
     ]
    },
    {
     "name": "stderr",
     "output_type": "stream",
     "text": [
      "100%|██████████| 2/2 [00:00<00:00,  4.13it/s]\n"
     ]
    },
    {
     "name": "stdout",
     "output_type": "stream",
     "text": [
      "Pre-processed data found: VitaminDZinc-structures-filteres-by-similarity-to-calcitriol/csv_format/processed/TRANSVAE_vdr_pubchem_top_dims_VDR_TOP_SIMILAR.pt, loading ...\n",
      "Make prediction for 1001 samples...\n"
     ]
    },
    {
     "name": "stderr",
     "output_type": "stream",
     "text": [
      "100%|██████████| 2/2 [00:00<00:00,  9.95it/s]\n"
     ]
    },
    {
     "name": "stdout",
     "output_type": "stream",
     "text": [
      "Pre-processed data found: VitaminDZinc-structures-filteres-by-similarity-to-calcitriol/csv_format/processed/LOWDATAREGIME_molecules_40_0.7_VDR_TOP_SIMILAR.pt, loading ...\n",
      "Make prediction for 611 samples...\n"
     ]
    },
    {
     "name": "stderr",
     "output_type": "stream",
     "text": [
      "100%|██████████| 2/2 [00:00<00:00, 12.65it/s]\n"
     ]
    },
    {
     "name": "stdout",
     "output_type": "stream",
     "text": [
      "Pre-processed data found: VitaminDZinc-structures-filteres-by-similarity-to-calcitriol/csv_format/processed/LOWDATAREGIME_molecules_30_0.7_VDR_TOP_SIMILAR.pt, loading ...\n",
      "Make prediction for 666 samples...\n"
     ]
    },
    {
     "name": "stderr",
     "output_type": "stream",
     "text": [
      "100%|██████████| 2/2 [00:00<00:00,  8.72it/s]\n"
     ]
    },
    {
     "name": "stdout",
     "output_type": "stream",
     "text": [
      "Pre-processed data found: VitaminDZinc-structures-filteres-by-similarity-to-calcitriol/csv_format/processed/TRANSVAE_vdr_pubchem_k_dims_VDR_TOP_SIMILAR.pt, loading ...\n",
      "Make prediction for 1001 samples...\n"
     ]
    },
    {
     "name": "stderr",
     "output_type": "stream",
     "text": [
      "100%|██████████| 2/2 [00:00<00:00,  8.66it/s]\n"
     ]
    },
    {
     "name": "stdout",
     "output_type": "stream",
     "text": [
      "Pre-processed data found: VitaminDZinc-structures-filteres-by-similarity-to-calcitriol/csv_format/processed/TRANSVAE_vdr_zinc_k_dims_VDR_TOP_SIMILAR.pt, loading ...\n",
      "Make prediction for 1001 samples...\n"
     ]
    },
    {
     "name": "stderr",
     "output_type": "stream",
     "text": [
      "100%|██████████| 2/2 [00:00<00:00,  9.25it/s]\n"
     ]
    },
    {
     "name": "stdout",
     "output_type": "stream",
     "text": [
      "Pre-processed data found: VitaminDZinc-structures-filteres-by-similarity-to-calcitriol/csv_format/processed/TRANSMOL_VDR_TOP_SIMILAR.pt, loading ...\n",
      "Make prediction for 1001 samples...\n"
     ]
    },
    {
     "name": "stderr",
     "output_type": "stream",
     "text": [
      "100%|██████████| 2/2 [00:00<00:00,  8.45it/s]\n"
     ]
    },
    {
     "name": "stdout",
     "output_type": "stream",
     "text": [
      "Pre-processed data found: VitaminDZinc-structures-filteres-by-similarity-to-calcitriol/csv_format/processed/LOWDATAREGIME_molecules_10_0.7_VDR_TOP_SIMILAR.pt, loading ...\n",
      "Make prediction for 793 samples...\n"
     ]
    },
    {
     "name": "stderr",
     "output_type": "stream",
     "text": [
      "100%|██████████| 2/2 [00:00<00:00, 10.45it/s]\n"
     ]
    },
    {
     "name": "stdout",
     "output_type": "stream",
     "text": [
      "Pre-processed data found: Benzos-structures-filteres-by-similarity-to-diazepam-20211216T105015Z-001/csv_format/processed/LOWDATAREGIME_molecules_30_0.7_BENZOS_TOP_SIMILAR.pt, loading ...\n",
      "Make prediction for 395 samples...\n"
     ]
    },
    {
     "name": "stderr",
     "output_type": "stream",
     "text": [
      "100%|██████████| 1/1 [00:00<00:00, 10.91it/s]\n"
     ]
    },
    {
     "name": "stdout",
     "output_type": "stream",
     "text": [
      "Pre-processed data found: Benzos-structures-filteres-by-similarity-to-diazepam-20211216T105015Z-001/csv_format/processed/TRANSVAE_benzos_pubchem_top_dims_BENZOS_TOP_SIMILAR.pt, loading ...\n",
      "Make prediction for 1001 samples...\n"
     ]
    },
    {
     "name": "stderr",
     "output_type": "stream",
     "text": [
      "100%|██████████| 2/2 [00:00<00:00,  6.63it/s]\n"
     ]
    },
    {
     "name": "stdout",
     "output_type": "stream",
     "text": [
      "Pre-processed data found: Benzos-structures-filteres-by-similarity-to-diazepam-20211216T105015Z-001/csv_format/processed/LOWDATAREGIME_molecules_20_0.7_BENZOS_TOP_SIMILAR.pt, loading ...\n",
      "Make prediction for 475 samples...\n"
     ]
    },
    {
     "name": "stderr",
     "output_type": "stream",
     "text": [
      "100%|██████████| 1/1 [00:00<00:00,  8.23it/s]\n"
     ]
    },
    {
     "name": "stdout",
     "output_type": "stream",
     "text": [
      "Pre-processed data found: Benzos-structures-filteres-by-similarity-to-diazepam-20211216T105015Z-001/csv_format/processed/REINVENT_BENZOS_TOP_SIMILAR.pt, loading ...\n",
      "Make prediction for 1001 samples...\n"
     ]
    },
    {
     "name": "stderr",
     "output_type": "stream",
     "text": [
      "100%|██████████| 2/2 [00:00<00:00,  9.10it/s]\n"
     ]
    },
    {
     "name": "stdout",
     "output_type": "stream",
     "text": [
      "Pre-processed data found: Benzos-structures-filteres-by-similarity-to-diazepam-20211216T105015Z-001/csv_format/processed/TRANSVAE_benzos_zinc_top_dims_BENZOS_TOP_SIMILAR.pt, loading ...\n",
      "Make prediction for 1001 samples...\n"
     ]
    },
    {
     "name": "stderr",
     "output_type": "stream",
     "text": [
      "100%|██████████| 2/2 [00:00<00:00,  8.60it/s]\n"
     ]
    },
    {
     "name": "stdout",
     "output_type": "stream",
     "text": [
      "Pre-processed data found: Benzos-structures-filteres-by-similarity-to-diazepam-20211216T105015Z-001/csv_format/processed/LOWDATAREGIME_molecules_10_0.7_BENZOS_TOP_SIMILAR.pt, loading ...\n",
      "Make prediction for 489 samples...\n"
     ]
    },
    {
     "name": "stderr",
     "output_type": "stream",
     "text": [
      "100%|██████████| 1/1 [00:00<00:00,  8.24it/s]\n"
     ]
    },
    {
     "name": "stdout",
     "output_type": "stream",
     "text": [
      "Pre-processed data found: Benzos-structures-filteres-by-similarity-to-diazepam-20211216T105015Z-001/csv_format/processed/TRANSVAE_benzos_pubchem_k_dims_BENZOS_TOP_SIMILAR.pt, loading ...\n",
      "Make prediction for 1001 samples...\n"
     ]
    },
    {
     "name": "stderr",
     "output_type": "stream",
     "text": [
      "100%|██████████| 2/2 [00:00<00:00,  8.78it/s]\n"
     ]
    },
    {
     "name": "stdout",
     "output_type": "stream",
     "text": [
      "Pre-processed data found: Benzos-structures-filteres-by-similarity-to-diazepam-20211216T105015Z-001/csv_format/processed/TRANSMOL_BENZOS_TOP_SIMILAR.pt, loading ...\n",
      "Make prediction for 1001 samples...\n"
     ]
    },
    {
     "name": "stderr",
     "output_type": "stream",
     "text": [
      "100%|██████████| 2/2 [00:00<00:00,  6.44it/s]\n"
     ]
    },
    {
     "name": "stdout",
     "output_type": "stream",
     "text": [
      "Pre-processed data found: Benzos-structures-filteres-by-similarity-to-diazepam-20211216T105015Z-001/csv_format/processed/TRANSVAE_benzos_zinc_k_dims_BENZOS_TOP_SIMILAR.pt, loading ...\n",
      "Make prediction for 1001 samples...\n"
     ]
    },
    {
     "name": "stderr",
     "output_type": "stream",
     "text": [
      "100%|██████████| 2/2 [00:00<00:00,  9.47it/s]\n"
     ]
    },
    {
     "name": "stdout",
     "output_type": "stream",
     "text": [
      "Pre-processed data found: Benzos-structures-filteres-by-similarity-to-diazepam-20211216T105015Z-001/csv_format/processed/LOWDATAREGIME_molecules_40_0.7_BENZOS_TOP_SIMILAR.pt, loading ...\n",
      "Make prediction for 352 samples...\n"
     ]
    },
    {
     "name": "stderr",
     "output_type": "stream",
     "text": [
      "100%|██████████| 1/1 [00:00<00:00, 11.92it/s]\n"
     ]
    },
    {
     "name": "stdout",
     "output_type": "stream",
     "text": [
      "Pre-processed data found: VitaminDZinc-structures-filteres-by-similarity-to-calcitriol/csv_format/processed/TRANSVAE_vdr_zinc_top_dims_VDR_TOP_SIMILAR.pt, loading ...\n",
      "Make prediction for 1001 samples...\n"
     ]
    },
    {
     "name": "stderr",
     "output_type": "stream",
     "text": [
      "100%|██████████| 2/2 [00:00<00:00,  9.10it/s]\n"
     ]
    },
    {
     "name": "stdout",
     "output_type": "stream",
     "text": [
      "Pre-processed data found: VitaminDZinc-structures-filteres-by-similarity-to-calcitriol/csv_format/processed/REINVENT_VDR_TOP_SIMILAR.pt, loading ...\n",
      "Make prediction for 1001 samples...\n"
     ]
    },
    {
     "name": "stderr",
     "output_type": "stream",
     "text": [
      "100%|██████████| 2/2 [00:00<00:00,  9.13it/s]\n"
     ]
    },
    {
     "name": "stdout",
     "output_type": "stream",
     "text": [
      "Pre-processed data found: VitaminDZinc-structures-filteres-by-similarity-to-calcitriol/csv_format/processed/LOWDATAREGIME_molecules_20_0.7_VDR_TOP_SIMILAR.pt, loading ...\n",
      "Make prediction for 745 samples...\n"
     ]
    },
    {
     "name": "stderr",
     "output_type": "stream",
     "text": [
      "100%|██████████| 2/2 [00:00<00:00,  4.10it/s]\n"
     ]
    },
    {
     "name": "stdout",
     "output_type": "stream",
     "text": [
      "Pre-processed data found: VitaminDZinc-structures-filteres-by-similarity-to-calcitriol/csv_format/processed/TRANSVAE_vdr_pubchem_top_dims_VDR_TOP_SIMILAR.pt, loading ...\n",
      "Make prediction for 1001 samples...\n"
     ]
    },
    {
     "name": "stderr",
     "output_type": "stream",
     "text": [
      "100%|██████████| 2/2 [00:00<00:00,  5.84it/s]\n"
     ]
    },
    {
     "name": "stdout",
     "output_type": "stream",
     "text": [
      "Pre-processed data found: VitaminDZinc-structures-filteres-by-similarity-to-calcitriol/csv_format/processed/LOWDATAREGIME_molecules_40_0.7_VDR_TOP_SIMILAR.pt, loading ...\n",
      "Make prediction for 611 samples...\n"
     ]
    },
    {
     "name": "stderr",
     "output_type": "stream",
     "text": [
      "100%|██████████| 2/2 [00:00<00:00, 12.57it/s]\n"
     ]
    },
    {
     "name": "stdout",
     "output_type": "stream",
     "text": [
      "Pre-processed data found: VitaminDZinc-structures-filteres-by-similarity-to-calcitriol/csv_format/processed/LOWDATAREGIME_molecules_30_0.7_VDR_TOP_SIMILAR.pt, loading ...\n",
      "Make prediction for 666 samples...\n"
     ]
    },
    {
     "name": "stderr",
     "output_type": "stream",
     "text": [
      "100%|██████████| 2/2 [00:00<00:00, 10.85it/s]\n"
     ]
    },
    {
     "name": "stdout",
     "output_type": "stream",
     "text": [
      "Pre-processed data found: VitaminDZinc-structures-filteres-by-similarity-to-calcitriol/csv_format/processed/TRANSVAE_vdr_pubchem_k_dims_VDR_TOP_SIMILAR.pt, loading ...\n",
      "Make prediction for 1001 samples...\n"
     ]
    },
    {
     "name": "stderr",
     "output_type": "stream",
     "text": [
      "100%|██████████| 2/2 [00:00<00:00,  8.41it/s]\n"
     ]
    },
    {
     "name": "stdout",
     "output_type": "stream",
     "text": [
      "Pre-processed data found: VitaminDZinc-structures-filteres-by-similarity-to-calcitriol/csv_format/processed/TRANSVAE_vdr_zinc_k_dims_VDR_TOP_SIMILAR.pt, loading ...\n",
      "Make prediction for 1001 samples...\n"
     ]
    },
    {
     "name": "stderr",
     "output_type": "stream",
     "text": [
      "100%|██████████| 2/2 [00:00<00:00,  9.59it/s]\n"
     ]
    },
    {
     "name": "stdout",
     "output_type": "stream",
     "text": [
      "Pre-processed data found: VitaminDZinc-structures-filteres-by-similarity-to-calcitriol/csv_format/processed/TRANSMOL_VDR_TOP_SIMILAR.pt, loading ...\n",
      "Make prediction for 1001 samples...\n"
     ]
    },
    {
     "name": "stderr",
     "output_type": "stream",
     "text": [
      "100%|██████████| 2/2 [00:00<00:00,  8.69it/s]\n"
     ]
    },
    {
     "name": "stdout",
     "output_type": "stream",
     "text": [
      "Pre-processed data found: VitaminDZinc-structures-filteres-by-similarity-to-calcitriol/csv_format/processed/LOWDATAREGIME_molecules_10_0.7_VDR_TOP_SIMILAR.pt, loading ...\n",
      "Make prediction for 793 samples...\n"
     ]
    },
    {
     "name": "stderr",
     "output_type": "stream",
     "text": [
      "100%|██████████| 2/2 [00:00<00:00,  7.19it/s]\n"
     ]
    },
    {
     "name": "stdout",
     "output_type": "stream",
     "text": [
      "Pre-processed data found: Benzos-structures-filteres-by-similarity-to-diazepam-20211216T105015Z-001/csv_format/processed/LOWDATAREGIME_molecules_30_0.7_BENZOS_TOP_SIMILAR.pt, loading ...\n",
      "Make prediction for 395 samples...\n"
     ]
    },
    {
     "name": "stderr",
     "output_type": "stream",
     "text": [
      "100%|██████████| 1/1 [00:00<00:00, 15.28it/s]\n"
     ]
    },
    {
     "name": "stdout",
     "output_type": "stream",
     "text": [
      "Pre-processed data found: Benzos-structures-filteres-by-similarity-to-diazepam-20211216T105015Z-001/csv_format/processed/TRANSVAE_benzos_pubchem_top_dims_BENZOS_TOP_SIMILAR.pt, loading ...\n",
      "Make prediction for 1001 samples...\n"
     ]
    },
    {
     "name": "stderr",
     "output_type": "stream",
     "text": [
      "100%|██████████| 2/2 [00:00<00:00, 10.46it/s]\n"
     ]
    },
    {
     "name": "stdout",
     "output_type": "stream",
     "text": [
      "Pre-processed data found: Benzos-structures-filteres-by-similarity-to-diazepam-20211216T105015Z-001/csv_format/processed/LOWDATAREGIME_molecules_20_0.7_BENZOS_TOP_SIMILAR.pt, loading ...\n",
      "Make prediction for 475 samples...\n"
     ]
    },
    {
     "name": "stderr",
     "output_type": "stream",
     "text": [
      "100%|██████████| 1/1 [00:00<00:00, 11.78it/s]\n"
     ]
    },
    {
     "name": "stdout",
     "output_type": "stream",
     "text": [
      "Pre-processed data found: Benzos-structures-filteres-by-similarity-to-diazepam-20211216T105015Z-001/csv_format/processed/REINVENT_BENZOS_TOP_SIMILAR.pt, loading ...\n",
      "Make prediction for 1001 samples...\n"
     ]
    },
    {
     "name": "stderr",
     "output_type": "stream",
     "text": [
      "100%|██████████| 2/2 [00:00<00:00, 11.21it/s]\n"
     ]
    },
    {
     "name": "stdout",
     "output_type": "stream",
     "text": [
      "Pre-processed data found: Benzos-structures-filteres-by-similarity-to-diazepam-20211216T105015Z-001/csv_format/processed/TRANSVAE_benzos_zinc_top_dims_BENZOS_TOP_SIMILAR.pt, loading ...\n",
      "Make prediction for 1001 samples...\n"
     ]
    },
    {
     "name": "stderr",
     "output_type": "stream",
     "text": [
      "100%|██████████| 2/2 [00:00<00:00, 11.37it/s]\n"
     ]
    },
    {
     "name": "stdout",
     "output_type": "stream",
     "text": [
      "Pre-processed data found: Benzos-structures-filteres-by-similarity-to-diazepam-20211216T105015Z-001/csv_format/processed/LOWDATAREGIME_molecules_10_0.7_BENZOS_TOP_SIMILAR.pt, loading ...\n",
      "Make prediction for 489 samples...\n"
     ]
    },
    {
     "name": "stderr",
     "output_type": "stream",
     "text": [
      "100%|██████████| 1/1 [00:00<00:00, 11.56it/s]\n"
     ]
    },
    {
     "name": "stdout",
     "output_type": "stream",
     "text": [
      "Pre-processed data found: Benzos-structures-filteres-by-similarity-to-diazepam-20211216T105015Z-001/csv_format/processed/TRANSVAE_benzos_pubchem_k_dims_BENZOS_TOP_SIMILAR.pt, loading ...\n",
      "Make prediction for 1001 samples...\n"
     ]
    },
    {
     "name": "stderr",
     "output_type": "stream",
     "text": [
      "100%|██████████| 2/2 [00:00<00:00,  8.14it/s]\n"
     ]
    },
    {
     "name": "stdout",
     "output_type": "stream",
     "text": [
      "Pre-processed data found: Benzos-structures-filteres-by-similarity-to-diazepam-20211216T105015Z-001/csv_format/processed/TRANSMOL_BENZOS_TOP_SIMILAR.pt, loading ...\n",
      "Make prediction for 1001 samples...\n"
     ]
    },
    {
     "name": "stderr",
     "output_type": "stream",
     "text": [
      "100%|██████████| 2/2 [00:00<00:00, 11.47it/s]\n"
     ]
    },
    {
     "name": "stdout",
     "output_type": "stream",
     "text": [
      "Pre-processed data found: Benzos-structures-filteres-by-similarity-to-diazepam-20211216T105015Z-001/csv_format/processed/TRANSVAE_benzos_zinc_k_dims_BENZOS_TOP_SIMILAR.pt, loading ...\n",
      "Make prediction for 1001 samples...\n"
     ]
    },
    {
     "name": "stderr",
     "output_type": "stream",
     "text": [
      "100%|██████████| 2/2 [00:00<00:00, 11.15it/s]\n"
     ]
    },
    {
     "name": "stdout",
     "output_type": "stream",
     "text": [
      "Pre-processed data found: Benzos-structures-filteres-by-similarity-to-diazepam-20211216T105015Z-001/csv_format/processed/LOWDATAREGIME_molecules_40_0.7_BENZOS_TOP_SIMILAR.pt, loading ...\n",
      "Make prediction for 352 samples...\n"
     ]
    },
    {
     "name": "stderr",
     "output_type": "stream",
     "text": [
      "100%|██████████| 1/1 [00:00<00:00, 15.10it/s]\n"
     ]
    },
    {
     "name": "stdout",
     "output_type": "stream",
     "text": [
      "Pre-processed data found: VitaminDZinc-structures-filteres-by-similarity-to-calcitriol/csv_format/processed/TRANSVAE_vdr_zinc_top_dims_VDR_TOP_SIMILAR.pt, loading ...\n",
      "Make prediction for 1001 samples...\n"
     ]
    },
    {
     "name": "stderr",
     "output_type": "stream",
     "text": [
      "100%|██████████| 2/2 [00:00<00:00, 11.16it/s]\n"
     ]
    },
    {
     "name": "stdout",
     "output_type": "stream",
     "text": [
      "Pre-processed data found: VitaminDZinc-structures-filteres-by-similarity-to-calcitriol/csv_format/processed/REINVENT_VDR_TOP_SIMILAR.pt, loading ...\n",
      "Make prediction for 1001 samples...\n"
     ]
    },
    {
     "name": "stderr",
     "output_type": "stream",
     "text": [
      "100%|██████████| 2/2 [00:00<00:00, 11.21it/s]\n"
     ]
    },
    {
     "name": "stdout",
     "output_type": "stream",
     "text": [
      "Pre-processed data found: VitaminDZinc-structures-filteres-by-similarity-to-calcitriol/csv_format/processed/LOWDATAREGIME_molecules_20_0.7_VDR_TOP_SIMILAR.pt, loading ...\n",
      "Make prediction for 745 samples...\n"
     ]
    },
    {
     "name": "stderr",
     "output_type": "stream",
     "text": [
      "100%|██████████| 2/2 [00:00<00:00,  3.94it/s]\n"
     ]
    },
    {
     "name": "stdout",
     "output_type": "stream",
     "text": [
      "Pre-processed data found: VitaminDZinc-structures-filteres-by-similarity-to-calcitriol/csv_format/processed/TRANSVAE_vdr_pubchem_top_dims_VDR_TOP_SIMILAR.pt, loading ...\n",
      "Make prediction for 1001 samples...\n"
     ]
    },
    {
     "name": "stderr",
     "output_type": "stream",
     "text": [
      "100%|██████████| 2/2 [00:00<00:00, 12.64it/s]\n"
     ]
    },
    {
     "name": "stdout",
     "output_type": "stream",
     "text": [
      "Pre-processed data found: VitaminDZinc-structures-filteres-by-similarity-to-calcitriol/csv_format/processed/LOWDATAREGIME_molecules_40_0.7_VDR_TOP_SIMILAR.pt, loading ...\n",
      "Make prediction for 611 samples...\n"
     ]
    },
    {
     "name": "stderr",
     "output_type": "stream",
     "text": [
      "100%|██████████| 2/2 [00:00<00:00, 16.49it/s]\n"
     ]
    },
    {
     "name": "stdout",
     "output_type": "stream",
     "text": [
      "Pre-processed data found: VitaminDZinc-structures-filteres-by-similarity-to-calcitriol/csv_format/processed/LOWDATAREGIME_molecules_30_0.7_VDR_TOP_SIMILAR.pt, loading ...\n",
      "Make prediction for 666 samples...\n"
     ]
    },
    {
     "name": "stderr",
     "output_type": "stream",
     "text": [
      "100%|██████████| 2/2 [00:00<00:00, 14.95it/s]\n"
     ]
    },
    {
     "name": "stdout",
     "output_type": "stream",
     "text": [
      "Pre-processed data found: VitaminDZinc-structures-filteres-by-similarity-to-calcitriol/csv_format/processed/TRANSVAE_vdr_pubchem_k_dims_VDR_TOP_SIMILAR.pt, loading ...\n",
      "Make prediction for 1001 samples...\n"
     ]
    },
    {
     "name": "stderr",
     "output_type": "stream",
     "text": [
      "100%|██████████| 2/2 [00:00<00:00, 11.29it/s]\n"
     ]
    },
    {
     "name": "stdout",
     "output_type": "stream",
     "text": [
      "Pre-processed data found: VitaminDZinc-structures-filteres-by-similarity-to-calcitriol/csv_format/processed/TRANSVAE_vdr_zinc_k_dims_VDR_TOP_SIMILAR.pt, loading ...\n",
      "Make prediction for 1001 samples...\n"
     ]
    },
    {
     "name": "stderr",
     "output_type": "stream",
     "text": [
      "100%|██████████| 2/2 [00:00<00:00, 11.34it/s]\n"
     ]
    },
    {
     "name": "stdout",
     "output_type": "stream",
     "text": [
      "Pre-processed data found: VitaminDZinc-structures-filteres-by-similarity-to-calcitriol/csv_format/processed/TRANSMOL_VDR_TOP_SIMILAR.pt, loading ...\n",
      "Make prediction for 1001 samples...\n"
     ]
    },
    {
     "name": "stderr",
     "output_type": "stream",
     "text": [
      "100%|██████████| 2/2 [00:00<00:00,  8.11it/s]\n"
     ]
    },
    {
     "name": "stdout",
     "output_type": "stream",
     "text": [
      "Pre-processed data found: VitaminDZinc-structures-filteres-by-similarity-to-calcitriol/csv_format/processed/LOWDATAREGIME_molecules_10_0.7_VDR_TOP_SIMILAR.pt, loading ...\n",
      "Make prediction for 793 samples...\n"
     ]
    },
    {
     "name": "stderr",
     "output_type": "stream",
     "text": [
      "100%|██████████| 2/2 [00:00<00:00, 13.60it/s]\n"
     ]
    },
    {
     "name": "stdout",
     "output_type": "stream",
     "text": [
      "Pre-processed data found: Benzos-structures-filteres-by-similarity-to-diazepam-20211216T105015Z-001/csv_format/processed/LOWDATAREGIME_molecules_30_0.7_BENZOS_TOP_SIMILAR.pt, loading ...\n",
      "Make prediction for 395 samples...\n"
     ]
    },
    {
     "name": "stderr",
     "output_type": "stream",
     "text": [
      "100%|██████████| 1/1 [00:00<00:00, 17.61it/s]\n"
     ]
    },
    {
     "name": "stdout",
     "output_type": "stream",
     "text": [
      "Pre-processed data found: Benzos-structures-filteres-by-similarity-to-diazepam-20211216T105015Z-001/csv_format/processed/TRANSVAE_benzos_pubchem_top_dims_BENZOS_TOP_SIMILAR.pt, loading ...\n",
      "Make prediction for 1001 samples...\n"
     ]
    },
    {
     "name": "stderr",
     "output_type": "stream",
     "text": [
      "100%|██████████| 2/2 [00:00<00:00, 11.13it/s]\n"
     ]
    },
    {
     "name": "stdout",
     "output_type": "stream",
     "text": [
      "Pre-processed data found: Benzos-structures-filteres-by-similarity-to-diazepam-20211216T105015Z-001/csv_format/processed/LOWDATAREGIME_molecules_20_0.7_BENZOS_TOP_SIMILAR.pt, loading ...\n",
      "Make prediction for 475 samples...\n"
     ]
    },
    {
     "name": "stderr",
     "output_type": "stream",
     "text": [
      "100%|██████████| 1/1 [00:00<00:00, 11.96it/s]\n"
     ]
    },
    {
     "name": "stdout",
     "output_type": "stream",
     "text": [
      "Pre-processed data found: Benzos-structures-filteres-by-similarity-to-diazepam-20211216T105015Z-001/csv_format/processed/REINVENT_BENZOS_TOP_SIMILAR.pt, loading ...\n",
      "Make prediction for 1001 samples...\n"
     ]
    },
    {
     "name": "stderr",
     "output_type": "stream",
     "text": [
      "100%|██████████| 2/2 [00:00<00:00, 11.16it/s]\n"
     ]
    },
    {
     "name": "stdout",
     "output_type": "stream",
     "text": [
      "Pre-processed data found: Benzos-structures-filteres-by-similarity-to-diazepam-20211216T105015Z-001/csv_format/processed/TRANSVAE_benzos_zinc_top_dims_BENZOS_TOP_SIMILAR.pt, loading ...\n",
      "Make prediction for 1001 samples...\n"
     ]
    },
    {
     "name": "stderr",
     "output_type": "stream",
     "text": [
      "100%|██████████| 2/2 [00:00<00:00, 11.41it/s]\n"
     ]
    },
    {
     "name": "stdout",
     "output_type": "stream",
     "text": [
      "Pre-processed data found: Benzos-structures-filteres-by-similarity-to-diazepam-20211216T105015Z-001/csv_format/processed/LOWDATAREGIME_molecules_10_0.7_BENZOS_TOP_SIMILAR.pt, loading ...\n",
      "Make prediction for 489 samples...\n"
     ]
    },
    {
     "name": "stderr",
     "output_type": "stream",
     "text": [
      "100%|██████████| 1/1 [00:00<00:00,  6.63it/s]\n"
     ]
    },
    {
     "name": "stdout",
     "output_type": "stream",
     "text": [
      "Pre-processed data found: Benzos-structures-filteres-by-similarity-to-diazepam-20211216T105015Z-001/csv_format/processed/TRANSVAE_benzos_pubchem_k_dims_BENZOS_TOP_SIMILAR.pt, loading ...\n",
      "Make prediction for 1001 samples...\n"
     ]
    },
    {
     "name": "stderr",
     "output_type": "stream",
     "text": [
      "100%|██████████| 2/2 [00:00<00:00, 11.44it/s]\n"
     ]
    },
    {
     "name": "stdout",
     "output_type": "stream",
     "text": [
      "Pre-processed data found: Benzos-structures-filteres-by-similarity-to-diazepam-20211216T105015Z-001/csv_format/processed/TRANSMOL_BENZOS_TOP_SIMILAR.pt, loading ...\n",
      "Make prediction for 1001 samples...\n"
     ]
    },
    {
     "name": "stderr",
     "output_type": "stream",
     "text": [
      "100%|██████████| 2/2 [00:00<00:00, 11.37it/s]\n"
     ]
    },
    {
     "name": "stdout",
     "output_type": "stream",
     "text": [
      "Pre-processed data found: Benzos-structures-filteres-by-similarity-to-diazepam-20211216T105015Z-001/csv_format/processed/TRANSVAE_benzos_zinc_k_dims_BENZOS_TOP_SIMILAR.pt, loading ...\n",
      "Make prediction for 1001 samples...\n"
     ]
    },
    {
     "name": "stderr",
     "output_type": "stream",
     "text": [
      "100%|██████████| 2/2 [00:00<00:00, 11.22it/s]\n"
     ]
    },
    {
     "name": "stdout",
     "output_type": "stream",
     "text": [
      "Pre-processed data found: Benzos-structures-filteres-by-similarity-to-diazepam-20211216T105015Z-001/csv_format/processed/LOWDATAREGIME_molecules_40_0.7_BENZOS_TOP_SIMILAR.pt, loading ...\n",
      "Make prediction for 352 samples...\n"
     ]
    },
    {
     "name": "stderr",
     "output_type": "stream",
     "text": [
      "100%|██████████| 1/1 [00:00<00:00, 14.82it/s]\n"
     ]
    },
    {
     "name": "stdout",
     "output_type": "stream",
     "text": [
      "Pre-processed data found: VitaminDZinc-structures-filteres-by-similarity-to-calcitriol/csv_format/processed/TRANSVAE_vdr_zinc_top_dims_VDR_TOP_SIMILAR.pt, loading ...\n",
      "Make prediction for 1001 samples...\n"
     ]
    },
    {
     "name": "stderr",
     "output_type": "stream",
     "text": [
      "100%|██████████| 2/2 [00:00<00:00, 11.19it/s]\n"
     ]
    },
    {
     "name": "stdout",
     "output_type": "stream",
     "text": [
      "Pre-processed data found: VitaminDZinc-structures-filteres-by-similarity-to-calcitriol/csv_format/processed/REINVENT_VDR_TOP_SIMILAR.pt, loading ...\n",
      "Make prediction for 1001 samples...\n"
     ]
    },
    {
     "name": "stderr",
     "output_type": "stream",
     "text": [
      "100%|██████████| 2/2 [00:00<00:00,  7.66it/s]\n"
     ]
    },
    {
     "name": "stdout",
     "output_type": "stream",
     "text": [
      "Pre-processed data found: VitaminDZinc-structures-filteres-by-similarity-to-calcitriol/csv_format/processed/LOWDATAREGIME_molecules_20_0.7_VDR_TOP_SIMILAR.pt, loading ...\n",
      "Make prediction for 745 samples...\n"
     ]
    },
    {
     "name": "stderr",
     "output_type": "stream",
     "text": [
      "100%|██████████| 2/2 [00:00<00:00,  4.55it/s]\n"
     ]
    },
    {
     "name": "stdout",
     "output_type": "stream",
     "text": [
      "Pre-processed data found: VitaminDZinc-structures-filteres-by-similarity-to-calcitriol/csv_format/processed/TRANSVAE_vdr_pubchem_top_dims_VDR_TOP_SIMILAR.pt, loading ...\n",
      "Make prediction for 1001 samples...\n"
     ]
    },
    {
     "name": "stderr",
     "output_type": "stream",
     "text": [
      "100%|██████████| 2/2 [00:00<00:00, 12.74it/s]\n"
     ]
    },
    {
     "name": "stdout",
     "output_type": "stream",
     "text": [
      "Pre-processed data found: VitaminDZinc-structures-filteres-by-similarity-to-calcitriol/csv_format/processed/LOWDATAREGIME_molecules_40_0.7_VDR_TOP_SIMILAR.pt, loading ...\n",
      "Make prediction for 611 samples...\n"
     ]
    },
    {
     "name": "stderr",
     "output_type": "stream",
     "text": [
      "100%|██████████| 2/2 [00:00<00:00, 16.85it/s]\n"
     ]
    },
    {
     "name": "stdout",
     "output_type": "stream",
     "text": [
      "Pre-processed data found: VitaminDZinc-structures-filteres-by-similarity-to-calcitriol/csv_format/processed/LOWDATAREGIME_molecules_30_0.7_VDR_TOP_SIMILAR.pt, loading ...\n",
      "Make prediction for 666 samples...\n"
     ]
    },
    {
     "name": "stderr",
     "output_type": "stream",
     "text": [
      "100%|██████████| 2/2 [00:00<00:00, 15.46it/s]\n"
     ]
    },
    {
     "name": "stdout",
     "output_type": "stream",
     "text": [
      "Pre-processed data found: VitaminDZinc-structures-filteres-by-similarity-to-calcitriol/csv_format/processed/TRANSVAE_vdr_pubchem_k_dims_VDR_TOP_SIMILAR.pt, loading ...\n",
      "Make prediction for 1001 samples...\n"
     ]
    },
    {
     "name": "stderr",
     "output_type": "stream",
     "text": [
      "100%|██████████| 2/2 [00:00<00:00, 11.25it/s]\n"
     ]
    },
    {
     "name": "stdout",
     "output_type": "stream",
     "text": [
      "Pre-processed data found: VitaminDZinc-structures-filteres-by-similarity-to-calcitriol/csv_format/processed/TRANSVAE_vdr_zinc_k_dims_VDR_TOP_SIMILAR.pt, loading ...\n",
      "Make prediction for 1001 samples...\n"
     ]
    },
    {
     "name": "stderr",
     "output_type": "stream",
     "text": [
      "100%|██████████| 2/2 [00:00<00:00,  8.28it/s]\n"
     ]
    },
    {
     "name": "stdout",
     "output_type": "stream",
     "text": [
      "Pre-processed data found: VitaminDZinc-structures-filteres-by-similarity-to-calcitriol/csv_format/processed/TRANSMOL_VDR_TOP_SIMILAR.pt, loading ...\n",
      "Make prediction for 1001 samples...\n"
     ]
    },
    {
     "name": "stderr",
     "output_type": "stream",
     "text": [
      "100%|██████████| 2/2 [00:00<00:00, 11.00it/s]\n"
     ]
    },
    {
     "name": "stdout",
     "output_type": "stream",
     "text": [
      "Pre-processed data found: VitaminDZinc-structures-filteres-by-similarity-to-calcitriol/csv_format/processed/LOWDATAREGIME_molecules_10_0.7_VDR_TOP_SIMILAR.pt, loading ...\n",
      "Make prediction for 793 samples...\n"
     ]
    },
    {
     "name": "stderr",
     "output_type": "stream",
     "text": [
      "100%|██████████| 2/2 [00:00<00:00, 13.81it/s]\n"
     ]
    },
    {
     "name": "stdout",
     "output_type": "stream",
     "text": [
      "Pre-processed data found: Benzos-structures-filteres-by-similarity-to-diazepam-20211216T105015Z-001/csv_format/processed/LOWDATAREGIME_molecules_30_0.7_BENZOS_TOP_SIMILAR.pt, loading ...\n",
      "Make prediction for 395 samples...\n"
     ]
    },
    {
     "name": "stderr",
     "output_type": "stream",
     "text": [
      "100%|██████████| 1/1 [00:00<00:00, 14.09it/s]\n"
     ]
    },
    {
     "name": "stdout",
     "output_type": "stream",
     "text": [
      "Pre-processed data found: Benzos-structures-filteres-by-similarity-to-diazepam-20211216T105015Z-001/csv_format/processed/TRANSVAE_benzos_pubchem_top_dims_BENZOS_TOP_SIMILAR.pt, loading ...\n",
      "Make prediction for 1001 samples...\n"
     ]
    },
    {
     "name": "stderr",
     "output_type": "stream",
     "text": [
      "100%|██████████| 2/2 [00:00<00:00, 11.09it/s]\n"
     ]
    },
    {
     "name": "stdout",
     "output_type": "stream",
     "text": [
      "Pre-processed data found: Benzos-structures-filteres-by-similarity-to-diazepam-20211216T105015Z-001/csv_format/processed/LOWDATAREGIME_molecules_20_0.7_BENZOS_TOP_SIMILAR.pt, loading ...\n",
      "Make prediction for 475 samples...\n"
     ]
    },
    {
     "name": "stderr",
     "output_type": "stream",
     "text": [
      "100%|██████████| 1/1 [00:00<00:00, 12.02it/s]\n"
     ]
    },
    {
     "name": "stdout",
     "output_type": "stream",
     "text": [
      "Pre-processed data found: Benzos-structures-filteres-by-similarity-to-diazepam-20211216T105015Z-001/csv_format/processed/REINVENT_BENZOS_TOP_SIMILAR.pt, loading ...\n",
      "Make prediction for 1001 samples...\n"
     ]
    },
    {
     "name": "stderr",
     "output_type": "stream",
     "text": [
      "100%|██████████| 2/2 [00:00<00:00,  8.20it/s]\n"
     ]
    },
    {
     "name": "stdout",
     "output_type": "stream",
     "text": [
      "Pre-processed data found: Benzos-structures-filteres-by-similarity-to-diazepam-20211216T105015Z-001/csv_format/processed/TRANSVAE_benzos_zinc_top_dims_BENZOS_TOP_SIMILAR.pt, loading ...\n",
      "Make prediction for 1001 samples...\n"
     ]
    },
    {
     "name": "stderr",
     "output_type": "stream",
     "text": [
      "100%|██████████| 2/2 [00:00<00:00, 11.13it/s]\n"
     ]
    },
    {
     "name": "stdout",
     "output_type": "stream",
     "text": [
      "Pre-processed data found: Benzos-structures-filteres-by-similarity-to-diazepam-20211216T105015Z-001/csv_format/processed/LOWDATAREGIME_molecules_10_0.7_BENZOS_TOP_SIMILAR.pt, loading ...\n",
      "Make prediction for 489 samples...\n"
     ]
    },
    {
     "name": "stderr",
     "output_type": "stream",
     "text": [
      "100%|██████████| 1/1 [00:00<00:00, 11.43it/s]\n"
     ]
    },
    {
     "name": "stdout",
     "output_type": "stream",
     "text": [
      "Pre-processed data found: Benzos-structures-filteres-by-similarity-to-diazepam-20211216T105015Z-001/csv_format/processed/TRANSVAE_benzos_pubchem_k_dims_BENZOS_TOP_SIMILAR.pt, loading ...\n",
      "Make prediction for 1001 samples...\n"
     ]
    },
    {
     "name": "stderr",
     "output_type": "stream",
     "text": [
      "100%|██████████| 2/2 [00:00<00:00, 11.27it/s]\n"
     ]
    },
    {
     "name": "stdout",
     "output_type": "stream",
     "text": [
      "Pre-processed data found: Benzos-structures-filteres-by-similarity-to-diazepam-20211216T105015Z-001/csv_format/processed/TRANSMOL_BENZOS_TOP_SIMILAR.pt, loading ...\n",
      "Make prediction for 1001 samples...\n"
     ]
    },
    {
     "name": "stderr",
     "output_type": "stream",
     "text": [
      "100%|██████████| 2/2 [00:00<00:00, 11.28it/s]\n"
     ]
    },
    {
     "name": "stdout",
     "output_type": "stream",
     "text": [
      "Pre-processed data found: Benzos-structures-filteres-by-similarity-to-diazepam-20211216T105015Z-001/csv_format/processed/TRANSVAE_benzos_zinc_k_dims_BENZOS_TOP_SIMILAR.pt, loading ...\n",
      "Make prediction for 1001 samples...\n"
     ]
    },
    {
     "name": "stderr",
     "output_type": "stream",
     "text": [
      "100%|██████████| 2/2 [00:00<00:00, 11.33it/s]\n"
     ]
    },
    {
     "name": "stdout",
     "output_type": "stream",
     "text": [
      "Pre-processed data found: Benzos-structures-filteres-by-similarity-to-diazepam-20211216T105015Z-001/csv_format/processed/LOWDATAREGIME_molecules_40_0.7_BENZOS_TOP_SIMILAR.pt, loading ...\n",
      "Make prediction for 352 samples...\n"
     ]
    },
    {
     "name": "stderr",
     "output_type": "stream",
     "text": [
      "100%|██████████| 1/1 [00:00<00:00, 15.82it/s]\n"
     ]
    },
    {
     "name": "stdout",
     "output_type": "stream",
     "text": [
      "Pre-processed data found: VitaminDZinc-structures-filteres-by-similarity-to-calcitriol/csv_format/processed/TRANSVAE_vdr_zinc_top_dims_VDR_TOP_SIMILAR.pt, loading ...\n",
      "Make prediction for 1001 samples...\n"
     ]
    },
    {
     "name": "stderr",
     "output_type": "stream",
     "text": [
      "100%|██████████| 2/2 [00:00<00:00,  7.90it/s]\n"
     ]
    },
    {
     "name": "stdout",
     "output_type": "stream",
     "text": [
      "Pre-processed data found: VitaminDZinc-structures-filteres-by-similarity-to-calcitriol/csv_format/processed/REINVENT_VDR_TOP_SIMILAR.pt, loading ...\n",
      "Make prediction for 1001 samples...\n"
     ]
    },
    {
     "name": "stderr",
     "output_type": "stream",
     "text": [
      "100%|██████████| 2/2 [00:00<00:00, 10.75it/s]"
     ]
    },
    {
     "name": "stdout",
     "output_type": "stream",
     "text": [
      "Pre-processed data found: VitaminDZinc-structures-filteres-by-similarity-to-calcitriol/csv_format/processed/LOWDATAREGIME_molecules_20_0.7_VDR_TOP_SIMILAR.pt, loading ...\n"
     ]
    },
    {
     "name": "stderr",
     "output_type": "stream",
     "text": [
      "\n"
     ]
    },
    {
     "name": "stdout",
     "output_type": "stream",
     "text": [
      "Make prediction for 745 samples...\n"
     ]
    },
    {
     "name": "stderr",
     "output_type": "stream",
     "text": [
      "100%|██████████| 2/2 [00:00<00:00,  4.51it/s]\n"
     ]
    },
    {
     "name": "stdout",
     "output_type": "stream",
     "text": [
      "Pre-processed data found: VitaminDZinc-structures-filteres-by-similarity-to-calcitriol/csv_format/processed/TRANSVAE_vdr_pubchem_top_dims_VDR_TOP_SIMILAR.pt, loading ...\n",
      "Make prediction for 1001 samples...\n"
     ]
    },
    {
     "name": "stderr",
     "output_type": "stream",
     "text": [
      "100%|██████████| 2/2 [00:00<00:00, 11.28it/s]\n"
     ]
    },
    {
     "name": "stdout",
     "output_type": "stream",
     "text": [
      "Pre-processed data found: VitaminDZinc-structures-filteres-by-similarity-to-calcitriol/csv_format/processed/LOWDATAREGIME_molecules_40_0.7_VDR_TOP_SIMILAR.pt, loading ...\n",
      "Make prediction for 611 samples...\n"
     ]
    },
    {
     "name": "stderr",
     "output_type": "stream",
     "text": [
      "100%|██████████| 2/2 [00:00<00:00, 16.30it/s]\n"
     ]
    },
    {
     "name": "stdout",
     "output_type": "stream",
     "text": [
      "Pre-processed data found: VitaminDZinc-structures-filteres-by-similarity-to-calcitriol/csv_format/processed/LOWDATAREGIME_molecules_30_0.7_VDR_TOP_SIMILAR.pt, loading ...\n",
      "Make prediction for 666 samples...\n"
     ]
    },
    {
     "name": "stderr",
     "output_type": "stream",
     "text": [
      "100%|██████████| 2/2 [00:00<00:00, 15.87it/s]\n"
     ]
    },
    {
     "name": "stdout",
     "output_type": "stream",
     "text": [
      "Pre-processed data found: VitaminDZinc-structures-filteres-by-similarity-to-calcitriol/csv_format/processed/TRANSVAE_vdr_pubchem_k_dims_VDR_TOP_SIMILAR.pt, loading ...\n",
      "Make prediction for 1001 samples...\n"
     ]
    },
    {
     "name": "stderr",
     "output_type": "stream",
     "text": [
      "100%|██████████| 2/2 [00:00<00:00,  7.55it/s]\n"
     ]
    },
    {
     "name": "stdout",
     "output_type": "stream",
     "text": [
      "Pre-processed data found: VitaminDZinc-structures-filteres-by-similarity-to-calcitriol/csv_format/processed/TRANSVAE_vdr_zinc_k_dims_VDR_TOP_SIMILAR.pt, loading ...\n",
      "Make prediction for 1001 samples...\n"
     ]
    },
    {
     "name": "stderr",
     "output_type": "stream",
     "text": [
      "100%|██████████| 2/2 [00:00<00:00, 11.40it/s]\n"
     ]
    },
    {
     "name": "stdout",
     "output_type": "stream",
     "text": [
      "Pre-processed data found: VitaminDZinc-structures-filteres-by-similarity-to-calcitriol/csv_format/processed/TRANSMOL_VDR_TOP_SIMILAR.pt, loading ...\n",
      "Make prediction for 1001 samples...\n"
     ]
    },
    {
     "name": "stderr",
     "output_type": "stream",
     "text": [
      "100%|██████████| 2/2 [00:00<00:00, 11.35it/s]\n"
     ]
    },
    {
     "name": "stdout",
     "output_type": "stream",
     "text": [
      "Pre-processed data found: VitaminDZinc-structures-filteres-by-similarity-to-calcitriol/csv_format/processed/LOWDATAREGIME_molecules_10_0.7_VDR_TOP_SIMILAR.pt, loading ...\n",
      "Make prediction for 793 samples...\n"
     ]
    },
    {
     "name": "stderr",
     "output_type": "stream",
     "text": [
      "100%|██████████| 2/2 [00:00<00:00, 13.72it/s]\n"
     ]
    },
    {
     "name": "stdout",
     "output_type": "stream",
     "text": [
      "Pre-processed data found: Benzos-structures-filteres-by-similarity-to-diazepam-20211216T105015Z-001/csv_format/processed/LOWDATAREGIME_molecules_30_0.7_BENZOS_TOP_SIMILAR.pt, loading ...\n",
      "Make prediction for 395 samples...\n"
     ]
    },
    {
     "name": "stderr",
     "output_type": "stream",
     "text": [
      "100%|██████████| 1/1 [00:00<00:00, 15.02it/s]\n"
     ]
    },
    {
     "name": "stdout",
     "output_type": "stream",
     "text": [
      "Pre-processed data found: Benzos-structures-filteres-by-similarity-to-diazepam-20211216T105015Z-001/csv_format/processed/TRANSVAE_benzos_pubchem_top_dims_BENZOS_TOP_SIMILAR.pt, loading ...\n",
      "Make prediction for 1001 samples...\n"
     ]
    },
    {
     "name": "stderr",
     "output_type": "stream",
     "text": [
      "100%|██████████| 2/2 [00:00<00:00,  9.14it/s]\n"
     ]
    },
    {
     "name": "stdout",
     "output_type": "stream",
     "text": [
      "Pre-processed data found: Benzos-structures-filteres-by-similarity-to-diazepam-20211216T105015Z-001/csv_format/processed/LOWDATAREGIME_molecules_20_0.7_BENZOS_TOP_SIMILAR.pt, loading ...\n",
      "Make prediction for 475 samples...\n"
     ]
    },
    {
     "name": "stderr",
     "output_type": "stream",
     "text": [
      "100%|██████████| 1/1 [00:00<00:00,  5.93it/s]\n"
     ]
    },
    {
     "name": "stdout",
     "output_type": "stream",
     "text": [
      "Pre-processed data found: Benzos-structures-filteres-by-similarity-to-diazepam-20211216T105015Z-001/csv_format/processed/REINVENT_BENZOS_TOP_SIMILAR.pt, loading ...\n",
      "Make prediction for 1001 samples...\n"
     ]
    },
    {
     "name": "stderr",
     "output_type": "stream",
     "text": [
      "100%|██████████| 2/2 [00:00<00:00,  9.46it/s]\n"
     ]
    },
    {
     "name": "stdout",
     "output_type": "stream",
     "text": [
      "Pre-processed data found: Benzos-structures-filteres-by-similarity-to-diazepam-20211216T105015Z-001/csv_format/processed/TRANSVAE_benzos_zinc_top_dims_BENZOS_TOP_SIMILAR.pt, loading ...\n",
      "Make prediction for 1001 samples...\n"
     ]
    },
    {
     "name": "stderr",
     "output_type": "stream",
     "text": [
      "100%|██████████| 2/2 [00:00<00:00,  9.48it/s]\n"
     ]
    },
    {
     "name": "stdout",
     "output_type": "stream",
     "text": [
      "Pre-processed data found: Benzos-structures-filteres-by-similarity-to-diazepam-20211216T105015Z-001/csv_format/processed/LOWDATAREGIME_molecules_10_0.7_BENZOS_TOP_SIMILAR.pt, loading ...\n",
      "Make prediction for 489 samples...\n"
     ]
    },
    {
     "name": "stderr",
     "output_type": "stream",
     "text": [
      "100%|██████████| 1/1 [00:00<00:00,  9.66it/s]\n"
     ]
    },
    {
     "name": "stdout",
     "output_type": "stream",
     "text": [
      "Pre-processed data found: Benzos-structures-filteres-by-similarity-to-diazepam-20211216T105015Z-001/csv_format/processed/TRANSVAE_benzos_pubchem_k_dims_BENZOS_TOP_SIMILAR.pt, loading ...\n",
      "Make prediction for 1001 samples...\n"
     ]
    },
    {
     "name": "stderr",
     "output_type": "stream",
     "text": [
      "100%|██████████| 2/2 [00:00<00:00,  9.39it/s]\n"
     ]
    },
    {
     "name": "stdout",
     "output_type": "stream",
     "text": [
      "Pre-processed data found: Benzos-structures-filteres-by-similarity-to-diazepam-20211216T105015Z-001/csv_format/processed/TRANSMOL_BENZOS_TOP_SIMILAR.pt, loading ...\n",
      "Make prediction for 1001 samples...\n"
     ]
    },
    {
     "name": "stderr",
     "output_type": "stream",
     "text": [
      "100%|██████████| 2/2 [00:00<00:00,  9.42it/s]\n"
     ]
    },
    {
     "name": "stdout",
     "output_type": "stream",
     "text": [
      "Pre-processed data found: Benzos-structures-filteres-by-similarity-to-diazepam-20211216T105015Z-001/csv_format/processed/TRANSVAE_benzos_zinc_k_dims_BENZOS_TOP_SIMILAR.pt, loading ...\n",
      "Make prediction for 1001 samples...\n"
     ]
    },
    {
     "name": "stderr",
     "output_type": "stream",
     "text": [
      "100%|██████████| 2/2 [00:00<00:00,  7.36it/s]\n"
     ]
    },
    {
     "name": "stdout",
     "output_type": "stream",
     "text": [
      "Pre-processed data found: Benzos-structures-filteres-by-similarity-to-diazepam-20211216T105015Z-001/csv_format/processed/LOWDATAREGIME_molecules_40_0.7_BENZOS_TOP_SIMILAR.pt, loading ...\n",
      "Make prediction for 352 samples...\n"
     ]
    },
    {
     "name": "stderr",
     "output_type": "stream",
     "text": [
      "100%|██████████| 1/1 [00:00<00:00, 12.38it/s]\n"
     ]
    },
    {
     "name": "stdout",
     "output_type": "stream",
     "text": [
      "Pre-processed data found: VitaminDZinc-structures-filteres-by-similarity-to-calcitriol/csv_format/processed/TRANSVAE_vdr_zinc_top_dims_VDR_TOP_SIMILAR.pt, loading ...\n",
      "Make prediction for 1001 samples...\n"
     ]
    },
    {
     "name": "stderr",
     "output_type": "stream",
     "text": [
      "100%|██████████| 2/2 [00:00<00:00,  9.43it/s]\n"
     ]
    },
    {
     "name": "stdout",
     "output_type": "stream",
     "text": [
      "Pre-processed data found: VitaminDZinc-structures-filteres-by-similarity-to-calcitriol/csv_format/processed/REINVENT_VDR_TOP_SIMILAR.pt, loading ...\n",
      "Make prediction for 1001 samples...\n"
     ]
    },
    {
     "name": "stderr",
     "output_type": "stream",
     "text": [
      "100%|██████████| 2/2 [00:00<00:00,  9.34it/s]\n"
     ]
    },
    {
     "name": "stdout",
     "output_type": "stream",
     "text": [
      "Pre-processed data found: VitaminDZinc-structures-filteres-by-similarity-to-calcitriol/csv_format/processed/LOWDATAREGIME_molecules_20_0.7_VDR_TOP_SIMILAR.pt, loading ...\n",
      "Make prediction for 745 samples...\n"
     ]
    },
    {
     "name": "stderr",
     "output_type": "stream",
     "text": [
      "100%|██████████| 2/2 [00:00<00:00,  4.25it/s]\n"
     ]
    },
    {
     "name": "stdout",
     "output_type": "stream",
     "text": [
      "Pre-processed data found: VitaminDZinc-structures-filteres-by-similarity-to-calcitriol/csv_format/processed/TRANSVAE_vdr_pubchem_top_dims_VDR_TOP_SIMILAR.pt, loading ...\n",
      "Make prediction for 1001 samples...\n"
     ]
    },
    {
     "name": "stderr",
     "output_type": "stream",
     "text": [
      "100%|██████████| 2/2 [00:00<00:00, 10.00it/s]\n"
     ]
    },
    {
     "name": "stdout",
     "output_type": "stream",
     "text": [
      "Pre-processed data found: VitaminDZinc-structures-filteres-by-similarity-to-calcitriol/csv_format/processed/LOWDATAREGIME_molecules_40_0.7_VDR_TOP_SIMILAR.pt, loading ...\n",
      "Make prediction for 611 samples...\n"
     ]
    },
    {
     "name": "stderr",
     "output_type": "stream",
     "text": [
      "100%|██████████| 2/2 [00:00<00:00,  9.07it/s]\n"
     ]
    },
    {
     "name": "stdout",
     "output_type": "stream",
     "text": [
      "Pre-processed data found: VitaminDZinc-structures-filteres-by-similarity-to-calcitriol/csv_format/processed/LOWDATAREGIME_molecules_30_0.7_VDR_TOP_SIMILAR.pt, loading ...\n",
      "Make prediction for 666 samples...\n"
     ]
    },
    {
     "name": "stderr",
     "output_type": "stream",
     "text": [
      "100%|██████████| 2/2 [00:00<00:00, 12.36it/s]\n"
     ]
    },
    {
     "name": "stdout",
     "output_type": "stream",
     "text": [
      "Pre-processed data found: VitaminDZinc-structures-filteres-by-similarity-to-calcitriol/csv_format/processed/TRANSVAE_vdr_pubchem_k_dims_VDR_TOP_SIMILAR.pt, loading ...\n",
      "Make prediction for 1001 samples...\n"
     ]
    },
    {
     "name": "stderr",
     "output_type": "stream",
     "text": [
      "100%|██████████| 2/2 [00:00<00:00,  9.12it/s]\n"
     ]
    },
    {
     "name": "stdout",
     "output_type": "stream",
     "text": [
      "Pre-processed data found: VitaminDZinc-structures-filteres-by-similarity-to-calcitriol/csv_format/processed/TRANSVAE_vdr_zinc_k_dims_VDR_TOP_SIMILAR.pt, loading ...\n",
      "Make prediction for 1001 samples...\n"
     ]
    },
    {
     "name": "stderr",
     "output_type": "stream",
     "text": [
      "100%|██████████| 2/2 [00:00<00:00,  9.55it/s]\n"
     ]
    },
    {
     "name": "stdout",
     "output_type": "stream",
     "text": [
      "Pre-processed data found: VitaminDZinc-structures-filteres-by-similarity-to-calcitriol/csv_format/processed/TRANSMOL_VDR_TOP_SIMILAR.pt, loading ...\n",
      "Make prediction for 1001 samples...\n"
     ]
    },
    {
     "name": "stderr",
     "output_type": "stream",
     "text": [
      "100%|██████████| 2/2 [00:00<00:00,  9.19it/s]\n"
     ]
    },
    {
     "name": "stdout",
     "output_type": "stream",
     "text": [
      "Pre-processed data found: VitaminDZinc-structures-filteres-by-similarity-to-calcitriol/csv_format/processed/LOWDATAREGIME_molecules_10_0.7_VDR_TOP_SIMILAR.pt, loading ...\n",
      "Make prediction for 793 samples...\n"
     ]
    },
    {
     "name": "stderr",
     "output_type": "stream",
     "text": [
      "100%|██████████| 2/2 [00:00<00:00, 11.20it/s]\n"
     ]
    },
    {
     "name": "stdout",
     "output_type": "stream",
     "text": [
      "Pre-processed data found: Benzos-structures-filteres-by-similarity-to-diazepam-20211216T105015Z-001/csv_format/processed/LOWDATAREGIME_molecules_30_0.7_BENZOS_TOP_SIMILAR.pt, loading ...\n",
      "Make prediction for 395 samples...\n"
     ]
    },
    {
     "name": "stderr",
     "output_type": "stream",
     "text": [
      "100%|██████████| 1/1 [00:00<00:00, 11.95it/s]\n"
     ]
    },
    {
     "name": "stdout",
     "output_type": "stream",
     "text": [
      "Pre-processed data found: Benzos-structures-filteres-by-similarity-to-diazepam-20211216T105015Z-001/csv_format/processed/TRANSVAE_benzos_pubchem_top_dims_BENZOS_TOP_SIMILAR.pt, loading ...\n",
      "Make prediction for 1001 samples...\n"
     ]
    },
    {
     "name": "stderr",
     "output_type": "stream",
     "text": [
      "100%|██████████| 2/2 [00:00<00:00,  7.19it/s]\n"
     ]
    },
    {
     "name": "stdout",
     "output_type": "stream",
     "text": [
      "Pre-processed data found: Benzos-structures-filteres-by-similarity-to-diazepam-20211216T105015Z-001/csv_format/processed/LOWDATAREGIME_molecules_20_0.7_BENZOS_TOP_SIMILAR.pt, loading ...\n",
      "Make prediction for 475 samples...\n"
     ]
    },
    {
     "name": "stderr",
     "output_type": "stream",
     "text": [
      "100%|██████████| 1/1 [00:00<00:00,  9.85it/s]\n"
     ]
    },
    {
     "name": "stdout",
     "output_type": "stream",
     "text": [
      "Pre-processed data found: Benzos-structures-filteres-by-similarity-to-diazepam-20211216T105015Z-001/csv_format/processed/REINVENT_BENZOS_TOP_SIMILAR.pt, loading ...\n",
      "Make prediction for 1001 samples...\n"
     ]
    },
    {
     "name": "stderr",
     "output_type": "stream",
     "text": [
      "100%|██████████| 2/2 [00:00<00:00,  9.50it/s]\n"
     ]
    },
    {
     "name": "stdout",
     "output_type": "stream",
     "text": [
      "Pre-processed data found: Benzos-structures-filteres-by-similarity-to-diazepam-20211216T105015Z-001/csv_format/processed/TRANSVAE_benzos_zinc_top_dims_BENZOS_TOP_SIMILAR.pt, loading ...\n",
      "Make prediction for 1001 samples...\n"
     ]
    },
    {
     "name": "stderr",
     "output_type": "stream",
     "text": [
      "100%|██████████| 2/2 [00:00<00:00,  9.56it/s]\n"
     ]
    },
    {
     "name": "stdout",
     "output_type": "stream",
     "text": [
      "Pre-processed data found: Benzos-structures-filteres-by-similarity-to-diazepam-20211216T105015Z-001/csv_format/processed/LOWDATAREGIME_molecules_10_0.7_BENZOS_TOP_SIMILAR.pt, loading ...\n",
      "Make prediction for 489 samples...\n"
     ]
    },
    {
     "name": "stderr",
     "output_type": "stream",
     "text": [
      "100%|██████████| 1/1 [00:00<00:00,  9.64it/s]\n"
     ]
    },
    {
     "name": "stdout",
     "output_type": "stream",
     "text": [
      "Pre-processed data found: Benzos-structures-filteres-by-similarity-to-diazepam-20211216T105015Z-001/csv_format/processed/TRANSVAE_benzos_pubchem_k_dims_BENZOS_TOP_SIMILAR.pt, loading ...\n",
      "Make prediction for 1001 samples...\n"
     ]
    },
    {
     "name": "stderr",
     "output_type": "stream",
     "text": [
      "100%|██████████| 2/2 [00:00<00:00,  9.45it/s]\n"
     ]
    },
    {
     "name": "stdout",
     "output_type": "stream",
     "text": [
      "Pre-processed data found: Benzos-structures-filteres-by-similarity-to-diazepam-20211216T105015Z-001/csv_format/processed/TRANSMOL_BENZOS_TOP_SIMILAR.pt, loading ...\n",
      "Make prediction for 1001 samples...\n"
     ]
    },
    {
     "name": "stderr",
     "output_type": "stream",
     "text": [
      "100%|██████████| 2/2 [00:00<00:00,  7.25it/s]\n"
     ]
    },
    {
     "name": "stdout",
     "output_type": "stream",
     "text": [
      "Pre-processed data found: Benzos-structures-filteres-by-similarity-to-diazepam-20211216T105015Z-001/csv_format/processed/TRANSVAE_benzos_zinc_k_dims_BENZOS_TOP_SIMILAR.pt, loading ...\n",
      "Make prediction for 1001 samples...\n"
     ]
    },
    {
     "name": "stderr",
     "output_type": "stream",
     "text": [
      "100%|██████████| 2/2 [00:00<00:00,  9.55it/s]\n"
     ]
    },
    {
     "name": "stdout",
     "output_type": "stream",
     "text": [
      "Pre-processed data found: Benzos-structures-filteres-by-similarity-to-diazepam-20211216T105015Z-001/csv_format/processed/LOWDATAREGIME_molecules_40_0.7_BENZOS_TOP_SIMILAR.pt, loading ...\n",
      "Make prediction for 352 samples...\n"
     ]
    },
    {
     "name": "stderr",
     "output_type": "stream",
     "text": [
      "100%|██████████| 1/1 [00:00<00:00, 12.53it/s]\n"
     ]
    },
    {
     "name": "stdout",
     "output_type": "stream",
     "text": [
      "Pre-processed data found: VitaminDZinc-structures-filteres-by-similarity-to-calcitriol/csv_format/processed/TRANSVAE_vdr_zinc_top_dims_VDR_TOP_SIMILAR.pt, loading ...\n",
      "Make prediction for 1001 samples...\n"
     ]
    },
    {
     "name": "stderr",
     "output_type": "stream",
     "text": [
      "100%|██████████| 2/2 [00:00<00:00,  9.43it/s]\n"
     ]
    },
    {
     "name": "stdout",
     "output_type": "stream",
     "text": [
      "Pre-processed data found: VitaminDZinc-structures-filteres-by-similarity-to-calcitriol/csv_format/processed/REINVENT_VDR_TOP_SIMILAR.pt, loading ...\n",
      "Make prediction for 1001 samples...\n"
     ]
    },
    {
     "name": "stderr",
     "output_type": "stream",
     "text": [
      "100%|██████████| 2/2 [00:00<00:00,  9.42it/s]\n"
     ]
    },
    {
     "name": "stdout",
     "output_type": "stream",
     "text": [
      "Pre-processed data found: VitaminDZinc-structures-filteres-by-similarity-to-calcitriol/csv_format/processed/LOWDATAREGIME_molecules_20_0.7_VDR_TOP_SIMILAR.pt, loading ...\n",
      "Make prediction for 745 samples...\n"
     ]
    },
    {
     "name": "stderr",
     "output_type": "stream",
     "text": [
      "100%|██████████| 2/2 [00:00<00:00,  4.22it/s]\n"
     ]
    },
    {
     "name": "stdout",
     "output_type": "stream",
     "text": [
      "Pre-processed data found: VitaminDZinc-structures-filteres-by-similarity-to-calcitriol/csv_format/processed/TRANSVAE_vdr_pubchem_top_dims_VDR_TOP_SIMILAR.pt, loading ...\n",
      "Make prediction for 1001 samples...\n"
     ]
    },
    {
     "name": "stderr",
     "output_type": "stream",
     "text": [
      "100%|██████████| 2/2 [00:00<00:00,  7.95it/s]\n"
     ]
    },
    {
     "name": "stdout",
     "output_type": "stream",
     "text": [
      "Pre-processed data found: VitaminDZinc-structures-filteres-by-similarity-to-calcitriol/csv_format/processed/LOWDATAREGIME_molecules_40_0.7_VDR_TOP_SIMILAR.pt, loading ...\n",
      "Make prediction for 611 samples...\n"
     ]
    },
    {
     "name": "stderr",
     "output_type": "stream",
     "text": [
      "100%|██████████| 2/2 [00:00<00:00, 13.03it/s]\n"
     ]
    },
    {
     "name": "stdout",
     "output_type": "stream",
     "text": [
      "Pre-processed data found: VitaminDZinc-structures-filteres-by-similarity-to-calcitriol/csv_format/processed/LOWDATAREGIME_molecules_30_0.7_VDR_TOP_SIMILAR.pt, loading ...\n",
      "Make prediction for 666 samples...\n"
     ]
    },
    {
     "name": "stderr",
     "output_type": "stream",
     "text": [
      "100%|██████████| 2/2 [00:00<00:00, 12.27it/s]\n"
     ]
    },
    {
     "name": "stdout",
     "output_type": "stream",
     "text": [
      "Pre-processed data found: VitaminDZinc-structures-filteres-by-similarity-to-calcitriol/csv_format/processed/TRANSVAE_vdr_pubchem_k_dims_VDR_TOP_SIMILAR.pt, loading ...\n",
      "Make prediction for 1001 samples...\n"
     ]
    },
    {
     "name": "stderr",
     "output_type": "stream",
     "text": [
      "100%|██████████| 2/2 [00:00<00:00,  9.01it/s]\n"
     ]
    },
    {
     "name": "stdout",
     "output_type": "stream",
     "text": [
      "Pre-processed data found: VitaminDZinc-structures-filteres-by-similarity-to-calcitriol/csv_format/processed/TRANSVAE_vdr_zinc_k_dims_VDR_TOP_SIMILAR.pt, loading ...\n",
      "Make prediction for 1001 samples...\n"
     ]
    },
    {
     "name": "stderr",
     "output_type": "stream",
     "text": [
      "100%|██████████| 2/2 [00:00<00:00,  9.21it/s]\n"
     ]
    },
    {
     "name": "stdout",
     "output_type": "stream",
     "text": [
      "Pre-processed data found: VitaminDZinc-structures-filteres-by-similarity-to-calcitriol/csv_format/processed/TRANSMOL_VDR_TOP_SIMILAR.pt, loading ...\n",
      "Make prediction for 1001 samples...\n"
     ]
    },
    {
     "name": "stderr",
     "output_type": "stream",
     "text": [
      "100%|██████████| 2/2 [00:00<00:00,  9.13it/s]\n"
     ]
    },
    {
     "name": "stdout",
     "output_type": "stream",
     "text": [
      "Pre-processed data found: VitaminDZinc-structures-filteres-by-similarity-to-calcitriol/csv_format/processed/LOWDATAREGIME_molecules_10_0.7_VDR_TOP_SIMILAR.pt, loading ...\n",
      "Make prediction for 793 samples...\n"
     ]
    },
    {
     "name": "stderr",
     "output_type": "stream",
     "text": [
      "100%|██████████| 2/2 [00:00<00:00,  8.21it/s]\n"
     ]
    },
    {
     "name": "stdout",
     "output_type": "stream",
     "text": [
      "Pre-processed data found: Benzos-structures-filteres-by-similarity-to-diazepam-20211216T105015Z-001/csv_format/processed/LOWDATAREGIME_molecules_30_0.7_BENZOS_TOP_SIMILAR.pt, loading ...\n",
      "Make prediction for 395 samples...\n"
     ]
    },
    {
     "name": "stderr",
     "output_type": "stream",
     "text": [
      "100%|██████████| 1/1 [00:00<00:00, 10.81it/s]\n"
     ]
    },
    {
     "name": "stdout",
     "output_type": "stream",
     "text": [
      "Pre-processed data found: Benzos-structures-filteres-by-similarity-to-diazepam-20211216T105015Z-001/csv_format/processed/TRANSVAE_benzos_pubchem_top_dims_BENZOS_TOP_SIMILAR.pt, loading ...\n",
      "Make prediction for 1001 samples...\n"
     ]
    },
    {
     "name": "stderr",
     "output_type": "stream",
     "text": [
      "100%|██████████| 2/2 [00:00<00:00,  8.88it/s]\n"
     ]
    },
    {
     "name": "stdout",
     "output_type": "stream",
     "text": [
      "Pre-processed data found: Benzos-structures-filteres-by-similarity-to-diazepam-20211216T105015Z-001/csv_format/processed/LOWDATAREGIME_molecules_20_0.7_BENZOS_TOP_SIMILAR.pt, loading ...\n",
      "Make prediction for 475 samples...\n"
     ]
    },
    {
     "name": "stderr",
     "output_type": "stream",
     "text": [
      "100%|██████████| 1/1 [00:00<00:00,  9.45it/s]\n"
     ]
    },
    {
     "name": "stdout",
     "output_type": "stream",
     "text": [
      "Pre-processed data found: Benzos-structures-filteres-by-similarity-to-diazepam-20211216T105015Z-001/csv_format/processed/REINVENT_BENZOS_TOP_SIMILAR.pt, loading ...\n",
      "Make prediction for 1001 samples...\n"
     ]
    },
    {
     "name": "stderr",
     "output_type": "stream",
     "text": [
      "100%|██████████| 2/2 [00:00<00:00,  9.08it/s]\n"
     ]
    },
    {
     "name": "stdout",
     "output_type": "stream",
     "text": [
      "Pre-processed data found: Benzos-structures-filteres-by-similarity-to-diazepam-20211216T105015Z-001/csv_format/processed/TRANSVAE_benzos_zinc_top_dims_BENZOS_TOP_SIMILAR.pt, loading ...\n",
      "Make prediction for 1001 samples...\n"
     ]
    },
    {
     "name": "stderr",
     "output_type": "stream",
     "text": [
      "100%|██████████| 2/2 [00:00<00:00,  8.91it/s]\n"
     ]
    },
    {
     "name": "stdout",
     "output_type": "stream",
     "text": [
      "Pre-processed data found: Benzos-structures-filteres-by-similarity-to-diazepam-20211216T105015Z-001/csv_format/processed/LOWDATAREGIME_molecules_10_0.7_BENZOS_TOP_SIMILAR.pt, loading ...\n",
      "Make prediction for 489 samples...\n"
     ]
    },
    {
     "name": "stderr",
     "output_type": "stream",
     "text": [
      "100%|██████████| 1/1 [00:00<00:00,  5.82it/s]\n"
     ]
    },
    {
     "name": "stdout",
     "output_type": "stream",
     "text": [
      "Pre-processed data found: Benzos-structures-filteres-by-similarity-to-diazepam-20211216T105015Z-001/csv_format/processed/TRANSVAE_benzos_pubchem_k_dims_BENZOS_TOP_SIMILAR.pt, loading ...\n",
      "Make prediction for 1001 samples...\n"
     ]
    },
    {
     "name": "stderr",
     "output_type": "stream",
     "text": [
      "100%|██████████| 2/2 [00:00<00:00,  8.93it/s]\n"
     ]
    },
    {
     "name": "stdout",
     "output_type": "stream",
     "text": [
      "Pre-processed data found: Benzos-structures-filteres-by-similarity-to-diazepam-20211216T105015Z-001/csv_format/processed/TRANSMOL_BENZOS_TOP_SIMILAR.pt, loading ...\n",
      "Make prediction for 1001 samples...\n"
     ]
    },
    {
     "name": "stderr",
     "output_type": "stream",
     "text": [
      "100%|██████████| 2/2 [00:00<00:00,  8.54it/s]\n"
     ]
    },
    {
     "name": "stdout",
     "output_type": "stream",
     "text": [
      "Pre-processed data found: Benzos-structures-filteres-by-similarity-to-diazepam-20211216T105015Z-001/csv_format/processed/TRANSVAE_benzos_zinc_k_dims_BENZOS_TOP_SIMILAR.pt, loading ...\n",
      "Make prediction for 1001 samples...\n"
     ]
    },
    {
     "name": "stderr",
     "output_type": "stream",
     "text": [
      "100%|██████████| 2/2 [00:00<00:00,  9.07it/s]\n"
     ]
    },
    {
     "name": "stdout",
     "output_type": "stream",
     "text": [
      "Pre-processed data found: Benzos-structures-filteres-by-similarity-to-diazepam-20211216T105015Z-001/csv_format/processed/LOWDATAREGIME_molecules_40_0.7_BENZOS_TOP_SIMILAR.pt, loading ...\n",
      "Make prediction for 352 samples...\n"
     ]
    },
    {
     "name": "stderr",
     "output_type": "stream",
     "text": [
      "100%|██████████| 1/1 [00:00<00:00, 11.44it/s]\n"
     ]
    },
    {
     "name": "stdout",
     "output_type": "stream",
     "text": [
      "Pre-processed data found: VitaminDZinc-structures-filteres-by-similarity-to-calcitriol/csv_format/processed/TRANSVAE_vdr_zinc_top_dims_VDR_TOP_SIMILAR.pt, loading ...\n",
      "Make prediction for 1001 samples...\n"
     ]
    },
    {
     "name": "stderr",
     "output_type": "stream",
     "text": [
      "100%|██████████| 2/2 [00:00<00:00,  8.99it/s]\n"
     ]
    },
    {
     "name": "stdout",
     "output_type": "stream",
     "text": [
      "Pre-processed data found: VitaminDZinc-structures-filteres-by-similarity-to-calcitriol/csv_format/processed/REINVENT_VDR_TOP_SIMILAR.pt, loading ...\n",
      "Make prediction for 1001 samples...\n"
     ]
    },
    {
     "name": "stderr",
     "output_type": "stream",
     "text": [
      "100%|██████████| 2/2 [00:00<00:00,  7.70it/s]\n"
     ]
    },
    {
     "name": "stdout",
     "output_type": "stream",
     "text": [
      "Pre-processed data found: VitaminDZinc-structures-filteres-by-similarity-to-calcitriol/csv_format/processed/LOWDATAREGIME_molecules_20_0.7_VDR_TOP_SIMILAR.pt, loading ...\n",
      "Make prediction for 745 samples...\n"
     ]
    },
    {
     "name": "stderr",
     "output_type": "stream",
     "text": [
      "100%|██████████| 2/2 [00:00<00:00,  4.13it/s]\n"
     ]
    },
    {
     "name": "stdout",
     "output_type": "stream",
     "text": [
      "Pre-processed data found: VitaminDZinc-structures-filteres-by-similarity-to-calcitriol/csv_format/processed/TRANSVAE_vdr_pubchem_top_dims_VDR_TOP_SIMILAR.pt, loading ...\n",
      "Make prediction for 1001 samples...\n"
     ]
    },
    {
     "name": "stderr",
     "output_type": "stream",
     "text": [
      "100%|██████████| 2/2 [00:00<00:00,  9.85it/s]\n"
     ]
    },
    {
     "name": "stdout",
     "output_type": "stream",
     "text": [
      "Pre-processed data found: VitaminDZinc-structures-filteres-by-similarity-to-calcitriol/csv_format/processed/LOWDATAREGIME_molecules_40_0.7_VDR_TOP_SIMILAR.pt, loading ...\n",
      "Make prediction for 611 samples...\n"
     ]
    },
    {
     "name": "stderr",
     "output_type": "stream",
     "text": [
      "100%|██████████| 2/2 [00:00<00:00, 12.18it/s]\n"
     ]
    },
    {
     "name": "stdout",
     "output_type": "stream",
     "text": [
      "Pre-processed data found: VitaminDZinc-structures-filteres-by-similarity-to-calcitriol/csv_format/processed/LOWDATAREGIME_molecules_30_0.7_VDR_TOP_SIMILAR.pt, loading ...\n",
      "Make prediction for 666 samples...\n"
     ]
    },
    {
     "name": "stderr",
     "output_type": "stream",
     "text": [
      "100%|██████████| 2/2 [00:00<00:00, 11.47it/s]\n"
     ]
    },
    {
     "name": "stdout",
     "output_type": "stream",
     "text": [
      "Pre-processed data found: VitaminDZinc-structures-filteres-by-similarity-to-calcitriol/csv_format/processed/TRANSVAE_vdr_pubchem_k_dims_VDR_TOP_SIMILAR.pt, loading ...\n",
      "Make prediction for 1001 samples...\n"
     ]
    },
    {
     "name": "stderr",
     "output_type": "stream",
     "text": [
      "100%|██████████| 2/2 [00:00<00:00,  9.59it/s]\n"
     ]
    },
    {
     "name": "stdout",
     "output_type": "stream",
     "text": [
      "Pre-processed data found: VitaminDZinc-structures-filteres-by-similarity-to-calcitriol/csv_format/processed/TRANSVAE_vdr_zinc_k_dims_VDR_TOP_SIMILAR.pt, loading ...\n",
      "Make prediction for 1001 samples...\n"
     ]
    },
    {
     "name": "stderr",
     "output_type": "stream",
     "text": [
      "100%|██████████| 2/2 [00:00<00:00,  7.04it/s]\n"
     ]
    },
    {
     "name": "stdout",
     "output_type": "stream",
     "text": [
      "Pre-processed data found: VitaminDZinc-structures-filteres-by-similarity-to-calcitriol/csv_format/processed/TRANSMOL_VDR_TOP_SIMILAR.pt, loading ...\n",
      "Make prediction for 1001 samples...\n"
     ]
    },
    {
     "name": "stderr",
     "output_type": "stream",
     "text": [
      "100%|██████████| 2/2 [00:00<00:00,  8.40it/s]\n"
     ]
    },
    {
     "name": "stdout",
     "output_type": "stream",
     "text": [
      "Pre-processed data found: VitaminDZinc-structures-filteres-by-similarity-to-calcitriol/csv_format/processed/LOWDATAREGIME_molecules_10_0.7_VDR_TOP_SIMILAR.pt, loading ...\n",
      "Make prediction for 793 samples...\n"
     ]
    },
    {
     "name": "stderr",
     "output_type": "stream",
     "text": [
      "100%|██████████| 2/2 [00:00<00:00, 10.79it/s]\n"
     ]
    },
    {
     "name": "stdout",
     "output_type": "stream",
     "text": [
      "Pre-processed data found: Benzos-structures-filteres-by-similarity-to-diazepam-20211216T105015Z-001/csv_format/processed/LOWDATAREGIME_molecules_30_0.7_BENZOS_TOP_SIMILAR.pt, loading ...\n",
      "Make prediction for 395 samples...\n"
     ]
    },
    {
     "name": "stderr",
     "output_type": "stream",
     "text": [
      "100%|██████████| 1/1 [00:00<00:00, 12.34it/s]\n"
     ]
    },
    {
     "name": "stdout",
     "output_type": "stream",
     "text": [
      "Pre-processed data found: Benzos-structures-filteres-by-similarity-to-diazepam-20211216T105015Z-001/csv_format/processed/TRANSVAE_benzos_pubchem_top_dims_BENZOS_TOP_SIMILAR.pt, loading ...\n",
      "Make prediction for 1001 samples...\n"
     ]
    },
    {
     "name": "stderr",
     "output_type": "stream",
     "text": [
      "100%|██████████| 2/2 [00:00<00:00,  9.33it/s]\n"
     ]
    },
    {
     "name": "stdout",
     "output_type": "stream",
     "text": [
      "Pre-processed data found: Benzos-structures-filteres-by-similarity-to-diazepam-20211216T105015Z-001/csv_format/processed/LOWDATAREGIME_molecules_20_0.7_BENZOS_TOP_SIMILAR.pt, loading ...\n",
      "Make prediction for 475 samples...\n"
     ]
    },
    {
     "name": "stderr",
     "output_type": "stream",
     "text": [
      "100%|██████████| 1/1 [00:00<00:00,  9.71it/s]\n"
     ]
    },
    {
     "name": "stdout",
     "output_type": "stream",
     "text": [
      "Pre-processed data found: Benzos-structures-filteres-by-similarity-to-diazepam-20211216T105015Z-001/csv_format/processed/REINVENT_BENZOS_TOP_SIMILAR.pt, loading ...\n",
      "Make prediction for 1001 samples...\n"
     ]
    },
    {
     "name": "stderr",
     "output_type": "stream",
     "text": [
      "100%|██████████| 2/2 [00:00<00:00,  9.27it/s]\n"
     ]
    },
    {
     "name": "stdout",
     "output_type": "stream",
     "text": [
      "Pre-processed data found: Benzos-structures-filteres-by-similarity-to-diazepam-20211216T105015Z-001/csv_format/processed/TRANSVAE_benzos_zinc_top_dims_BENZOS_TOP_SIMILAR.pt, loading ...\n",
      "Make prediction for 1001 samples...\n"
     ]
    },
    {
     "name": "stderr",
     "output_type": "stream",
     "text": [
      "100%|██████████| 2/2 [00:00<00:00,  6.86it/s]\n"
     ]
    },
    {
     "name": "stdout",
     "output_type": "stream",
     "text": [
      "Pre-processed data found: Benzos-structures-filteres-by-similarity-to-diazepam-20211216T105015Z-001/csv_format/processed/LOWDATAREGIME_molecules_10_0.7_BENZOS_TOP_SIMILAR.pt, loading ...\n",
      "Make prediction for 489 samples...\n"
     ]
    },
    {
     "name": "stderr",
     "output_type": "stream",
     "text": [
      "100%|██████████| 1/1 [00:00<00:00,  9.54it/s]\n"
     ]
    },
    {
     "name": "stdout",
     "output_type": "stream",
     "text": [
      "Pre-processed data found: Benzos-structures-filteres-by-similarity-to-diazepam-20211216T105015Z-001/csv_format/processed/TRANSVAE_benzos_pubchem_k_dims_BENZOS_TOP_SIMILAR.pt, loading ...\n",
      "Make prediction for 1001 samples...\n"
     ]
    },
    {
     "name": "stderr",
     "output_type": "stream",
     "text": [
      "100%|██████████| 2/2 [00:00<00:00,  9.15it/s]\n"
     ]
    },
    {
     "name": "stdout",
     "output_type": "stream",
     "text": [
      "Pre-processed data found: Benzos-structures-filteres-by-similarity-to-diazepam-20211216T105015Z-001/csv_format/processed/TRANSMOL_BENZOS_TOP_SIMILAR.pt, loading ...\n",
      "Make prediction for 1001 samples...\n"
     ]
    },
    {
     "name": "stderr",
     "output_type": "stream",
     "text": [
      "100%|██████████| 2/2 [00:00<00:00,  9.58it/s]\n"
     ]
    },
    {
     "name": "stdout",
     "output_type": "stream",
     "text": [
      "Pre-processed data found: Benzos-structures-filteres-by-similarity-to-diazepam-20211216T105015Z-001/csv_format/processed/TRANSVAE_benzos_zinc_k_dims_BENZOS_TOP_SIMILAR.pt, loading ...\n",
      "Make prediction for 1001 samples...\n"
     ]
    },
    {
     "name": "stderr",
     "output_type": "stream",
     "text": [
      "100%|██████████| 2/2 [00:00<00:00,  9.42it/s]\n"
     ]
    },
    {
     "name": "stdout",
     "output_type": "stream",
     "text": [
      "Pre-processed data found: Benzos-structures-filteres-by-similarity-to-diazepam-20211216T105015Z-001/csv_format/processed/LOWDATAREGIME_molecules_40_0.7_BENZOS_TOP_SIMILAR.pt, loading ...\n",
      "Make prediction for 352 samples...\n"
     ]
    },
    {
     "name": "stderr",
     "output_type": "stream",
     "text": [
      "100%|██████████| 1/1 [00:00<00:00, 12.25it/s]\n"
     ]
    },
    {
     "name": "stdout",
     "output_type": "stream",
     "text": [
      "Pre-processed data found: VitaminDZinc-structures-filteres-by-similarity-to-calcitriol/csv_format/processed/TRANSVAE_vdr_zinc_top_dims_VDR_TOP_SIMILAR.pt, loading ...\n",
      "Make prediction for 1001 samples...\n"
     ]
    },
    {
     "name": "stderr",
     "output_type": "stream",
     "text": [
      "100%|██████████| 2/2 [00:00<00:00,  6.87it/s]\n"
     ]
    },
    {
     "name": "stdout",
     "output_type": "stream",
     "text": [
      "Pre-processed data found: VitaminDZinc-structures-filteres-by-similarity-to-calcitriol/csv_format/processed/REINVENT_VDR_TOP_SIMILAR.pt, loading ...\n",
      "Make prediction for 1001 samples...\n"
     ]
    },
    {
     "name": "stderr",
     "output_type": "stream",
     "text": [
      "100%|██████████| 2/2 [00:00<00:00,  9.28it/s]\n"
     ]
    },
    {
     "name": "stdout",
     "output_type": "stream",
     "text": [
      "Pre-processed data found: VitaminDZinc-structures-filteres-by-similarity-to-calcitriol/csv_format/processed/LOWDATAREGIME_molecules_20_0.7_VDR_TOP_SIMILAR.pt, loading ...\n",
      "Make prediction for 745 samples...\n"
     ]
    },
    {
     "name": "stderr",
     "output_type": "stream",
     "text": [
      "100%|██████████| 2/2 [00:00<00:00,  4.22it/s]\n"
     ]
    },
    {
     "name": "stdout",
     "output_type": "stream",
     "text": [
      "Pre-processed data found: VitaminDZinc-structures-filteres-by-similarity-to-calcitriol/csv_format/processed/TRANSVAE_vdr_pubchem_top_dims_VDR_TOP_SIMILAR.pt, loading ...\n",
      "Make prediction for 1001 samples...\n"
     ]
    },
    {
     "name": "stderr",
     "output_type": "stream",
     "text": [
      "100%|██████████| 2/2 [00:00<00:00, 10.47it/s]\n"
     ]
    },
    {
     "name": "stdout",
     "output_type": "stream",
     "text": [
      "Pre-processed data found: VitaminDZinc-structures-filteres-by-similarity-to-calcitriol/csv_format/processed/LOWDATAREGIME_molecules_40_0.7_VDR_TOP_SIMILAR.pt, loading ...\n",
      "Make prediction for 611 samples...\n"
     ]
    },
    {
     "name": "stderr",
     "output_type": "stream",
     "text": [
      "100%|██████████| 2/2 [00:00<00:00, 13.18it/s]\n"
     ]
    },
    {
     "name": "stdout",
     "output_type": "stream",
     "text": [
      "Pre-processed data found: VitaminDZinc-structures-filteres-by-similarity-to-calcitriol/csv_format/processed/LOWDATAREGIME_molecules_30_0.7_VDR_TOP_SIMILAR.pt, loading ...\n",
      "Make prediction for 666 samples...\n"
     ]
    },
    {
     "name": "stderr",
     "output_type": "stream",
     "text": [
      "100%|██████████| 2/2 [00:00<00:00, 12.13it/s]\n"
     ]
    },
    {
     "name": "stdout",
     "output_type": "stream",
     "text": [
      "Pre-processed data found: VitaminDZinc-structures-filteres-by-similarity-to-calcitriol/csv_format/processed/TRANSVAE_vdr_pubchem_k_dims_VDR_TOP_SIMILAR.pt, loading ...\n",
      "Make prediction for 1001 samples...\n"
     ]
    },
    {
     "name": "stderr",
     "output_type": "stream",
     "text": [
      "100%|██████████| 2/2 [00:00<00:00,  7.01it/s]\n"
     ]
    },
    {
     "name": "stdout",
     "output_type": "stream",
     "text": [
      "Pre-processed data found: VitaminDZinc-structures-filteres-by-similarity-to-calcitriol/csv_format/processed/TRANSVAE_vdr_zinc_k_dims_VDR_TOP_SIMILAR.pt, loading ...\n",
      "Make prediction for 1001 samples...\n"
     ]
    },
    {
     "name": "stderr",
     "output_type": "stream",
     "text": [
      "100%|██████████| 2/2 [00:00<00:00,  9.36it/s]\n"
     ]
    },
    {
     "name": "stdout",
     "output_type": "stream",
     "text": [
      "Pre-processed data found: VitaminDZinc-structures-filteres-by-similarity-to-calcitriol/csv_format/processed/TRANSMOL_VDR_TOP_SIMILAR.pt, loading ...\n",
      "Make prediction for 1001 samples...\n"
     ]
    },
    {
     "name": "stderr",
     "output_type": "stream",
     "text": [
      "100%|██████████| 2/2 [00:00<00:00,  9.16it/s]\n"
     ]
    },
    {
     "name": "stdout",
     "output_type": "stream",
     "text": [
      "Pre-processed data found: VitaminDZinc-structures-filteres-by-similarity-to-calcitriol/csv_format/processed/LOWDATAREGIME_molecules_10_0.7_VDR_TOP_SIMILAR.pt, loading ...\n",
      "Make prediction for 793 samples...\n"
     ]
    },
    {
     "name": "stderr",
     "output_type": "stream",
     "text": [
      "100%|██████████| 2/2 [00:00<00:00, 11.02it/s]\n"
     ]
    },
    {
     "name": "stdout",
     "output_type": "stream",
     "text": [
      "Pre-processed data found: Benzos-structures-filteres-by-similarity-to-diazepam-20211216T105015Z-001/csv_format/processed/LOWDATAREGIME_molecules_30_0.7_BENZOS_TOP_SIMILAR.pt, loading ...\n",
      "Make prediction for 395 samples...\n"
     ]
    },
    {
     "name": "stderr",
     "output_type": "stream",
     "text": [
      "100%|██████████| 1/1 [00:00<00:00, 10.71it/s]\n"
     ]
    },
    {
     "name": "stdout",
     "output_type": "stream",
     "text": [
      "Pre-processed data found: Benzos-structures-filteres-by-similarity-to-diazepam-20211216T105015Z-001/csv_format/processed/TRANSVAE_benzos_pubchem_top_dims_BENZOS_TOP_SIMILAR.pt, loading ...\n",
      "Make prediction for 1001 samples...\n"
     ]
    },
    {
     "name": "stderr",
     "output_type": "stream",
     "text": [
      "100%|██████████| 2/2 [00:00<00:00,  9.10it/s]\n"
     ]
    },
    {
     "name": "stdout",
     "output_type": "stream",
     "text": [
      "Pre-processed data found: Benzos-structures-filteres-by-similarity-to-diazepam-20211216T105015Z-001/csv_format/processed/LOWDATAREGIME_molecules_20_0.7_BENZOS_TOP_SIMILAR.pt, loading ...\n",
      "Make prediction for 475 samples...\n"
     ]
    },
    {
     "name": "stderr",
     "output_type": "stream",
     "text": [
      "100%|██████████| 1/1 [00:00<00:00,  9.46it/s]\n"
     ]
    },
    {
     "name": "stdout",
     "output_type": "stream",
     "text": [
      "Pre-processed data found: Benzos-structures-filteres-by-similarity-to-diazepam-20211216T105015Z-001/csv_format/processed/REINVENT_BENZOS_TOP_SIMILAR.pt, loading ...\n",
      "Make prediction for 1001 samples...\n"
     ]
    },
    {
     "name": "stderr",
     "output_type": "stream",
     "text": [
      "100%|██████████| 2/2 [00:00<00:00,  6.97it/s]\n"
     ]
    },
    {
     "name": "stdout",
     "output_type": "stream",
     "text": [
      "Pre-processed data found: Benzos-structures-filteres-by-similarity-to-diazepam-20211216T105015Z-001/csv_format/processed/TRANSVAE_benzos_zinc_top_dims_BENZOS_TOP_SIMILAR.pt, loading ...\n",
      "Make prediction for 1001 samples...\n"
     ]
    },
    {
     "name": "stderr",
     "output_type": "stream",
     "text": [
      "100%|██████████| 2/2 [00:00<00:00,  9.00it/s]\n"
     ]
    },
    {
     "name": "stdout",
     "output_type": "stream",
     "text": [
      "Pre-processed data found: Benzos-structures-filteres-by-similarity-to-diazepam-20211216T105015Z-001/csv_format/processed/LOWDATAREGIME_molecules_10_0.7_BENZOS_TOP_SIMILAR.pt, loading ...\n",
      "Make prediction for 489 samples...\n"
     ]
    },
    {
     "name": "stderr",
     "output_type": "stream",
     "text": [
      "100%|██████████| 1/1 [00:00<00:00,  9.17it/s]\n"
     ]
    },
    {
     "name": "stdout",
     "output_type": "stream",
     "text": [
      "Pre-processed data found: Benzos-structures-filteres-by-similarity-to-diazepam-20211216T105015Z-001/csv_format/processed/TRANSVAE_benzos_pubchem_k_dims_BENZOS_TOP_SIMILAR.pt, loading ...\n",
      "Make prediction for 1001 samples...\n"
     ]
    },
    {
     "name": "stderr",
     "output_type": "stream",
     "text": [
      "100%|██████████| 2/2 [00:00<00:00,  9.22it/s]\n"
     ]
    },
    {
     "name": "stdout",
     "output_type": "stream",
     "text": [
      "Pre-processed data found: Benzos-structures-filteres-by-similarity-to-diazepam-20211216T105015Z-001/csv_format/processed/TRANSMOL_BENZOS_TOP_SIMILAR.pt, loading ...\n",
      "Make prediction for 1001 samples...\n"
     ]
    },
    {
     "name": "stderr",
     "output_type": "stream",
     "text": [
      "100%|██████████| 2/2 [00:00<00:00,  8.67it/s]\n"
     ]
    },
    {
     "name": "stdout",
     "output_type": "stream",
     "text": [
      "Pre-processed data found: Benzos-structures-filteres-by-similarity-to-diazepam-20211216T105015Z-001/csv_format/processed/TRANSVAE_benzos_zinc_k_dims_BENZOS_TOP_SIMILAR.pt, loading ...\n",
      "Make prediction for 1001 samples...\n"
     ]
    },
    {
     "name": "stderr",
     "output_type": "stream",
     "text": [
      "100%|██████████| 2/2 [00:00<00:00,  6.98it/s]\n"
     ]
    },
    {
     "name": "stdout",
     "output_type": "stream",
     "text": [
      "Pre-processed data found: Benzos-structures-filteres-by-similarity-to-diazepam-20211216T105015Z-001/csv_format/processed/LOWDATAREGIME_molecules_40_0.7_BENZOS_TOP_SIMILAR.pt, loading ...\n",
      "Make prediction for 352 samples...\n"
     ]
    },
    {
     "name": "stderr",
     "output_type": "stream",
     "text": [
      "100%|██████████| 1/1 [00:00<00:00, 11.41it/s]\n"
     ]
    },
    {
     "name": "stdout",
     "output_type": "stream",
     "text": [
      "Pre-processed data found: VitaminDZinc-structures-filteres-by-similarity-to-calcitriol/csv_format/processed/TRANSVAE_vdr_zinc_top_dims_VDR_TOP_SIMILAR.pt, loading ...\n",
      "Make prediction for 1001 samples...\n"
     ]
    },
    {
     "name": "stderr",
     "output_type": "stream",
     "text": [
      "100%|██████████| 2/2 [00:00<00:00,  8.96it/s]\n"
     ]
    },
    {
     "name": "stdout",
     "output_type": "stream",
     "text": [
      "Pre-processed data found: VitaminDZinc-structures-filteres-by-similarity-to-calcitriol/csv_format/processed/REINVENT_VDR_TOP_SIMILAR.pt, loading ...\n",
      "Make prediction for 1001 samples...\n"
     ]
    },
    {
     "name": "stderr",
     "output_type": "stream",
     "text": [
      "100%|██████████| 2/2 [00:00<00:00,  8.85it/s]\n"
     ]
    },
    {
     "name": "stdout",
     "output_type": "stream",
     "text": [
      "Pre-processed data found: VitaminDZinc-structures-filteres-by-similarity-to-calcitriol/csv_format/processed/LOWDATAREGIME_molecules_20_0.7_VDR_TOP_SIMILAR.pt, loading ...\n",
      "Make prediction for 745 samples...\n"
     ]
    },
    {
     "name": "stderr",
     "output_type": "stream",
     "text": [
      "100%|██████████| 2/2 [00:00<00:00,  4.15it/s]\n"
     ]
    },
    {
     "name": "stdout",
     "output_type": "stream",
     "text": [
      "Pre-processed data found: VitaminDZinc-structures-filteres-by-similarity-to-calcitriol/csv_format/processed/TRANSVAE_vdr_pubchem_top_dims_VDR_TOP_SIMILAR.pt, loading ...\n",
      "Make prediction for 1001 samples...\n"
     ]
    },
    {
     "name": "stderr",
     "output_type": "stream",
     "text": [
      "100%|██████████| 2/2 [00:00<00:00, 10.51it/s]\n"
     ]
    },
    {
     "name": "stdout",
     "output_type": "stream",
     "text": [
      "Pre-processed data found: VitaminDZinc-structures-filteres-by-similarity-to-calcitriol/csv_format/processed/LOWDATAREGIME_molecules_40_0.7_VDR_TOP_SIMILAR.pt, loading ...\n",
      "Make prediction for 611 samples...\n"
     ]
    },
    {
     "name": "stderr",
     "output_type": "stream",
     "text": [
      "100%|██████████| 2/2 [00:00<00:00, 12.17it/s]\n"
     ]
    },
    {
     "name": "stdout",
     "output_type": "stream",
     "text": [
      "Pre-processed data found: VitaminDZinc-structures-filteres-by-similarity-to-calcitriol/csv_format/processed/LOWDATAREGIME_molecules_30_0.7_VDR_TOP_SIMILAR.pt, loading ...\n",
      "Make prediction for 666 samples...\n"
     ]
    },
    {
     "name": "stderr",
     "output_type": "stream",
     "text": [
      "100%|██████████| 2/2 [00:00<00:00,  8.71it/s]\n"
     ]
    },
    {
     "name": "stdout",
     "output_type": "stream",
     "text": [
      "Pre-processed data found: VitaminDZinc-structures-filteres-by-similarity-to-calcitriol/csv_format/processed/TRANSVAE_vdr_pubchem_k_dims_VDR_TOP_SIMILAR.pt, loading ...\n",
      "Make prediction for 1001 samples...\n"
     ]
    },
    {
     "name": "stderr",
     "output_type": "stream",
     "text": [
      "100%|██████████| 2/2 [00:00<00:00,  8.69it/s]\n"
     ]
    },
    {
     "name": "stdout",
     "output_type": "stream",
     "text": [
      "Pre-processed data found: VitaminDZinc-structures-filteres-by-similarity-to-calcitriol/csv_format/processed/TRANSVAE_vdr_zinc_k_dims_VDR_TOP_SIMILAR.pt, loading ...\n",
      "Make prediction for 1001 samples...\n"
     ]
    },
    {
     "name": "stderr",
     "output_type": "stream",
     "text": [
      "100%|██████████| 2/2 [00:00<00:00,  9.09it/s]\n"
     ]
    },
    {
     "name": "stdout",
     "output_type": "stream",
     "text": [
      "Pre-processed data found: VitaminDZinc-structures-filteres-by-similarity-to-calcitriol/csv_format/processed/TRANSMOL_VDR_TOP_SIMILAR.pt, loading ...\n",
      "Make prediction for 1001 samples...\n"
     ]
    },
    {
     "name": "stderr",
     "output_type": "stream",
     "text": [
      "100%|██████████| 2/2 [00:00<00:00,  8.85it/s]\n"
     ]
    },
    {
     "name": "stdout",
     "output_type": "stream",
     "text": [
      "Pre-processed data found: VitaminDZinc-structures-filteres-by-similarity-to-calcitriol/csv_format/processed/LOWDATAREGIME_molecules_10_0.7_VDR_TOP_SIMILAR.pt, loading ...\n",
      "Make prediction for 793 samples...\n"
     ]
    },
    {
     "name": "stderr",
     "output_type": "stream",
     "text": [
      "100%|██████████| 2/2 [00:00<00:00, 10.49it/s]\n"
     ]
    },
    {
     "name": "stdout",
     "output_type": "stream",
     "text": [
      "Pre-processed data found: Benzos-structures-filteres-by-similarity-to-diazepam-20211216T105015Z-001/csv_format/processed/LOWDATAREGIME_molecules_30_0.7_BENZOS_TOP_SIMILAR.pt, loading ...\n",
      "Make prediction for 395 samples...\n"
     ]
    },
    {
     "name": "stderr",
     "output_type": "stream",
     "text": [
      "100%|██████████| 1/1 [00:00<00:00, 11.93it/s]\n"
     ]
    },
    {
     "name": "stdout",
     "output_type": "stream",
     "text": [
      "Pre-processed data found: Benzos-structures-filteres-by-similarity-to-diazepam-20211216T105015Z-001/csv_format/processed/TRANSVAE_benzos_pubchem_top_dims_BENZOS_TOP_SIMILAR.pt, loading ...\n",
      "Make prediction for 1001 samples...\n"
     ]
    },
    {
     "name": "stderr",
     "output_type": "stream",
     "text": [
      "100%|██████████| 2/2 [00:00<00:00,  7.10it/s]\n"
     ]
    },
    {
     "name": "stdout",
     "output_type": "stream",
     "text": [
      "Pre-processed data found: Benzos-structures-filteres-by-similarity-to-diazepam-20211216T105015Z-001/csv_format/processed/LOWDATAREGIME_molecules_20_0.7_BENZOS_TOP_SIMILAR.pt, loading ...\n",
      "Make prediction for 475 samples...\n"
     ]
    },
    {
     "name": "stderr",
     "output_type": "stream",
     "text": [
      "100%|██████████| 1/1 [00:00<00:00,  9.44it/s]\n"
     ]
    },
    {
     "name": "stdout",
     "output_type": "stream",
     "text": [
      "Pre-processed data found: Benzos-structures-filteres-by-similarity-to-diazepam-20211216T105015Z-001/csv_format/processed/REINVENT_BENZOS_TOP_SIMILAR.pt, loading ...\n",
      "Make prediction for 1001 samples...\n"
     ]
    },
    {
     "name": "stderr",
     "output_type": "stream",
     "text": [
      "100%|██████████| 2/2 [00:00<00:00,  9.32it/s]\n"
     ]
    },
    {
     "name": "stdout",
     "output_type": "stream",
     "text": [
      "Pre-processed data found: Benzos-structures-filteres-by-similarity-to-diazepam-20211216T105015Z-001/csv_format/processed/TRANSVAE_benzos_zinc_top_dims_BENZOS_TOP_SIMILAR.pt, loading ...\n",
      "Make prediction for 1001 samples...\n"
     ]
    },
    {
     "name": "stderr",
     "output_type": "stream",
     "text": [
      "100%|██████████| 2/2 [00:00<00:00,  9.21it/s]\n"
     ]
    },
    {
     "name": "stdout",
     "output_type": "stream",
     "text": [
      "Pre-processed data found: Benzos-structures-filteres-by-similarity-to-diazepam-20211216T105015Z-001/csv_format/processed/LOWDATAREGIME_molecules_10_0.7_BENZOS_TOP_SIMILAR.pt, loading ...\n",
      "Make prediction for 489 samples...\n"
     ]
    },
    {
     "name": "stderr",
     "output_type": "stream",
     "text": [
      "100%|██████████| 1/1 [00:00<00:00,  9.53it/s]\n"
     ]
    },
    {
     "name": "stdout",
     "output_type": "stream",
     "text": [
      "Pre-processed data found: Benzos-structures-filteres-by-similarity-to-diazepam-20211216T105015Z-001/csv_format/processed/TRANSVAE_benzos_pubchem_k_dims_BENZOS_TOP_SIMILAR.pt, loading ...\n",
      "Make prediction for 1001 samples...\n"
     ]
    },
    {
     "name": "stderr",
     "output_type": "stream",
     "text": [
      "100%|██████████| 2/2 [00:00<00:00,  9.22it/s]\n"
     ]
    },
    {
     "name": "stdout",
     "output_type": "stream",
     "text": [
      "Pre-processed data found: Benzos-structures-filteres-by-similarity-to-diazepam-20211216T105015Z-001/csv_format/processed/TRANSMOL_BENZOS_TOP_SIMILAR.pt, loading ...\n",
      "Make prediction for 1001 samples...\n"
     ]
    },
    {
     "name": "stderr",
     "output_type": "stream",
     "text": [
      "100%|██████████| 2/2 [00:00<00:00,  6.83it/s]\n"
     ]
    },
    {
     "name": "stdout",
     "output_type": "stream",
     "text": [
      "Pre-processed data found: Benzos-structures-filteres-by-similarity-to-diazepam-20211216T105015Z-001/csv_format/processed/TRANSVAE_benzos_zinc_k_dims_BENZOS_TOP_SIMILAR.pt, loading ...\n",
      "Make prediction for 1001 samples...\n"
     ]
    },
    {
     "name": "stderr",
     "output_type": "stream",
     "text": [
      "100%|██████████| 2/2 [00:00<00:00,  9.34it/s]\n"
     ]
    },
    {
     "name": "stdout",
     "output_type": "stream",
     "text": [
      "Pre-processed data found: Benzos-structures-filteres-by-similarity-to-diazepam-20211216T105015Z-001/csv_format/processed/LOWDATAREGIME_molecules_40_0.7_BENZOS_TOP_SIMILAR.pt, loading ...\n",
      "Make prediction for 352 samples...\n"
     ]
    },
    {
     "name": "stderr",
     "output_type": "stream",
     "text": [
      "100%|██████████| 1/1 [00:00<00:00, 13.26it/s]\n"
     ]
    },
    {
     "name": "stdout",
     "output_type": "stream",
     "text": [
      "Pre-processed data found: VitaminDZinc-structures-filteres-by-similarity-to-calcitriol/csv_format/processed/TRANSVAE_vdr_zinc_top_dims_VDR_TOP_SIMILAR.pt, loading ...\n",
      "Make prediction for 1001 samples...\n"
     ]
    },
    {
     "name": "stderr",
     "output_type": "stream",
     "text": [
      "100%|██████████| 2/2 [00:00<00:00,  9.08it/s]\n"
     ]
    },
    {
     "name": "stdout",
     "output_type": "stream",
     "text": [
      "Pre-processed data found: VitaminDZinc-structures-filteres-by-similarity-to-calcitriol/csv_format/processed/REINVENT_VDR_TOP_SIMILAR.pt, loading ...\n",
      "Make prediction for 1001 samples...\n"
     ]
    },
    {
     "name": "stderr",
     "output_type": "stream",
     "text": [
      "100%|██████████| 2/2 [00:00<00:00,  9.35it/s]\n"
     ]
    },
    {
     "name": "stdout",
     "output_type": "stream",
     "text": [
      "Pre-processed data found: VitaminDZinc-structures-filteres-by-similarity-to-calcitriol/csv_format/processed/LOWDATAREGIME_molecules_20_0.7_VDR_TOP_SIMILAR.pt, loading ...\n",
      "Make prediction for 745 samples...\n"
     ]
    },
    {
     "name": "stderr",
     "output_type": "stream",
     "text": [
      "100%|██████████| 2/2 [00:00<00:00,  4.19it/s]\n"
     ]
    },
    {
     "name": "stdout",
     "output_type": "stream",
     "text": [
      "Pre-processed data found: VitaminDZinc-structures-filteres-by-similarity-to-calcitriol/csv_format/processed/TRANSVAE_vdr_pubchem_top_dims_VDR_TOP_SIMILAR.pt, loading ...\n",
      "Make prediction for 1001 samples...\n"
     ]
    },
    {
     "name": "stderr",
     "output_type": "stream",
     "text": [
      "100%|██████████| 2/2 [00:00<00:00,  7.65it/s]\n"
     ]
    },
    {
     "name": "stdout",
     "output_type": "stream",
     "text": [
      "Pre-processed data found: VitaminDZinc-structures-filteres-by-similarity-to-calcitriol/csv_format/processed/LOWDATAREGIME_molecules_40_0.7_VDR_TOP_SIMILAR.pt, loading ...\n",
      "Make prediction for 611 samples...\n"
     ]
    },
    {
     "name": "stderr",
     "output_type": "stream",
     "text": [
      "100%|██████████| 2/2 [00:00<00:00, 13.67it/s]\n"
     ]
    },
    {
     "name": "stdout",
     "output_type": "stream",
     "text": [
      "Pre-processed data found: VitaminDZinc-structures-filteres-by-similarity-to-calcitriol/csv_format/processed/LOWDATAREGIME_molecules_30_0.7_VDR_TOP_SIMILAR.pt, loading ...\n",
      "Make prediction for 666 samples...\n"
     ]
    },
    {
     "name": "stderr",
     "output_type": "stream",
     "text": [
      "100%|██████████| 2/2 [00:00<00:00, 12.26it/s]\n"
     ]
    },
    {
     "name": "stdout",
     "output_type": "stream",
     "text": [
      "Pre-processed data found: VitaminDZinc-structures-filteres-by-similarity-to-calcitriol/csv_format/processed/TRANSVAE_vdr_pubchem_k_dims_VDR_TOP_SIMILAR.pt, loading ...\n",
      "Make prediction for 1001 samples...\n"
     ]
    },
    {
     "name": "stderr",
     "output_type": "stream",
     "text": [
      "100%|██████████| 2/2 [00:00<00:00,  9.17it/s]\n"
     ]
    },
    {
     "name": "stdout",
     "output_type": "stream",
     "text": [
      "Pre-processed data found: VitaminDZinc-structures-filteres-by-similarity-to-calcitriol/csv_format/processed/TRANSVAE_vdr_zinc_k_dims_VDR_TOP_SIMILAR.pt, loading ...\n",
      "Make prediction for 1001 samples...\n"
     ]
    },
    {
     "name": "stderr",
     "output_type": "stream",
     "text": [
      "100%|██████████| 2/2 [00:00<00:00,  9.42it/s]\n"
     ]
    },
    {
     "name": "stdout",
     "output_type": "stream",
     "text": [
      "Pre-processed data found: VitaminDZinc-structures-filteres-by-similarity-to-calcitriol/csv_format/processed/TRANSMOL_VDR_TOP_SIMILAR.pt, loading ...\n",
      "Make prediction for 1001 samples...\n"
     ]
    },
    {
     "name": "stderr",
     "output_type": "stream",
     "text": [
      "100%|██████████| 2/2 [00:00<00:00,  9.11it/s]\n"
     ]
    },
    {
     "name": "stdout",
     "output_type": "stream",
     "text": [
      "Pre-processed data found: VitaminDZinc-structures-filteres-by-similarity-to-calcitriol/csv_format/processed/LOWDATAREGIME_molecules_10_0.7_VDR_TOP_SIMILAR.pt, loading ...\n",
      "Make prediction for 793 samples...\n"
     ]
    },
    {
     "name": "stderr",
     "output_type": "stream",
     "text": [
      "100%|██████████| 2/2 [00:00<00:00,  8.05it/s]\n"
     ]
    },
    {
     "name": "stdout",
     "output_type": "stream",
     "text": [
      "Pre-processed data found: Benzos-structures-filteres-by-similarity-to-diazepam-20211216T105015Z-001/csv_format/processed/LOWDATAREGIME_molecules_30_0.7_BENZOS_TOP_SIMILAR.pt, loading ...\n",
      "Make prediction for 395 samples...\n"
     ]
    },
    {
     "name": "stderr",
     "output_type": "stream",
     "text": [
      "100%|██████████| 1/1 [00:00<00:00, 11.22it/s]\n"
     ]
    },
    {
     "name": "stdout",
     "output_type": "stream",
     "text": [
      "Pre-processed data found: Benzos-structures-filteres-by-similarity-to-diazepam-20211216T105015Z-001/csv_format/processed/TRANSVAE_benzos_pubchem_top_dims_BENZOS_TOP_SIMILAR.pt, loading ...\n",
      "Make prediction for 1001 samples...\n"
     ]
    },
    {
     "name": "stderr",
     "output_type": "stream",
     "text": [
      "100%|██████████| 2/2 [00:00<00:00,  9.13it/s]\n"
     ]
    },
    {
     "name": "stdout",
     "output_type": "stream",
     "text": [
      "Pre-processed data found: Benzos-structures-filteres-by-similarity-to-diazepam-20211216T105015Z-001/csv_format/processed/LOWDATAREGIME_molecules_20_0.7_BENZOS_TOP_SIMILAR.pt, loading ...\n",
      "Make prediction for 475 samples...\n"
     ]
    },
    {
     "name": "stderr",
     "output_type": "stream",
     "text": [
      "100%|██████████| 1/1 [00:00<00:00,  9.78it/s]\n"
     ]
    },
    {
     "name": "stdout",
     "output_type": "stream",
     "text": [
      "Pre-processed data found: Benzos-structures-filteres-by-similarity-to-diazepam-20211216T105015Z-001/csv_format/processed/REINVENT_BENZOS_TOP_SIMILAR.pt, loading ...\n",
      "Make prediction for 1001 samples...\n"
     ]
    },
    {
     "name": "stderr",
     "output_type": "stream",
     "text": [
      "100%|██████████| 2/2 [00:00<00:00,  9.28it/s]\n"
     ]
    },
    {
     "name": "stdout",
     "output_type": "stream",
     "text": [
      "Pre-processed data found: Benzos-structures-filteres-by-similarity-to-diazepam-20211216T105015Z-001/csv_format/processed/TRANSVAE_benzos_zinc_top_dims_BENZOS_TOP_SIMILAR.pt, loading ...\n",
      "Make prediction for 1001 samples...\n"
     ]
    },
    {
     "name": "stderr",
     "output_type": "stream",
     "text": [
      "100%|██████████| 2/2 [00:00<00:00,  9.42it/s]\n"
     ]
    },
    {
     "name": "stdout",
     "output_type": "stream",
     "text": [
      "Pre-processed data found: Benzos-structures-filteres-by-similarity-to-diazepam-20211216T105015Z-001/csv_format/processed/LOWDATAREGIME_molecules_10_0.7_BENZOS_TOP_SIMILAR.pt, loading ...\n",
      "Make prediction for 489 samples...\n"
     ]
    },
    {
     "name": "stderr",
     "output_type": "stream",
     "text": [
      "100%|██████████| 1/1 [00:00<00:00,  8.44it/s]\n"
     ]
    },
    {
     "name": "stdout",
     "output_type": "stream",
     "text": [
      "Pre-processed data found: Benzos-structures-filteres-by-similarity-to-diazepam-20211216T105015Z-001/csv_format/processed/TRANSVAE_benzos_pubchem_k_dims_BENZOS_TOP_SIMILAR.pt, loading ...\n",
      "Make prediction for 1001 samples...\n"
     ]
    },
    {
     "name": "stderr",
     "output_type": "stream",
     "text": [
      "100%|██████████| 2/2 [00:00<00:00,  7.12it/s]\n"
     ]
    },
    {
     "name": "stdout",
     "output_type": "stream",
     "text": [
      "Pre-processed data found: Benzos-structures-filteres-by-similarity-to-diazepam-20211216T105015Z-001/csv_format/processed/TRANSMOL_BENZOS_TOP_SIMILAR.pt, loading ...\n",
      "Make prediction for 1001 samples...\n"
     ]
    },
    {
     "name": "stderr",
     "output_type": "stream",
     "text": [
      "100%|██████████| 2/2 [00:00<00:00,  9.25it/s]\n"
     ]
    },
    {
     "name": "stdout",
     "output_type": "stream",
     "text": [
      "Pre-processed data found: Benzos-structures-filteres-by-similarity-to-diazepam-20211216T105015Z-001/csv_format/processed/TRANSVAE_benzos_zinc_k_dims_BENZOS_TOP_SIMILAR.pt, loading ...\n",
      "Make prediction for 1001 samples...\n"
     ]
    },
    {
     "name": "stderr",
     "output_type": "stream",
     "text": [
      "100%|██████████| 2/2 [00:00<00:00,  9.35it/s]\n"
     ]
    },
    {
     "name": "stdout",
     "output_type": "stream",
     "text": [
      "Pre-processed data found: Benzos-structures-filteres-by-similarity-to-diazepam-20211216T105015Z-001/csv_format/processed/LOWDATAREGIME_molecules_40_0.7_BENZOS_TOP_SIMILAR.pt, loading ...\n",
      "Make prediction for 352 samples...\n"
     ]
    },
    {
     "name": "stderr",
     "output_type": "stream",
     "text": [
      "100%|██████████| 1/1 [00:00<00:00, 12.25it/s]\n"
     ]
    },
    {
     "name": "stdout",
     "output_type": "stream",
     "text": [
      "Pre-processed data found: VitaminDZinc-structures-filteres-by-similarity-to-calcitriol/csv_format/processed/TRANSVAE_vdr_zinc_top_dims_VDR_TOP_SIMILAR.pt, loading ...\n",
      "Make prediction for 1001 samples...\n"
     ]
    },
    {
     "name": "stderr",
     "output_type": "stream",
     "text": [
      "100%|██████████| 2/2 [00:00<00:00,  9.37it/s]\n"
     ]
    },
    {
     "name": "stdout",
     "output_type": "stream",
     "text": [
      "Pre-processed data found: VitaminDZinc-structures-filteres-by-similarity-to-calcitriol/csv_format/processed/REINVENT_VDR_TOP_SIMILAR.pt, loading ...\n",
      "Make prediction for 1001 samples...\n"
     ]
    },
    {
     "name": "stderr",
     "output_type": "stream",
     "text": [
      "100%|██████████| 2/2 [00:00<00:00,  9.30it/s]\n"
     ]
    },
    {
     "name": "stdout",
     "output_type": "stream",
     "text": [
      "Pre-processed data found: VitaminDZinc-structures-filteres-by-similarity-to-calcitriol/csv_format/processed/LOWDATAREGIME_molecules_20_0.7_VDR_TOP_SIMILAR.pt, loading ...\n",
      "Make prediction for 745 samples...\n"
     ]
    },
    {
     "name": "stderr",
     "output_type": "stream",
     "text": [
      "100%|██████████| 2/2 [00:00<00:00,  3.73it/s]\n"
     ]
    },
    {
     "name": "stdout",
     "output_type": "stream",
     "text": [
      "Pre-processed data found: VitaminDZinc-structures-filteres-by-similarity-to-calcitriol/csv_format/processed/TRANSVAE_vdr_pubchem_top_dims_VDR_TOP_SIMILAR.pt, loading ...\n",
      "Make prediction for 1001 samples...\n"
     ]
    },
    {
     "name": "stderr",
     "output_type": "stream",
     "text": [
      "100%|██████████| 2/2 [00:00<00:00,  9.91it/s]\n"
     ]
    },
    {
     "name": "stdout",
     "output_type": "stream",
     "text": [
      "Pre-processed data found: VitaminDZinc-structures-filteres-by-similarity-to-calcitriol/csv_format/processed/LOWDATAREGIME_molecules_40_0.7_VDR_TOP_SIMILAR.pt, loading ...\n",
      "Make prediction for 611 samples...\n"
     ]
    },
    {
     "name": "stderr",
     "output_type": "stream",
     "text": [
      "100%|██████████| 2/2 [00:00<00:00, 12.95it/s]\n"
     ]
    },
    {
     "name": "stdout",
     "output_type": "stream",
     "text": [
      "Pre-processed data found: VitaminDZinc-structures-filteres-by-similarity-to-calcitriol/csv_format/processed/LOWDATAREGIME_molecules_30_0.7_VDR_TOP_SIMILAR.pt, loading ...\n",
      "Make prediction for 666 samples...\n"
     ]
    },
    {
     "name": "stderr",
     "output_type": "stream",
     "text": [
      "100%|██████████| 2/2 [00:00<00:00, 12.67it/s]\n"
     ]
    },
    {
     "name": "stdout",
     "output_type": "stream",
     "text": [
      "Pre-processed data found: VitaminDZinc-structures-filteres-by-similarity-to-calcitriol/csv_format/processed/TRANSVAE_vdr_pubchem_k_dims_VDR_TOP_SIMILAR.pt, loading ...\n",
      "Make prediction for 1001 samples...\n"
     ]
    },
    {
     "name": "stderr",
     "output_type": "stream",
     "text": [
      "100%|██████████| 2/2 [00:00<00:00,  9.17it/s]\n"
     ]
    },
    {
     "name": "stdout",
     "output_type": "stream",
     "text": [
      "Pre-processed data found: VitaminDZinc-structures-filteres-by-similarity-to-calcitriol/csv_format/processed/TRANSVAE_vdr_zinc_k_dims_VDR_TOP_SIMILAR.pt, loading ...\n",
      "Make prediction for 1001 samples...\n"
     ]
    },
    {
     "name": "stderr",
     "output_type": "stream",
     "text": [
      "100%|██████████| 2/2 [00:00<00:00,  9.04it/s]\n"
     ]
    },
    {
     "name": "stdout",
     "output_type": "stream",
     "text": [
      "Pre-processed data found: VitaminDZinc-structures-filteres-by-similarity-to-calcitriol/csv_format/processed/TRANSMOL_VDR_TOP_SIMILAR.pt, loading ...\n",
      "Make prediction for 1001 samples...\n"
     ]
    },
    {
     "name": "stderr",
     "output_type": "stream",
     "text": [
      "100%|██████████| 2/2 [00:00<00:00,  6.59it/s]\n"
     ]
    },
    {
     "name": "stdout",
     "output_type": "stream",
     "text": [
      "Pre-processed data found: VitaminDZinc-structures-filteres-by-similarity-to-calcitriol/csv_format/processed/LOWDATAREGIME_molecules_10_0.7_VDR_TOP_SIMILAR.pt, loading ...\n",
      "Make prediction for 793 samples...\n"
     ]
    },
    {
     "name": "stderr",
     "output_type": "stream",
     "text": [
      "100%|██████████| 2/2 [00:00<00:00, 10.90it/s]\n"
     ]
    },
    {
     "name": "stdout",
     "output_type": "stream",
     "text": [
      "Pre-processed data found: Benzos-structures-filteres-by-similarity-to-diazepam-20211216T105015Z-001/csv_format/processed/LOWDATAREGIME_molecules_30_0.7_BENZOS_TOP_SIMILAR.pt, loading ...\n",
      "Make prediction for 395 samples...\n"
     ]
    },
    {
     "name": "stderr",
     "output_type": "stream",
     "text": [
      "100%|██████████| 1/1 [00:00<00:00, 10.57it/s]\n"
     ]
    },
    {
     "name": "stdout",
     "output_type": "stream",
     "text": [
      "Pre-processed data found: Benzos-structures-filteres-by-similarity-to-diazepam-20211216T105015Z-001/csv_format/processed/TRANSVAE_benzos_pubchem_top_dims_BENZOS_TOP_SIMILAR.pt, loading ...\n",
      "Make prediction for 1001 samples...\n"
     ]
    },
    {
     "name": "stderr",
     "output_type": "stream",
     "text": [
      "100%|██████████| 2/2 [00:00<00:00,  8.60it/s]\n"
     ]
    },
    {
     "name": "stdout",
     "output_type": "stream",
     "text": [
      "Pre-processed data found: Benzos-structures-filteres-by-similarity-to-diazepam-20211216T105015Z-001/csv_format/processed/LOWDATAREGIME_molecules_20_0.7_BENZOS_TOP_SIMILAR.pt, loading ...\n",
      "Make prediction for 475 samples...\n"
     ]
    },
    {
     "name": "stderr",
     "output_type": "stream",
     "text": [
      "100%|██████████| 1/1 [00:00<00:00,  9.30it/s]\n"
     ]
    },
    {
     "name": "stdout",
     "output_type": "stream",
     "text": [
      "Pre-processed data found: Benzos-structures-filteres-by-similarity-to-diazepam-20211216T105015Z-001/csv_format/processed/REINVENT_BENZOS_TOP_SIMILAR.pt, loading ...\n",
      "Make prediction for 1001 samples...\n"
     ]
    },
    {
     "name": "stderr",
     "output_type": "stream",
     "text": [
      "100%|██████████| 2/2 [00:00<00:00,  8.86it/s]\n"
     ]
    },
    {
     "name": "stdout",
     "output_type": "stream",
     "text": [
      "Pre-processed data found: Benzos-structures-filteres-by-similarity-to-diazepam-20211216T105015Z-001/csv_format/processed/TRANSVAE_benzos_zinc_top_dims_BENZOS_TOP_SIMILAR.pt, loading ...\n",
      "Make prediction for 1001 samples...\n"
     ]
    },
    {
     "name": "stderr",
     "output_type": "stream",
     "text": [
      "100%|██████████| 2/2 [00:00<00:00,  8.99it/s]\n"
     ]
    },
    {
     "name": "stdout",
     "output_type": "stream",
     "text": [
      "Pre-processed data found: Benzos-structures-filteres-by-similarity-to-diazepam-20211216T105015Z-001/csv_format/processed/LOWDATAREGIME_molecules_10_0.7_BENZOS_TOP_SIMILAR.pt, loading ...\n",
      "Make prediction for 489 samples...\n"
     ]
    },
    {
     "name": "stderr",
     "output_type": "stream",
     "text": [
      "100%|██████████| 1/1 [00:00<00:00,  5.79it/s]\n"
     ]
    },
    {
     "name": "stdout",
     "output_type": "stream",
     "text": [
      "Pre-processed data found: Benzos-structures-filteres-by-similarity-to-diazepam-20211216T105015Z-001/csv_format/processed/TRANSVAE_benzos_pubchem_k_dims_BENZOS_TOP_SIMILAR.pt, loading ...\n",
      "Make prediction for 1001 samples...\n"
     ]
    },
    {
     "name": "stderr",
     "output_type": "stream",
     "text": [
      "100%|██████████| 2/2 [00:00<00:00,  9.02it/s]\n"
     ]
    },
    {
     "name": "stdout",
     "output_type": "stream",
     "text": [
      "Pre-processed data found: Benzos-structures-filteres-by-similarity-to-diazepam-20211216T105015Z-001/csv_format/processed/TRANSMOL_BENZOS_TOP_SIMILAR.pt, loading ...\n",
      "Make prediction for 1001 samples...\n"
     ]
    },
    {
     "name": "stderr",
     "output_type": "stream",
     "text": [
      "100%|██████████| 2/2 [00:00<00:00,  8.97it/s]\n"
     ]
    },
    {
     "name": "stdout",
     "output_type": "stream",
     "text": [
      "Pre-processed data found: Benzos-structures-filteres-by-similarity-to-diazepam-20211216T105015Z-001/csv_format/processed/TRANSVAE_benzos_zinc_k_dims_BENZOS_TOP_SIMILAR.pt, loading ...\n",
      "Make prediction for 1001 samples...\n"
     ]
    },
    {
     "name": "stderr",
     "output_type": "stream",
     "text": [
      "100%|██████████| 2/2 [00:00<00:00,  8.89it/s]\n"
     ]
    },
    {
     "name": "stdout",
     "output_type": "stream",
     "text": [
      "Pre-processed data found: Benzos-structures-filteres-by-similarity-to-diazepam-20211216T105015Z-001/csv_format/processed/LOWDATAREGIME_molecules_40_0.7_BENZOS_TOP_SIMILAR.pt, loading ...\n",
      "Make prediction for 352 samples...\n"
     ]
    },
    {
     "name": "stderr",
     "output_type": "stream",
     "text": [
      "100%|██████████| 1/1 [00:00<00:00, 11.71it/s]\n"
     ]
    },
    {
     "name": "stdout",
     "output_type": "stream",
     "text": [
      "Pre-processed data found: VitaminDZinc-structures-filteres-by-similarity-to-calcitriol/csv_format/processed/TRANSVAE_vdr_zinc_top_dims_VDR_TOP_SIMILAR.pt, loading ...\n",
      "Make prediction for 1001 samples...\n"
     ]
    },
    {
     "name": "stderr",
     "output_type": "stream",
     "text": [
      "100%|██████████| 2/2 [00:00<00:00,  8.99it/s]\n"
     ]
    },
    {
     "name": "stdout",
     "output_type": "stream",
     "text": [
      "Pre-processed data found: VitaminDZinc-structures-filteres-by-similarity-to-calcitriol/csv_format/processed/REINVENT_VDR_TOP_SIMILAR.pt, loading ...\n",
      "Make prediction for 1001 samples...\n"
     ]
    },
    {
     "name": "stderr",
     "output_type": "stream",
     "text": [
      "100%|██████████| 2/2 [00:00<00:00,  7.01it/s]\n"
     ]
    },
    {
     "name": "stdout",
     "output_type": "stream",
     "text": [
      "Pre-processed data found: VitaminDZinc-structures-filteres-by-similarity-to-calcitriol/csv_format/processed/LOWDATAREGIME_molecules_20_0.7_VDR_TOP_SIMILAR.pt, loading ...\n",
      "Make prediction for 745 samples...\n"
     ]
    },
    {
     "name": "stderr",
     "output_type": "stream",
     "text": [
      "100%|██████████| 2/2 [00:00<00:00,  4.14it/s]\n"
     ]
    },
    {
     "name": "stdout",
     "output_type": "stream",
     "text": [
      "Pre-processed data found: VitaminDZinc-structures-filteres-by-similarity-to-calcitriol/csv_format/processed/TRANSVAE_vdr_pubchem_top_dims_VDR_TOP_SIMILAR.pt, loading ...\n",
      "Make prediction for 1001 samples...\n"
     ]
    },
    {
     "name": "stderr",
     "output_type": "stream",
     "text": [
      "100%|██████████| 2/2 [00:00<00:00,  9.90it/s]\n"
     ]
    },
    {
     "name": "stdout",
     "output_type": "stream",
     "text": [
      "Pre-processed data found: VitaminDZinc-structures-filteres-by-similarity-to-calcitriol/csv_format/processed/LOWDATAREGIME_molecules_40_0.7_VDR_TOP_SIMILAR.pt, loading ...\n",
      "Make prediction for 611 samples...\n"
     ]
    },
    {
     "name": "stderr",
     "output_type": "stream",
     "text": [
      "100%|██████████| 2/2 [00:00<00:00, 12.48it/s]\n"
     ]
    },
    {
     "name": "stdout",
     "output_type": "stream",
     "text": [
      "Pre-processed data found: VitaminDZinc-structures-filteres-by-similarity-to-calcitriol/csv_format/processed/LOWDATAREGIME_molecules_30_0.7_VDR_TOP_SIMILAR.pt, loading ...\n",
      "Make prediction for 666 samples...\n"
     ]
    },
    {
     "name": "stderr",
     "output_type": "stream",
     "text": [
      "100%|██████████| 2/2 [00:00<00:00, 11.45it/s]\n"
     ]
    },
    {
     "name": "stdout",
     "output_type": "stream",
     "text": [
      "Pre-processed data found: VitaminDZinc-structures-filteres-by-similarity-to-calcitriol/csv_format/processed/TRANSVAE_vdr_pubchem_k_dims_VDR_TOP_SIMILAR.pt, loading ...\n",
      "Make prediction for 1001 samples...\n"
     ]
    },
    {
     "name": "stderr",
     "output_type": "stream",
     "text": [
      "100%|██████████| 2/2 [00:00<00:00,  8.99it/s]\n"
     ]
    },
    {
     "name": "stdout",
     "output_type": "stream",
     "text": [
      "Pre-processed data found: VitaminDZinc-structures-filteres-by-similarity-to-calcitriol/csv_format/processed/TRANSVAE_vdr_zinc_k_dims_VDR_TOP_SIMILAR.pt, loading ...\n",
      "Make prediction for 1001 samples...\n"
     ]
    },
    {
     "name": "stderr",
     "output_type": "stream",
     "text": [
      "100%|██████████| 2/2 [00:00<00:00,  7.05it/s]\n"
     ]
    },
    {
     "name": "stdout",
     "output_type": "stream",
     "text": [
      "Pre-processed data found: VitaminDZinc-structures-filteres-by-similarity-to-calcitriol/csv_format/processed/TRANSMOL_VDR_TOP_SIMILAR.pt, loading ...\n",
      "Make prediction for 1001 samples...\n"
     ]
    },
    {
     "name": "stderr",
     "output_type": "stream",
     "text": [
      "100%|██████████| 2/2 [00:00<00:00,  9.07it/s]\n"
     ]
    },
    {
     "name": "stdout",
     "output_type": "stream",
     "text": [
      "Pre-processed data found: VitaminDZinc-structures-filteres-by-similarity-to-calcitriol/csv_format/processed/LOWDATAREGIME_molecules_10_0.7_VDR_TOP_SIMILAR.pt, loading ...\n",
      "Make prediction for 793 samples...\n"
     ]
    },
    {
     "name": "stderr",
     "output_type": "stream",
     "text": [
      "100%|██████████| 2/2 [00:00<00:00,  9.98it/s]\n"
     ]
    },
    {
     "name": "stdout",
     "output_type": "stream",
     "text": [
      "Pre-processed data found: Benzos-structures-filteres-by-similarity-to-diazepam-20211216T105015Z-001/csv_format/processed/LOWDATAREGIME_molecules_30_0.7_BENZOS_TOP_SIMILAR.pt, loading ...\n",
      "Make prediction for 395 samples...\n"
     ]
    },
    {
     "name": "stderr",
     "output_type": "stream",
     "text": [
      "100%|██████████| 1/1 [00:00<00:00, 11.17it/s]\n"
     ]
    },
    {
     "name": "stdout",
     "output_type": "stream",
     "text": [
      "Pre-processed data found: Benzos-structures-filteres-by-similarity-to-diazepam-20211216T105015Z-001/csv_format/processed/TRANSVAE_benzos_pubchem_top_dims_BENZOS_TOP_SIMILAR.pt, loading ...\n",
      "Make prediction for 1001 samples...\n"
     ]
    },
    {
     "name": "stderr",
     "output_type": "stream",
     "text": [
      "100%|██████████| 2/2 [00:00<00:00,  8.94it/s]\n"
     ]
    },
    {
     "name": "stdout",
     "output_type": "stream",
     "text": [
      "Pre-processed data found: Benzos-structures-filteres-by-similarity-to-diazepam-20211216T105015Z-001/csv_format/processed/LOWDATAREGIME_molecules_20_0.7_BENZOS_TOP_SIMILAR.pt, loading ...\n",
      "Make prediction for 475 samples...\n"
     ]
    },
    {
     "name": "stderr",
     "output_type": "stream",
     "text": [
      "100%|██████████| 1/1 [00:00<00:00,  9.32it/s]\n"
     ]
    },
    {
     "name": "stdout",
     "output_type": "stream",
     "text": [
      "Pre-processed data found: Benzos-structures-filteres-by-similarity-to-diazepam-20211216T105015Z-001/csv_format/processed/REINVENT_BENZOS_TOP_SIMILAR.pt, loading ...\n",
      "Make prediction for 1001 samples...\n"
     ]
    },
    {
     "name": "stderr",
     "output_type": "stream",
     "text": [
      "100%|██████████| 2/2 [00:00<00:00,  8.72it/s]\n"
     ]
    },
    {
     "name": "stdout",
     "output_type": "stream",
     "text": [
      "Pre-processed data found: Benzos-structures-filteres-by-similarity-to-diazepam-20211216T105015Z-001/csv_format/processed/TRANSVAE_benzos_zinc_top_dims_BENZOS_TOP_SIMILAR.pt, loading ...\n",
      "Make prediction for 1001 samples...\n"
     ]
    },
    {
     "name": "stderr",
     "output_type": "stream",
     "text": [
      "100%|██████████| 2/2 [00:00<00:00,  7.58it/s]\n"
     ]
    },
    {
     "name": "stdout",
     "output_type": "stream",
     "text": [
      "Pre-processed data found: Benzos-structures-filteres-by-similarity-to-diazepam-20211216T105015Z-001/csv_format/processed/LOWDATAREGIME_molecules_10_0.7_BENZOS_TOP_SIMILAR.pt, loading ...\n",
      "Make prediction for 489 samples...\n"
     ]
    },
    {
     "name": "stderr",
     "output_type": "stream",
     "text": [
      "100%|██████████| 1/1 [00:00<00:00,  9.16it/s]\n"
     ]
    },
    {
     "name": "stdout",
     "output_type": "stream",
     "text": [
      "Pre-processed data found: Benzos-structures-filteres-by-similarity-to-diazepam-20211216T105015Z-001/csv_format/processed/TRANSVAE_benzos_pubchem_k_dims_BENZOS_TOP_SIMILAR.pt, loading ...\n",
      "Make prediction for 1001 samples...\n"
     ]
    },
    {
     "name": "stderr",
     "output_type": "stream",
     "text": [
      "100%|██████████| 2/2 [00:00<00:00,  8.93it/s]\n"
     ]
    },
    {
     "name": "stdout",
     "output_type": "stream",
     "text": [
      "Pre-processed data found: Benzos-structures-filteres-by-similarity-to-diazepam-20211216T105015Z-001/csv_format/processed/TRANSMOL_BENZOS_TOP_SIMILAR.pt, loading ...\n",
      "Make prediction for 1001 samples...\n"
     ]
    },
    {
     "name": "stderr",
     "output_type": "stream",
     "text": [
      "100%|██████████| 2/2 [00:00<00:00,  8.98it/s]\n"
     ]
    },
    {
     "name": "stdout",
     "output_type": "stream",
     "text": [
      "Pre-processed data found: Benzos-structures-filteres-by-similarity-to-diazepam-20211216T105015Z-001/csv_format/processed/TRANSVAE_benzos_zinc_k_dims_BENZOS_TOP_SIMILAR.pt, loading ...\n",
      "Make prediction for 1001 samples...\n"
     ]
    },
    {
     "name": "stderr",
     "output_type": "stream",
     "text": [
      "100%|██████████| 2/2 [00:00<00:00,  9.02it/s]\n"
     ]
    },
    {
     "name": "stdout",
     "output_type": "stream",
     "text": [
      "Pre-processed data found: Benzos-structures-filteres-by-similarity-to-diazepam-20211216T105015Z-001/csv_format/processed/LOWDATAREGIME_molecules_40_0.7_BENZOS_TOP_SIMILAR.pt, loading ...\n",
      "Make prediction for 352 samples...\n"
     ]
    },
    {
     "name": "stderr",
     "output_type": "stream",
     "text": [
      "100%|██████████| 1/1 [00:00<00:00, 11.65it/s]\n"
     ]
    },
    {
     "name": "stdout",
     "output_type": "stream",
     "text": [
      "Pre-processed data found: VitaminDZinc-structures-filteres-by-similarity-to-calcitriol/csv_format/processed/TRANSVAE_vdr_zinc_top_dims_VDR_TOP_SIMILAR.pt, loading ...\n",
      "Make prediction for 1001 samples...\n"
     ]
    },
    {
     "name": "stderr",
     "output_type": "stream",
     "text": [
      "100%|██████████| 2/2 [00:00<00:00,  7.05it/s]\n"
     ]
    },
    {
     "name": "stdout",
     "output_type": "stream",
     "text": [
      "Pre-processed data found: VitaminDZinc-structures-filteres-by-similarity-to-calcitriol/csv_format/processed/REINVENT_VDR_TOP_SIMILAR.pt, loading ...\n",
      "Make prediction for 1001 samples...\n"
     ]
    },
    {
     "name": "stderr",
     "output_type": "stream",
     "text": [
      "100%|██████████| 2/2 [00:00<00:00,  8.89it/s]\n"
     ]
    },
    {
     "name": "stdout",
     "output_type": "stream",
     "text": [
      "Pre-processed data found: VitaminDZinc-structures-filteres-by-similarity-to-calcitriol/csv_format/processed/LOWDATAREGIME_molecules_20_0.7_VDR_TOP_SIMILAR.pt, loading ...\n",
      "Make prediction for 745 samples...\n"
     ]
    },
    {
     "name": "stderr",
     "output_type": "stream",
     "text": [
      "100%|██████████| 2/2 [00:00<00:00,  4.09it/s]\n"
     ]
    },
    {
     "name": "stdout",
     "output_type": "stream",
     "text": [
      "Pre-processed data found: VitaminDZinc-structures-filteres-by-similarity-to-calcitriol/csv_format/processed/TRANSVAE_vdr_pubchem_top_dims_VDR_TOP_SIMILAR.pt, loading ...\n",
      "Make prediction for 1001 samples...\n"
     ]
    },
    {
     "name": "stderr",
     "output_type": "stream",
     "text": [
      "100%|██████████| 2/2 [00:00<00:00,  9.92it/s]\n"
     ]
    },
    {
     "name": "stdout",
     "output_type": "stream",
     "text": [
      "Pre-processed data found: VitaminDZinc-structures-filteres-by-similarity-to-calcitriol/csv_format/processed/LOWDATAREGIME_molecules_40_0.7_VDR_TOP_SIMILAR.pt, loading ...\n",
      "Make prediction for 611 samples...\n"
     ]
    },
    {
     "name": "stderr",
     "output_type": "stream",
     "text": [
      "100%|██████████| 2/2 [00:00<00:00, 12.40it/s]\n"
     ]
    },
    {
     "name": "stdout",
     "output_type": "stream",
     "text": [
      "Pre-processed data found: VitaminDZinc-structures-filteres-by-similarity-to-calcitriol/csv_format/processed/LOWDATAREGIME_molecules_30_0.7_VDR_TOP_SIMILAR.pt, loading ...\n",
      "Make prediction for 666 samples...\n"
     ]
    },
    {
     "name": "stderr",
     "output_type": "stream",
     "text": [
      "100%|██████████| 2/2 [00:00<00:00, 12.21it/s]\n"
     ]
    },
    {
     "name": "stdout",
     "output_type": "stream",
     "text": [
      "Pre-processed data found: VitaminDZinc-structures-filteres-by-similarity-to-calcitriol/csv_format/processed/TRANSVAE_vdr_pubchem_k_dims_VDR_TOP_SIMILAR.pt, loading ...\n",
      "Make prediction for 1001 samples...\n"
     ]
    },
    {
     "name": "stderr",
     "output_type": "stream",
     "text": [
      "100%|██████████| 2/2 [00:00<00:00,  6.60it/s]\n"
     ]
    },
    {
     "name": "stdout",
     "output_type": "stream",
     "text": [
      "Pre-processed data found: VitaminDZinc-structures-filteres-by-similarity-to-calcitriol/csv_format/processed/TRANSVAE_vdr_zinc_k_dims_VDR_TOP_SIMILAR.pt, loading ...\n",
      "Make prediction for 1001 samples...\n"
     ]
    },
    {
     "name": "stderr",
     "output_type": "stream",
     "text": [
      "100%|██████████| 2/2 [00:00<00:00,  9.14it/s]\n"
     ]
    },
    {
     "name": "stdout",
     "output_type": "stream",
     "text": [
      "Pre-processed data found: VitaminDZinc-structures-filteres-by-similarity-to-calcitriol/csv_format/processed/TRANSMOL_VDR_TOP_SIMILAR.pt, loading ...\n",
      "Make prediction for 1001 samples...\n"
     ]
    },
    {
     "name": "stderr",
     "output_type": "stream",
     "text": [
      "100%|██████████| 2/2 [00:00<00:00,  8.79it/s]\n"
     ]
    },
    {
     "name": "stdout",
     "output_type": "stream",
     "text": [
      "Pre-processed data found: VitaminDZinc-structures-filteres-by-similarity-to-calcitriol/csv_format/processed/LOWDATAREGIME_molecules_10_0.7_VDR_TOP_SIMILAR.pt, loading ...\n",
      "Make prediction for 793 samples...\n"
     ]
    },
    {
     "name": "stderr",
     "output_type": "stream",
     "text": [
      "100%|██████████| 2/2 [00:00<00:00, 10.42it/s]\n"
     ]
    },
    {
     "name": "stdout",
     "output_type": "stream",
     "text": [
      "Pre-processed data found: Benzos-structures-filteres-by-similarity-to-diazepam-20211216T105015Z-001/csv_format/processed/LOWDATAREGIME_molecules_30_0.7_BENZOS_TOP_SIMILAR.pt, loading ...\n",
      "Make prediction for 395 samples...\n"
     ]
    },
    {
     "name": "stderr",
     "output_type": "stream",
     "text": [
      "100%|██████████| 1/1 [00:00<00:00,  8.73it/s]\n"
     ]
    },
    {
     "name": "stdout",
     "output_type": "stream",
     "text": [
      "Pre-processed data found: Benzos-structures-filteres-by-similarity-to-diazepam-20211216T105015Z-001/csv_format/processed/TRANSVAE_benzos_pubchem_top_dims_BENZOS_TOP_SIMILAR.pt, loading ...\n",
      "Make prediction for 1001 samples...\n"
     ]
    },
    {
     "name": "stderr",
     "output_type": "stream",
     "text": [
      "100%|██████████| 2/2 [00:00<00:00,  8.81it/s]\n"
     ]
    },
    {
     "name": "stdout",
     "output_type": "stream",
     "text": [
      "Pre-processed data found: Benzos-structures-filteres-by-similarity-to-diazepam-20211216T105015Z-001/csv_format/processed/LOWDATAREGIME_molecules_20_0.7_BENZOS_TOP_SIMILAR.pt, loading ...\n",
      "Make prediction for 475 samples...\n"
     ]
    },
    {
     "name": "stderr",
     "output_type": "stream",
     "text": [
      "100%|██████████| 1/1 [00:00<00:00,  6.05it/s]\n"
     ]
    },
    {
     "name": "stdout",
     "output_type": "stream",
     "text": [
      "Pre-processed data found: Benzos-structures-filteres-by-similarity-to-diazepam-20211216T105015Z-001/csv_format/processed/REINVENT_BENZOS_TOP_SIMILAR.pt, loading ...\n",
      "Make prediction for 1001 samples...\n"
     ]
    },
    {
     "name": "stderr",
     "output_type": "stream",
     "text": [
      "100%|██████████| 2/2 [00:00<00:00,  8.90it/s]\n"
     ]
    },
    {
     "name": "stdout",
     "output_type": "stream",
     "text": [
      "Pre-processed data found: Benzos-structures-filteres-by-similarity-to-diazepam-20211216T105015Z-001/csv_format/processed/TRANSVAE_benzos_zinc_top_dims_BENZOS_TOP_SIMILAR.pt, loading ...\n",
      "Make prediction for 1001 samples...\n"
     ]
    },
    {
     "name": "stderr",
     "output_type": "stream",
     "text": [
      "100%|██████████| 2/2 [00:00<00:00,  9.04it/s]\n"
     ]
    },
    {
     "name": "stdout",
     "output_type": "stream",
     "text": [
      "Pre-processed data found: Benzos-structures-filteres-by-similarity-to-diazepam-20211216T105015Z-001/csv_format/processed/LOWDATAREGIME_molecules_10_0.7_BENZOS_TOP_SIMILAR.pt, loading ...\n",
      "Make prediction for 489 samples...\n"
     ]
    },
    {
     "name": "stderr",
     "output_type": "stream",
     "text": [
      "100%|██████████| 1/1 [00:00<00:00,  9.30it/s]\n"
     ]
    },
    {
     "name": "stdout",
     "output_type": "stream",
     "text": [
      "Pre-processed data found: Benzos-structures-filteres-by-similarity-to-diazepam-20211216T105015Z-001/csv_format/processed/TRANSVAE_benzos_pubchem_k_dims_BENZOS_TOP_SIMILAR.pt, loading ...\n",
      "Make prediction for 1001 samples...\n"
     ]
    },
    {
     "name": "stderr",
     "output_type": "stream",
     "text": [
      "100%|██████████| 2/2 [00:00<00:00,  8.91it/s]\n"
     ]
    },
    {
     "name": "stdout",
     "output_type": "stream",
     "text": [
      "Pre-processed data found: Benzos-structures-filteres-by-similarity-to-diazepam-20211216T105015Z-001/csv_format/processed/TRANSMOL_BENZOS_TOP_SIMILAR.pt, loading ...\n",
      "Make prediction for 1001 samples...\n"
     ]
    },
    {
     "name": "stderr",
     "output_type": "stream",
     "text": [
      "100%|██████████| 2/2 [00:00<00:00,  8.99it/s]\n"
     ]
    },
    {
     "name": "stdout",
     "output_type": "stream",
     "text": [
      "Pre-processed data found: Benzos-structures-filteres-by-similarity-to-diazepam-20211216T105015Z-001/csv_format/processed/TRANSVAE_benzos_zinc_k_dims_BENZOS_TOP_SIMILAR.pt, loading ...\n",
      "Make prediction for 1001 samples...\n"
     ]
    },
    {
     "name": "stderr",
     "output_type": "stream",
     "text": [
      "100%|██████████| 2/2 [00:00<00:00,  7.45it/s]\n"
     ]
    },
    {
     "name": "stdout",
     "output_type": "stream",
     "text": [
      "Pre-processed data found: Benzos-structures-filteres-by-similarity-to-diazepam-20211216T105015Z-001/csv_format/processed/LOWDATAREGIME_molecules_40_0.7_BENZOS_TOP_SIMILAR.pt, loading ...\n",
      "Make prediction for 352 samples...\n"
     ]
    },
    {
     "name": "stderr",
     "output_type": "stream",
     "text": [
      "100%|██████████| 1/1 [00:00<00:00, 11.58it/s]\n"
     ]
    },
    {
     "name": "stdout",
     "output_type": "stream",
     "text": [
      "Pre-processed data found: VitaminDZinc-structures-filteres-by-similarity-to-calcitriol/csv_format/processed/TRANSVAE_vdr_zinc_top_dims_VDR_TOP_SIMILAR.pt, loading ...\n",
      "Make prediction for 1001 samples...\n"
     ]
    },
    {
     "name": "stderr",
     "output_type": "stream",
     "text": [
      "100%|██████████| 2/2 [00:00<00:00,  8.72it/s]\n"
     ]
    },
    {
     "name": "stdout",
     "output_type": "stream",
     "text": [
      "Pre-processed data found: VitaminDZinc-structures-filteres-by-similarity-to-calcitriol/csv_format/processed/REINVENT_VDR_TOP_SIMILAR.pt, loading ...\n",
      "Make prediction for 1001 samples...\n"
     ]
    },
    {
     "name": "stderr",
     "output_type": "stream",
     "text": [
      "100%|██████████| 2/2 [00:00<00:00,  8.74it/s]\n"
     ]
    },
    {
     "name": "stdout",
     "output_type": "stream",
     "text": [
      "Pre-processed data found: VitaminDZinc-structures-filteres-by-similarity-to-calcitriol/csv_format/processed/LOWDATAREGIME_molecules_20_0.7_VDR_TOP_SIMILAR.pt, loading ...\n",
      "Make prediction for 745 samples...\n"
     ]
    },
    {
     "name": "stderr",
     "output_type": "stream",
     "text": [
      "100%|██████████| 2/2 [00:00<00:00,  4.12it/s]\n"
     ]
    },
    {
     "name": "stdout",
     "output_type": "stream",
     "text": [
      "Pre-processed data found: VitaminDZinc-structures-filteres-by-similarity-to-calcitriol/csv_format/processed/TRANSVAE_vdr_pubchem_top_dims_VDR_TOP_SIMILAR.pt, loading ...\n",
      "Make prediction for 1001 samples...\n"
     ]
    },
    {
     "name": "stderr",
     "output_type": "stream",
     "text": [
      "100%|██████████| 2/2 [00:00<00:00, 10.89it/s]"
     ]
    },
    {
     "name": "stdout",
     "output_type": "stream",
     "text": [
      "Pre-processed data found: VitaminDZinc-structures-filteres-by-similarity-to-calcitriol/csv_format/processed/LOWDATAREGIME_molecules_40_0.7_VDR_TOP_SIMILAR.pt, loading ...\n"
     ]
    },
    {
     "name": "stderr",
     "output_type": "stream",
     "text": [
      "\n"
     ]
    },
    {
     "name": "stdout",
     "output_type": "stream",
     "text": [
      "Make prediction for 611 samples...\n"
     ]
    },
    {
     "name": "stderr",
     "output_type": "stream",
     "text": [
      "100%|██████████| 2/2 [00:00<00:00,  9.86it/s]\n"
     ]
    },
    {
     "name": "stdout",
     "output_type": "stream",
     "text": [
      "Pre-processed data found: VitaminDZinc-structures-filteres-by-similarity-to-calcitriol/csv_format/processed/LOWDATAREGIME_molecules_30_0.7_VDR_TOP_SIMILAR.pt, loading ...\n",
      "Make prediction for 666 samples...\n"
     ]
    },
    {
     "name": "stderr",
     "output_type": "stream",
     "text": [
      "100%|██████████| 2/2 [00:00<00:00, 11.45it/s]\n"
     ]
    },
    {
     "name": "stdout",
     "output_type": "stream",
     "text": [
      "Pre-processed data found: VitaminDZinc-structures-filteres-by-similarity-to-calcitriol/csv_format/processed/TRANSVAE_vdr_pubchem_k_dims_VDR_TOP_SIMILAR.pt, loading ...\n",
      "Make prediction for 1001 samples...\n"
     ]
    },
    {
     "name": "stderr",
     "output_type": "stream",
     "text": [
      "100%|██████████| 2/2 [00:00<00:00,  9.05it/s]\n"
     ]
    },
    {
     "name": "stdout",
     "output_type": "stream",
     "text": [
      "Pre-processed data found: VitaminDZinc-structures-filteres-by-similarity-to-calcitriol/csv_format/processed/TRANSVAE_vdr_zinc_k_dims_VDR_TOP_SIMILAR.pt, loading ...\n",
      "Make prediction for 1001 samples...\n"
     ]
    },
    {
     "name": "stderr",
     "output_type": "stream",
     "text": [
      "100%|██████████| 2/2 [00:00<00:00,  9.00it/s]\n"
     ]
    },
    {
     "name": "stdout",
     "output_type": "stream",
     "text": [
      "Pre-processed data found: VitaminDZinc-structures-filteres-by-similarity-to-calcitriol/csv_format/processed/TRANSMOL_VDR_TOP_SIMILAR.pt, loading ...\n",
      "Make prediction for 1001 samples...\n"
     ]
    },
    {
     "name": "stderr",
     "output_type": "stream",
     "text": [
      "100%|██████████| 2/2 [00:00<00:00,  8.88it/s]\n"
     ]
    },
    {
     "name": "stdout",
     "output_type": "stream",
     "text": [
      "Pre-processed data found: VitaminDZinc-structures-filteres-by-similarity-to-calcitriol/csv_format/processed/LOWDATAREGIME_molecules_10_0.7_VDR_TOP_SIMILAR.pt, loading ...\n",
      "Make prediction for 793 samples...\n"
     ]
    },
    {
     "name": "stderr",
     "output_type": "stream",
     "text": [
      "100%|██████████| 2/2 [00:00<00:00, 10.39it/s]\n"
     ]
    }
   ],
   "source": [
    "for i in range(len(models_list)):\n",
    "    device = torch.device('cuda:4' if torch.cuda.is_available() else \"cpu\")\n",
    "    modeling = model_arch[i]\n",
    "    model = modeling()\n",
    "    model.to(device)\n",
    "    model.load_state_dict(torch.load(models_list[i],map_location='cuda:4'))\n",
    "\n",
    "    TEST_BATCH_SIZE = 512\n",
    "    for k,v in D_benzos.items():\n",
    "        test_data = TestbedDataset(root=benzos_path, dataset=str(k))\n",
    "        test_loader = DataLoader(test_data, batch_size=TEST_BATCH_SIZE, shuffle=False)\n",
    "        pred = predicting(model, device, test_loader)\n",
    "        D_benzos[k][model_names[i]] = pred\n",
    "\n",
    "    for k,v in D_vitamind.items():\n",
    "        test_data = TestbedDataset(root=vdr_path, dataset=str(k))\n",
    "        test_loader = DataLoader(test_data, batch_size=TEST_BATCH_SIZE, shuffle=False)\n",
    "        pred = predicting(model, device, test_loader)\n",
    "        D_vitamind[k][model_names[i]] = pred\n"
   ]
  },
  {
   "cell_type": "code",
   "execution_count": 9,
   "metadata": {},
   "outputs": [
    {
     "data": {
      "text/html": [
       "<div>\n",
       "<style scoped>\n",
       "    .dataframe tbody tr th:only-of-type {\n",
       "        vertical-align: middle;\n",
       "    }\n",
       "\n",
       "    .dataframe tbody tr th {\n",
       "        vertical-align: top;\n",
       "    }\n",
       "\n",
       "    .dataframe thead th {\n",
       "        text-align: right;\n",
       "    }\n",
       "</style>\n",
       "<table border=\"1\" class=\"dataframe\">\n",
       "  <thead>\n",
       "    <tr style=\"text-align: right;\">\n",
       "      <th></th>\n",
       "      <th>Drug</th>\n",
       "      <th>Target</th>\n",
       "      <th>Y</th>\n",
       "      <th>GAT_GCN_davis</th>\n",
       "      <th>GATNet_davis</th>\n",
       "      <th>GATNet_davis2</th>\n",
       "      <th>GCNNet_davis</th>\n",
       "      <th>GINConvNet_davis</th>\n",
       "      <th>GAT_GCN_kiba</th>\n",
       "      <th>GATNet_kiba</th>\n",
       "      <th>...</th>\n",
       "      <th>GAT_GCN_bdtdc_ki_latest</th>\n",
       "      <th>GAT_GCN_bdtdc_ic50_latest</th>\n",
       "      <th>GCNNet_bindingdb_kd_latest</th>\n",
       "      <th>GAT_GCN_bindingdb_kd_latest</th>\n",
       "      <th>GCNNet_bindingdb_ki_latest</th>\n",
       "      <th>GAT_GCN_bindingdb_ki_latest</th>\n",
       "      <th>GAT_GCN_bindingdb_ic50_latest</th>\n",
       "      <th>GCNNet_bindingdb_ic50_latest</th>\n",
       "      <th>GCNNet_bdtdc_ic50_latest_v2</th>\n",
       "      <th>GCNNet_bdtdc_ki_latest_v2</th>\n",
       "    </tr>\n",
       "  </thead>\n",
       "  <tbody>\n",
       "    <tr>\n",
       "      <th>0</th>\n",
       "      <td>CC(CCCC(C)(C)O)C1CCC2C1(CCCC2=CC=C3CC(CC(C3=C)...</td>\n",
       "      <td>MEAMAASTSLPDPGDFDRNVPRICGVCGDRATGFHFNAMTCEGCKG...</td>\n",
       "      <td>0.0</td>\n",
       "      <td>6.163424</td>\n",
       "      <td>5.611393</td>\n",
       "      <td>5.386049</td>\n",
       "      <td>5.143214</td>\n",
       "      <td>5.143952</td>\n",
       "      <td>10.954560</td>\n",
       "      <td>10.292741</td>\n",
       "      <td>...</td>\n",
       "      <td>8.341628</td>\n",
       "      <td>4.642188</td>\n",
       "      <td>9.265543</td>\n",
       "      <td>6.598283</td>\n",
       "      <td>7.592827</td>\n",
       "      <td>8.693158</td>\n",
       "      <td>7.631602</td>\n",
       "      <td>6.123209</td>\n",
       "      <td>7.292428</td>\n",
       "      <td>5.926140</td>\n",
       "    </tr>\n",
       "    <tr>\n",
       "      <th>1</th>\n",
       "      <td>C=C1C(=CC=C2CCCC3(C)C2CCC3C(C)C(C)CCCC(C)(C)O)...</td>\n",
       "      <td>MEAMAASTSLPDPGDFDRNVPRICGVCGDRATGFHFNAMTCEGCKG...</td>\n",
       "      <td>0.0</td>\n",
       "      <td>6.182073</td>\n",
       "      <td>5.736390</td>\n",
       "      <td>5.383852</td>\n",
       "      <td>5.282595</td>\n",
       "      <td>5.130151</td>\n",
       "      <td>10.875734</td>\n",
       "      <td>10.415213</td>\n",
       "      <td>...</td>\n",
       "      <td>8.519048</td>\n",
       "      <td>6.084364</td>\n",
       "      <td>9.440131</td>\n",
       "      <td>8.118802</td>\n",
       "      <td>7.079644</td>\n",
       "      <td>8.041803</td>\n",
       "      <td>7.952172</td>\n",
       "      <td>6.218816</td>\n",
       "      <td>7.308613</td>\n",
       "      <td>6.220350</td>\n",
       "    </tr>\n",
       "    <tr>\n",
       "      <th>2</th>\n",
       "      <td>C=C1C(=CC=C2CCCC3(C)C2CCC3C(CC)CCCC(C)(C)O)CC(...</td>\n",
       "      <td>MEAMAASTSLPDPGDFDRNVPRICGVCGDRATGFHFNAMTCEGCKG...</td>\n",
       "      <td>0.0</td>\n",
       "      <td>5.985836</td>\n",
       "      <td>5.515864</td>\n",
       "      <td>5.253991</td>\n",
       "      <td>5.147671</td>\n",
       "      <td>5.089901</td>\n",
       "      <td>11.087587</td>\n",
       "      <td>10.260958</td>\n",
       "      <td>...</td>\n",
       "      <td>8.881292</td>\n",
       "      <td>4.530238</td>\n",
       "      <td>9.298445</td>\n",
       "      <td>6.773960</td>\n",
       "      <td>7.539011</td>\n",
       "      <td>8.502220</td>\n",
       "      <td>7.727466</td>\n",
       "      <td>6.294739</td>\n",
       "      <td>7.618228</td>\n",
       "      <td>5.822350</td>\n",
       "    </tr>\n",
       "    <tr>\n",
       "      <th>3</th>\n",
       "      <td>C=C1C(=CC=C2CCCC3(C)C2CCC3C(C)CCCC(C)(C)O)CC(O...</td>\n",
       "      <td>MEAMAASTSLPDPGDFDRNVPRICGVCGDRATGFHFNAMTCEGCKG...</td>\n",
       "      <td>0.0</td>\n",
       "      <td>6.163424</td>\n",
       "      <td>5.611393</td>\n",
       "      <td>5.386049</td>\n",
       "      <td>5.143214</td>\n",
       "      <td>5.143952</td>\n",
       "      <td>10.954560</td>\n",
       "      <td>10.292741</td>\n",
       "      <td>...</td>\n",
       "      <td>8.341316</td>\n",
       "      <td>4.642188</td>\n",
       "      <td>9.265543</td>\n",
       "      <td>6.598283</td>\n",
       "      <td>7.592827</td>\n",
       "      <td>8.693158</td>\n",
       "      <td>7.631602</td>\n",
       "      <td>6.123209</td>\n",
       "      <td>7.292428</td>\n",
       "      <td>5.926140</td>\n",
       "    </tr>\n",
       "    <tr>\n",
       "      <th>4</th>\n",
       "      <td>C=C1C(=CC=C2CCCC3(C)C2CCC3C(C)CCCCC(C)(C)O)CC(...</td>\n",
       "      <td>MEAMAASTSLPDPGDFDRNVPRICGVCGDRATGFHFNAMTCEGCKG...</td>\n",
       "      <td>0.0</td>\n",
       "      <td>6.152519</td>\n",
       "      <td>5.612009</td>\n",
       "      <td>5.384963</td>\n",
       "      <td>5.121865</td>\n",
       "      <td>5.147013</td>\n",
       "      <td>10.957424</td>\n",
       "      <td>10.321073</td>\n",
       "      <td>...</td>\n",
       "      <td>8.963316</td>\n",
       "      <td>4.858073</td>\n",
       "      <td>9.280178</td>\n",
       "      <td>6.278106</td>\n",
       "      <td>7.478539</td>\n",
       "      <td>8.501718</td>\n",
       "      <td>7.649857</td>\n",
       "      <td>6.040468</td>\n",
       "      <td>7.268254</td>\n",
       "      <td>6.546758</td>\n",
       "    </tr>\n",
       "    <tr>\n",
       "      <th>...</th>\n",
       "      <td>...</td>\n",
       "      <td>...</td>\n",
       "      <td>...</td>\n",
       "      <td>...</td>\n",
       "      <td>...</td>\n",
       "      <td>...</td>\n",
       "      <td>...</td>\n",
       "      <td>...</td>\n",
       "      <td>...</td>\n",
       "      <td>...</td>\n",
       "      <td>...</td>\n",
       "      <td>...</td>\n",
       "      <td>...</td>\n",
       "      <td>...</td>\n",
       "      <td>...</td>\n",
       "      <td>...</td>\n",
       "      <td>...</td>\n",
       "      <td>...</td>\n",
       "      <td>...</td>\n",
       "      <td>...</td>\n",
       "      <td>...</td>\n",
       "    </tr>\n",
       "    <tr>\n",
       "      <th>788</th>\n",
       "      <td>CCC(CC)(c1ccc(C(CC)(CC)c2ccc(OC(C)CO)c(C)c2)cc...</td>\n",
       "      <td>MEAMAASTSLPDPGDFDRNVPRICGVCGDRATGFHFNAMTCEGCKG...</td>\n",
       "      <td>0.0</td>\n",
       "      <td>5.889183</td>\n",
       "      <td>6.536324</td>\n",
       "      <td>5.819087</td>\n",
       "      <td>5.763204</td>\n",
       "      <td>5.056121</td>\n",
       "      <td>11.946462</td>\n",
       "      <td>11.442703</td>\n",
       "      <td>...</td>\n",
       "      <td>6.596735</td>\n",
       "      <td>4.486119</td>\n",
       "      <td>5.123273</td>\n",
       "      <td>6.528322</td>\n",
       "      <td>6.262189</td>\n",
       "      <td>6.275127</td>\n",
       "      <td>4.595201</td>\n",
       "      <td>5.026949</td>\n",
       "      <td>4.628216</td>\n",
       "      <td>6.707725</td>\n",
       "    </tr>\n",
       "    <tr>\n",
       "      <th>789</th>\n",
       "      <td>CCC(C)(O)c1ccc(C(CC)(CC)c2ccc(C(O)(CC)CC)cc2)cc1C</td>\n",
       "      <td>MEAMAASTSLPDPGDFDRNVPRICGVCGDRATGFHFNAMTCEGCKG...</td>\n",
       "      <td>0.0</td>\n",
       "      <td>6.115541</td>\n",
       "      <td>6.380451</td>\n",
       "      <td>5.524305</td>\n",
       "      <td>5.647188</td>\n",
       "      <td>5.118958</td>\n",
       "      <td>11.820581</td>\n",
       "      <td>11.696827</td>\n",
       "      <td>...</td>\n",
       "      <td>6.651388</td>\n",
       "      <td>5.000602</td>\n",
       "      <td>4.972356</td>\n",
       "      <td>5.629647</td>\n",
       "      <td>5.566422</td>\n",
       "      <td>6.340684</td>\n",
       "      <td>4.133740</td>\n",
       "      <td>5.099666</td>\n",
       "      <td>4.638898</td>\n",
       "      <td>6.497919</td>\n",
       "    </tr>\n",
       "    <tr>\n",
       "      <th>790</th>\n",
       "      <td>CCC(CC)(c1ccccc1)c1ccc(OCC(O)C(C)(C)C)cc1</td>\n",
       "      <td>MEAMAASTSLPDPGDFDRNVPRICGVCGDRATGFHFNAMTCEGCKG...</td>\n",
       "      <td>0.0</td>\n",
       "      <td>6.051188</td>\n",
       "      <td>6.263648</td>\n",
       "      <td>5.616045</td>\n",
       "      <td>5.247438</td>\n",
       "      <td>5.312230</td>\n",
       "      <td>11.586207</td>\n",
       "      <td>11.590782</td>\n",
       "      <td>...</td>\n",
       "      <td>6.491522</td>\n",
       "      <td>4.556950</td>\n",
       "      <td>6.032476</td>\n",
       "      <td>7.311465</td>\n",
       "      <td>6.756710</td>\n",
       "      <td>7.247196</td>\n",
       "      <td>4.581574</td>\n",
       "      <td>4.823371</td>\n",
       "      <td>4.841097</td>\n",
       "      <td>6.771056</td>\n",
       "    </tr>\n",
       "    <tr>\n",
       "      <th>791</th>\n",
       "      <td>CCC(O)(CC)c1ccc(C(C)(CC)c2ccc(OCCCO)cc2)cc1</td>\n",
       "      <td>MEAMAASTSLPDPGDFDRNVPRICGVCGDRATGFHFNAMTCEGCKG...</td>\n",
       "      <td>0.0</td>\n",
       "      <td>6.042235</td>\n",
       "      <td>5.544349</td>\n",
       "      <td>5.142534</td>\n",
       "      <td>5.486377</td>\n",
       "      <td>5.333824</td>\n",
       "      <td>11.595806</td>\n",
       "      <td>11.223198</td>\n",
       "      <td>...</td>\n",
       "      <td>7.403069</td>\n",
       "      <td>4.523956</td>\n",
       "      <td>5.197701</td>\n",
       "      <td>5.720027</td>\n",
       "      <td>5.934620</td>\n",
       "      <td>7.691916</td>\n",
       "      <td>4.618683</td>\n",
       "      <td>4.690276</td>\n",
       "      <td>4.587601</td>\n",
       "      <td>5.801325</td>\n",
       "    </tr>\n",
       "    <tr>\n",
       "      <th>792</th>\n",
       "      <td>CCc1ccc(C(CC)(CC)c2ccc(C(CC)(CC)c3ccc(C(O)(CC)...</td>\n",
       "      <td>MEAMAASTSLPDPGDFDRNVPRICGVCGDRATGFHFNAMTCEGCKG...</td>\n",
       "      <td>0.0</td>\n",
       "      <td>6.110814</td>\n",
       "      <td>6.298594</td>\n",
       "      <td>5.523120</td>\n",
       "      <td>5.545273</td>\n",
       "      <td>5.085712</td>\n",
       "      <td>11.859171</td>\n",
       "      <td>11.667038</td>\n",
       "      <td>...</td>\n",
       "      <td>7.092283</td>\n",
       "      <td>4.725008</td>\n",
       "      <td>4.989668</td>\n",
       "      <td>5.442282</td>\n",
       "      <td>5.777659</td>\n",
       "      <td>7.122218</td>\n",
       "      <td>4.636612</td>\n",
       "      <td>4.996127</td>\n",
       "      <td>4.640351</td>\n",
       "      <td>7.241334</td>\n",
       "    </tr>\n",
       "  </tbody>\n",
       "</table>\n",
       "<p>793 rows × 34 columns</p>\n",
       "</div>"
      ],
      "text/plain": [
       "                                                  Drug  \\\n",
       "0    CC(CCCC(C)(C)O)C1CCC2C1(CCCC2=CC=C3CC(CC(C3=C)...   \n",
       "1    C=C1C(=CC=C2CCCC3(C)C2CCC3C(C)C(C)CCCC(C)(C)O)...   \n",
       "2    C=C1C(=CC=C2CCCC3(C)C2CCC3C(CC)CCCC(C)(C)O)CC(...   \n",
       "3    C=C1C(=CC=C2CCCC3(C)C2CCC3C(C)CCCC(C)(C)O)CC(O...   \n",
       "4    C=C1C(=CC=C2CCCC3(C)C2CCC3C(C)CCCCC(C)(C)O)CC(...   \n",
       "..                                                 ...   \n",
       "788  CCC(CC)(c1ccc(C(CC)(CC)c2ccc(OC(C)CO)c(C)c2)cc...   \n",
       "789  CCC(C)(O)c1ccc(C(CC)(CC)c2ccc(C(O)(CC)CC)cc2)cc1C   \n",
       "790          CCC(CC)(c1ccccc1)c1ccc(OCC(O)C(C)(C)C)cc1   \n",
       "791        CCC(O)(CC)c1ccc(C(C)(CC)c2ccc(OCCCO)cc2)cc1   \n",
       "792  CCc1ccc(C(CC)(CC)c2ccc(C(CC)(CC)c3ccc(C(O)(CC)...   \n",
       "\n",
       "                                                Target    Y  GAT_GCN_davis  \\\n",
       "0    MEAMAASTSLPDPGDFDRNVPRICGVCGDRATGFHFNAMTCEGCKG...  0.0       6.163424   \n",
       "1    MEAMAASTSLPDPGDFDRNVPRICGVCGDRATGFHFNAMTCEGCKG...  0.0       6.182073   \n",
       "2    MEAMAASTSLPDPGDFDRNVPRICGVCGDRATGFHFNAMTCEGCKG...  0.0       5.985836   \n",
       "3    MEAMAASTSLPDPGDFDRNVPRICGVCGDRATGFHFNAMTCEGCKG...  0.0       6.163424   \n",
       "4    MEAMAASTSLPDPGDFDRNVPRICGVCGDRATGFHFNAMTCEGCKG...  0.0       6.152519   \n",
       "..                                                 ...  ...            ...   \n",
       "788  MEAMAASTSLPDPGDFDRNVPRICGVCGDRATGFHFNAMTCEGCKG...  0.0       5.889183   \n",
       "789  MEAMAASTSLPDPGDFDRNVPRICGVCGDRATGFHFNAMTCEGCKG...  0.0       6.115541   \n",
       "790  MEAMAASTSLPDPGDFDRNVPRICGVCGDRATGFHFNAMTCEGCKG...  0.0       6.051188   \n",
       "791  MEAMAASTSLPDPGDFDRNVPRICGVCGDRATGFHFNAMTCEGCKG...  0.0       6.042235   \n",
       "792  MEAMAASTSLPDPGDFDRNVPRICGVCGDRATGFHFNAMTCEGCKG...  0.0       6.110814   \n",
       "\n",
       "     GATNet_davis  GATNet_davis2  GCNNet_davis  GINConvNet_davis  \\\n",
       "0        5.611393       5.386049      5.143214          5.143952   \n",
       "1        5.736390       5.383852      5.282595          5.130151   \n",
       "2        5.515864       5.253991      5.147671          5.089901   \n",
       "3        5.611393       5.386049      5.143214          5.143952   \n",
       "4        5.612009       5.384963      5.121865          5.147013   \n",
       "..            ...            ...           ...               ...   \n",
       "788      6.536324       5.819087      5.763204          5.056121   \n",
       "789      6.380451       5.524305      5.647188          5.118958   \n",
       "790      6.263648       5.616045      5.247438          5.312230   \n",
       "791      5.544349       5.142534      5.486377          5.333824   \n",
       "792      6.298594       5.523120      5.545273          5.085712   \n",
       "\n",
       "     GAT_GCN_kiba  GATNet_kiba  ...  GAT_GCN_bdtdc_ki_latest  \\\n",
       "0       10.954560    10.292741  ...                 8.341628   \n",
       "1       10.875734    10.415213  ...                 8.519048   \n",
       "2       11.087587    10.260958  ...                 8.881292   \n",
       "3       10.954560    10.292741  ...                 8.341316   \n",
       "4       10.957424    10.321073  ...                 8.963316   \n",
       "..            ...          ...  ...                      ...   \n",
       "788     11.946462    11.442703  ...                 6.596735   \n",
       "789     11.820581    11.696827  ...                 6.651388   \n",
       "790     11.586207    11.590782  ...                 6.491522   \n",
       "791     11.595806    11.223198  ...                 7.403069   \n",
       "792     11.859171    11.667038  ...                 7.092283   \n",
       "\n",
       "     GAT_GCN_bdtdc_ic50_latest  GCNNet_bindingdb_kd_latest  \\\n",
       "0                     4.642188                    9.265543   \n",
       "1                     6.084364                    9.440131   \n",
       "2                     4.530238                    9.298445   \n",
       "3                     4.642188                    9.265543   \n",
       "4                     4.858073                    9.280178   \n",
       "..                         ...                         ...   \n",
       "788                   4.486119                    5.123273   \n",
       "789                   5.000602                    4.972356   \n",
       "790                   4.556950                    6.032476   \n",
       "791                   4.523956                    5.197701   \n",
       "792                   4.725008                    4.989668   \n",
       "\n",
       "     GAT_GCN_bindingdb_kd_latest  GCNNet_bindingdb_ki_latest  \\\n",
       "0                       6.598283                    7.592827   \n",
       "1                       8.118802                    7.079644   \n",
       "2                       6.773960                    7.539011   \n",
       "3                       6.598283                    7.592827   \n",
       "4                       6.278106                    7.478539   \n",
       "..                           ...                         ...   \n",
       "788                     6.528322                    6.262189   \n",
       "789                     5.629647                    5.566422   \n",
       "790                     7.311465                    6.756710   \n",
       "791                     5.720027                    5.934620   \n",
       "792                     5.442282                    5.777659   \n",
       "\n",
       "     GAT_GCN_bindingdb_ki_latest  GAT_GCN_bindingdb_ic50_latest  \\\n",
       "0                       8.693158                       7.631602   \n",
       "1                       8.041803                       7.952172   \n",
       "2                       8.502220                       7.727466   \n",
       "3                       8.693158                       7.631602   \n",
       "4                       8.501718                       7.649857   \n",
       "..                           ...                            ...   \n",
       "788                     6.275127                       4.595201   \n",
       "789                     6.340684                       4.133740   \n",
       "790                     7.247196                       4.581574   \n",
       "791                     7.691916                       4.618683   \n",
       "792                     7.122218                       4.636612   \n",
       "\n",
       "     GCNNet_bindingdb_ic50_latest  GCNNet_bdtdc_ic50_latest_v2  \\\n",
       "0                        6.123209                     7.292428   \n",
       "1                        6.218816                     7.308613   \n",
       "2                        6.294739                     7.618228   \n",
       "3                        6.123209                     7.292428   \n",
       "4                        6.040468                     7.268254   \n",
       "..                            ...                          ...   \n",
       "788                      5.026949                     4.628216   \n",
       "789                      5.099666                     4.638898   \n",
       "790                      4.823371                     4.841097   \n",
       "791                      4.690276                     4.587601   \n",
       "792                      4.996127                     4.640351   \n",
       "\n",
       "     GCNNet_bdtdc_ki_latest_v2  \n",
       "0                     5.926140  \n",
       "1                     6.220350  \n",
       "2                     5.822350  \n",
       "3                     5.926140  \n",
       "4                     6.546758  \n",
       "..                         ...  \n",
       "788                   6.707725  \n",
       "789                   6.497919  \n",
       "790                   6.771056  \n",
       "791                   5.801325  \n",
       "792                   7.241334  \n",
       "\n",
       "[793 rows x 34 columns]"
      ]
     },
     "execution_count": 9,
     "metadata": {},
     "output_type": "execute_result"
    }
   ],
   "source": [
    "D_vitamind['LOWDATAREGIME_molecules_10_0.7_VDR_TOP_SIMILAR']"
   ]
  },
  {
   "cell_type": "code",
   "execution_count": 11,
   "metadata": {},
   "outputs": [],
   "source": [
    "for k,v in D_benzos.items():\n",
    "    D_benzos[k].to_csv('prediction_for_generated_benzos_latest/GraphDTA_prediction_'+str(k)+'.csv',index= False )\n",
    "\n",
    "for k,v in D_vitamind.items():\n",
    "    D_vitamind[k].to_csv('prediction_for_generated_vitamind_latest/GraphDTA_prediction_'+str(k)+'.csv',index= False )\n"
   ]
  },
  {
   "cell_type": "code",
   "execution_count": 24,
   "metadata": {},
   "outputs": [
    {
     "data": {
      "text/html": [
       "<div>\n",
       "<style scoped>\n",
       "    .dataframe tbody tr th:only-of-type {\n",
       "        vertical-align: middle;\n",
       "    }\n",
       "\n",
       "    .dataframe tbody tr th {\n",
       "        vertical-align: top;\n",
       "    }\n",
       "\n",
       "    .dataframe thead th {\n",
       "        text-align: right;\n",
       "    }\n",
       "</style>\n",
       "<table border=\"1\" class=\"dataframe\">\n",
       "  <thead>\n",
       "    <tr style=\"text-align: right;\">\n",
       "      <th></th>\n",
       "      <th>Drug</th>\n",
       "      <th>Target</th>\n",
       "      <th>GAT_GCN_davis</th>\n",
       "      <th>GATNet_davis</th>\n",
       "      <th>GATNet_davis2</th>\n",
       "      <th>GCNNet_davis</th>\n",
       "      <th>GINConvNet_davis</th>\n",
       "      <th>GAT_GCN_kiba</th>\n",
       "      <th>GATNet_kiba</th>\n",
       "      <th>GCNNet_kiba</th>\n",
       "      <th>...</th>\n",
       "      <th>GINConvNet_IC50</th>\n",
       "      <th>GINConvNet_Ki</th>\n",
       "      <th>GAT_GCN_bdtdc_ki_latest</th>\n",
       "      <th>GAT_GCN_bdtdc_ic50_latest</th>\n",
       "      <th>GCNNet_bindingdb_kd_latest</th>\n",
       "      <th>GAT_GCN_bindingdb_kd_latest</th>\n",
       "      <th>GCNNet_bindingdb_ki_latest</th>\n",
       "      <th>GAT_GCN_bindingdb_ki_latest</th>\n",
       "      <th>GAT_GCN_bindingdb_ic50_latest</th>\n",
       "      <th>GCNNet_bindingdb_ic50_latest</th>\n",
       "    </tr>\n",
       "  </thead>\n",
       "  <tbody>\n",
       "    <tr>\n",
       "      <th>0</th>\n",
       "      <td>C=C1C(=CC=C2CC(C)CC3(C)C2CCC3C(C)C(C)CCC(C)(C)...</td>\n",
       "      <td>MEAMAASTSLPDPGDFDRNVPRICGVCGDRATGFHFNAMTCEGCKG...</td>\n",
       "      <td>6.203391</td>\n",
       "      <td>5.694902</td>\n",
       "      <td>6.032289</td>\n",
       "      <td>5.572998</td>\n",
       "      <td>5.203593</td>\n",
       "      <td>10.537890</td>\n",
       "      <td>10.613931</td>\n",
       "      <td>10.429836</td>\n",
       "      <td>...</td>\n",
       "      <td>5.384230</td>\n",
       "      <td>8.825441</td>\n",
       "      <td>8.470876</td>\n",
       "      <td>7.080710</td>\n",
       "      <td>9.259553</td>\n",
       "      <td>7.125468</td>\n",
       "      <td>6.659076</td>\n",
       "      <td>8.467819</td>\n",
       "      <td>7.860690</td>\n",
       "      <td>4.980411</td>\n",
       "    </tr>\n",
       "    <tr>\n",
       "      <th>1</th>\n",
       "      <td>C=C1C(=CC=C2CCCC3(C)C2CCC3C(C)(C)C(C)CCC(C)(C)...</td>\n",
       "      <td>MEAMAASTSLPDPGDFDRNVPRICGVCGDRATGFHFNAMTCEGCKG...</td>\n",
       "      <td>6.194114</td>\n",
       "      <td>5.684735</td>\n",
       "      <td>5.317656</td>\n",
       "      <td>5.238730</td>\n",
       "      <td>5.213115</td>\n",
       "      <td>11.077236</td>\n",
       "      <td>10.531986</td>\n",
       "      <td>10.518936</td>\n",
       "      <td>...</td>\n",
       "      <td>7.475556</td>\n",
       "      <td>8.837432</td>\n",
       "      <td>8.419527</td>\n",
       "      <td>5.757961</td>\n",
       "      <td>9.882589</td>\n",
       "      <td>6.889663</td>\n",
       "      <td>7.254718</td>\n",
       "      <td>8.489131</td>\n",
       "      <td>6.798367</td>\n",
       "      <td>6.265611</td>\n",
       "    </tr>\n",
       "    <tr>\n",
       "      <th>2</th>\n",
       "      <td>C=C1C(=CC=C2CCCC3(CCCC)C2CCC3C(C)C(C)CCC(C)(C)...</td>\n",
       "      <td>MEAMAASTSLPDPGDFDRNVPRICGVCGDRATGFHFNAMTCEGCKG...</td>\n",
       "      <td>6.428329</td>\n",
       "      <td>5.611572</td>\n",
       "      <td>5.242209</td>\n",
       "      <td>5.495798</td>\n",
       "      <td>5.284415</td>\n",
       "      <td>10.824659</td>\n",
       "      <td>10.593780</td>\n",
       "      <td>10.393126</td>\n",
       "      <td>...</td>\n",
       "      <td>5.939070</td>\n",
       "      <td>8.652788</td>\n",
       "      <td>8.719942</td>\n",
       "      <td>4.742641</td>\n",
       "      <td>9.905434</td>\n",
       "      <td>8.431267</td>\n",
       "      <td>7.832273</td>\n",
       "      <td>8.692762</td>\n",
       "      <td>7.617512</td>\n",
       "      <td>6.572859</td>\n",
       "    </tr>\n",
       "    <tr>\n",
       "      <th>3</th>\n",
       "      <td>C=C1C(=CC=C2CCCC3(C)C2CCC3C(CC)C(C)CCC(C)(C)O)...</td>\n",
       "      <td>MEAMAASTSLPDPGDFDRNVPRICGVCGDRATGFHFNAMTCEGCKG...</td>\n",
       "      <td>6.317272</td>\n",
       "      <td>5.586719</td>\n",
       "      <td>5.307574</td>\n",
       "      <td>5.183216</td>\n",
       "      <td>5.152680</td>\n",
       "      <td>11.002387</td>\n",
       "      <td>10.350780</td>\n",
       "      <td>10.559709</td>\n",
       "      <td>...</td>\n",
       "      <td>6.334094</td>\n",
       "      <td>8.524074</td>\n",
       "      <td>8.529881</td>\n",
       "      <td>4.823941</td>\n",
       "      <td>9.777245</td>\n",
       "      <td>8.658220</td>\n",
       "      <td>7.336759</td>\n",
       "      <td>8.470592</td>\n",
       "      <td>7.697564</td>\n",
       "      <td>6.208617</td>\n",
       "    </tr>\n",
       "    <tr>\n",
       "      <th>4</th>\n",
       "      <td>C=C1C(=CC=C2CCCC3(C)C2CCC3C(CCCC)C(C)CCC(C)(C)...</td>\n",
       "      <td>MEAMAASTSLPDPGDFDRNVPRICGVCGDRATGFHFNAMTCEGCKG...</td>\n",
       "      <td>6.362350</td>\n",
       "      <td>5.564388</td>\n",
       "      <td>5.296394</td>\n",
       "      <td>5.262090</td>\n",
       "      <td>5.128633</td>\n",
       "      <td>10.924446</td>\n",
       "      <td>10.554974</td>\n",
       "      <td>10.395580</td>\n",
       "      <td>...</td>\n",
       "      <td>6.351528</td>\n",
       "      <td>8.420326</td>\n",
       "      <td>8.433319</td>\n",
       "      <td>5.472513</td>\n",
       "      <td>9.801883</td>\n",
       "      <td>7.217220</td>\n",
       "      <td>7.879875</td>\n",
       "      <td>8.609930</td>\n",
       "      <td>7.693279</td>\n",
       "      <td>7.154109</td>\n",
       "    </tr>\n",
       "    <tr>\n",
       "      <th>...</th>\n",
       "      <td>...</td>\n",
       "      <td>...</td>\n",
       "      <td>...</td>\n",
       "      <td>...</td>\n",
       "      <td>...</td>\n",
       "      <td>...</td>\n",
       "      <td>...</td>\n",
       "      <td>...</td>\n",
       "      <td>...</td>\n",
       "      <td>...</td>\n",
       "      <td>...</td>\n",
       "      <td>...</td>\n",
       "      <td>...</td>\n",
       "      <td>...</td>\n",
       "      <td>...</td>\n",
       "      <td>...</td>\n",
       "      <td>...</td>\n",
       "      <td>...</td>\n",
       "      <td>...</td>\n",
       "      <td>...</td>\n",
       "      <td>...</td>\n",
       "    </tr>\n",
       "    <tr>\n",
       "      <th>995</th>\n",
       "      <td>CCC(CC)(c1ccccc1)c1ccc(OCC(=O)C(C)(C)C)c(C)c1</td>\n",
       "      <td>MEAMAASTSLPDPGDFDRNVPRICGVCGDRATGFHFNAMTCEGCKG...</td>\n",
       "      <td>5.836588</td>\n",
       "      <td>6.330083</td>\n",
       "      <td>5.814915</td>\n",
       "      <td>5.488825</td>\n",
       "      <td>5.496130</td>\n",
       "      <td>11.619188</td>\n",
       "      <td>11.392080</td>\n",
       "      <td>11.011942</td>\n",
       "      <td>...</td>\n",
       "      <td>6.705483</td>\n",
       "      <td>6.633827</td>\n",
       "      <td>6.047816</td>\n",
       "      <td>4.527653</td>\n",
       "      <td>5.260979</td>\n",
       "      <td>5.299569</td>\n",
       "      <td>6.269884</td>\n",
       "      <td>6.107968</td>\n",
       "      <td>4.566155</td>\n",
       "      <td>4.635391</td>\n",
       "    </tr>\n",
       "    <tr>\n",
       "      <th>996</th>\n",
       "      <td>CCC(CC)(c1cccc(C)c1)c1ccc(OCC(=O)C(C)(C)C)c(C)c1</td>\n",
       "      <td>MEAMAASTSLPDPGDFDRNVPRICGVCGDRATGFHFNAMTCEGCKG...</td>\n",
       "      <td>5.826588</td>\n",
       "      <td>6.327671</td>\n",
       "      <td>5.711961</td>\n",
       "      <td>5.191518</td>\n",
       "      <td>5.514371</td>\n",
       "      <td>11.674183</td>\n",
       "      <td>11.373125</td>\n",
       "      <td>11.161098</td>\n",
       "      <td>...</td>\n",
       "      <td>6.648481</td>\n",
       "      <td>6.496977</td>\n",
       "      <td>6.177055</td>\n",
       "      <td>4.693862</td>\n",
       "      <td>5.079478</td>\n",
       "      <td>5.727530</td>\n",
       "      <td>6.361308</td>\n",
       "      <td>6.111541</td>\n",
       "      <td>4.635936</td>\n",
       "      <td>4.695464</td>\n",
       "    </tr>\n",
       "    <tr>\n",
       "      <th>997</th>\n",
       "      <td>CCC(CC)(c1ccc(O)c(C)c1)c1ccc(OCC(=O)C(C)(C)C)c...</td>\n",
       "      <td>MEAMAASTSLPDPGDFDRNVPRICGVCGDRATGFHFNAMTCEGCKG...</td>\n",
       "      <td>6.072472</td>\n",
       "      <td>6.296263</td>\n",
       "      <td>5.403594</td>\n",
       "      <td>5.051076</td>\n",
       "      <td>5.231698</td>\n",
       "      <td>11.920741</td>\n",
       "      <td>11.356113</td>\n",
       "      <td>12.165985</td>\n",
       "      <td>...</td>\n",
       "      <td>6.564181</td>\n",
       "      <td>6.656836</td>\n",
       "      <td>6.332341</td>\n",
       "      <td>4.287520</td>\n",
       "      <td>5.455119</td>\n",
       "      <td>5.739219</td>\n",
       "      <td>6.572809</td>\n",
       "      <td>6.203876</td>\n",
       "      <td>4.398159</td>\n",
       "      <td>4.633916</td>\n",
       "    </tr>\n",
       "    <tr>\n",
       "      <th>998</th>\n",
       "      <td>CCCOc1ccc(C(CC)(CC)c2ccc(OCC(=O)C(C)(C)C)c(C)c...</td>\n",
       "      <td>MEAMAASTSLPDPGDFDRNVPRICGVCGDRATGFHFNAMTCEGCKG...</td>\n",
       "      <td>5.887292</td>\n",
       "      <td>6.220612</td>\n",
       "      <td>5.703904</td>\n",
       "      <td>5.202060</td>\n",
       "      <td>5.244125</td>\n",
       "      <td>11.602036</td>\n",
       "      <td>11.321152</td>\n",
       "      <td>11.167489</td>\n",
       "      <td>...</td>\n",
       "      <td>6.312003</td>\n",
       "      <td>6.457648</td>\n",
       "      <td>6.151821</td>\n",
       "      <td>5.218818</td>\n",
       "      <td>5.084465</td>\n",
       "      <td>5.375141</td>\n",
       "      <td>6.292008</td>\n",
       "      <td>6.122578</td>\n",
       "      <td>4.898650</td>\n",
       "      <td>4.628778</td>\n",
       "    </tr>\n",
       "    <tr>\n",
       "      <th>999</th>\n",
       "      <td>CCCCOc1ccc(C(CC)(CC)c2ccc(OCC(=O)C(C)(C)C)c(C)...</td>\n",
       "      <td>MEAMAASTSLPDPGDFDRNVPRICGVCGDRATGFHFNAMTCEGCKG...</td>\n",
       "      <td>5.885556</td>\n",
       "      <td>6.148636</td>\n",
       "      <td>5.291259</td>\n",
       "      <td>5.094815</td>\n",
       "      <td>5.301474</td>\n",
       "      <td>11.607815</td>\n",
       "      <td>11.293802</td>\n",
       "      <td>11.136195</td>\n",
       "      <td>...</td>\n",
       "      <td>6.364367</td>\n",
       "      <td>6.592633</td>\n",
       "      <td>6.370806</td>\n",
       "      <td>5.196505</td>\n",
       "      <td>5.112052</td>\n",
       "      <td>5.433035</td>\n",
       "      <td>6.320735</td>\n",
       "      <td>6.237308</td>\n",
       "      <td>4.950807</td>\n",
       "      <td>4.677411</td>\n",
       "    </tr>\n",
       "  </tbody>\n",
       "</table>\n",
       "<p>1000 rows × 31 columns</p>\n",
       "</div>"
      ],
      "text/plain": [
       "                                                  Drug  \\\n",
       "0    C=C1C(=CC=C2CC(C)CC3(C)C2CCC3C(C)C(C)CCC(C)(C)...   \n",
       "1    C=C1C(=CC=C2CCCC3(C)C2CCC3C(C)(C)C(C)CCC(C)(C)...   \n",
       "2    C=C1C(=CC=C2CCCC3(CCCC)C2CCC3C(C)C(C)CCC(C)(C)...   \n",
       "3    C=C1C(=CC=C2CCCC3(C)C2CCC3C(CC)C(C)CCC(C)(C)O)...   \n",
       "4    C=C1C(=CC=C2CCCC3(C)C2CCC3C(CCCC)C(C)CCC(C)(C)...   \n",
       "..                                                 ...   \n",
       "995      CCC(CC)(c1ccccc1)c1ccc(OCC(=O)C(C)(C)C)c(C)c1   \n",
       "996   CCC(CC)(c1cccc(C)c1)c1ccc(OCC(=O)C(C)(C)C)c(C)c1   \n",
       "997  CCC(CC)(c1ccc(O)c(C)c1)c1ccc(OCC(=O)C(C)(C)C)c...   \n",
       "998  CCCOc1ccc(C(CC)(CC)c2ccc(OCC(=O)C(C)(C)C)c(C)c...   \n",
       "999  CCCCOc1ccc(C(CC)(CC)c2ccc(OCC(=O)C(C)(C)C)c(C)...   \n",
       "\n",
       "                                                Target  GAT_GCN_davis  \\\n",
       "0    MEAMAASTSLPDPGDFDRNVPRICGVCGDRATGFHFNAMTCEGCKG...       6.203391   \n",
       "1    MEAMAASTSLPDPGDFDRNVPRICGVCGDRATGFHFNAMTCEGCKG...       6.194114   \n",
       "2    MEAMAASTSLPDPGDFDRNVPRICGVCGDRATGFHFNAMTCEGCKG...       6.428329   \n",
       "3    MEAMAASTSLPDPGDFDRNVPRICGVCGDRATGFHFNAMTCEGCKG...       6.317272   \n",
       "4    MEAMAASTSLPDPGDFDRNVPRICGVCGDRATGFHFNAMTCEGCKG...       6.362350   \n",
       "..                                                 ...            ...   \n",
       "995  MEAMAASTSLPDPGDFDRNVPRICGVCGDRATGFHFNAMTCEGCKG...       5.836588   \n",
       "996  MEAMAASTSLPDPGDFDRNVPRICGVCGDRATGFHFNAMTCEGCKG...       5.826588   \n",
       "997  MEAMAASTSLPDPGDFDRNVPRICGVCGDRATGFHFNAMTCEGCKG...       6.072472   \n",
       "998  MEAMAASTSLPDPGDFDRNVPRICGVCGDRATGFHFNAMTCEGCKG...       5.887292   \n",
       "999  MEAMAASTSLPDPGDFDRNVPRICGVCGDRATGFHFNAMTCEGCKG...       5.885556   \n",
       "\n",
       "     GATNet_davis  GATNet_davis2  GCNNet_davis  GINConvNet_davis  \\\n",
       "0        5.694902       6.032289      5.572998          5.203593   \n",
       "1        5.684735       5.317656      5.238730          5.213115   \n",
       "2        5.611572       5.242209      5.495798          5.284415   \n",
       "3        5.586719       5.307574      5.183216          5.152680   \n",
       "4        5.564388       5.296394      5.262090          5.128633   \n",
       "..            ...            ...           ...               ...   \n",
       "995      6.330083       5.814915      5.488825          5.496130   \n",
       "996      6.327671       5.711961      5.191518          5.514371   \n",
       "997      6.296263       5.403594      5.051076          5.231698   \n",
       "998      6.220612       5.703904      5.202060          5.244125   \n",
       "999      6.148636       5.291259      5.094815          5.301474   \n",
       "\n",
       "     GAT_GCN_kiba  GATNet_kiba  GCNNet_kiba  ...  GINConvNet_IC50  \\\n",
       "0       10.537890    10.613931    10.429836  ...         5.384230   \n",
       "1       11.077236    10.531986    10.518936  ...         7.475556   \n",
       "2       10.824659    10.593780    10.393126  ...         5.939070   \n",
       "3       11.002387    10.350780    10.559709  ...         6.334094   \n",
       "4       10.924446    10.554974    10.395580  ...         6.351528   \n",
       "..            ...          ...          ...  ...              ...   \n",
       "995     11.619188    11.392080    11.011942  ...         6.705483   \n",
       "996     11.674183    11.373125    11.161098  ...         6.648481   \n",
       "997     11.920741    11.356113    12.165985  ...         6.564181   \n",
       "998     11.602036    11.321152    11.167489  ...         6.312003   \n",
       "999     11.607815    11.293802    11.136195  ...         6.364367   \n",
       "\n",
       "     GINConvNet_Ki  GAT_GCN_bdtdc_ki_latest  GAT_GCN_bdtdc_ic50_latest  \\\n",
       "0         8.825441                 8.470876                   7.080710   \n",
       "1         8.837432                 8.419527                   5.757961   \n",
       "2         8.652788                 8.719942                   4.742641   \n",
       "3         8.524074                 8.529881                   4.823941   \n",
       "4         8.420326                 8.433319                   5.472513   \n",
       "..             ...                      ...                        ...   \n",
       "995       6.633827                 6.047816                   4.527653   \n",
       "996       6.496977                 6.177055                   4.693862   \n",
       "997       6.656836                 6.332341                   4.287520   \n",
       "998       6.457648                 6.151821                   5.218818   \n",
       "999       6.592633                 6.370806                   5.196505   \n",
       "\n",
       "     GCNNet_bindingdb_kd_latest  GAT_GCN_bindingdb_kd_latest  \\\n",
       "0                      9.259553                     7.125468   \n",
       "1                      9.882589                     6.889663   \n",
       "2                      9.905434                     8.431267   \n",
       "3                      9.777245                     8.658220   \n",
       "4                      9.801883                     7.217220   \n",
       "..                          ...                          ...   \n",
       "995                    5.260979                     5.299569   \n",
       "996                    5.079478                     5.727530   \n",
       "997                    5.455119                     5.739219   \n",
       "998                    5.084465                     5.375141   \n",
       "999                    5.112052                     5.433035   \n",
       "\n",
       "     GCNNet_bindingdb_ki_latest  GAT_GCN_bindingdb_ki_latest  \\\n",
       "0                      6.659076                     8.467819   \n",
       "1                      7.254718                     8.489131   \n",
       "2                      7.832273                     8.692762   \n",
       "3                      7.336759                     8.470592   \n",
       "4                      7.879875                     8.609930   \n",
       "..                          ...                          ...   \n",
       "995                    6.269884                     6.107968   \n",
       "996                    6.361308                     6.111541   \n",
       "997                    6.572809                     6.203876   \n",
       "998                    6.292008                     6.122578   \n",
       "999                    6.320735                     6.237308   \n",
       "\n",
       "     GAT_GCN_bindingdb_ic50_latest  GCNNet_bindingdb_ic50_latest  \n",
       "0                         7.860690                      4.980411  \n",
       "1                         6.798367                      6.265611  \n",
       "2                         7.617512                      6.572859  \n",
       "3                         7.697564                      6.208617  \n",
       "4                         7.693279                      7.154109  \n",
       "..                             ...                           ...  \n",
       "995                       4.566155                      4.635391  \n",
       "996                       4.635936                      4.695464  \n",
       "997                       4.398159                      4.633916  \n",
       "998                       4.898650                      4.628778  \n",
       "999                       4.950807                      4.677411  \n",
       "\n",
       "[1000 rows x 31 columns]"
      ]
     },
     "execution_count": 24,
     "metadata": {},
     "output_type": "execute_result"
    }
   ],
   "source": [
    "dfs_vdr[0]"
   ]
  },
  {
   "cell_type": "code",
   "execution_count": 26,
   "metadata": {},
   "outputs": [
    {
     "data": {
      "text/plain": [
       "['GraphDTA_prediction_LOWDATAREGIME_molecules_10_0.7_BENZOS_TOP_SIMILAR.csv',\n",
       " 'GraphDTA_prediction_TRANSVAE_benzos_zinc_top_dims_BENZOS_TOP_SIMILAR.csv',\n",
       " 'GraphDTA_prediction_LOWDATAREGIME_molecules_40_0.7_BENZOS_TOP_SIMILAR.csv',\n",
       " 'GraphDTA_prediction_LOWDATAREGIME_molecules_20_0.7_BENZOS_TOP_SIMILAR.csv',\n",
       " 'GraphDTA_prediction_TRANSVAE_benzos_pubchem_top_dims_BENZOS_TOP_SIMILAR.csv',\n",
       " 'GraphDTA_prediction_TRANSVAE_benzos_zinc_k_dims_BENZOS_TOP_SIMILAR.csv',\n",
       " 'GraphDTA_prediction_TRANSMOL_BENZOS_TOP_SIMILAR.csv',\n",
       " 'GraphDTA_prediction_LOWDATAREGIME_molecules_30_0.7_BENZOS_TOP_SIMILAR.csv',\n",
       " 'GraphDTA_prediction_TRANSVAE_benzos_pubchem_k_dims_BENZOS_TOP_SIMILAR.csv',\n",
       " 'GraphDTA_prediction_REINVENT_BENZOS_TOP_SIMILAR.csv']"
      ]
     },
     "execution_count": 26,
     "metadata": {},
     "output_type": "execute_result"
    }
   ],
   "source": [
    "filenames_benzos"
   ]
  },
  {
   "cell_type": "code",
   "execution_count": 31,
   "metadata": {},
   "outputs": [
    {
     "data": {
      "text/plain": [
       "'GraphDTA_prediction_TRANSMOL_VDR_TOP_SIMILAR.csv'"
      ]
     },
     "execution_count": 31,
     "metadata": {},
     "output_type": "execute_result"
    }
   ],
   "source": [
    "filenames_vdr[0]"
   ]
  },
  {
   "cell_type": "code",
   "execution_count": 30,
   "metadata": {},
   "outputs": [
    {
     "data": {
      "text/html": [
       "<div>\n",
       "<style scoped>\n",
       "    .dataframe tbody tr th:only-of-type {\n",
       "        vertical-align: middle;\n",
       "    }\n",
       "\n",
       "    .dataframe tbody tr th {\n",
       "        vertical-align: top;\n",
       "    }\n",
       "\n",
       "    .dataframe thead th {\n",
       "        text-align: right;\n",
       "    }\n",
       "</style>\n",
       "<table border=\"1\" class=\"dataframe\">\n",
       "  <thead>\n",
       "    <tr style=\"text-align: right;\">\n",
       "      <th></th>\n",
       "      <th>Drug</th>\n",
       "      <th>Target</th>\n",
       "      <th>GAT_GCN_davis</th>\n",
       "      <th>GATNet_davis</th>\n",
       "      <th>GATNet_davis2</th>\n",
       "      <th>GCNNet_davis</th>\n",
       "      <th>GINConvNet_davis</th>\n",
       "      <th>GAT_GCN_kiba</th>\n",
       "      <th>GATNet_kiba</th>\n",
       "      <th>GCNNet_kiba</th>\n",
       "      <th>...</th>\n",
       "      <th>GINConvNet_IC50</th>\n",
       "      <th>GINConvNet_Ki</th>\n",
       "      <th>GAT_GCN_bdtdc_ki_latest</th>\n",
       "      <th>GAT_GCN_bdtdc_ic50_latest</th>\n",
       "      <th>GCNNet_bindingdb_kd_latest</th>\n",
       "      <th>GAT_GCN_bindingdb_kd_latest</th>\n",
       "      <th>GCNNet_bindingdb_ki_latest</th>\n",
       "      <th>GAT_GCN_bindingdb_ki_latest</th>\n",
       "      <th>GAT_GCN_bindingdb_ic50_latest</th>\n",
       "      <th>GCNNet_bindingdb_ic50_latest</th>\n",
       "    </tr>\n",
       "  </thead>\n",
       "  <tbody>\n",
       "    <tr>\n",
       "      <th>0</th>\n",
       "      <td>CN1C(=O)CN=C(c2ccccc2F)c2cc(Cl)ccc21</td>\n",
       "      <td>MRKSPGLSDCLWAWILLLSTLTGRSYGQPSLQDELKDNTTVFTRIL...</td>\n",
       "      <td>5.764262</td>\n",
       "      <td>5.693633</td>\n",
       "      <td>5.844633</td>\n",
       "      <td>5.790274</td>\n",
       "      <td>5.317926</td>\n",
       "      <td>11.537140</td>\n",
       "      <td>11.585246</td>\n",
       "      <td>10.905057</td>\n",
       "      <td>...</td>\n",
       "      <td>6.530537</td>\n",
       "      <td>8.019577</td>\n",
       "      <td>6.781021</td>\n",
       "      <td>4.908838</td>\n",
       "      <td>7.518653</td>\n",
       "      <td>7.580321</td>\n",
       "      <td>8.552409</td>\n",
       "      <td>7.917223</td>\n",
       "      <td>4.408779</td>\n",
       "      <td>4.199214</td>\n",
       "    </tr>\n",
       "    <tr>\n",
       "      <th>1</th>\n",
       "      <td>O=C1CN=C(c2ccccc2)c2cc(Cl)ccc2N1</td>\n",
       "      <td>MRKSPGLSDCLWAWILLLSTLTGRSYGQPSLQDELKDNTTVFTRIL...</td>\n",
       "      <td>5.820510</td>\n",
       "      <td>5.347934</td>\n",
       "      <td>5.088555</td>\n",
       "      <td>5.706682</td>\n",
       "      <td>5.599361</td>\n",
       "      <td>11.650953</td>\n",
       "      <td>11.413750</td>\n",
       "      <td>10.463663</td>\n",
       "      <td>...</td>\n",
       "      <td>4.286624</td>\n",
       "      <td>6.693745</td>\n",
       "      <td>7.465182</td>\n",
       "      <td>5.336170</td>\n",
       "      <td>8.336432</td>\n",
       "      <td>6.683643</td>\n",
       "      <td>6.932455</td>\n",
       "      <td>6.525292</td>\n",
       "      <td>4.077450</td>\n",
       "      <td>4.242430</td>\n",
       "    </tr>\n",
       "    <tr>\n",
       "      <th>2</th>\n",
       "      <td>CN1CCN=C(c2ccccc2)c2cc(Cl)ccc21</td>\n",
       "      <td>MRKSPGLSDCLWAWILLLSTLTGRSYGQPSLQDELKDNTTVFTRIL...</td>\n",
       "      <td>5.781652</td>\n",
       "      <td>6.222953</td>\n",
       "      <td>5.784204</td>\n",
       "      <td>5.979016</td>\n",
       "      <td>5.766552</td>\n",
       "      <td>11.689509</td>\n",
       "      <td>11.376568</td>\n",
       "      <td>10.623102</td>\n",
       "      <td>...</td>\n",
       "      <td>5.920058</td>\n",
       "      <td>7.680098</td>\n",
       "      <td>7.867999</td>\n",
       "      <td>5.522687</td>\n",
       "      <td>7.871615</td>\n",
       "      <td>8.290163</td>\n",
       "      <td>7.346959</td>\n",
       "      <td>7.061687</td>\n",
       "      <td>4.753488</td>\n",
       "      <td>3.327381</td>\n",
       "    </tr>\n",
       "    <tr>\n",
       "      <th>3</th>\n",
       "      <td>CN1C(=O)CN=C(c2ccccc2)c2cc(N)ccc21</td>\n",
       "      <td>MRKSPGLSDCLWAWILLLSTLTGRSYGQPSLQDELKDNTTVFTRIL...</td>\n",
       "      <td>5.703455</td>\n",
       "      <td>5.775535</td>\n",
       "      <td>5.232235</td>\n",
       "      <td>5.181041</td>\n",
       "      <td>5.449607</td>\n",
       "      <td>11.536312</td>\n",
       "      <td>11.222670</td>\n",
       "      <td>11.156598</td>\n",
       "      <td>...</td>\n",
       "      <td>5.791874</td>\n",
       "      <td>7.391438</td>\n",
       "      <td>6.965907</td>\n",
       "      <td>4.801177</td>\n",
       "      <td>7.801600</td>\n",
       "      <td>8.492088</td>\n",
       "      <td>7.365209</td>\n",
       "      <td>7.284909</td>\n",
       "      <td>4.722075</td>\n",
       "      <td>4.560641</td>\n",
       "    </tr>\n",
       "    <tr>\n",
       "      <th>4</th>\n",
       "      <td>CN1C(=O)CCN=C(c2ccccc2)c2cc(Cl)ccc21</td>\n",
       "      <td>MRKSPGLSDCLWAWILLLSTLTGRSYGQPSLQDELKDNTTVFTRIL...</td>\n",
       "      <td>5.347439</td>\n",
       "      <td>6.370338</td>\n",
       "      <td>5.859731</td>\n",
       "      <td>5.626638</td>\n",
       "      <td>5.456227</td>\n",
       "      <td>11.525576</td>\n",
       "      <td>11.430586</td>\n",
       "      <td>10.467786</td>\n",
       "      <td>...</td>\n",
       "      <td>5.418643</td>\n",
       "      <td>7.303138</td>\n",
       "      <td>7.689903</td>\n",
       "      <td>5.136808</td>\n",
       "      <td>7.275914</td>\n",
       "      <td>7.490314</td>\n",
       "      <td>7.564006</td>\n",
       "      <td>6.763002</td>\n",
       "      <td>4.466407</td>\n",
       "      <td>3.770662</td>\n",
       "    </tr>\n",
       "    <tr>\n",
       "      <th>...</th>\n",
       "      <td>...</td>\n",
       "      <td>...</td>\n",
       "      <td>...</td>\n",
       "      <td>...</td>\n",
       "      <td>...</td>\n",
       "      <td>...</td>\n",
       "      <td>...</td>\n",
       "      <td>...</td>\n",
       "      <td>...</td>\n",
       "      <td>...</td>\n",
       "      <td>...</td>\n",
       "      <td>...</td>\n",
       "      <td>...</td>\n",
       "      <td>...</td>\n",
       "      <td>...</td>\n",
       "      <td>...</td>\n",
       "      <td>...</td>\n",
       "      <td>...</td>\n",
       "      <td>...</td>\n",
       "      <td>...</td>\n",
       "      <td>...</td>\n",
       "    </tr>\n",
       "    <tr>\n",
       "      <th>483</th>\n",
       "      <td>NC1=NC(C=Cc2ccc3nccnc3c2)CCC1</td>\n",
       "      <td>MRKSPGLSDCLWAWILLLSTLTGRSYGQPSLQDELKDNTTVFTRIL...</td>\n",
       "      <td>5.988225</td>\n",
       "      <td>6.207549</td>\n",
       "      <td>5.812002</td>\n",
       "      <td>5.292656</td>\n",
       "      <td>5.809867</td>\n",
       "      <td>11.671762</td>\n",
       "      <td>11.476151</td>\n",
       "      <td>10.881434</td>\n",
       "      <td>...</td>\n",
       "      <td>5.277848</td>\n",
       "      <td>8.199919</td>\n",
       "      <td>6.887542</td>\n",
       "      <td>6.513785</td>\n",
       "      <td>9.489430</td>\n",
       "      <td>9.410442</td>\n",
       "      <td>7.423059</td>\n",
       "      <td>7.214113</td>\n",
       "      <td>5.900526</td>\n",
       "      <td>5.504848</td>\n",
       "    </tr>\n",
       "    <tr>\n",
       "      <th>484</th>\n",
       "      <td>O=C(OC1CC1)c1nccc2cc(-c3ccccc3)ccc12</td>\n",
       "      <td>MRKSPGLSDCLWAWILLLSTLTGRSYGQPSLQDELKDNTTVFTRIL...</td>\n",
       "      <td>6.026775</td>\n",
       "      <td>5.510842</td>\n",
       "      <td>5.401698</td>\n",
       "      <td>5.795946</td>\n",
       "      <td>5.684030</td>\n",
       "      <td>11.552782</td>\n",
       "      <td>11.378396</td>\n",
       "      <td>10.424806</td>\n",
       "      <td>...</td>\n",
       "      <td>6.865233</td>\n",
       "      <td>7.098046</td>\n",
       "      <td>6.925295</td>\n",
       "      <td>5.284789</td>\n",
       "      <td>8.850294</td>\n",
       "      <td>9.850992</td>\n",
       "      <td>6.320870</td>\n",
       "      <td>6.261251</td>\n",
       "      <td>4.025298</td>\n",
       "      <td>5.787142</td>\n",
       "    </tr>\n",
       "    <tr>\n",
       "      <th>485</th>\n",
       "      <td>O=C1NCC1=COc1ccc2cncnc2c1</td>\n",
       "      <td>MRKSPGLSDCLWAWILLLSTLTGRSYGQPSLQDELKDNTTVFTRIL...</td>\n",
       "      <td>5.160220</td>\n",
       "      <td>5.217212</td>\n",
       "      <td>5.890978</td>\n",
       "      <td>5.327335</td>\n",
       "      <td>5.549436</td>\n",
       "      <td>11.563120</td>\n",
       "      <td>11.498323</td>\n",
       "      <td>10.587861</td>\n",
       "      <td>...</td>\n",
       "      <td>6.189260</td>\n",
       "      <td>8.255099</td>\n",
       "      <td>6.086030</td>\n",
       "      <td>6.323635</td>\n",
       "      <td>8.091886</td>\n",
       "      <td>6.373436</td>\n",
       "      <td>6.761993</td>\n",
       "      <td>6.778954</td>\n",
       "      <td>5.007416</td>\n",
       "      <td>4.465621</td>\n",
       "    </tr>\n",
       "    <tr>\n",
       "      <th>486</th>\n",
       "      <td>COC1CN=c2ccc(Cl)cc2=N1</td>\n",
       "      <td>MRKSPGLSDCLWAWILLLSTLTGRSYGQPSLQDELKDNTTVFTRIL...</td>\n",
       "      <td>5.912923</td>\n",
       "      <td>6.358792</td>\n",
       "      <td>5.317985</td>\n",
       "      <td>5.248207</td>\n",
       "      <td>5.167810</td>\n",
       "      <td>11.467406</td>\n",
       "      <td>11.234021</td>\n",
       "      <td>10.676084</td>\n",
       "      <td>...</td>\n",
       "      <td>4.699046</td>\n",
       "      <td>6.586902</td>\n",
       "      <td>7.038149</td>\n",
       "      <td>5.808917</td>\n",
       "      <td>8.711000</td>\n",
       "      <td>6.419726</td>\n",
       "      <td>6.162477</td>\n",
       "      <td>5.837805</td>\n",
       "      <td>4.480692</td>\n",
       "      <td>4.271014</td>\n",
       "    </tr>\n",
       "    <tr>\n",
       "      <th>487</th>\n",
       "      <td>C#CCl</td>\n",
       "      <td>MRKSPGLSDCLWAWILLLSTLTGRSYGQPSLQDELKDNTTVFTRIL...</td>\n",
       "      <td>5.310231</td>\n",
       "      <td>5.843511</td>\n",
       "      <td>5.721048</td>\n",
       "      <td>5.881774</td>\n",
       "      <td>5.668106</td>\n",
       "      <td>11.140758</td>\n",
       "      <td>10.477321</td>\n",
       "      <td>10.461750</td>\n",
       "      <td>...</td>\n",
       "      <td>5.529863</td>\n",
       "      <td>5.520713</td>\n",
       "      <td>6.263041</td>\n",
       "      <td>5.025478</td>\n",
       "      <td>8.596207</td>\n",
       "      <td>5.950036</td>\n",
       "      <td>5.731717</td>\n",
       "      <td>4.625556</td>\n",
       "      <td>4.584833</td>\n",
       "      <td>4.058173</td>\n",
       "    </tr>\n",
       "  </tbody>\n",
       "</table>\n",
       "<p>488 rows × 31 columns</p>\n",
       "</div>"
      ],
      "text/plain": [
       "                                     Drug  \\\n",
       "0    CN1C(=O)CN=C(c2ccccc2F)c2cc(Cl)ccc21   \n",
       "1        O=C1CN=C(c2ccccc2)c2cc(Cl)ccc2N1   \n",
       "2         CN1CCN=C(c2ccccc2)c2cc(Cl)ccc21   \n",
       "3      CN1C(=O)CN=C(c2ccccc2)c2cc(N)ccc21   \n",
       "4    CN1C(=O)CCN=C(c2ccccc2)c2cc(Cl)ccc21   \n",
       "..                                    ...   \n",
       "483         NC1=NC(C=Cc2ccc3nccnc3c2)CCC1   \n",
       "484  O=C(OC1CC1)c1nccc2cc(-c3ccccc3)ccc12   \n",
       "485             O=C1NCC1=COc1ccc2cncnc2c1   \n",
       "486                COC1CN=c2ccc(Cl)cc2=N1   \n",
       "487                                 C#CCl   \n",
       "\n",
       "                                                Target  GAT_GCN_davis  \\\n",
       "0    MRKSPGLSDCLWAWILLLSTLTGRSYGQPSLQDELKDNTTVFTRIL...       5.764262   \n",
       "1    MRKSPGLSDCLWAWILLLSTLTGRSYGQPSLQDELKDNTTVFTRIL...       5.820510   \n",
       "2    MRKSPGLSDCLWAWILLLSTLTGRSYGQPSLQDELKDNTTVFTRIL...       5.781652   \n",
       "3    MRKSPGLSDCLWAWILLLSTLTGRSYGQPSLQDELKDNTTVFTRIL...       5.703455   \n",
       "4    MRKSPGLSDCLWAWILLLSTLTGRSYGQPSLQDELKDNTTVFTRIL...       5.347439   \n",
       "..                                                 ...            ...   \n",
       "483  MRKSPGLSDCLWAWILLLSTLTGRSYGQPSLQDELKDNTTVFTRIL...       5.988225   \n",
       "484  MRKSPGLSDCLWAWILLLSTLTGRSYGQPSLQDELKDNTTVFTRIL...       6.026775   \n",
       "485  MRKSPGLSDCLWAWILLLSTLTGRSYGQPSLQDELKDNTTVFTRIL...       5.160220   \n",
       "486  MRKSPGLSDCLWAWILLLSTLTGRSYGQPSLQDELKDNTTVFTRIL...       5.912923   \n",
       "487  MRKSPGLSDCLWAWILLLSTLTGRSYGQPSLQDELKDNTTVFTRIL...       5.310231   \n",
       "\n",
       "     GATNet_davis  GATNet_davis2  GCNNet_davis  GINConvNet_davis  \\\n",
       "0        5.693633       5.844633      5.790274          5.317926   \n",
       "1        5.347934       5.088555      5.706682          5.599361   \n",
       "2        6.222953       5.784204      5.979016          5.766552   \n",
       "3        5.775535       5.232235      5.181041          5.449607   \n",
       "4        6.370338       5.859731      5.626638          5.456227   \n",
       "..            ...            ...           ...               ...   \n",
       "483      6.207549       5.812002      5.292656          5.809867   \n",
       "484      5.510842       5.401698      5.795946          5.684030   \n",
       "485      5.217212       5.890978      5.327335          5.549436   \n",
       "486      6.358792       5.317985      5.248207          5.167810   \n",
       "487      5.843511       5.721048      5.881774          5.668106   \n",
       "\n",
       "     GAT_GCN_kiba  GATNet_kiba  GCNNet_kiba  ...  GINConvNet_IC50  \\\n",
       "0       11.537140    11.585246    10.905057  ...         6.530537   \n",
       "1       11.650953    11.413750    10.463663  ...         4.286624   \n",
       "2       11.689509    11.376568    10.623102  ...         5.920058   \n",
       "3       11.536312    11.222670    11.156598  ...         5.791874   \n",
       "4       11.525576    11.430586    10.467786  ...         5.418643   \n",
       "..            ...          ...          ...  ...              ...   \n",
       "483     11.671762    11.476151    10.881434  ...         5.277848   \n",
       "484     11.552782    11.378396    10.424806  ...         6.865233   \n",
       "485     11.563120    11.498323    10.587861  ...         6.189260   \n",
       "486     11.467406    11.234021    10.676084  ...         4.699046   \n",
       "487     11.140758    10.477321    10.461750  ...         5.529863   \n",
       "\n",
       "     GINConvNet_Ki  GAT_GCN_bdtdc_ki_latest  GAT_GCN_bdtdc_ic50_latest  \\\n",
       "0         8.019577                 6.781021                   4.908838   \n",
       "1         6.693745                 7.465182                   5.336170   \n",
       "2         7.680098                 7.867999                   5.522687   \n",
       "3         7.391438                 6.965907                   4.801177   \n",
       "4         7.303138                 7.689903                   5.136808   \n",
       "..             ...                      ...                        ...   \n",
       "483       8.199919                 6.887542                   6.513785   \n",
       "484       7.098046                 6.925295                   5.284789   \n",
       "485       8.255099                 6.086030                   6.323635   \n",
       "486       6.586902                 7.038149                   5.808917   \n",
       "487       5.520713                 6.263041                   5.025478   \n",
       "\n",
       "     GCNNet_bindingdb_kd_latest  GAT_GCN_bindingdb_kd_latest  \\\n",
       "0                      7.518653                     7.580321   \n",
       "1                      8.336432                     6.683643   \n",
       "2                      7.871615                     8.290163   \n",
       "3                      7.801600                     8.492088   \n",
       "4                      7.275914                     7.490314   \n",
       "..                          ...                          ...   \n",
       "483                    9.489430                     9.410442   \n",
       "484                    8.850294                     9.850992   \n",
       "485                    8.091886                     6.373436   \n",
       "486                    8.711000                     6.419726   \n",
       "487                    8.596207                     5.950036   \n",
       "\n",
       "     GCNNet_bindingdb_ki_latest  GAT_GCN_bindingdb_ki_latest  \\\n",
       "0                      8.552409                     7.917223   \n",
       "1                      6.932455                     6.525292   \n",
       "2                      7.346959                     7.061687   \n",
       "3                      7.365209                     7.284909   \n",
       "4                      7.564006                     6.763002   \n",
       "..                          ...                          ...   \n",
       "483                    7.423059                     7.214113   \n",
       "484                    6.320870                     6.261251   \n",
       "485                    6.761993                     6.778954   \n",
       "486                    6.162477                     5.837805   \n",
       "487                    5.731717                     4.625556   \n",
       "\n",
       "     GAT_GCN_bindingdb_ic50_latest  GCNNet_bindingdb_ic50_latest  \n",
       "0                         4.408779                      4.199214  \n",
       "1                         4.077450                      4.242430  \n",
       "2                         4.753488                      3.327381  \n",
       "3                         4.722075                      4.560641  \n",
       "4                         4.466407                      3.770662  \n",
       "..                             ...                           ...  \n",
       "483                       5.900526                      5.504848  \n",
       "484                       4.025298                      5.787142  \n",
       "485                       5.007416                      4.465621  \n",
       "486                       4.480692                      4.271014  \n",
       "487                       4.584833                      4.058173  \n",
       "\n",
       "[488 rows x 31 columns]"
      ]
     },
     "execution_count": 30,
     "metadata": {},
     "output_type": "execute_result"
    }
   ],
   "source": [
    "dfs_benzos[0]"
   ]
  },
  {
   "cell_type": "code",
   "execution_count": null,
   "metadata": {},
   "outputs": [],
   "source": []
  }
 ],
 "metadata": {
  "interpreter": {
   "hash": "305324198e2c33e77a7ec7e7dd82a4ae7ad9a0e7d7c487c64915a854ddd80ed5"
  },
  "kernelspec": {
   "display_name": "Python 3.7.11 64-bit ('base': conda)",
   "language": "python",
   "name": "python3"
  },
  "language_info": {
   "codemirror_mode": {
    "name": "ipython",
    "version": 3
   },
   "file_extension": ".py",
   "mimetype": "text/x-python",
   "name": "python",
   "nbconvert_exporter": "python",
   "pygments_lexer": "ipython3",
   "version": "3.7.11"
  },
  "orig_nbformat": 4
 },
 "nbformat": 4,
 "nbformat_minor": 2
}
